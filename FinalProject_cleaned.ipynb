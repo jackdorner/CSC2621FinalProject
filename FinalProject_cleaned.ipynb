{
  "cells": [
    {
      "cell_type": "markdown",
      "metadata": {},
      "source": [
        "## Import Data"
      ]
    },
    {
      "cell_type": "code",
      "execution_count": 395,
      "metadata": {},
      "outputs": [
        {
          "name": "stdout",
          "output_type": "stream",
          "text": [
            "(924, 410)\n",
            "  TEAM NO  SEED  ROUND  NET RPI  RESUME  WAB RANK  ELO  B POWER  Q1 W  Q2 W  \\\n",
            "0    1000    12     64       54      83        63   24     58.7     1     3   \n",
            "1    1001     6      8       17      40        29   33     11.7     3     6   \n",
            "2    1002     4      1        8      19        13   15      5.3     6     6   \n",
            "3    1003    12     64       51     110        32   18     69.3     0     2   \n",
            "4    1004    15     64      101     165       103   74    106.3     0     1   \n",
            "\n",
            "   ...  Barttorvik_Neutral_BADJT RANK  Barttorvik_Neutral_AVG HGT RANK  \\\n",
            "0  ...                          284.0                            282.0   \n",
            "1  ...                           69.0                             61.0   \n",
            "2  ...                          277.0                             28.0   \n",
            "3  ...                           45.0                            197.0   \n",
            "4  ...                          140.0                            117.0   \n",
            "\n",
            "   Barttorvik_Neutral_EFF HGT RANK  Barttorvik_Neutral_EXP RANK  \\\n",
            "0                            162.0                         95.0   \n",
            "1                             26.0                        293.0   \n",
            "2                             61.0                        258.0   \n",
            "3                            201.0                        162.0   \n",
            "4                             52.0                        116.0   \n",
            "\n",
            "   Barttorvik_Neutral_TALENT RANK  Barttorvik_Neutral_FT% RANK  \\\n",
            "0                           173.0                         98.0   \n",
            "1                            17.0                         57.0   \n",
            "2                            23.0                        115.0   \n",
            "3                           339.0                         89.0   \n",
            "4                           339.0                        135.0   \n",
            "\n",
            "   Barttorvik_Neutral_OP FT% RANK  Barttorvik_Neutral_PPPO RANK  \\\n",
            "0                            60.0                          71.0   \n",
            "1                           120.0                          83.0   \n",
            "2                            84.0                          19.0   \n",
            "3                           136.0                         141.0   \n",
            "4                            43.0                           9.0   \n",
            "\n",
            "   Barttorvik_Neutral_PPPD RANK  Barttorvik_Neutral_ELITE SOS RANK  \n",
            "0                          29.0                              159.0  \n",
            "1                         247.0                               26.0  \n",
            "2                          68.0                                7.0  \n",
            "3                          11.0                              227.0  \n",
            "4                         202.0                              253.0  \n",
            "\n",
            "[5 rows x 410 columns]\n"
          ]
        }
      ],
      "source": [
        "import pandas as pd\n",
        "import matplotlib.pyplot as plt\n",
        "import seaborn as sns\n",
        "from sklearn.linear_model import LogisticRegression\n",
        "from sklearn.model_selection import cross_val_score, train_test_split\n",
        "from sklearn.metrics import accuracy_score, confusion_matrix, classification_report, ConfusionMatrixDisplay\n",
        "from scipy.stats import pearsonr\n",
        "import numpy as np\n",
        "from sklearn.preprocessing import StandardScaler\n",
        "import random\n",
        "from sklearn.datasets import make_blobs\n",
        "import tensorflow as tf\n",
        "from tensorflow.keras.models import Sequential\n",
        "from tensorflow.keras.layers import Dense, Dropout, Flatten\n",
        "from tensorflow.keras import backend as K\n",
        "from tensorflow.keras import layers\n",
        "from sklearn.ensemble import RandomForestClassifier\n",
        "from sklearn.neighbors import KNeighborsClassifier\n",
        "from sklearn.tree import DecisionTreeClassifier\n",
        "from sklearn import svm\n",
        "from sklearn.naive_bayes import GaussianNB\n",
        "from sklearn.decomposition import TruncatedSVD\n",
        "from statsmodels.stats.proportion import proportions_ztest\n",
        "import itertools\n",
        "\n",
        "matchup_df = pd.read_csv('Data_Needs_updated_after_selection_sunday/Tournament Matchups.csv')\n",
        "matchup_df = matchup_df[~matchup_df['YEAR'].isin([2008, 2009])]\n",
        "\n",
        "# Read both CSVs and set 'TEAM NO' as the index\n",
        "df_all = pd.read_csv(\"./Data_Needs_updated_after_selection_sunday/Resumes.csv\")\n",
        "df_temp = pd.read_csv(\"./Data_Needs_updated_after_selection_sunday/Shooting Splits.csv\")\n",
        "df_temp2 = pd.read_csv(\"./Data_Needs_updated_after_selection_sunday/TeamRankings Away.csv\")\n",
        "df_temp3 = pd.read_csv(\"./Data_Needs_updated_after_selection_sunday/TeamRankings Home.csv\")\n",
        "df_temp4 = pd.read_csv(\"./Data_Needs_updated_after_selection_sunday/TeamRankings Neutral.csv\")\n",
        "df_temp5 = pd.read_csv(\"./Data_Needs_updated_after_selection_sunday/KenPom Barttorvik.csv\")\n",
        "\n",
        "df_temp6 = pd.read_csv(\"./Data_Needs_updated_after_selection_sunday/Barttorvik Away.csv\")\n",
        "df_temp7 = pd.read_csv(\"./Data_Needs_updated_after_selection_sunday/Barttorvik Home.csv\")\n",
        "df_temp8 = pd.read_csv(\"./Data_Needs_updated_after_selection_sunday/Barttorvik Neutral.csv\")\n",
        "#df_temp9 = pd.read_csv(\"./Data_Needs_updated_after_selection_sunday/EvanMiya.csv\")\n",
        "\n",
        "# removing columns that are not needed\n",
        "df_all = df_all.drop(columns=['TEAM', 'BID TYPE'])\n",
        "df_temp = df_temp.drop(columns=['YEAR', 'TEAM ID', 'TEAM', \"CONF\"])\n",
        "df_temp2 = df_temp2.drop(columns=['YEAR', 'SEED', 'ROUND', \"TEAM\"])\n",
        "df_temp3 = df_temp3.drop(columns=['YEAR', 'SEED', 'ROUND', \"TEAM\"])\n",
        "df_temp4 = df_temp4.drop(columns=['YEAR', 'SEED', 'ROUND', \"TEAM\"])\n",
        "df_temp5 = df_temp5.drop(columns=[\"YEAR\", \"SEED\", \"ROUND\", \"TEAM\", \"TEAM ID\", \"CONF\",\"CONF ID\",\"QUAD NO\",\"QUAD ID\"])\n",
        "\n",
        "df_temp6 = df_temp6.drop(columns=['YEAR', 'SEED', 'ROUND', \"TEAM\", \"TEAM ID\"])\n",
        "df_temp7 = df_temp7.drop(columns=['YEAR', 'SEED', 'ROUND', \"TEAM\", \"TEAM ID\"])\n",
        "df_temp8 = df_temp8.drop(columns=['YEAR', 'SEED', 'ROUND', \"TEAM ID\"])\n",
        "#df_temp9 = df_temp9.drop(columns=['YEAR', 'SEED', 'TEAM', 'ROUND'])\n",
        "\n",
        "# Standardize 'TEAM NO'\n",
        "df_all['TEAM NO'] = df_all['TEAM NO'].astype(str).str.strip()\n",
        "df_temp['TEAM NO'] = df_temp['TEAM NO'].astype(str).str.strip()\n",
        "df_temp2['TEAM NO'] = df_temp2['TEAM NO'].astype(str).str.strip()\n",
        "df_temp3['TEAM NO'] = df_temp3['TEAM NO'].astype(str).str.strip()\n",
        "df_temp4['TEAM NO'] = df_temp4['TEAM NO'].astype(str).str.strip()\n",
        "df_temp5['TEAM NO'] = df_temp5['TEAM NO'].astype(str).str.strip()\n",
        "\n",
        "df_temp6['TEAM NO'] = df_temp6['TEAM NO'].astype(str).str.strip()\n",
        "df_temp7['TEAM NO'] = df_temp7['TEAM NO'].astype(str).str.strip()\n",
        "df_temp8['TEAM NO'] = df_temp8['TEAM NO'].astype(str).str.strip()\n",
        "#df_temp9['TEAM NO'] = df_temp9['TEAM NO'].astype(str).str.strip()\n",
        "\n",
        "# Remove duplicates\n",
        "df_all = df_all.drop_duplicates(subset='TEAM NO')\n",
        "df_temp = df_temp.drop_duplicates(subset='TEAM NO')\n",
        "df_temp2 = df_temp2.drop_duplicates(subset='TEAM NO')\n",
        "df_temp3 = df_temp3.drop_duplicates(subset='TEAM NO')\n",
        "df_temp4 = df_temp4.drop_duplicates(subset='TEAM NO')\n",
        "df_temp5 = df_temp5.drop_duplicates(subset='TEAM NO')\n",
        "df_temp6 = df_temp6.drop_duplicates(subset='TEAM NO')\n",
        "df_temp7 = df_temp7.drop_duplicates(subset='TEAM NO')\n",
        "df_temp8 = df_temp8.drop_duplicates(subset='TEAM NO')\n",
        "#df_temp9 = df_temp9.drop_duplicates(subset='TEAM NO')\n",
        "\n",
        "# Set 'TEAM NO' as the index\n",
        "df_all = df_all.set_index('TEAM NO')\n",
        "df_temp = df_temp.set_index('TEAM NO')\n",
        "df_temp2 = df_temp2.set_index('TEAM NO')\n",
        "df_temp3 = df_temp3.set_index('TEAM NO')\n",
        "df_temp4 = df_temp4.set_index('TEAM NO')\n",
        "df_temp5 = df_temp5.set_index(\"TEAM NO\")\n",
        "\n",
        "df_temp6 = df_temp6.set_index('TEAM NO')\n",
        "df_temp7 = df_temp7.set_index(\"TEAM NO\")\n",
        "df_temp8 = df_temp8.set_index('TEAM NO')\n",
        "#df_temp9 = df_temp9.set_index('TEAM NO')\n",
        "\n",
        "# Optional: Rename columns to avoid conflicts\n",
        "df_temp.columns = [f\"ShootingSplits_{col}\" for col in df_temp.columns]\n",
        "df_temp2.columns = [f\"TeamRankings_Away_{col}\" for col in df_temp2.columns]\n",
        "df_temp3.columns = [f\"TeamRankings_Home_{col}\" for col in df_temp3.columns]\n",
        "df_temp4.columns = [f\"TeamRankings_Neutral_{col}\" for col in df_temp4.columns]\n",
        "df_temp5.columns = [f\"KenPom_Barttorvik_{col}\" for col in df_temp5.columns]\n",
        "df_temp6.columns = [f\"Barttorvik_Away_{col}\" for col in df_temp6.columns]\n",
        "df_temp7.columns = [f\"Barttorvik_Home_{col}\" for col in df_temp7.columns]\n",
        "df_temp8.columns = [f\"Barttorvik_Neutral_{col}\" for col in df_temp8.columns]\n",
        "#df_temp9.columns = [f\"EvanMiya_{col}\" for col in df_temp9.columns]\n",
        "\n",
        "list_csvs = [df_temp, df_temp2, df_temp3, df_temp4, df_temp5, df_temp6, df_temp7, df_temp8]\n",
        "\n",
        "\n",
        "# Now join on the index (TEAM NO)\n",
        "df_all = df_all.join(df_temp, how='outer')\n",
        "df_all = df_all.join(df_temp2, how='outer')\n",
        "df_all = df_all.join(df_temp3, how='outer')\n",
        "df_all = df_all.join(df_temp4, how='outer')\n",
        "df_all = df_all.join(df_temp5, how='outer')\n",
        "\n",
        "df_all = df_all.join(df_temp6, how='outer')\n",
        "df_all = df_all.join(df_temp7, how='outer')\n",
        "df_all = df_all.join(df_temp8, how='outer')\n",
        "#df_all = df_all.join(df_temp9, how='outer')\n",
        "# Reset index if needed\n",
        "df_all = df_all.dropna(axis=0)\n",
        "df_all = df_all.reset_index()\n",
        "\n",
        "df_all = df_all[df_all['YEAR'] != 2008]\n",
        "df_all = df_all[df_all['YEAR'] != 2009]\n",
        "df_all = df_all.dropna(axis=0)\n",
        "df_all = df_all.drop(columns=['YEAR'])\n",
        "\n",
        "df_all.rename(columns={'Barttorvik_Neutral_TEAM': 'TEAM'}, inplace=True)\n",
        "print(df_all.shape)\n",
        "print(df_all.head())\n"
      ]
    },
    {
      "cell_type": "code",
      "execution_count": 396,
      "metadata": {},
      "outputs": [],
      "source": [
        "# Write column names to a text file, one per line\n",
        "with open(\"columns.txt\", \"w\") as f:\n",
        "    for col in df_all.columns:\n",
        "        f.write(col + \"\\n\")"
      ]
    },
    {
      "cell_type": "code",
      "execution_count": 397,
      "metadata": {},
      "outputs": [
        {
          "name": "stdout",
          "output_type": "stream",
          "text": [
            "                                    mean median          mode\n",
            "ShootingSplits_DUNKS FG%       89.605952   90.1        [89.1]\n",
            "ShootingSplits_CLOSE TWOS FG%  62.498701   62.5        [62.8]\n",
            "ShootingSplits_THREES FG%      35.554762   35.5  [34.9, 36.5]\n",
            "Q1 W                            3.983766    4.0           [0]\n"
          ]
        }
      ],
      "source": [
        "features = ['ShootingSplits_DUNKS FG%', 'ShootingSplits_CLOSE TWOS FG%', 'ShootingSplits_THREES FG%', 'Q1 W']\n",
        "\n",
        "# Create a results dictionary\n",
        "results = {}\n",
        "\n",
        "for feature in features:\n",
        "    mean_val = df_all[feature].mean()\n",
        "    median_val = df_all[feature].median()\n",
        "    mode_val = df_all[feature].mode().tolist()  # In case of multiple modes\n",
        "    results[feature] = {\n",
        "        'mean': mean_val,\n",
        "        'median': median_val,\n",
        "        'mode': mode_val\n",
        "    }\n",
        "\n",
        "# Convert results to a DataFrame for better readability (optional)\n",
        "summary_df = pd.DataFrame(results).T  # Transpose so features are rows\n",
        "\n",
        "print(summary_df)"
      ]
    },
    {
      "cell_type": "markdown",
      "metadata": {},
      "source": [
        "## Hypothesis Testing"
      ]
    },
    {
      "cell_type": "code",
      "execution_count": 398,
      "metadata": {},
      "outputs": [],
      "source": [
        "def correlate_with_win_pct(df, team_col, win_pct_col, drop_columns=None):\n",
        "    \"\"\"\n",
        "    Computes Pearson correlation between numeric columns in `df` and historical win percentages from `team_stats_df`.\n",
        "    \n",
        "    Parameters:\n",
        "    - df: DataFrame with team features and a team name column.\n",
        "    - team_col: Column name for team names.\n",
        "    - win_pct_col: Column name for win percentage.\n",
        "    - drop_columns: List of column names to exclude from correlation testing.\n",
        "    \n",
        "    Returns:\n",
        "    - DataFrame with:\n",
        "        - variable_name\n",
        "        - test_statistic (Pearson r)\n",
        "        - p-value\n",
        "        - significant_relationship (Bonferroni corrected)\n",
        "    \"\"\"\n",
        "    if drop_columns is None:\n",
        "        drop_columns = []\n",
        "\n",
        "    df = df.copy()\n",
        "\n",
        "    # Convert percentage strings like \"40.0%\" to float if needed\n",
        "    if df[win_pct_col].dtype == 'object':\n",
        "        df[win_pct_col] = (\n",
        "            df[win_pct_col]\n",
        "            .str.replace('%', '', regex=False)\n",
        "            .astype(float) / 100\n",
        "        )\n",
        "\n",
        "    variable_names = []\n",
        "    list_corr_values = []\n",
        "    list_p_values = []\n",
        "\n",
        "    for col in df.columns:\n",
        "        if col in [team_col, win_pct_col] or col in drop_columns:\n",
        "            continue\n",
        "        if pd.api.types.is_numeric_dtype(df[col]):\n",
        "            valid = df[[col, win_pct_col]].dropna()\n",
        "            if len(valid) >= 2:\n",
        "                corr, pval = pearsonr(valid[col], valid[win_pct_col])\n",
        "                variable_names.append(col)\n",
        "                list_corr_values.append(corr)\n",
        "                list_p_values.append(pval)\n",
        "\n",
        "    # Create result DataFrame\n",
        "    result_df = pd.DataFrame({\n",
        "        'variable_name': variable_names,\n",
        "        'test_statistic (Pearson r)': list_corr_values,\n",
        "        'p-value': list_p_values\n",
        "    })\n",
        "\n",
        "    # Bonferroni correction\n",
        "    alpha = 0.05\n",
        "    num_tests = len(variable_names)\n",
        "    result_df['significant_relationship'] = result_df['p-value'] < (alpha / num_tests)\n",
        "\n",
        "    return result_df"
      ]
    },
    {
      "cell_type": "code",
      "execution_count": 399,
      "metadata": {},
      "outputs": [
        {
          "data": {
            "text/html": [
              "<div>\n",
              "<style scoped>\n",
              "    .dataframe tbody tr th:only-of-type {\n",
              "        vertical-align: middle;\n",
              "    }\n",
              "\n",
              "    .dataframe tbody tr th {\n",
              "        vertical-align: top;\n",
              "    }\n",
              "\n",
              "    .dataframe thead th {\n",
              "        text-align: right;\n",
              "    }\n",
              "</style>\n",
              "<table border=\"1\" class=\"dataframe\">\n",
              "  <thead>\n",
              "    <tr style=\"text-align: right;\">\n",
              "      <th></th>\n",
              "      <th>variable_name</th>\n",
              "      <th>test_statistic (Pearson r)</th>\n",
              "      <th>p-value</th>\n",
              "      <th>significant_relationship</th>\n",
              "    </tr>\n",
              "  </thead>\n",
              "  <tbody>\n",
              "    <tr>\n",
              "      <th>11</th>\n",
              "      <td>PLUS 500</td>\n",
              "      <td>0.982372</td>\n",
              "      <td>0.000000e+00</td>\n",
              "      <td>True</td>\n",
              "    </tr>\n",
              "    <tr>\n",
              "      <th>177</th>\n",
              "      <td>Barttorvik_Away_WIN%</td>\n",
              "      <td>0.805842</td>\n",
              "      <td>4.810376e-212</td>\n",
              "      <td>True</td>\n",
              "    </tr>\n",
              "    <tr>\n",
              "      <th>176</th>\n",
              "      <td>Barttorvik_Away_L</td>\n",
              "      <td>-0.799827</td>\n",
              "      <td>1.335527e-206</td>\n",
              "      <td>True</td>\n",
              "    </tr>\n",
              "    <tr>\n",
              "      <th>5</th>\n",
              "      <td>ELO</td>\n",
              "      <td>-0.734922</td>\n",
              "      <td>1.087078e-157</td>\n",
              "      <td>True</td>\n",
              "    </tr>\n",
              "    <tr>\n",
              "      <th>256</th>\n",
              "      <td>Barttorvik_Home_WIN%</td>\n",
              "      <td>0.706887</td>\n",
              "      <td>8.303568e-141</td>\n",
              "      <td>True</td>\n",
              "    </tr>\n",
              "    <tr>\n",
              "      <th>132</th>\n",
              "      <td>KenPom_Barttorvik_WAB</td>\n",
              "      <td>0.686095</td>\n",
              "      <td>1.581284e-129</td>\n",
              "      <td>True</td>\n",
              "    </tr>\n",
              "    <tr>\n",
              "      <th>255</th>\n",
              "      <td>Barttorvik_Home_L</td>\n",
              "      <td>-0.670367</td>\n",
              "      <td>1.321054e-121</td>\n",
              "      <td>True</td>\n",
              "    </tr>\n",
              "    <tr>\n",
              "      <th>211</th>\n",
              "      <td>Barttorvik_Away_WAB</td>\n",
              "      <td>0.650440</td>\n",
              "      <td>3.037242e-112</td>\n",
              "      <td>True</td>\n",
              "    </tr>\n",
              "    <tr>\n",
              "      <th>4</th>\n",
              "      <td>WAB RANK</td>\n",
              "      <td>-0.634550</td>\n",
              "      <td>2.861325e-105</td>\n",
              "      <td>True</td>\n",
              "    </tr>\n",
              "    <tr>\n",
              "      <th>175</th>\n",
              "      <td>Barttorvik_Away_W</td>\n",
              "      <td>0.616438</td>\n",
              "      <td>8.366582e-98</td>\n",
              "      <td>True</td>\n",
              "    </tr>\n",
              "    <tr>\n",
              "      <th>2</th>\n",
              "      <td>NET RPI</td>\n",
              "      <td>-0.585135</td>\n",
              "      <td>5.457116e-86</td>\n",
              "      <td>True</td>\n",
              "    </tr>\n",
              "    <tr>\n",
              "      <th>90</th>\n",
              "      <td>KenPom_Barttorvik_KADJ EM</td>\n",
              "      <td>0.574681</td>\n",
              "      <td>2.525436e-82</td>\n",
              "      <td>True</td>\n",
              "    </tr>\n",
              "    <tr>\n",
              "      <th>129</th>\n",
              "      <td>KenPom_Barttorvik_PPPO</td>\n",
              "      <td>0.571261</td>\n",
              "      <td>3.740947e-81</td>\n",
              "      <td>True</td>\n",
              "    </tr>\n",
              "    <tr>\n",
              "      <th>167</th>\n",
              "      <td>KenPom_Barttorvik_PPPO RANK</td>\n",
              "      <td>-0.568059</td>\n",
              "      <td>4.536483e-80</td>\n",
              "      <td>True</td>\n",
              "    </tr>\n",
              "    <tr>\n",
              "      <th>83</th>\n",
              "      <td>KenPom_Barttorvik_KO RANK</td>\n",
              "      <td>-0.565354</td>\n",
              "      <td>3.655963e-79</td>\n",
              "      <td>True</td>\n",
              "    </tr>\n",
              "    <tr>\n",
              "      <th>82</th>\n",
              "      <td>KenPom_Barttorvik_K OFF</td>\n",
              "      <td>0.563675</td>\n",
              "      <td>1.322672e-78</td>\n",
              "      <td>True</td>\n",
              "    </tr>\n",
              "    <tr>\n",
              "      <th>97</th>\n",
              "      <td>KenPom_Barttorvik_W</td>\n",
              "      <td>0.559579</td>\n",
              "      <td>2.952396e-77</td>\n",
              "      <td>True</td>\n",
              "    </tr>\n",
              "    <tr>\n",
              "      <th>170</th>\n",
              "      <td>Barttorvik_Away_BADJ EM</td>\n",
              "      <td>0.548675</td>\n",
              "      <td>9.340960e-74</td>\n",
              "      <td>True</td>\n",
              "    </tr>\n",
              "    <tr>\n",
              "      <th>92</th>\n",
              "      <td>KenPom_Barttorvik_BADJ EM</td>\n",
              "      <td>0.546368</td>\n",
              "      <td>4.947638e-73</td>\n",
              "      <td>True</td>\n",
              "    </tr>\n",
              "    <tr>\n",
              "      <th>290</th>\n",
              "      <td>Barttorvik_Home_WAB</td>\n",
              "      <td>0.545507</td>\n",
              "      <td>9.191234e-73</td>\n",
              "      <td>True</td>\n",
              "    </tr>\n",
              "  </tbody>\n",
              "</table>\n",
              "</div>"
            ],
            "text/plain": [
              "                   variable_name  test_statistic (Pearson r)        p-value  \\\n",
              "11                      PLUS 500                    0.982372   0.000000e+00   \n",
              "177         Barttorvik_Away_WIN%                    0.805842  4.810376e-212   \n",
              "176            Barttorvik_Away_L                   -0.799827  1.335527e-206   \n",
              "5                            ELO                   -0.734922  1.087078e-157   \n",
              "256         Barttorvik_Home_WIN%                    0.706887  8.303568e-141   \n",
              "132        KenPom_Barttorvik_WAB                    0.686095  1.581284e-129   \n",
              "255            Barttorvik_Home_L                   -0.670367  1.321054e-121   \n",
              "211          Barttorvik_Away_WAB                    0.650440  3.037242e-112   \n",
              "4                       WAB RANK                   -0.634550  2.861325e-105   \n",
              "175            Barttorvik_Away_W                    0.616438   8.366582e-98   \n",
              "2                        NET RPI                   -0.585135   5.457116e-86   \n",
              "90     KenPom_Barttorvik_KADJ EM                    0.574681   2.525436e-82   \n",
              "129       KenPom_Barttorvik_PPPO                    0.571261   3.740947e-81   \n",
              "167  KenPom_Barttorvik_PPPO RANK                   -0.568059   4.536483e-80   \n",
              "83     KenPom_Barttorvik_KO RANK                   -0.565354   3.655963e-79   \n",
              "82       KenPom_Barttorvik_K OFF                    0.563675   1.322672e-78   \n",
              "97           KenPom_Barttorvik_W                    0.559579   2.952396e-77   \n",
              "170      Barttorvik_Away_BADJ EM                    0.548675   9.340960e-74   \n",
              "92     KenPom_Barttorvik_BADJ EM                    0.546368   4.947638e-73   \n",
              "290          Barttorvik_Home_WAB                    0.545507   9.191234e-73   \n",
              "\n",
              "     significant_relationship  \n",
              "11                       True  \n",
              "177                      True  \n",
              "176                      True  \n",
              "5                        True  \n",
              "256                      True  \n",
              "132                      True  \n",
              "255                      True  \n",
              "211                      True  \n",
              "4                        True  \n",
              "175                      True  \n",
              "2                        True  \n",
              "90                       True  \n",
              "129                      True  \n",
              "167                      True  \n",
              "83                       True  \n",
              "82                       True  \n",
              "97                       True  \n",
              "170                      True  \n",
              "92                       True  \n",
              "290                      True  "
            ]
          },
          "execution_count": 399,
          "metadata": {},
          "output_type": "execute_result"
        }
      ],
      "source": [
        "pearsons_results = correlate_with_win_pct(df_all, team_col=\"TEAM NO\", win_pct_col='KenPom_Barttorvik_WIN%')\n",
        "pearsons_results.to_csv('person_results.csv', index=False)\n",
        "pearsons_results = pearsons_results.sort_values(by='p-value')\n",
        "pearsons_results.head(20)"
      ]
    },
    {
      "cell_type": "code",
      "execution_count": 400,
      "metadata": {},
      "outputs": [],
      "source": [
        "# plt.scatter(df_all['ShootingSplits_THREES FG%'], df_all['KenPom_Barttorvik_WIN%'])\n",
        "# plt.xlabel('Threes FG % Rank')\n",
        "# plt.ylabel('WIN %')\n",
        "# plt.title('Threes FG % Rank vs Win %')\n",
        "# plt.show()"
      ]
    },
    {
      "cell_type": "code",
      "execution_count": 401,
      "metadata": {},
      "outputs": [
        {
          "data": {
            "text/plain": [
              "259"
            ]
          },
          "execution_count": 401,
          "metadata": {},
          "output_type": "execute_result"
        }
      ],
      "source": [
        "pearsons_results = pearsons_results[pearsons_results['significant_relationship'] == True]\n",
        "len(pearsons_results)"
      ]
    },
    {
      "cell_type": "markdown",
      "metadata": {},
      "source": [
        "**Kruskal-Wallis Comparing Each Feature to Tournament Round Rached**"
      ]
    },
    {
      "cell_type": "code",
      "execution_count": 402,
      "metadata": {},
      "outputs": [],
      "source": [
        "team_rankings_df = pd.read_csv(\"./Data_Needs_updated_after_selection_sunday/TeamRankings.csv\")\n",
        "\n",
        "round_reached_all_time = team_rankings_df[['TEAM NO', 'ROUND']]\n",
        "\n",
        "round_reached_dict = dict(zip(round_reached_all_time['TEAM NO'], round_reached_all_time['ROUND']))\n",
        "\n",
        "def create_stat_vs_round_vector(df, feature_name):\n",
        "    stat_vector = []\n",
        "    round_vector = []\n",
        "    stat_dict = dict(zip(df['TEAM NO'], df[feature_name]))\n",
        "    \n",
        "    for team_no in round_reached_dict:\n",
        "        if team_no > 131 and team_no <= 1000:\n",
        "            team_no = str(team_no)\n",
        "            if team_no in stat_dict:\n",
        "                stat_vector.append(stat_dict[team_no])\n",
        "                \n",
        "                team_no = int(team_no)\n",
        "                round_vector.append(round_reached_dict[team_no])\n",
        "            \n",
        "    return stat_vector, round_vector"
      ]
    },
    {
      "cell_type": "code",
      "execution_count": 403,
      "metadata": {},
      "outputs": [],
      "source": [
        "import seaborn as sns\n",
        "from scipy.stats import kruskal\n",
        "import numpy as np\n",
        "\n",
        "list_KW_values = []\n",
        "list_p_values = []\n",
        "valid_columns = []\n",
        "\n",
        "def perform_kruskal_wallis(df):\n",
        "    features = df.columns\n",
        "\n",
        "    for feature_name in features:\n",
        "        \n",
        "        samples_by_group = []\n",
        "\n",
        "        stat_vector, round_vector = create_stat_vs_round_vector(df, feature_name)\n",
        "\n",
        "        stat_vector = np.array(stat_vector)\n",
        "        round_vector = np.array(round_vector)\n",
        "        \n",
        "        # Combines data for champion, finalist, and final four teams \n",
        "        replace_dict = {1 : 4, 2 : 4}\n",
        "        rounds = np.array([replace_dict.get(x, x) for x in round_vector])\n",
        "        \n",
        "        for value in np.unique(rounds):\n",
        "            mask = rounds == value\n",
        "            data = stat_vector[mask]\n",
        "            if len(np.unique(data)) > 1:\n",
        "                samples_by_group.append(data)\n",
        "        \n",
        "        \n",
        "        if len(samples_by_group) >= 2:\n",
        "            stat, p = kruskal(*samples_by_group)\n",
        "            list_KW_values.append(stat)\n",
        "            list_p_values.append(p)\n",
        "            valid_columns.append(feature_name)\n",
        "        \n",
        "\n",
        "        # sns.violinplot(x = rounds, y = stat_vector)\n",
        "\n",
        "        # plt.title(f'{feature_name} vs Round')\n",
        "        # plt.xlabel('Round Reached')\n",
        "        # plt.ylabel(feature_name)\n",
        "        # plt.show()\n",
        "\n",
        "    df2 = pd.DataFrame({\n",
        "        'variable_name': valid_columns,\n",
        "        'test_statistic (K.W.)': list_KW_values,\n",
        "        'p-value': list_p_values\n",
        "    })\n",
        "    alpha = 0.05\n",
        "    num_hypothesis_tests = len(valid_columns)\n",
        "\n",
        "    # Bonferroni Correction\n",
        "    df2['significant_relationship'] = df2['p-value'] < (alpha / num_hypothesis_tests)\n",
        "\n",
        "    return df2"
      ]
    },
    {
      "cell_type": "code",
      "execution_count": 404,
      "metadata": {},
      "outputs": [
        {
          "name": "stdout",
          "output_type": "stream",
          "text": [
            "Number of Significant Features: 190\n",
            "                      variable_name  test_statistic (K.W.)       p-value  \\\n",
            "133           KenPom_Barttorvik_WAB             310.904995  4.526707e-65   \n",
            "4                          WAB RANK             310.806685  4.752536e-65   \n",
            "1                              SEED             305.947454  5.271024e-64   \n",
            "12                          R SCORE             301.758481  4.193695e-63   \n",
            "95        KenPom_Barttorvik_BARTHAG             300.492257  7.849334e-63   \n",
            "92        KenPom_Barttorvik_BADJ EM             299.357840  1.376324e-62   \n",
            "90        KenPom_Barttorvik_KADJ EM             297.304344  3.803449e-62   \n",
            "137  KenPom_Barttorvik_BARTHAG RANK             296.834404  4.799545e-62   \n",
            "6                           B POWER             296.243742  6.429422e-62   \n",
            "134  KenPom_Barttorvik_BADJ EM RANK             295.221598  1.066329e-61   \n",
            "91   KenPom_Barttorvik_KADJ EM RANK             293.447021  2.566462e-61   \n",
            "2                           NET RPI             280.624785  1.461317e-58   \n",
            "5                               ELO             274.035432  3.803966e-57   \n",
            "253         Barttorvik_Home_BARTHAG             263.365401  7.439166e-55   \n",
            "250         Barttorvik_Home_BADJ EM             262.340196  1.234875e-54   \n",
            "295    Barttorvik_Home_BARTHAG RANK             260.524750  3.029375e-54   \n",
            "292    Barttorvik_Home_BADJ EM RANK             258.660294  7.613274e-54   \n",
            "56        TeamRankings_Home_TR RANK             256.852440  1.860408e-53   \n",
            "66           TeamRankings_Home_LAST             256.529842  2.181962e-53   \n",
            "55           TeamRankings_Away_LAST             251.593825  2.501106e-52   \n",
            "\n",
            "     significant_relationship  \n",
            "133                      True  \n",
            "4                        True  \n",
            "1                        True  \n",
            "12                       True  \n",
            "95                       True  \n",
            "92                       True  \n",
            "90                       True  \n",
            "137                      True  \n",
            "6                        True  \n",
            "134                      True  \n",
            "91                       True  \n",
            "2                        True  \n",
            "5                        True  \n",
            "253                      True  \n",
            "250                      True  \n",
            "295                      True  \n",
            "292                      True  \n",
            "56                       True  \n",
            "66                       True  \n",
            "55                       True  \n"
          ]
        }
      ],
      "source": [
        "KW_results = perform_kruskal_wallis(df_all)\n",
        "KW_significant_results = KW_results[KW_results['significant_relationship'] == True]\n",
        "KW_significant_results = KW_significant_results.sort_values(by = 'p-value')\n",
        "print(f'Number of Significant Features: {len(KW_significant_results)}')\n",
        "print(KW_significant_results.head(20))"
      ]
    },
    {
      "cell_type": "code",
      "execution_count": 405,
      "metadata": {},
      "outputs": [],
      "source": [
        "# sns.violinplot(x = df_all['ROUND'], y = df_all['ShootingSplits_THREES FG%'])\n",
        "\n",
        "# plt.title('Threes FG % vs Round')\n",
        "# plt.xlabel('Round Reached')\n",
        "# plt.ylabel('Threes FG %')\n",
        "# plt.show()"
      ]
    },
    {
      "cell_type": "code",
      "execution_count": 406,
      "metadata": {},
      "outputs": [
        {
          "data": {
            "text/html": [
              "<div>\n",
              "<style scoped>\n",
              "    .dataframe tbody tr th:only-of-type {\n",
              "        vertical-align: middle;\n",
              "    }\n",
              "\n",
              "    .dataframe tbody tr th {\n",
              "        vertical-align: top;\n",
              "    }\n",
              "\n",
              "    .dataframe thead th {\n",
              "        text-align: right;\n",
              "    }\n",
              "</style>\n",
              "<table border=\"1\" class=\"dataframe\">\n",
              "  <thead>\n",
              "    <tr style=\"text-align: right;\">\n",
              "      <th></th>\n",
              "      <th>KenPom_Barttorvik_WAB</th>\n",
              "      <th>WAB RANK</th>\n",
              "      <th>SEED</th>\n",
              "      <th>R SCORE</th>\n",
              "      <th>KenPom_Barttorvik_BARTHAG</th>\n",
              "      <th>KenPom_Barttorvik_BADJ EM</th>\n",
              "      <th>KenPom_Barttorvik_KADJ EM</th>\n",
              "      <th>KenPom_Barttorvik_BARTHAG RANK</th>\n",
              "      <th>B POWER</th>\n",
              "      <th>KenPom_Barttorvik_BADJ EM RANK</th>\n",
              "      <th>...</th>\n",
              "      <th>Barttorvik_Home_EFG%</th>\n",
              "      <th>Barttorvik_Neutral_PPPO</th>\n",
              "      <th>Barttorvik_Away_TOV% RANK</th>\n",
              "      <th>Barttorvik_Away_TOV%</th>\n",
              "      <th>ShootingSplits_DUNKS D SHARE RANK</th>\n",
              "      <th>KenPom_Barttorvik_FTRD</th>\n",
              "      <th>Barttorvik_Neutral_PPPO RANK</th>\n",
              "      <th>ShootingSplits_THREES FG%D</th>\n",
              "      <th>Barttorvik_Home_FTR RANK</th>\n",
              "      <th>ShootingSplits_FARTHER TWOS FG%D RANK</th>\n",
              "    </tr>\n",
              "  </thead>\n",
              "  <tbody>\n",
              "    <tr>\n",
              "      <th>0</th>\n",
              "      <td>-0.7</td>\n",
              "      <td>63</td>\n",
              "      <td>12</td>\n",
              "      <td>3.9</td>\n",
              "      <td>0.791</td>\n",
              "      <td>11.8</td>\n",
              "      <td>12.50860</td>\n",
              "      <td>67</td>\n",
              "      <td>58.7</td>\n",
              "      <td>68</td>\n",
              "      <td>...</td>\n",
              "      <td>53.7</td>\n",
              "      <td>1.083</td>\n",
              "      <td>21</td>\n",
              "      <td>15.3</td>\n",
              "      <td>8.0</td>\n",
              "      <td>26.7</td>\n",
              "      <td>71.0</td>\n",
              "      <td>31.3</td>\n",
              "      <td>302</td>\n",
              "      <td>250.0</td>\n",
              "    </tr>\n",
              "    <tr>\n",
              "      <th>1</th>\n",
              "      <td>1.9</td>\n",
              "      <td>29</td>\n",
              "      <td>6</td>\n",
              "      <td>97.9</td>\n",
              "      <td>0.913</td>\n",
              "      <td>21.0</td>\n",
              "      <td>20.65450</td>\n",
              "      <td>14</td>\n",
              "      <td>11.7</td>\n",
              "      <td>15</td>\n",
              "      <td>...</td>\n",
              "      <td>57.4</td>\n",
              "      <td>1.072</td>\n",
              "      <td>136</td>\n",
              "      <td>18.0</td>\n",
              "      <td>67.0</td>\n",
              "      <td>19.8</td>\n",
              "      <td>83.0</td>\n",
              "      <td>33.6</td>\n",
              "      <td>320</td>\n",
              "      <td>88.0</td>\n",
              "    </tr>\n",
              "    <tr>\n",
              "      <th>2</th>\n",
              "      <td>4.9</td>\n",
              "      <td>13</td>\n",
              "      <td>4</td>\n",
              "      <td>99.6</td>\n",
              "      <td>0.947</td>\n",
              "      <td>26.4</td>\n",
              "      <td>25.36860</td>\n",
              "      <td>5</td>\n",
              "      <td>5.3</td>\n",
              "      <td>3</td>\n",
              "      <td>...</td>\n",
              "      <td>55.7</td>\n",
              "      <td>1.147</td>\n",
              "      <td>255</td>\n",
              "      <td>19.8</td>\n",
              "      <td>86.0</td>\n",
              "      <td>38.7</td>\n",
              "      <td>19.0</td>\n",
              "      <td>29.7</td>\n",
              "      <td>86</td>\n",
              "      <td>27.0</td>\n",
              "    </tr>\n",
              "    <tr>\n",
              "      <th>3</th>\n",
              "      <td>1.7</td>\n",
              "      <td>32</td>\n",
              "      <td>12</td>\n",
              "      <td>9.5</td>\n",
              "      <td>0.782</td>\n",
              "      <td>11.5</td>\n",
              "      <td>11.76070</td>\n",
              "      <td>74</td>\n",
              "      <td>69.3</td>\n",
              "      <td>70</td>\n",
              "      <td>...</td>\n",
              "      <td>52.6</td>\n",
              "      <td>1.037</td>\n",
              "      <td>105</td>\n",
              "      <td>17.5</td>\n",
              "      <td>16.0</td>\n",
              "      <td>24.7</td>\n",
              "      <td>141.0</td>\n",
              "      <td>30.1</td>\n",
              "      <td>158</td>\n",
              "      <td>179.0</td>\n",
              "    </tr>\n",
              "    <tr>\n",
              "      <th>4</th>\n",
              "      <td>-3.6</td>\n",
              "      <td>103</td>\n",
              "      <td>15</td>\n",
              "      <td>0.0</td>\n",
              "      <td>0.651</td>\n",
              "      <td>5.9</td>\n",
              "      <td>5.29267</td>\n",
              "      <td>113</td>\n",
              "      <td>106.3</td>\n",
              "      <td>108</td>\n",
              "      <td>...</td>\n",
              "      <td>59.1</td>\n",
              "      <td>1.171</td>\n",
              "      <td>82</td>\n",
              "      <td>17.1</td>\n",
              "      <td>38.0</td>\n",
              "      <td>20.3</td>\n",
              "      <td>9.0</td>\n",
              "      <td>35.6</td>\n",
              "      <td>210</td>\n",
              "      <td>321.0</td>\n",
              "    </tr>\n",
              "  </tbody>\n",
              "</table>\n",
              "<p>5 rows × 190 columns</p>\n",
              "</div>"
            ],
            "text/plain": [
              "   KenPom_Barttorvik_WAB  WAB RANK  SEED  R SCORE  KenPom_Barttorvik_BARTHAG  \\\n",
              "0                   -0.7        63    12      3.9                      0.791   \n",
              "1                    1.9        29     6     97.9                      0.913   \n",
              "2                    4.9        13     4     99.6                      0.947   \n",
              "3                    1.7        32    12      9.5                      0.782   \n",
              "4                   -3.6       103    15      0.0                      0.651   \n",
              "\n",
              "   KenPom_Barttorvik_BADJ EM  KenPom_Barttorvik_KADJ EM  \\\n",
              "0                       11.8                   12.50860   \n",
              "1                       21.0                   20.65450   \n",
              "2                       26.4                   25.36860   \n",
              "3                       11.5                   11.76070   \n",
              "4                        5.9                    5.29267   \n",
              "\n",
              "   KenPom_Barttorvik_BARTHAG RANK  B POWER  KenPom_Barttorvik_BADJ EM RANK  \\\n",
              "0                              67     58.7                              68   \n",
              "1                              14     11.7                              15   \n",
              "2                               5      5.3                               3   \n",
              "3                              74     69.3                              70   \n",
              "4                             113    106.3                             108   \n",
              "\n",
              "   ...  Barttorvik_Home_EFG%  Barttorvik_Neutral_PPPO  \\\n",
              "0  ...                  53.7                    1.083   \n",
              "1  ...                  57.4                    1.072   \n",
              "2  ...                  55.7                    1.147   \n",
              "3  ...                  52.6                    1.037   \n",
              "4  ...                  59.1                    1.171   \n",
              "\n",
              "   Barttorvik_Away_TOV% RANK  Barttorvik_Away_TOV%  \\\n",
              "0                         21                  15.3   \n",
              "1                        136                  18.0   \n",
              "2                        255                  19.8   \n",
              "3                        105                  17.5   \n",
              "4                         82                  17.1   \n",
              "\n",
              "   ShootingSplits_DUNKS D SHARE RANK  KenPom_Barttorvik_FTRD  \\\n",
              "0                                8.0                    26.7   \n",
              "1                               67.0                    19.8   \n",
              "2                               86.0                    38.7   \n",
              "3                               16.0                    24.7   \n",
              "4                               38.0                    20.3   \n",
              "\n",
              "   Barttorvik_Neutral_PPPO RANK  ShootingSplits_THREES FG%D  \\\n",
              "0                          71.0                        31.3   \n",
              "1                          83.0                        33.6   \n",
              "2                          19.0                        29.7   \n",
              "3                         141.0                        30.1   \n",
              "4                           9.0                        35.6   \n",
              "\n",
              "   Barttorvik_Home_FTR RANK  ShootingSplits_FARTHER TWOS FG%D RANK  \n",
              "0                       302                                  250.0  \n",
              "1                       320                                   88.0  \n",
              "2                        86                                   27.0  \n",
              "3                       158                                  179.0  \n",
              "4                       210                                  321.0  \n",
              "\n",
              "[5 rows x 190 columns]"
            ]
          },
          "execution_count": 406,
          "metadata": {},
          "output_type": "execute_result"
        }
      ],
      "source": [
        "significant_features = KW_significant_results['variable_name'].tolist()\n",
        "significant_features_df = df_all[significant_features]\n",
        "significant_features_df.head()"
      ]
    },
    {
      "cell_type": "code",
      "execution_count": 407,
      "metadata": {},
      "outputs": [
        {
          "name": "stdout",
          "output_type": "stream",
          "text": [
            "Number of Highly Correlated pairs: 348\n",
            "Number of features dropped: 104\n",
            "\n",
            "For KenPom_Barttorvik_WAB vs WAB RANK: Pearson r = -0.935, p‑value = 0\n",
            "Number of features remaining after dropping redundant features: 86\n"
          ]
        }
      ],
      "source": [
        "# 1) Compute the full correlation matrix in pandas\n",
        "corr_matrix = significant_features_df.corr(method='pearson')\n",
        "\n",
        "threshold = 0.9\n",
        "high_corr_pairs = []\n",
        "cols = corr_matrix.columns\n",
        "for i in range(len(cols)):\n",
        "    for j in range(i+1, len(cols)):\n",
        "        r = corr_matrix.iloc[i, j]\n",
        "        if abs(r) >= threshold:\n",
        "            high_corr_pairs.append((cols[i], cols[j], r))\n",
        "\n",
        "print('Number of Highly Correlated pairs:', len(high_corr_pairs))\n",
        "\n",
        "to_drop = set()\n",
        "\n",
        "# print(\"Highly correlated feature pairs (|r| ≥ 0.9):\")\n",
        "for f1, f2, r in high_corr_pairs:\n",
        "    to_drop.add(f2)\n",
        "    # print(f\"  {f1} ↔ {f2}: r = {r:.3f}\")\n",
        "\n",
        "# 3) If you want the exact p‑value for a given pair you can use scipy.stats.pearsonr\n",
        "#    (e.g. for the first high‑corr pair)\n",
        "\n",
        "reduced_df = significant_features_df.drop(columns = to_drop)\n",
        "\n",
        "print('Number of features dropped:', len(to_drop))\n",
        "\n",
        "if high_corr_pairs:\n",
        "    f1, f2, r = high_corr_pairs[0]\n",
        "    r_val, p_val = pearsonr(significant_features_df[f1], significant_features_df[f2])\n",
        "    print(f\"\\nFor {f1} vs {f2}: Pearson r = {r_val:.3f}, p‑value = {p_val:.3g}\")\n",
        "\n",
        "print('Number of features remaining after dropping redundant features:', len(reduced_df.columns))"
      ]
    },
    {
      "cell_type": "code",
      "execution_count": 408,
      "metadata": {},
      "outputs": [],
      "source": [
        "# Add visualization here"
      ]
    },
    {
      "cell_type": "markdown",
      "metadata": {},
      "source": [
        "## Standardize"
      ]
    },
    {
      "cell_type": "code",
      "execution_count": 409,
      "metadata": {},
      "outputs": [
        {
          "name": "stdout",
          "output_type": "stream",
          "text": [
            "(924, 408)\n",
            "       SEED   NET RPI    RESUME  WAB RANK       ELO   B POWER      Q1 W  \\\n",
            "0  0.725899  0.042834  0.270851  0.254861 -0.515215  0.037936 -0.898458   \n",
            "1 -0.568948 -0.650537 -0.364530 -0.412810 -0.307056 -0.760649 -0.296227   \n",
            "2 -1.000563 -0.819194 -0.674832 -0.727008 -0.723373 -0.869392  0.607119   \n",
            "3  0.725899 -0.013386  0.669810 -0.353898 -0.653987  0.218042 -1.199573   \n",
            "4  1.373322  0.923601  1.482506  1.040355  0.641221  0.846715 -1.199573   \n",
            "\n",
            "       Q2 W  Q1 PLUS Q2 W   Q3 Q4 L  ...  Barttorvik_Neutral_AVG HGT RANK  \\\n",
            "0 -0.413617     -0.806597  0.184136  ...                         1.842514   \n",
            "1  0.697377      0.176902 -0.487033  ...                        -0.655735   \n",
            "2  0.697377      0.767001 -0.487033  ...                        -1.028776   \n",
            "3 -0.783948     -1.199996 -0.151449  ...                         0.881649   \n",
            "4 -1.154280     -1.396696  1.526473  ...                        -0.022694   \n",
            "\n",
            "   Barttorvik_Neutral_EFF HGT RANK  Barttorvik_Neutral_EXP RANK  \\\n",
            "0                         0.459576                    -0.546987   \n",
            "1                        -1.066121                     1.667395   \n",
            "2                        -0.673478                     1.275964   \n",
            "3                         0.897092                     0.202324   \n",
            "4                        -0.774443                    -0.312128   \n",
            "\n",
            "   Barttorvik_Neutral_TALENT RANK  Barttorvik_Neutral_FT% RANK  \\\n",
            "0                        0.983066                    -0.580549   \n",
            "1                       -0.891561                    -1.084201   \n",
            "2                       -0.819460                    -0.371717   \n",
            "3                        2.977861                    -0.691106   \n",
            "4                        2.977861                    -0.126033   \n",
            "\n",
            "   Barttorvik_Neutral_OP FT% RANK  Barttorvik_Neutral_PPPO RANK  \\\n",
            "0                       -1.193952                     -0.418954   \n",
            "1                       -0.493582                     -0.253645   \n",
            "2                       -0.913804                     -1.135296   \n",
            "3                       -0.306816                      0.545352   \n",
            "4                       -1.392390                     -1.273054   \n",
            "\n",
            "   Barttorvik_Neutral_PPPD RANK  Barttorvik_Neutral_ELITE SOS RANK  TEAM NO  \n",
            "0                     -1.086934                           0.747871     1000  \n",
            "1                      1.644633                          -0.822658     1001  \n",
            "2                     -0.598259                          -1.047019     1002  \n",
            "3                     -1.312477                           1.550848     1003  \n",
            "4                      1.080778                           1.857868     1004  \n",
            "\n",
            "[5 rows x 408 columns]\n"
          ]
        }
      ],
      "source": [
        "df_all = df_all.drop(columns=['TEAM', 'ROUND'])\n",
        "\n",
        "scaler = StandardScaler()\n",
        "cols_to_scale = [col for col in df_all.columns if col != 'TEAM NO']\n",
        "df_all_scaled = pd.DataFrame(\n",
        "    scaler.fit_transform(df_all[cols_to_scale]),\n",
        "    columns=cols_to_scale\n",
        ")\n",
        "df_all_scaled['TEAM NO'] = df_all['TEAM NO']\n",
        "print(df_all_scaled.shape)\n",
        "print(df_all_scaled.head()) "
      ]
    },
    {
      "cell_type": "markdown",
      "metadata": {},
      "source": [
        "**Standardize the reduced data frame created using correlation-based feature selection**"
      ]
    },
    {
      "cell_type": "code",
      "execution_count": 410,
      "metadata": {},
      "outputs": [
        {
          "name": "stdout",
          "output_type": "stream",
          "text": [
            "(924, 87)\n",
            "   KenPom_Barttorvik_WAB   R SCORE  Q1 PLUS Q2 W      Q1 W  \\\n",
            "0              -0.471766 -1.370353     -0.806597 -0.898458   \n",
            "1               0.079691  0.847429      0.176902 -0.296227   \n",
            "2               0.715987  0.887538      0.767001  0.607119   \n",
            "3               0.037271 -1.238230     -1.199996 -1.199573   \n",
            "4              -1.086852 -1.462367     -1.396696 -1.199573   \n",
            "\n",
            "   Barttorvik_Home_WAB  KenPom_Barttorvik_BADJ O RANK  \\\n",
            "0            -0.204420                       0.401551   \n",
            "1             0.507621                      -0.656225   \n",
            "2             0.507621                      -0.902556   \n",
            "3             0.049880                       0.010319   \n",
            "4            -1.018180                      -0.409894   \n",
            "\n",
            "   Barttorvik_Neutral_BADJ EM RANK  Barttorvik_Neutral_TALENT RANK  \\\n",
            "0                        -0.499829                        0.983066   \n",
            "1                        -0.384843                       -0.891561   \n",
            "2                        -1.113088                       -0.819460   \n",
            "3                         0.381732                        2.977861   \n",
            "4                         2.413153                        2.977861   \n",
            "\n",
            "   KenPom_Barttorvik_BADJ D RANK  TeamRankings_Neutral_TR RATING  ...  \\\n",
            "0                      -0.348663                       -0.003245  ...   \n",
            "1                      -0.799487                       -0.159660  ...   \n",
            "2                      -0.843115                        1.756424  ...   \n",
            "3                      -0.014181                       -0.628905  ...   \n",
            "4                       2.341738                       -1.463118  ...   \n",
            "\n",
            "   ShootingSplits_THREES FG%D RANK  Barttorvik_Home_FTRD RANK  \\\n",
            "0                        -0.825291                  -1.018780   \n",
            "1                         0.396812                  -1.303269   \n",
            "2                        -1.177821                   2.078988   \n",
            "3                        -1.142568                  -0.997707   \n",
            "4                         1.877438                  -1.208439   \n",
            "\n",
            "   Barttorvik_Neutral_PPPO  Barttorvik_Away_TOV% RANK  Barttorvik_Away_TOV%  \\\n",
            "0                 0.153670                  -1.103763             -1.261212   \n",
            "1                 0.005763                   0.095332             -0.134857   \n",
            "2                 1.014223                   1.336134              0.616046   \n",
            "3                -0.464852                  -0.227902             -0.343441   \n",
            "4                 1.336930                  -0.467721             -0.510309   \n",
            "\n",
            "   ShootingSplits_DUNKS D SHARE RANK  KenPom_Barttorvik_FTRD  \\\n",
            "0                          -1.691620               -1.021709   \n",
            "1                          -1.093664               -2.185215   \n",
            "2                          -0.901102                1.001780   \n",
            "3                          -1.610541               -1.358957   \n",
            "4                          -1.387574               -2.100903   \n",
            "\n",
            "   Barttorvik_Home_FTR RANK  ShootingSplits_FARTHER TWOS FG%D RANK  TEAM NO  \n",
            "0                  1.420200                               1.334097     1000  \n",
            "1                  1.604961                              -0.413733     1001  \n",
            "2                 -0.796932                              -1.071866     1002  \n",
            "3                 -0.057888                               0.568073     1003  \n",
            "4                  0.475866                               2.100120     1004  \n",
            "\n",
            "[5 rows x 87 columns]\n"
          ]
        }
      ],
      "source": [
        "scaler = StandardScaler()\n",
        "cols_to_scale = [col for col in reduced_df.columns if col != 'TEAM NO']\n",
        "reduced_df_scaled = pd.DataFrame(\n",
        "    scaler.fit_transform(reduced_df[cols_to_scale]),\n",
        "    columns=cols_to_scale\n",
        ")\n",
        "reduced_df_scaled['TEAM NO'] = df_all['TEAM NO']\n",
        "print(reduced_df_scaled.shape)\n",
        "print(reduced_df_scaled.head())"
      ]
    },
    {
      "cell_type": "markdown",
      "metadata": {},
      "source": [
        "## Data Processing"
      ]
    },
    {
      "cell_type": "markdown",
      "metadata": {},
      "source": [
        "**Creating a List of Previous Matchups to Use as Training/Testing Data**"
      ]
    },
    {
      "cell_type": "code",
      "execution_count": 411,
      "metadata": {},
      "outputs": [
        {
          "name": "stdout",
          "output_type": "stream",
          "text": [
            "881\n"
          ]
        }
      ],
      "source": [
        "matchups = []\n",
        "first_team_no = 0\n",
        "for index, row in matchup_df.iterrows():\n",
        "    if index % 2 == 0:\n",
        "        team_1_no = row[\"TEAM NO\"]\n",
        "        team_1_score = row[\"SCORE\"]\n",
        "        team_1_seed = row[\"SEED\"]\n",
        "    else:\n",
        "        team_0_no = row[\"TEAM NO\"]\n",
        "        team_0_score = row[\"SCORE\"]\n",
        "        team_0_seed = row[\"SEED\"]\n",
        "\n",
        "        winner = 1 if team_1_score > team_0_score else 0\n",
        "        \n",
        "        if team_1_seed == team_0_seed:\n",
        "            lower_seed_won = random.randint(0, 1)\n",
        "        else:\n",
        "            team_1_seed_is_lower = 1 if team_1_seed < team_0_seed else 0\n",
        "            lower_seed_won = 1 if winner == team_1_seed_is_lower else 0\n",
        "\n",
        "        matchup = (team_1_no, team_0_no, winner, lower_seed_won)\n",
        "        matchups.append(matchup)\n",
        "print(len(matchups))"
      ]
    },
    {
      "cell_type": "markdown",
      "metadata": {},
      "source": [
        "**Creating Difference Vectors for Each Matchup by subtracting Each Team's Stats from that Year**"
      ]
    },
    {
      "cell_type": "code",
      "execution_count": 412,
      "metadata": {},
      "outputs": [
        {
          "name": "stdout",
          "output_type": "stream",
          "text": [
            "Count 881\n",
            "Number of Matchups: 407\n",
            "✅ Finished creating vectors. Skipped 26 matchups due to missing teams.\n"
          ]
        }
      ],
      "source": [
        "pred_winners = []\n",
        "true_winners = []\n",
        "difference_vectors = []\n",
        "\n",
        "skipped = 0  # Track how many matchups we skip\n",
        "count = 0\n",
        "for matchup in matchups:\n",
        "    team_1_NO = str(matchup[0])  # Make sure they're strings upfront\n",
        "    team_0_NO = str(matchup[1])\n",
        "\n",
        "    team_1_row = df_all_scaled[df_all_scaled[\"TEAM NO\"] == team_1_NO]\n",
        "    team_0_row = df_all_scaled[df_all_scaled[\"TEAM NO\"] == team_0_NO]\n",
        "    count += 1\n",
        "    # Check if both teams exist in df_all_scaled\n",
        "    if not team_1_row.empty and not team_0_row.empty:\n",
        "        true_winners.append(matchup[2])  # Now append only if valid\n",
        "\n",
        "        # Get stats and remove \"TEAM NO\" column\n",
        "        team_1_stats = team_1_row.drop(columns=[\"TEAM NO\"]).iloc[0].values\n",
        "        team_0_stats = team_0_row.drop(columns=[\"TEAM NO\"]).iloc[0].values\n",
        "\n",
        "        # Create difference vector\n",
        "        difference_vector = team_1_stats - team_0_stats\n",
        "        difference_vectors.append(difference_vector)\n",
        "    else:\n",
        "        skipped += 1\n",
        "\n",
        "print(\"Count\", count)\n",
        "print(f'Number of Matchups: {len(difference_vector)}')\n",
        "print(f\"✅ Finished creating vectors. Skipped {skipped} matchups due to missing teams.\")"
      ]
    },
    {
      "cell_type": "markdown",
      "metadata": {},
      "source": [
        "## Baseline"
      ]
    },
    {
      "cell_type": "code",
      "execution_count": null,
      "metadata": {},
      "outputs": [
        {
          "name": "stdout",
          "output_type": "stream",
          "text": [
            "Accuracy of Base Model: 0.699205448354143\n"
          ]
        }
      ],
      "source": [
        "total_lower_seeds_won = 0\n",
        "for matchup in matchups:\n",
        "    total_lower_seeds_won += matchup[3]\n",
        "\n",
        "print(f'Accuracy of Base Model: {total_lower_seeds_won / len(matchups)}')"
      ]
    },
    {
      "cell_type": "code",
      "execution_count": null,
      "metadata": {},
      "outputs": [
        {
          "name": "stdout",
          "output_type": "stream",
          "text": [
            "Accuracy of Base Model for 2010: 0.6825396825396826\n",
            "Accuracy of Base Model for 2011: 0.6825396825396826\n",
            "Accuracy of Base Model for 2012: 0.7301587301587301\n",
            "Accuracy of Base Model for 2013: 0.6666666666666666\n",
            "Accuracy of Base Model for 2014: 0.6507936507936508\n",
            "Accuracy of Base Model for 2015: 0.7936507936507936\n",
            "Accuracy of Base Model for 2016: 0.6666666666666666\n",
            "Accuracy of Base Model for 2017: 0.7619047619047619\n",
            "Accuracy of Base Model for 2018: 0.6666666666666666\n",
            "Accuracy of Base Model for 2019: 0.6825396825396826\n",
            "Accuracy of Base Model for 2021: 0.6935483870967742\n",
            "Accuracy of Base Model for 2022: 0.6666666666666666\n",
            "Accuracy of Base Model for 2023: 0.6984126984126984\n",
            "Accuracy of Base Model for 2024: 0.6984126984126984\n",
            "[0.6825396825396826, 0.6825396825396826, 0.7301587301587301, 0.6666666666666666, 0.6507936507936508, 0.7936507936507936, 0.6666666666666666, 0.7619047619047619, 0.6666666666666666, 0.6825396825396826, 0.6935483870967742, 0.6666666666666666, 0.6984126984126984, 0.6984126984126984]\n"
          ]
        }
      ],
      "source": [
        "# Read the data\n",
        "matchup_df = pd.read_csv('Data_Needs_updated_after_selection_sunday/Tournament Matchups.csv')\n",
        " \n",
        "# Remove rows for 2008 and 2009\n",
        "matchup_df = matchup_df[~matchup_df['YEAR'].isin([2008, 2009])]\n",
        " \n",
        "# Define years of interest\n",
        "years = list(range(2010, 2020)) + list(range(2021, 2025))\n",
        " \n",
        "# Dictionary to store dataframes by year\n",
        "dfs_by_year = {}\n",
        "for year in years:\n",
        "    dfs_by_year[year] = matchup_df[matchup_df['YEAR'] == year]\n",
        " \n",
        "# Initialize list to store accuracies for each year\n",
        "accuracies_by_year = []\n",
        " \n",
        "# Loop through each year's DataFrame\n",
        "for year in years:\n",
        "    # Get the matchups for the year\n",
        "    matchups = []\n",
        "    for index, row in dfs_by_year[year].iterrows():\n",
        "        if index % 2 == 0:\n",
        "            team_1_no = row[\"TEAM NO\"]\n",
        "            team_1_score = row[\"SCORE\"]\n",
        "            team_1_seed = row[\"SEED\"]\n",
        "        else:\n",
        "            team_0_no = row[\"TEAM NO\"]\n",
        "            team_0_score = row[\"SCORE\"]\n",
        "            team_0_seed = row[\"SEED\"]\n",
        " \n",
        "            winner = 1 if team_1_score > team_0_score else 0\n",
        " \n",
        "            if team_1_seed == team_0_seed:\n",
        "                lower_seed_won = random.randint(0, 1)\n",
        "            else:\n",
        "                team_1_seed_is_lower = 1 if team_1_seed < team_0_seed else 0\n",
        "                lower_seed_won = 1 if winner == team_1_seed_is_lower else 0\n",
        " \n",
        "            matchup = (team_1_no, team_0_no, winner, lower_seed_won)\n",
        "            matchups.append(matchup)\n",
        " \n",
        "    # Calculate the accuracy for the base model for this year\n",
        "    total_lower_seeds_won = 0\n",
        "    for matchup in matchups:\n",
        "        total_lower_seeds_won += matchup[3]  # lower_seed_won\n",
        " \n",
        "    accuracy = total_lower_seeds_won / len(matchups)\n",
        "    accuracies_by_year.append((year, accuracy))\n",
        " \n",
        "# Print the accuracies by year\n",
        "for year, accuracy in accuracies_by_year:\n",
        "    print(f'Accuracy of Base Model for {year}: {accuracy:}')\n",
        "# Create a list of just the accuracies\n",
        "baseline_accuracies = [accuracy for _, accuracy in accuracies_by_year]\n",
        " \n",
        "model_results_df = pd.DataFrame({\n",
        "    'Model': ['Baseline'],\n",
        "    'Accuracy': baseline_accuracies\n",
        "})\n",
        "\n",
        "# Print the list of accuracies\n",
        "print(baseline_accuracies)"
      ]
    },
    {
      "cell_type": "markdown",
      "metadata": {},
      "source": [
        "## All Features Linear Regression"
      ]
    },
    {
      "cell_type": "code",
      "execution_count": 415,
      "metadata": {},
      "outputs": [
        {
          "name": "stdout",
          "output_type": "stream",
          "text": [
            "Accuracy: 0.6653696498054474\n"
          ]
        },
        {
          "name": "stderr",
          "output_type": "stream",
          "text": [
            "c:\\Users\\stevensl\\AppData\\Local\\anaconda3\\Lib\\site-packages\\sklearn\\linear_model\\_logistic.py:458: ConvergenceWarning: lbfgs failed to converge (status=1):\n",
            "STOP: TOTAL NO. of ITERATIONS REACHED LIMIT.\n",
            "\n",
            "Increase the number of iterations (max_iter) or scale the data as shown in:\n",
            "    https://scikit-learn.org/stable/modules/preprocessing.html\n",
            "Please also refer to the documentation for alternative solver options:\n",
            "    https://scikit-learn.org/stable/modules/linear_model.html#logistic-regression\n",
            "  n_iter_i = _check_optimize_result(\n"
          ]
        }
      ],
      "source": [
        "# Do logistic regression with all features\n",
        "#X_train, X_test, y_train, y_test = train_test_split(difference_vectors, true_winners, test_size=0.2, random_state=42)\n",
        "X = pd.DataFrame(difference_vectors, columns=df_all_scaled.drop(columns=[\"TEAM NO\"]).columns)\n",
        "y = np.array(true_winners)\n",
        "\n",
        "# X_train, X_test, y_train, y_test = train_test_split(X, y, test_size=0.3, random_state=42)\n",
        "X_train, X_test, y_train, y_test = train_test_split(X, y, test_size=0.3, random_state=42)\n",
        "\n",
        "LR_model = LogisticRegression()\n",
        "LR_model.fit(X_train, y_train)\n",
        "\n",
        "predicted_winners = LR_model.predict(X_test)\n",
        "\n",
        "new_row = {'Model': ['Linear Regression All'], 'Accuracy': accuracy_score(y_test, predicted_winners)}\n",
        "model_results_df.loc[len(model_results_df)] = new_row\n",
        "\n",
        "print(\"Accuracy:\", accuracy_score(y_test, predicted_winners))\n",
        "\n",
        "\n",
        "\n",
        "# def predict_winner_logR(difference_vector, logistic_regression_model):\n",
        "#     winner = logistic_regression_model.predict(difference_vector)\n",
        "#     return \"Team 1 Wins\" if winner == 1 else \"Team 2 Wins\""
      ]
    },
    {
      "cell_type": "markdown",
      "metadata": {},
      "source": [
        "## Greedy Logistic Regression"
      ]
    },
    {
      "cell_type": "code",
      "execution_count": 416,
      "metadata": {},
      "outputs": [
        {
          "name": "stdout",
          "output_type": "stream",
          "text": [
            "✅ Added: KenPom_Barttorvik_KADJ EM | New CV Accuracy: 0.6872\n",
            "❌ Skipped: KenPom_Barttorvik_KADJ EM RANK | CV Accuracy would be: 0.6872\n",
            "❌ Skipped: KenPom_Barttorvik_BADJ EM | CV Accuracy would be: 0.6806\n",
            "❌ Skipped: Barttorvik_Home_BADJ EM RANK | CV Accuracy would be: 0.6872\n",
            "❌ Skipped: KenPom_Barttorvik_BARTHAG RANK | CV Accuracy would be: 0.6805\n",
            "❌ Skipped: Barttorvik_Home_BADJ EM | CV Accuracy would be: 0.6872\n",
            "✅ Added: Barttorvik_Home_BARTHAG RANK | New CV Accuracy: 0.6889\n",
            "❌ Skipped: TeamRankings_Home_TR RANK | CV Accuracy would be: 0.6822\n",
            "❌ Skipped: KenPom_Barttorvik_BADJ EM RANK | CV Accuracy would be: 0.6805\n",
            "❌ Skipped: SEED | CV Accuracy would be: 0.6822\n",
            "❌ Skipped: TeamRankings_Home_TR RATING | CV Accuracy would be: 0.6804\n",
            "❌ Skipped: TeamRankings_Home_LAST | CV Accuracy would be: 0.6838\n",
            "❌ Skipped: WAB RANK | CV Accuracy would be: 0.6873\n",
            "❌ Skipped: Barttorvik_Home_BARTHAG | CV Accuracy would be: 0.6872\n",
            "❌ Skipped: KenPom_Barttorvik_WAB | CV Accuracy would be: 0.6771\n",
            "❌ Skipped: Barttorvik_Away_BADJ EM | CV Accuracy would be: 0.6788\n",
            "✅ Added: B POWER | New CV Accuracy: 0.6889\n",
            "❌ Skipped: Barttorvik_Away_BADJ EM RANK | CV Accuracy would be: 0.6856\n",
            "❌ Skipped: Barttorvik_Away_BARTHAG | CV Accuracy would be: 0.6805\n",
            "❌ Skipped: KenPom_Barttorvik_BARTHAG | CV Accuracy would be: 0.6771\n",
            "❌ Skipped: KenPom_Barttorvik_BADJ O | CV Accuracy would be: 0.6855\n",
            "❌ Skipped: Barttorvik_Away_BARTHAG RANK | CV Accuracy would be: 0.6856\n",
            "❌ Skipped: R SCORE | CV Accuracy would be: 0.6788\n",
            "❌ Skipped: NET RPI | CV Accuracy would be: 0.6772\n",
            "❌ Skipped: KenPom_Barttorvik_BADJ O RANK | CV Accuracy would be: 0.6855\n",
            "❌ Skipped: Barttorvik_Home_BADJ O | CV Accuracy would be: 0.6755\n",
            "❌ Skipped: TeamRankings_Away_TR RATING | CV Accuracy would be: 0.6771\n",
            "❌ Skipped: TeamRankings_Away_TR RANK | CV Accuracy would be: 0.6806\n",
            "❌ Skipped: TeamRankings_Away_LAST | CV Accuracy would be: 0.6806\n",
            "❌ Skipped: TeamRankings_Neutral_TR RATING | CV Accuracy would be: 0.6821\n",
            "❌ Skipped: RESUME | CV Accuracy would be: 0.6738\n",
            "❌ Skipped: KenPom_Barttorvik_KADJ O | CV Accuracy would be: 0.6872\n",
            "❌ Skipped: Barttorvik_Home_BADJ O RANK | CV Accuracy would be: 0.6705\n",
            "❌ Skipped: Barttorvik_Neutral_BADJ EM | CV Accuracy would be: 0.6704\n",
            "❌ Skipped: KenPom_Barttorvik_KADJ O RANK | CV Accuracy would be: 0.6855\n",
            "❌ Skipped: Barttorvik_Away_WAB | CV Accuracy would be: 0.6789\n",
            "❌ Skipped: Q1 W | CV Accuracy would be: 0.6755\n",
            "❌ Skipped: ELO | CV Accuracy would be: 0.6805\n",
            "❌ Skipped: ShootingSplits_CLOSE TWOS FG% | CV Accuracy would be: 0.6822\n",
            "✅ Added: KenPom_Barttorvik_TALENT | New CV Accuracy: 0.6922\n",
            "❌ Skipped: Barttorvik_Away_TALENT | CV Accuracy would be: 0.6906\n",
            "❌ Skipped: Barttorvik_Home_TALENT | CV Accuracy would be: 0.6906\n",
            "❌ Skipped: Barttorvik_Neutral_TALENT | CV Accuracy would be: 0.6906\n",
            "❌ Skipped: TeamRankings_Neutral_V 1-25 WINS | CV Accuracy would be: 0.6889\n",
            "❌ Skipped: Barttorvik_Away_BADJ O | CV Accuracy would be: 0.6823\n",
            "❌ Skipped: KenPom_Barttorvik_TALENT RANK | CV Accuracy would be: 0.6856\n",
            "❌ Skipped: Barttorvik_Away_TALENT RANK | CV Accuracy would be: 0.6856\n",
            "❌ Skipped: Barttorvik_Home_TALENT RANK | CV Accuracy would be: 0.6856\n",
            "❌ Skipped: Barttorvik_Neutral_WAB | CV Accuracy would be: 0.6755\n",
            "❌ Skipped: Q1 PLUS Q2 W | CV Accuracy would be: 0.6838\n",
            "❌ Skipped: Barttorvik_Neutral_TALENT RANK | CV Accuracy would be: 0.6873\n",
            "❌ Skipped: Barttorvik_Neutral_BADJ O | CV Accuracy would be: 0.6805\n",
            "❌ Skipped: ShootingSplits_CLOSE TWOS FG% RANK | CV Accuracy would be: 0.6822\n",
            "❌ Skipped: Barttorvik_Home_W | CV Accuracy would be: 0.6922\n",
            "❌ Skipped: Barttorvik_Away_BADJ O RANK | CV Accuracy would be: 0.6906\n",
            "❌ Skipped: Barttorvik_Home_WAB | CV Accuracy would be: 0.6755\n",
            "❌ Skipped: Barttorvik_Neutral_BARTHAG | CV Accuracy would be: 0.6905\n",
            "❌ Skipped: Barttorvik_Neutral_BADJ EM RANK | CV Accuracy would be: 0.6889\n",
            "❌ Skipped: Barttorvik_Neutral_ELITE SOS RANK | CV Accuracy would be: 0.6856\n",
            "✅ Added: TeamRankings_Neutral_TR RANK | New CV Accuracy: 0.6939\n",
            "❌ Skipped: TeamRankings_Neutral_LAST | CV Accuracy would be: 0.6939\n",
            "❌ Skipped: Barttorvik_Home_BADJ D | CV Accuracy would be: 0.6822\n",
            "❌ Skipped: TeamRankings_Neutral_HI | CV Accuracy would be: 0.6889\n",
            "❌ Skipped: Barttorvik_Neutral_BARTHAG RANK | CV Accuracy would be: 0.6872\n",
            "❌ Skipped: KenPom_Barttorvik_PPPO RANK | CV Accuracy would be: 0.6856\n",
            "✅ Added: Barttorvik_Neutral_ELITE SOS | New CV Accuracy: 0.6956\n",
            "❌ Skipped: KenPom_Barttorvik_KO RANK | CV Accuracy would be: 0.6889\n",
            "✅ Added: Barttorvik_Away_ELITE SOS | New CV Accuracy: 0.6973\n",
            "❌ Skipped: TeamRankings_Away_V 1-25 WINS | CV Accuracy would be: 0.6889\n",
            "❌ Skipped: ShootingSplits_DUNKS SHARE | CV Accuracy would be: 0.6956\n",
            "❌ Skipped: KenPom_Barttorvik_ELITE SOS RANK | CV Accuracy would be: 0.6939\n",
            "❌ Skipped: Barttorvik_Home_ELITE SOS | CV Accuracy would be: 0.6873\n",
            "❌ Skipped: Barttorvik_Home_PPPO | CV Accuracy would be: 0.6872\n",
            "❌ Skipped: KenPom_Barttorvik_BADJ D | CV Accuracy would be: 0.6923\n",
            "❌ Skipped: KenPom_Barttorvik_ELITE SOS | CV Accuracy would be: 0.6789\n",
            "❌ Skipped: Q3 Q4 L | CV Accuracy would be: 0.6889\n",
            "❌ Skipped: TeamRankings_Home_LO | CV Accuracy would be: 0.6822\n",
            "❌ Skipped: Barttorvik_Home_BADJ D RANK | CV Accuracy would be: 0.6922\n",
            "❌ Skipped: Barttorvik_Home_ELITE SOS RANK | CV Accuracy would be: 0.6923\n",
            "❌ Skipped: TeamRankings_Away_HI | CV Accuracy would be: 0.6873\n",
            "❌ Skipped: Barttorvik_Home_PPPO RANK | CV Accuracy would be: 0.6939\n",
            "❌ Skipped: KenPom_Barttorvik_PPPO | CV Accuracy would be: 0.6856\n",
            "❌ Skipped: Barttorvik_Neutral_BADJ O RANK | CV Accuracy would be: 0.6939\n",
            "❌ Skipped: Barttorvik_Away_ELITE SOS RANK | CV Accuracy would be: 0.6973\n",
            "❌ Skipped: Barttorvik_Away_PPPO | CV Accuracy would be: 0.6906\n",
            "❌ Skipped: KenPom_Barttorvik_BADJ D RANK | CV Accuracy would be: 0.6872\n",
            "❌ Skipped: KenPom_Barttorvik_W | CV Accuracy would be: 0.6890\n",
            "❌ Skipped: TeamRankings_Away_V 51-100 WINS | CV Accuracy would be: 0.6889\n",
            "❌ Skipped: TeamRankings_Home_HI | CV Accuracy would be: 0.6956\n",
            "❌ Skipped: KenPom_Barttorvik_K OFF | CV Accuracy would be: 0.6839\n",
            "❌ Skipped: KenPom_Barttorvik_EFG% RANK | CV Accuracy would be: 0.6889\n",
            "❌ Skipped: Barttorvik_Home_PPPD | CV Accuracy would be: 0.6956\n",
            "✅ Added: TeamRankings_Neutral_LO | New CV Accuracy: 0.7023\n",
            "❌ Skipped: KenPom_Barttorvik_KADJ D RANK | CV Accuracy would be: 0.7023\n",
            "❌ Skipped: TeamRankings_Home_V 51-100 WINS | CV Accuracy would be: 0.7007\n",
            "❌ Skipped: Barttorvik_Neutral_W | CV Accuracy would be: 0.6889\n",
            "❌ Skipped: KenPom_Barttorvik_KADJ D | CV Accuracy would be: 0.6973\n",
            "❌ Skipped: Barttorvik_Home_OREB% | CV Accuracy would be: 0.6990\n",
            "❌ Skipped: Barttorvik_Home_OP DREB% | CV Accuracy would be: 0.6990\n",
            "❌ Skipped: Barttorvik_Neutral_GAMES | CV Accuracy would be: 0.6940\n",
            "❌ Skipped: KenPom_Barttorvik_EFG% | CV Accuracy would be: 0.6940\n",
            "❌ Skipped: Barttorvik_Neutral_EFF HGT RANK | CV Accuracy would be: 0.6907\n",
            "❌ Skipped: Barttorvik_Home_PPPD RANK | CV Accuracy would be: 0.6923\n",
            "❌ Skipped: Barttorvik_Home_FTR RANK | CV Accuracy would be: 0.6940\n",
            "❌ Skipped: Barttorvik_Away_L | CV Accuracy would be: 0.6940\n",
            "❌ Skipped: PLUS 500 | CV Accuracy would be: 0.6923\n",
            "✅ Added: KenPom_Barttorvik_2PT% RANK | New CV Accuracy: 0.7040\n",
            "❌ Skipped: Barttorvik_Home_EFG% RANK | CV Accuracy would be: 0.7006\n",
            "❌ Skipped: Barttorvik_Home_FTR | CV Accuracy would be: 0.6924\n",
            "❌ Skipped: ShootingSplits_THREES FG% | CV Accuracy would be: 0.6956\n",
            "❌ Skipped: Barttorvik_Away_PPPO RANK | CV Accuracy would be: 0.6973\n",
            "❌ Skipped: Barttorvik_Away_EFG% | CV Accuracy would be: 0.6940\n",
            "❌ Skipped: Barttorvik_Neutral_2PT% RANK | CV Accuracy would be: 0.6888\n",
            "❌ Skipped: Barttorvik_Neutral_PPPO RANK | CV Accuracy would be: 0.6973\n",
            "❌ Skipped: Barttorvik_Away_2PT% | CV Accuracy would be: 0.6890\n",
            "❌ Skipped: KenPom_Barttorvik_EFGD% RANK | CV Accuracy would be: 0.6973\n",
            "❌ Skipped: KenPom_Barttorvik_EFF HGT RANK | CV Accuracy would be: 0.6923\n",
            "❌ Skipped: Barttorvik_Away_EFF HGT RANK | CV Accuracy would be: 0.6923\n",
            "❌ Skipped: Barttorvik_Home_EFF HGT RANK | CV Accuracy would be: 0.6923\n",
            "❌ Skipped: ShootingSplits_THREES FG%D RANK | CV Accuracy would be: 0.7023\n",
            "❌ Skipped: KenPom_Barttorvik_OREB% | CV Accuracy would be: 0.7006\n",
            "❌ Skipped: KenPom_Barttorvik_OP DREB% | CV Accuracy would be: 0.7006\n",
            "❌ Skipped: KenPom_Barttorvik_PPPD | CV Accuracy would be: 0.6940\n",
            "❌ Skipped: ShootingSplits_DUNKS SHARE RANK | CV Accuracy would be: 0.7006\n",
            "❌ Skipped: Barttorvik_Neutral_2PT% | CV Accuracy would be: 0.6989\n",
            "❌ Skipped: Barttorvik_Away_EFG% RANK | CV Accuracy would be: 0.6923\n",
            "❌ Skipped: TeamRankings_Away_V 26-50 WINS | CV Accuracy would be: 0.6956\n",
            "❌ Skipped: KenPom_Barttorvik_PPPD RANK | CV Accuracy would be: 0.6973\n",
            "❌ Skipped: Barttorvik_Neutral_AVG HGT RANK | CV Accuracy would be: 0.6973\n",
            "❌ Skipped: Barttorvik_Away_WIN% | CV Accuracy would be: 0.6923\n",
            "❌ Skipped: KenPom_Barttorvik_K DEF | CV Accuracy would be: 0.6940\n",
            "✅ Added: KenPom_Barttorvik_FTRD RANK | New CV Accuracy: 0.7056\n",
            "❌ Skipped: Barttorvik_Home_3PT%D RANK | CV Accuracy would be: 0.7039\n",
            "❌ Skipped: KenPom_Barttorvik_L | CV Accuracy would be: 0.6973\n",
            "❌ Skipped: KenPom_Barttorvik_AVG HGT RANK | CV Accuracy would be: 0.6990\n",
            "❌ Skipped: Barttorvik_Away_AVG HGT RANK | CV Accuracy would be: 0.6990\n",
            "❌ Skipped: Barttorvik_Home_AVG HGT RANK | CV Accuracy would be: 0.6990\n",
            "❌ Skipped: ShootingSplits_THREES FG% RANK | CV Accuracy would be: 0.7006\n",
            "❌ Skipped: ShootingSplits_FARTHER TWOS D SHARE | CV Accuracy would be: 0.6973\n",
            "❌ Skipped: KenPom_Barttorvik_3PT% | CV Accuracy would be: 0.7023\n",
            "✅ Added: KenPom_Barttorvik_EXP | New CV Accuracy: 0.7073\n",
            "❌ Skipped: Barttorvik_Away_EXP | CV Accuracy would be: 0.7073\n",
            "❌ Skipped: Barttorvik_Home_EXP | CV Accuracy would be: 0.7073\n",
            "❌ Skipped: Barttorvik_Neutral_EXP | CV Accuracy would be: 0.7073\n",
            "❌ Skipped: KenPom_Barttorvik_WIN% | CV Accuracy would be: 0.6990\n",
            "❌ Skipped: Barttorvik_Neutral_EFG% | CV Accuracy would be: 0.6888\n",
            "❌ Skipped: KenPom_Barttorvik_2PT% | CV Accuracy would be: 0.7056\n",
            "❌ Skipped: Barttorvik_Away_BADJ D | CV Accuracy would be: 0.6923\n",
            "❌ Skipped: Barttorvik_Home_3PT%D | CV Accuracy would be: 0.6972\n",
            "❌ Skipped: Q2 W | CV Accuracy would be: 0.7006\n",
            "❌ Skipped: KenPom_Barttorvik_KD RANK | CV Accuracy would be: 0.6990\n",
            "❌ Skipped: KenPom_Barttorvik_EFF HGT | CV Accuracy would be: 0.6956\n",
            "❌ Skipped: Barttorvik_Away_EFF HGT | CV Accuracy would be: 0.6956\n",
            "❌ Skipped: Barttorvik_Home_EFF HGT | CV Accuracy would be: 0.6956\n",
            "❌ Skipped: Barttorvik_Neutral_EFF HGT | CV Accuracy would be: 0.6956\n",
            "❌ Skipped: Barttorvik_Away_2PT% RANK | CV Accuracy would be: 0.6940\n",
            "❌ Skipped: Barttorvik_Away_2PT%D | CV Accuracy would be: 0.7006\n",
            "❌ Skipped: ShootingSplits_DUNKS D SHARE RANK | CV Accuracy would be: 0.6923\n",
            "❌ Skipped: KenPom_Barttorvik_AVG HGT | CV Accuracy would be: 0.7056\n",
            "❌ Skipped: Barttorvik_Away_AVG HGT | CV Accuracy would be: 0.7056\n",
            "❌ Skipped: Barttorvik_Home_AVG HGT | CV Accuracy would be: 0.7056\n",
            "❌ Skipped: Barttorvik_Neutral_AVG HGT | CV Accuracy would be: 0.7056\n",
            "❌ Skipped: TeamRankings_Home_V 1-25 WINS | CV Accuracy would be: 0.6940\n",
            "❌ Skipped: TeamRankings_Away_V 26-50 LOSS | CV Accuracy would be: 0.6923\n",
            "❌ Skipped: Barttorvik_Neutral_EFG% RANK | CV Accuracy would be: 0.6955\n",
            "❌ Skipped: Barttorvik_Home_2PT%D RANK | CV Accuracy would be: 0.6973\n",
            "❌ Skipped: Barttorvik_Away_EFG%D | CV Accuracy would be: 0.6822\n",
            "❌ Skipped: Barttorvik_Away_RAW T | CV Accuracy would be: 0.6990\n",
            "❌ Skipped: Barttorvik_Away_BADJ T | CV Accuracy would be: 0.6990\n",
            "❌ Skipped: Barttorvik_Away_EFGD% RANK | CV Accuracy would be: 0.6889\n",
            "❌ Skipped: Barttorvik_Away_2PT%D RANK | CV Accuracy would be: 0.7023\n",
            "❌ Skipped: Barttorvik_Home_EFGD% RANK | CV Accuracy would be: 0.7006\n",
            "❌ Skipped: Barttorvik_Home_TOV%D RANK | CV Accuracy would be: 0.7007\n",
            "❌ Skipped: Barttorvik_Home_WIN% | CV Accuracy would be: 0.7040\n",
            "❌ Skipped: Barttorvik_Neutral_PPPO | CV Accuracy would be: 0.6940\n",
            "❌ Skipped: ShootingSplits_THREES FG%D | CV Accuracy would be: 0.7006\n",
            "❌ Skipped: Barttorvik_Home_EFG%D | CV Accuracy would be: 0.7056\n",
            "❌ Skipped: ShootingSplits_FARTHER TWOS FG%D | CV Accuracy would be: 0.6989\n",
            "❌ Skipped: KenPom_Barttorvik_GAMES | CV Accuracy would be: 0.6972\n",
            "❌ Skipped: Barttorvik_Home_GAMES | CV Accuracy would be: 0.6973\n",
            "❌ Skipped: ShootingSplits_DUNKS FG% | CV Accuracy would be: 0.6990\n",
            "❌ Skipped: ShootingSplits_CLOSE TWOS FG%D | CV Accuracy would be: 0.6989\n",
            "❌ Skipped: ShootingSplits_FARTHER TWOS FG% | CV Accuracy would be: 0.7023\n",
            "❌ Skipped: ShootingSplits_THREES SHARE | CV Accuracy would be: 0.6939\n",
            "❌ Skipped: ShootingSplits_DUNKS FG% RANK | CV Accuracy would be: 0.7007\n",
            "❌ Skipped: ShootingSplits_DUNKS FG%D RANK | CV Accuracy would be: 0.7006\n",
            "❌ Skipped: ShootingSplits_CLOSE TWOS FG%D RANK | CV Accuracy would be: 0.7040\n",
            "❌ Skipped: ShootingSplits_FARTHER TWOS FG% RANK | CV Accuracy would be: 0.6907\n",
            "❌ Skipped: ShootingSplits_THREES SHARE RANK | CV Accuracy would be: 0.6956\n",
            "❌ Skipped: ShootingSplits_THREES D SHARE RANK | CV Accuracy would be: 0.7040\n",
            "❌ Skipped: TeamRankings_Home_V 1-25 LOSS | CV Accuracy would be: 0.6855\n",
            "❌ Skipped: TeamRankings_Home_V 26-50 LOSS | CV Accuracy would be: 0.6956\n",
            "❌ Skipped: TeamRankings_Home_V 51-100 LOSS | CV Accuracy would be: 0.6907\n",
            "❌ Skipped: TeamRankings_Neutral_V 26-50 LOSS | CV Accuracy would be: 0.7056\n",
            "❌ Skipped: KenPom_Barttorvik_K TEMPO | CV Accuracy would be: 0.7024\n",
            "❌ Skipped: KenPom_Barttorvik_K TEMPO RANK | CV Accuracy would be: 0.7041\n",
            "❌ Skipped: KenPom_Barttorvik_KADJ T | CV Accuracy would be: 0.6923\n",
            "❌ Skipped: KenPom_Barttorvik_KADJ T RANK | CV Accuracy would be: 0.7007\n",
            "❌ Skipped: KenPom_Barttorvik_DREB% | CV Accuracy would be: 0.6940\n",
            "❌ Skipped: KenPom_Barttorvik_OP OREB% | CV Accuracy would be: 0.6940\n",
            "❌ Skipped: KenPom_Barttorvik_RAW T | CV Accuracy would be: 0.6990\n",
            "❌ Skipped: KenPom_Barttorvik_AST% | CV Accuracy would be: 0.6922\n",
            "❌ Skipped: KenPom_Barttorvik_2PTR | CV Accuracy would be: 0.6906\n",
            "❌ Skipped: KenPom_Barttorvik_3PTR | CV Accuracy would be: 0.6906\n",
            "❌ Skipped: KenPom_Barttorvik_BADJ T | CV Accuracy would be: 0.6940\n",
            "❌ Skipped: KenPom_Barttorvik_OP FT% | CV Accuracy would be: 0.6973\n",
            "❌ Skipped: KenPom_Barttorvik_TOV%D RANK | CV Accuracy would be: 0.6923\n",
            "❌ Skipped: KenPom_Barttorvik_DREB% RANK | CV Accuracy would be: 0.6906\n",
            "❌ Skipped: KenPom_Barttorvik_OP OREB% RANK | CV Accuracy would be: 0.6906\n",
            "❌ Skipped: KenPom_Barttorvik_RAW T RANK | CV Accuracy would be: 0.7041\n",
            "❌ Skipped: KenPom_Barttorvik_AST% RANK | CV Accuracy would be: 0.6956\n",
            "❌ Skipped: KenPom_Barttorvik_OP AST% RANK | CV Accuracy would be: 0.7056\n",
            "❌ Skipped: KenPom_Barttorvik_2PTR RANK | CV Accuracy would be: 0.6890\n",
            "❌ Skipped: KenPom_Barttorvik_3PTR RANK | CV Accuracy would be: 0.6889\n",
            "❌ Skipped: KenPom_Barttorvik_BADJT RANK | CV Accuracy would be: 0.6990\n",
            "❌ Skipped: KenPom_Barttorvik_OP FT% RANK | CV Accuracy would be: 0.6990\n",
            "❌ Skipped: Barttorvik_Away_W | CV Accuracy would be: 0.7007\n",
            "❌ Skipped: Barttorvik_Away_FTR | CV Accuracy would be: 0.7056\n",
            "❌ Skipped: Barttorvik_Away_TOV%D | CV Accuracy would be: 0.6973\n",
            "❌ Skipped: Barttorvik_Away_DREB% | CV Accuracy would be: 0.6989\n",
            "❌ Skipped: Barttorvik_Away_OP OREB% | CV Accuracy would be: 0.6989\n",
            "❌ Skipped: Barttorvik_Away_3PT%D | CV Accuracy would be: 0.6923\n",
            "❌ Skipped: Barttorvik_Away_AST% | CV Accuracy would be: 0.6989\n",
            "❌ Skipped: Barttorvik_Away_2PTR | CV Accuracy would be: 0.6973\n",
            "❌ Skipped: Barttorvik_Away_3PTR | CV Accuracy would be: 0.6973\n",
            "❌ Skipped: Barttorvik_Away_2PTRD | CV Accuracy would be: 0.6940\n",
            "❌ Skipped: Barttorvik_Away_3PTRD | CV Accuracy would be: 0.6940\n",
            "❌ Skipped: Barttorvik_Away_PPPD | CV Accuracy would be: 0.6923\n",
            "❌ Skipped: Barttorvik_Away_FTR RANK | CV Accuracy would be: 0.6973\n",
            "❌ Skipped: Barttorvik_Away_FTRD RANK | CV Accuracy would be: 0.7056\n",
            "❌ Skipped: Barttorvik_Away_TOV%D RANK | CV Accuracy would be: 0.6990\n",
            "❌ Skipped: Barttorvik_Away_DREB% RANK | CV Accuracy would be: 0.7006\n",
            "❌ Skipped: Barttorvik_Away_OP OREB% RANK | CV Accuracy would be: 0.7006\n",
            "❌ Skipped: Barttorvik_Away_RAW T RANK | CV Accuracy would be: 0.6957\n",
            "❌ Skipped: Barttorvik_Away_3PT%D RANK | CV Accuracy would be: 0.6873\n",
            "❌ Skipped: Barttorvik_Away_BLK% RANK | CV Accuracy would be: 0.6872\n",
            "❌ Skipped: Barttorvik_Away_AST% RANK | CV Accuracy would be: 0.6956\n",
            "❌ Skipped: Barttorvik_Away_OP AST% RANK | CV Accuracy would be: 0.6990\n",
            "❌ Skipped: Barttorvik_Away_2PTR RANK | CV Accuracy would be: 0.6939\n",
            "❌ Skipped: Barttorvik_Away_3PTR RANK | CV Accuracy would be: 0.6939\n",
            "❌ Skipped: Barttorvik_Away_2PTRD RANK | CV Accuracy would be: 0.6940\n",
            "❌ Skipped: Barttorvik_Away_3PTRD RANK | CV Accuracy would be: 0.6940\n",
            "❌ Skipped: Barttorvik_Away_PPPD RANK | CV Accuracy would be: 0.6889\n",
            "❌ Skipped: Barttorvik_Home_RAW T | CV Accuracy would be: 0.7007\n",
            "❌ Skipped: Barttorvik_Home_AST% | CV Accuracy would be: 0.7039\n",
            "❌ Skipped: Barttorvik_Home_OP AST% | CV Accuracy would be: 0.6989\n",
            "❌ Skipped: Barttorvik_Home_2PTR | CV Accuracy would be: 0.7056\n",
            "❌ Skipped: Barttorvik_Home_3PTR | CV Accuracy would be: 0.7056\n",
            "❌ Skipped: Barttorvik_Home_BADJ T | CV Accuracy would be: 0.6973\n",
            "✅ Added: Barttorvik_Home_FT% | New CV Accuracy: 0.7090\n",
            "❌ Skipped: Barttorvik_Home_RAW T RANK | CV Accuracy would be: 0.7006\n",
            "❌ Skipped: Barttorvik_Home_AST% RANK | CV Accuracy would be: 0.7023\n",
            "❌ Skipped: Barttorvik_Home_OP AST% RANK | CV Accuracy would be: 0.7073\n",
            "❌ Skipped: Barttorvik_Home_2PTR RANK | CV Accuracy would be: 0.6990\n",
            "❌ Skipped: Barttorvik_Home_3PTR RANK | CV Accuracy would be: 0.6990\n",
            "❌ Skipped: Barttorvik_Home_2PTRD RANK | CV Accuracy would be: 0.7023\n",
            "❌ Skipped: Barttorvik_Home_3PTRD RANK | CV Accuracy would be: 0.7023\n",
            "❌ Skipped: Barttorvik_Home_BADJT RANK | CV Accuracy would be: 0.6973\n",
            "❌ Skipped: Barttorvik_Home_FT% RANK | CV Accuracy would be: 0.7040\n",
            "❌ Skipped: Barttorvik_Neutral_L | CV Accuracy would be: 0.6939\n",
            "❌ Skipped: Barttorvik_Neutral_WIN% | CV Accuracy would be: 0.6939\n",
            "❌ Skipped: Barttorvik_Neutral_EFG%D | CV Accuracy would be: 0.6973\n",
            "❌ Skipped: Barttorvik_Neutral_FTR | CV Accuracy would be: 0.7006\n",
            "❌ Skipped: Barttorvik_Neutral_TOV% | CV Accuracy would be: 0.7006\n",
            "❌ Skipped: Barttorvik_Neutral_TOV%D | CV Accuracy would be: 0.6788\n",
            "❌ Skipped: Barttorvik_Neutral_OREB% | CV Accuracy would be: 0.6922\n",
            "❌ Skipped: Barttorvik_Neutral_DREB% | CV Accuracy would be: 0.6822\n",
            "❌ Skipped: Barttorvik_Neutral_OP OREB% | CV Accuracy would be: 0.6822\n",
            "❌ Skipped: Barttorvik_Neutral_OP DREB% | CV Accuracy would be: 0.6922\n",
            "❌ Skipped: Barttorvik_Neutral_RAW T | CV Accuracy would be: 0.6973\n",
            "❌ Skipped: Barttorvik_Neutral_2PT%D | CV Accuracy would be: 0.6990\n",
            "❌ Skipped: Barttorvik_Neutral_3PT% | CV Accuracy would be: 0.6973\n",
            "❌ Skipped: Barttorvik_Neutral_3PT%D | CV Accuracy would be: 0.7056\n",
            "✅ Added: Barttorvik_Neutral_BLKED% | New CV Accuracy: 0.7106\n",
            "❌ Skipped: Barttorvik_Neutral_AST% | CV Accuracy would be: 0.6990\n",
            "❌ Skipped: Barttorvik_Neutral_2PTR | CV Accuracy would be: 0.6873\n",
            "❌ Skipped: Barttorvik_Neutral_3PTR | CV Accuracy would be: 0.6873\n",
            "❌ Skipped: Barttorvik_Neutral_BADJ T | CV Accuracy would be: 0.6890\n",
            "❌ Skipped: Barttorvik_Neutral_FT% | CV Accuracy would be: 0.7039\n",
            "❌ Skipped: Barttorvik_Neutral_PPPD | CV Accuracy would be: 0.7006\n",
            "❌ Skipped: Barttorvik_Neutral_EFGD% RANK | CV Accuracy would be: 0.7006\n",
            "❌ Skipped: Barttorvik_Neutral_FTR RANK | CV Accuracy would be: 0.7056\n",
            "❌ Skipped: Barttorvik_Neutral_FTRD RANK | CV Accuracy would be: 0.7023\n",
            "❌ Skipped: Barttorvik_Neutral_TOV%D RANK | CV Accuracy would be: 0.6771\n",
            "❌ Skipped: Barttorvik_Neutral_OREB% RANK | CV Accuracy would be: 0.6839\n",
            "❌ Skipped: Barttorvik_Neutral_DREB% RANK | CV Accuracy would be: 0.6973\n",
            "❌ Skipped: Barttorvik_Neutral_OP OREB% RANK | CV Accuracy would be: 0.6973\n",
            "❌ Skipped: Barttorvik_Neutral_OP DREB% RANK | CV Accuracy would be: 0.6839\n",
            "❌ Skipped: Barttorvik_Neutral_RAW T RANK | CV Accuracy would be: 0.6940\n",
            "❌ Skipped: Barttorvik_Neutral_2PT%D RANK | CV Accuracy would be: 0.7040\n",
            "❌ Skipped: Barttorvik_Neutral_3PT% RANK | CV Accuracy would be: 0.7040\n",
            "❌ Skipped: Barttorvik_Neutral_3PT%D RANK | CV Accuracy would be: 0.6990\n",
            "❌ Skipped: Barttorvik_Neutral_BLKED% RANK | CV Accuracy would be: 0.7056\n",
            "❌ Skipped: Barttorvik_Neutral_AST% RANK | CV Accuracy would be: 0.6973\n",
            "❌ Skipped: Barttorvik_Neutral_2PTR RANK | CV Accuracy would be: 0.6923\n",
            "❌ Skipped: Barttorvik_Neutral_3PTR RANK | CV Accuracy would be: 0.6906\n",
            "❌ Skipped: Barttorvik_Neutral_BADJT RANK | CV Accuracy would be: 0.6923\n",
            "❌ Skipped: Barttorvik_Neutral_FT% RANK | CV Accuracy would be: 0.7039\n",
            "❌ Skipped: Barttorvik_Neutral_PPPD RANK | CV Accuracy would be: 0.6990\n",
            "❌ Skipped: Barttorvik_Away_TOV% RANK | CV Accuracy would be: 0.6990\n",
            "❌ Skipped: Barttorvik_Away_BADJT RANK | CV Accuracy would be: 0.6956\n",
            "❌ Skipped: Barttorvik_Home_FTRD | CV Accuracy would be: 0.7023\n",
            "❌ Skipped: Barttorvik_Neutral_BADJ D RANK | CV Accuracy would be: 0.6990\n",
            "❌ Skipped: Barttorvik_Home_EFG% | CV Accuracy would be: 0.7056\n",
            "❌ Skipped: Barttorvik_Home_OREB% RANK | CV Accuracy would be: 0.7006\n",
            "❌ Skipped: Barttorvik_Home_OP DREB% RANK | CV Accuracy would be: 0.7006\n",
            "❌ Skipped: ShootingSplits_FARTHER TWOS FG%D RANK | CV Accuracy would be: 0.7073\n",
            "❌ Skipped: KenPom_Barttorvik_3PT% RANK | CV Accuracy would be: 0.6973\n",
            "❌ Skipped: Barttorvik_Home_BLKED% | CV Accuracy would be: 0.7073\n",
            "❌ Skipped: Barttorvik_Home_2PT% RANK | CV Accuracy would be: 0.6973\n",
            "❌ Skipped: ShootingSplits_DUNKS D SHARE | CV Accuracy would be: 0.6956\n",
            "❌ Skipped: TeamRankings_Away_V 51-100 LOSS | CV Accuracy would be: 0.6839\n",
            "❌ Skipped: ShootingSplits_THREES D SHARE | CV Accuracy would be: 0.7040\n",
            "❌ Skipped: ShootingSplits_FARTHER TWOS D SHARE RANK | CV Accuracy would be: 0.6940\n",
            "❌ Skipped: KenPom_Barttorvik_TOV%D | CV Accuracy would be: 0.6974\n",
            "❌ Skipped: KenPom_Barttorvik_OP AST% | CV Accuracy would be: 0.6990\n",
            "❌ Skipped: KenPom_Barttorvik_2PTRD | CV Accuracy would be: 0.7073\n",
            "❌ Skipped: KenPom_Barttorvik_3PTRD | CV Accuracy would be: 0.7073\n",
            "❌ Skipped: KenPom_Barttorvik_2PTRD RANK | CV Accuracy would be: 0.7073\n",
            "❌ Skipped: KenPom_Barttorvik_3PTRD RANK | CV Accuracy would be: 0.7090\n",
            "❌ Skipped: Barttorvik_Away_FTRD | CV Accuracy would be: 0.6990\n",
            "❌ Skipped: Barttorvik_Away_BLK% | CV Accuracy would be: 0.6906\n",
            "❌ Skipped: Barttorvik_Away_OP AST% | CV Accuracy would be: 0.6940\n",
            "❌ Skipped: Barttorvik_Home_DREB% | CV Accuracy would be: 0.6889\n",
            "❌ Skipped: Barttorvik_Home_OP OREB% | CV Accuracy would be: 0.6889\n",
            "❌ Skipped: Barttorvik_Home_2PTRD | CV Accuracy would be: 0.7073\n",
            "❌ Skipped: Barttorvik_Home_3PTRD | CV Accuracy would be: 0.7073\n",
            "❌ Skipped: Barttorvik_Home_DREB% RANK | CV Accuracy would be: 0.6890\n",
            "❌ Skipped: Barttorvik_Home_OP OREB% RANK | CV Accuracy would be: 0.6890\n",
            "❌ Skipped: Barttorvik_Home_3PT% RANK | CV Accuracy would be: 0.7006\n",
            "❌ Skipped: Barttorvik_Home_BLK% RANK | CV Accuracy would be: 0.6906\n",
            "❌ Skipped: Barttorvik_Neutral_FTRD | CV Accuracy would be: 0.7023\n",
            "❌ Skipped: Barttorvik_Neutral_OP FT% | CV Accuracy would be: 0.6939\n",
            "❌ Skipped: Barttorvik_Neutral_TOV% RANK | CV Accuracy would be: 0.6940\n",
            "❌ Skipped: ShootingSplits_DUNKS FG%D | CV Accuracy would be: 0.7023\n",
            "❌ Skipped: ShootingSplits_FARTHER TWOS SHARE | CV Accuracy would be: 0.7056\n",
            "❌ Skipped: TeamRankings_Neutral_V 51-100 LOSS | CV Accuracy would be: 0.6990\n",
            "✅ Added: Barttorvik_Home_OP FT% RANK | New CV Accuracy: 0.7123\n",
            "❌ Skipped: ShootingSplits_CLOSE TWOS D SHARE RANK | CV Accuracy would be: 0.7040\n",
            "❌ Skipped: KenPom_Barttorvik_EFG%D | CV Accuracy would be: 0.7040\n",
            "❌ Skipped: KenPom_Barttorvik_FTRD | CV Accuracy would be: 0.7090\n",
            "❌ Skipped: Barttorvik_Away_OP FT% RANK | CV Accuracy would be: 0.6856\n",
            "❌ Skipped: Barttorvik_Home_FTRD RANK | CV Accuracy would be: 0.7056\n",
            "❌ Skipped: TeamRankings_Neutral_V 26-50 WINS | CV Accuracy would be: 0.7040\n",
            "❌ Skipped: Barttorvik_Home_BLKED% RANK | CV Accuracy would be: 0.7057\n",
            "❌ Skipped: KenPom_Barttorvik_TOV% RANK | CV Accuracy would be: 0.6973\n",
            "❌ Skipped: Barttorvik_Neutral_OP AST% | CV Accuracy would be: 0.7023\n",
            "❌ Skipped: Barttorvik_Neutral_2PTRD | CV Accuracy would be: 0.7023\n",
            "❌ Skipped: Barttorvik_Neutral_3PTRD | CV Accuracy would be: 0.7023\n",
            "❌ Skipped: Barttorvik_Neutral_2PTRD RANK | CV Accuracy would be: 0.7023\n",
            "❌ Skipped: Barttorvik_Neutral_3PTRD RANK | CV Accuracy would be: 0.7023\n",
            "❌ Skipped: Barttorvik_Away_OP FT% | CV Accuracy would be: 0.6789\n",
            "❌ Skipped: Barttorvik_Neutral_BLK% RANK | CV Accuracy would be: 0.6990\n",
            "❌ Skipped: Barttorvik_Neutral_EXP RANK | CV Accuracy would be: 0.7106\n",
            "❌ Skipped: Barttorvik_Home_OP FT% | CV Accuracy would be: 0.7073\n",
            "❌ Skipped: Barttorvik_Neutral_OP FT% RANK | CV Accuracy would be: 0.6973\n",
            "❌ Skipped: Barttorvik_Away_GAMES | CV Accuracy would be: 0.7039\n",
            "❌ Skipped: Barttorvik_Home_TOV%D | CV Accuracy would be: 0.6907\n",
            "❌ Skipped: Barttorvik_Away_TOV% | CV Accuracy would be: 0.7023\n",
            "❌ Skipped: Barttorvik_Away_3PT% RANK | CV Accuracy would be: 0.6990\n",
            "❌ Skipped: Barttorvik_Neutral_OP AST% RANK | CV Accuracy would be: 0.7040\n",
            "❌ Skipped: ShootingSplits_FARTHER TWOS SHARE RANK | CV Accuracy would be: 0.7073\n",
            "❌ Skipped: KenPom_Barttorvik_2PT%D | CV Accuracy would be: 0.6973\n",
            "❌ Skipped: KenPom_Barttorvik_BLK% | CV Accuracy would be: 0.6923\n",
            "❌ Skipped: Barttorvik_Neutral_BLK% | CV Accuracy would be: 0.6989\n",
            "❌ Skipped: KenPom_Barttorvik_EXP RANK | CV Accuracy would be: 0.7073\n",
            "❌ Skipped: Barttorvik_Away_EXP RANK | CV Accuracy would be: 0.7073\n",
            "❌ Skipped: Barttorvik_Home_L | CV Accuracy would be: 0.7040\n",
            "❌ Skipped: Barttorvik_Home_EXP RANK | CV Accuracy would be: 0.7073\n",
            "❌ Skipped: TeamRankings_Away_V 1-25 LOSS | CV Accuracy would be: 0.7006\n",
            "❌ Skipped: KenPom_Barttorvik_FT% RANK | CV Accuracy would be: 0.7056\n",
            "❌ Skipped: ShootingSplits_CLOSE TWOS D SHARE | CV Accuracy would be: 0.7040\n",
            "❌ Skipped: ShootingSplits_CLOSE TWOS SHARE | CV Accuracy would be: 0.7056\n",
            "❌ Skipped: Barttorvik_Away_3PT% | CV Accuracy would be: 0.6855\n",
            "❌ Skipped: Barttorvik_Home_2PT% | CV Accuracy would be: 0.6905\n",
            "❌ Skipped: KenPom_Barttorvik_TOV% | CV Accuracy would be: 0.6939\n",
            "❌ Skipped: Barttorvik_Home_TOV% | CV Accuracy would be: 0.6955\n",
            "❌ Skipped: Barttorvik_Home_BLK% | CV Accuracy would be: 0.6973\n",
            "❌ Skipped: ShootingSplits_CLOSE TWOS SHARE RANK | CV Accuracy would be: 0.7040\n",
            "❌ Skipped: KenPom_Barttorvik_3PT%D RANK | CV Accuracy would be: 0.7023\n",
            "❌ Skipped: KenPom_Barttorvik_BLK% RANK | CV Accuracy would be: 0.6906\n",
            "❌ Skipped: Barttorvik_Away_OREB% RANK | CV Accuracy would be: 0.7040\n",
            "❌ Skipped: Barttorvik_Away_OP DREB% RANK | CV Accuracy would be: 0.7040\n",
            "❌ Skipped: TeamRankings_Neutral_V 1-25 LOSS | CV Accuracy would be: 0.7023\n",
            "❌ Skipped: Barttorvik_Away_OREB% | CV Accuracy would be: 0.7040\n",
            "❌ Skipped: Barttorvik_Away_OP DREB% | CV Accuracy would be: 0.7040\n",
            "❌ Skipped: Barttorvik_Away_BADJ D RANK | CV Accuracy would be: 0.6989\n",
            "❌ Skipped: Barttorvik_Home_3PT% | CV Accuracy would be: 0.6990\n",
            "❌ Skipped: TeamRankings_Neutral_V 51-100 WINS | CV Accuracy would be: 0.6889\n",
            "❌ Skipped: Barttorvik_Away_BLKED% RANK | CV Accuracy would be: 0.6973\n",
            "❌ Skipped: KenPom_Barttorvik_FTR RANK | CV Accuracy would be: 0.6973\n",
            "❌ Skipped: Barttorvik_Home_TOV% RANK | CV Accuracy would be: 0.6972\n",
            "❌ Skipped: Barttorvik_Neutral_BADJ D | CV Accuracy would be: 0.7006\n",
            "❌ Skipped: Barttorvik_Home_2PT%D | CV Accuracy would be: 0.7007\n",
            "❌ Skipped: KenPom_Barttorvik_FT% | CV Accuracy would be: 0.6922\n",
            "❌ Skipped: TeamRankings_Home_V 26-50 WINS | CV Accuracy would be: 0.6939\n",
            "❌ Skipped: KenPom_Barttorvik_FTR | CV Accuracy would be: 0.6956\n",
            "❌ Skipped: KenPom_Barttorvik_OREB% RANK | CV Accuracy would be: 0.7006\n",
            "❌ Skipped: KenPom_Barttorvik_OP DREB% RANK | CV Accuracy would be: 0.7006\n",
            "❌ Skipped: Barttorvik_Away_BLKED% | CV Accuracy would be: 0.6923\n",
            "❌ Skipped: KenPom_Barttorvik_BLKED% RANK | CV Accuracy would be: 0.6990\n",
            "❌ Skipped: KenPom_Barttorvik_3PT%D | CV Accuracy would be: 0.6989\n",
            "❌ Skipped: TeamRankings_Away_LO | CV Accuracy would be: 0.6872\n",
            "❌ Skipped: KenPom_Barttorvik_BLKED% | CV Accuracy would be: 0.7040\n",
            "❌ Skipped: KenPom_Barttorvik_2PT%D RANK | CV Accuracy would be: 0.7007\n",
            "❌ Skipped: Barttorvik_Away_FT% RANK | CV Accuracy would be: 0.6906\n",
            "❌ Skipped: Barttorvik_Away_FT% | CV Accuracy would be: 0.6939\n",
            "Accuracy: 0.7198443579766537\n"
          ]
        }
      ],
      "source": [
        "# Ensure X is a DataFrame\n",
        "X = pd.DataFrame(difference_vectors, columns=df_all_scaled.drop(columns=[\"TEAM NO\"]).columns)\n",
        "y = np.array(true_winners)\n",
        "\n",
        "# Train-test split\n",
        "#X_train, X_test, y_train, y_test = train_test_split(X, y, test_size=0.2, random_state=42)\n",
        "\n",
        "# Greedy logistic regression\n",
        "greedy_lr = LogisticRegression(max_iter=1000, random_state=42)\n",
        "feature_scores = {}\n",
        "\n",
        "# First, score each feature individually\n",
        "for feature in X_train.columns:\n",
        "    score = cross_val_score(greedy_lr, X_train[[feature]], y_train, cv=10, scoring='accuracy').mean()\n",
        "    feature_scores[feature] = score\n",
        "\n",
        "# Sort features by their single-feature performance\n",
        "sorted_features = sorted(feature_scores.items(), key=lambda x: x[1], reverse=True)\n",
        "\n",
        "selected_features = []\n",
        "best_score = 0\n",
        "\n",
        "for feature, _ in sorted_features:\n",
        "    current_features = selected_features + [feature]\n",
        "    score = cross_val_score(greedy_lr, X_train[current_features], y_train, cv=10, scoring='accuracy').mean()\n",
        "    \n",
        "    if score > best_score:\n",
        "        selected_features.append(feature)\n",
        "        best_score = score\n",
        "        print(f\"✅ Added: {feature} | New CV Accuracy: {score:.4f}\")\n",
        "    else:\n",
        "        print(f\"❌ Skipped: {feature} | CV Accuracy would be: {score:.4f}\")\n",
        "\n",
        "\n",
        "greedy_lr.fit(X_train[selected_features], y_train)\n",
        "\n",
        "\n",
        "predicted_winners_glr = greedy_lr.predict(X_test[selected_features])\n",
        "\n",
        "new_row = {'Model': ['Linear Regression Greedy'], 'Accuracy': accuracy_score(y_test, predicted_winners_glr)}\n",
        "model_results_df.loc[len(model_results_df)] = new_row\n",
        "\n",
        "print(\"Accuracy:\", accuracy_score(y_test, predicted_winners_glr))"
      ]
    },
    {
      "cell_type": "code",
      "execution_count": 417,
      "metadata": {},
      "outputs": [
        {
          "data": {
            "text/plain": [
              "['KenPom_Barttorvik_KADJ EM',\n",
              " 'Barttorvik_Home_BARTHAG RANK',\n",
              " 'B POWER',\n",
              " 'KenPom_Barttorvik_TALENT',\n",
              " 'TeamRankings_Neutral_TR RANK',\n",
              " 'Barttorvik_Neutral_ELITE SOS',\n",
              " 'Barttorvik_Away_ELITE SOS',\n",
              " 'TeamRankings_Neutral_LO',\n",
              " 'KenPom_Barttorvik_2PT% RANK',\n",
              " 'KenPom_Barttorvik_FTRD RANK',\n",
              " 'KenPom_Barttorvik_EXP',\n",
              " 'Barttorvik_Home_FT%',\n",
              " 'Barttorvik_Neutral_BLKED%',\n",
              " 'Barttorvik_Home_OP FT% RANK']"
            ]
          },
          "execution_count": 417,
          "metadata": {},
          "output_type": "execute_result"
        }
      ],
      "source": [
        "selected_features"
      ]
    },
    {
      "cell_type": "markdown",
      "metadata": {},
      "source": [
        "## DNN"
      ]
    },
    {
      "cell_type": "code",
      "execution_count": 418,
      "metadata": {},
      "outputs": [],
      "source": [
        "def run_binary_mlp(X_train, y_train, X_test, y_test, hidden=64, epochs=10):\n",
        "    model = Sequential()\n",
        "    model.add(Dense(hidden, activation='relu', input_shape=(X_train.shape[1],)))\n",
        "    model.add(Dropout(0.5))\n",
        "    model.add(Dense(hidden, activation='relu'))\n",
        "    model.add(Dense(hidden, activation='relu'))\n",
        "    model.add(Dense(1, activation='sigmoid')) # output layer, add hidden layers before this\n",
        "    optimizer = tf.keras.optimizers.Adam(learning_rate=0.0002)\n",
        "    model.compile(loss=\"binary_crossentropy\",\n",
        "              optimizer=optimizer,\n",
        "              metrics=['accuracy'])\n",
        "    history = model.fit(x=X_train,y=y_train,\n",
        "                        validation_data = (X_test, y_test),\n",
        "                        batch_size=8,epochs=epochs,\n",
        "                        verbose=1)\n",
        "    \n",
        "    model.summary()\n",
        "    predicted_probabilities = model.predict(X_train)\n",
        "    predicted_probabilities = np.rint(predicted_probabilities)\n",
        "    acc = 100. * accuracy_score(y_train, predicted_probabilities)\n",
        "    print(\"Accuracy on train set: {:.2f}%\".format(acc))\n",
        "    predicted_probabilities = model.predict(X_test)\n",
        "    predicted_probabilities = np.rint(predicted_probabilities)\n",
        "    acc = 100. * accuracy_score(y_test, predicted_probabilities)\n",
        "    print(\"Accuracy on test set: {:.2f}%\".format(acc))\n",
        "    print(confusion_matrix(y_test, predicted_probabilities))\n",
        "    return history, model"
      ]
    },
    {
      "cell_type": "code",
      "execution_count": 419,
      "metadata": {},
      "outputs": [
        {
          "name": "stdout",
          "output_type": "stream",
          "text": [
            "Epoch 1/50\n"
          ]
        },
        {
          "name": "stderr",
          "output_type": "stream",
          "text": [
            "c:\\Users\\stevensl\\AppData\\Local\\anaconda3\\Lib\\site-packages\\keras\\src\\layers\\core\\dense.py:87: UserWarning: Do not pass an `input_shape`/`input_dim` argument to a layer. When using Sequential models, prefer using an `Input(shape)` object as the first layer in the model instead.\n",
            "  super().__init__(activity_regularizer=activity_regularizer, **kwargs)\n"
          ]
        },
        {
          "name": "stdout",
          "output_type": "stream",
          "text": [
            "\u001b[1m75/75\u001b[0m \u001b[32m━━━━━━━━━━━━━━━━━━━━\u001b[0m\u001b[37m\u001b[0m \u001b[1m2s\u001b[0m 7ms/step - accuracy: 0.6355 - loss: 0.6362 - val_accuracy: 0.6537 - val_loss: 0.6351\n",
            "Epoch 2/50\n",
            "\u001b[1m75/75\u001b[0m \u001b[32m━━━━━━━━━━━━━━━━━━━━\u001b[0m\u001b[37m\u001b[0m \u001b[1m0s\u001b[0m 5ms/step - accuracy: 0.7297 - loss: 0.5332 - val_accuracy: 0.6965 - val_loss: 0.6030\n",
            "Epoch 3/50\n",
            "\u001b[1m75/75\u001b[0m \u001b[32m━━━━━━━━━━━━━━━━━━━━\u001b[0m\u001b[37m\u001b[0m \u001b[1m0s\u001b[0m 5ms/step - accuracy: 0.7149 - loss: 0.5510 - val_accuracy: 0.6809 - val_loss: 0.6494\n",
            "Epoch 4/50\n",
            "\u001b[1m75/75\u001b[0m \u001b[32m━━━━━━━━━━━━━━━━━━━━\u001b[0m\u001b[37m\u001b[0m \u001b[1m0s\u001b[0m 5ms/step - accuracy: 0.7835 - loss: 0.4691 - val_accuracy: 0.6926 - val_loss: 0.6482\n",
            "Epoch 5/50\n",
            "\u001b[1m75/75\u001b[0m \u001b[32m━━━━━━━━━━━━━━━━━━━━\u001b[0m\u001b[37m\u001b[0m \u001b[1m0s\u001b[0m 5ms/step - accuracy: 0.7936 - loss: 0.4634 - val_accuracy: 0.6732 - val_loss: 0.6567\n",
            "Epoch 6/50\n",
            "\u001b[1m75/75\u001b[0m \u001b[32m━━━━━━━━━━━━━━━━━━━━\u001b[0m\u001b[37m\u001b[0m \u001b[1m0s\u001b[0m 5ms/step - accuracy: 0.8466 - loss: 0.3743 - val_accuracy: 0.6148 - val_loss: 0.7481\n",
            "Epoch 7/50\n",
            "\u001b[1m75/75\u001b[0m \u001b[32m━━━━━━━━━━━━━━━━━━━━\u001b[0m\u001b[37m\u001b[0m \u001b[1m0s\u001b[0m 5ms/step - accuracy: 0.8437 - loss: 0.3871 - val_accuracy: 0.6770 - val_loss: 0.7154\n",
            "Epoch 8/50\n",
            "\u001b[1m75/75\u001b[0m \u001b[32m━━━━━━━━━━━━━━━━━━━━\u001b[0m\u001b[37m\u001b[0m \u001b[1m0s\u001b[0m 4ms/step - accuracy: 0.8275 - loss: 0.3554 - val_accuracy: 0.6848 - val_loss: 0.7502\n",
            "Epoch 9/50\n",
            "\u001b[1m75/75\u001b[0m \u001b[32m━━━━━━━━━━━━━━━━━━━━\u001b[0m\u001b[37m\u001b[0m \u001b[1m0s\u001b[0m 5ms/step - accuracy: 0.8697 - loss: 0.3156 - val_accuracy: 0.6887 - val_loss: 0.7869\n",
            "Epoch 10/50\n",
            "\u001b[1m75/75\u001b[0m \u001b[32m━━━━━━━━━━━━━━━━━━━━\u001b[0m\u001b[37m\u001b[0m \u001b[1m0s\u001b[0m 5ms/step - accuracy: 0.8766 - loss: 0.2808 - val_accuracy: 0.6654 - val_loss: 0.7994\n",
            "Epoch 11/50\n",
            "\u001b[1m75/75\u001b[0m \u001b[32m━━━━━━━━━━━━━━━━━━━━\u001b[0m\u001b[37m\u001b[0m \u001b[1m0s\u001b[0m 6ms/step - accuracy: 0.8972 - loss: 0.2504 - val_accuracy: 0.6304 - val_loss: 0.8544\n",
            "Epoch 12/50\n",
            "\u001b[1m75/75\u001b[0m \u001b[32m━━━━━━━━━━━━━━━━━━━━\u001b[0m\u001b[37m\u001b[0m \u001b[1m0s\u001b[0m 5ms/step - accuracy: 0.8871 - loss: 0.2656 - val_accuracy: 0.6498 - val_loss: 0.8982\n",
            "Epoch 13/50\n",
            "\u001b[1m75/75\u001b[0m \u001b[32m━━━━━━━━━━━━━━━━━━━━\u001b[0m\u001b[37m\u001b[0m \u001b[1m0s\u001b[0m 6ms/step - accuracy: 0.9028 - loss: 0.2288 - val_accuracy: 0.6420 - val_loss: 0.9516\n",
            "Epoch 14/50\n",
            "\u001b[1m75/75\u001b[0m \u001b[32m━━━━━━━━━━━━━━━━━━━━\u001b[0m\u001b[37m\u001b[0m \u001b[1m0s\u001b[0m 5ms/step - accuracy: 0.9144 - loss: 0.2050 - val_accuracy: 0.6187 - val_loss: 0.9851\n",
            "Epoch 15/50\n",
            "\u001b[1m75/75\u001b[0m \u001b[32m━━━━━━━━━━━━━━━━━━━━\u001b[0m\u001b[37m\u001b[0m \u001b[1m0s\u001b[0m 5ms/step - accuracy: 0.9074 - loss: 0.2090 - val_accuracy: 0.6342 - val_loss: 1.0744\n",
            "Epoch 16/50\n",
            "\u001b[1m75/75\u001b[0m \u001b[32m━━━━━━━━━━━━━━━━━━━━\u001b[0m\u001b[37m\u001b[0m \u001b[1m0s\u001b[0m 5ms/step - accuracy: 0.9136 - loss: 0.2259 - val_accuracy: 0.6342 - val_loss: 1.0924\n",
            "Epoch 17/50\n",
            "\u001b[1m75/75\u001b[0m \u001b[32m━━━━━━━━━━━━━━━━━━━━\u001b[0m\u001b[37m\u001b[0m \u001b[1m0s\u001b[0m 5ms/step - accuracy: 0.9678 - loss: 0.1431 - val_accuracy: 0.6537 - val_loss: 1.0308\n",
            "Epoch 18/50\n",
            "\u001b[1m75/75\u001b[0m \u001b[32m━━━━━━━━━━━━━━━━━━━━\u001b[0m\u001b[37m\u001b[0m \u001b[1m0s\u001b[0m 6ms/step - accuracy: 0.9681 - loss: 0.1209 - val_accuracy: 0.6654 - val_loss: 1.0861\n",
            "Epoch 19/50\n",
            "\u001b[1m75/75\u001b[0m \u001b[32m━━━━━━━━━━━━━━━━━━━━\u001b[0m\u001b[37m\u001b[0m \u001b[1m0s\u001b[0m 5ms/step - accuracy: 0.9592 - loss: 0.1074 - val_accuracy: 0.6615 - val_loss: 1.1490\n",
            "Epoch 20/50\n",
            "\u001b[1m75/75\u001b[0m \u001b[32m━━━━━━━━━━━━━━━━━━━━\u001b[0m\u001b[37m\u001b[0m \u001b[1m0s\u001b[0m 5ms/step - accuracy: 0.9348 - loss: 0.1685 - val_accuracy: 0.6693 - val_loss: 1.2036\n",
            "Epoch 21/50\n",
            "\u001b[1m75/75\u001b[0m \u001b[32m━━━━━━━━━━━━━━━━━━━━\u001b[0m\u001b[37m\u001b[0m \u001b[1m0s\u001b[0m 5ms/step - accuracy: 0.9660 - loss: 0.0886 - val_accuracy: 0.6420 - val_loss: 1.2773\n",
            "Epoch 22/50\n",
            "\u001b[1m75/75\u001b[0m \u001b[32m━━━━━━━━━━━━━━━━━━━━\u001b[0m\u001b[37m\u001b[0m \u001b[1m0s\u001b[0m 4ms/step - accuracy: 0.9479 - loss: 0.1306 - val_accuracy: 0.6420 - val_loss: 1.3294\n",
            "Epoch 23/50\n",
            "\u001b[1m75/75\u001b[0m \u001b[32m━━━━━━━━━━━━━━━━━━━━\u001b[0m\u001b[37m\u001b[0m \u001b[1m0s\u001b[0m 5ms/step - accuracy: 0.9793 - loss: 0.0856 - val_accuracy: 0.6615 - val_loss: 1.3025\n",
            "Epoch 24/50\n",
            "\u001b[1m75/75\u001b[0m \u001b[32m━━━━━━━━━━━━━━━━━━━━\u001b[0m\u001b[37m\u001b[0m \u001b[1m0s\u001b[0m 5ms/step - accuracy: 0.9704 - loss: 0.0756 - val_accuracy: 0.6265 - val_loss: 1.4526\n",
            "Epoch 25/50\n",
            "\u001b[1m75/75\u001b[0m \u001b[32m━━━━━━━━━━━━━━━━━━━━\u001b[0m\u001b[37m\u001b[0m \u001b[1m0s\u001b[0m 4ms/step - accuracy: 0.9592 - loss: 0.1035 - val_accuracy: 0.6381 - val_loss: 1.4010\n",
            "Epoch 26/50\n",
            "\u001b[1m75/75\u001b[0m \u001b[32m━━━━━━━━━━━━━━━━━━━━\u001b[0m\u001b[37m\u001b[0m \u001b[1m0s\u001b[0m 4ms/step - accuracy: 0.9733 - loss: 0.0777 - val_accuracy: 0.6381 - val_loss: 1.4339\n",
            "Epoch 27/50\n",
            "\u001b[1m75/75\u001b[0m \u001b[32m━━━━━━━━━━━━━━━━━━━━\u001b[0m\u001b[37m\u001b[0m \u001b[1m0s\u001b[0m 4ms/step - accuracy: 0.9594 - loss: 0.1024 - val_accuracy: 0.6265 - val_loss: 1.4773\n",
            "Epoch 28/50\n",
            "\u001b[1m75/75\u001b[0m \u001b[32m━━━━━━━━━━━━━━━━━━━━\u001b[0m\u001b[37m\u001b[0m \u001b[1m0s\u001b[0m 4ms/step - accuracy: 0.9638 - loss: 0.0831 - val_accuracy: 0.6576 - val_loss: 1.5154\n",
            "Epoch 29/50\n",
            "\u001b[1m75/75\u001b[0m \u001b[32m━━━━━━━━━━━━━━━━━━━━\u001b[0m\u001b[37m\u001b[0m \u001b[1m0s\u001b[0m 4ms/step - accuracy: 0.9634 - loss: 0.0856 - val_accuracy: 0.6381 - val_loss: 1.5314\n",
            "Epoch 30/50\n",
            "\u001b[1m75/75\u001b[0m \u001b[32m━━━━━━━━━━━━━━━━━━━━\u001b[0m\u001b[37m\u001b[0m \u001b[1m0s\u001b[0m 4ms/step - accuracy: 0.9748 - loss: 0.0788 - val_accuracy: 0.6654 - val_loss: 1.5213\n",
            "Epoch 31/50\n",
            "\u001b[1m75/75\u001b[0m \u001b[32m━━━━━━━━━━━━━━━━━━━━\u001b[0m\u001b[37m\u001b[0m \u001b[1m0s\u001b[0m 4ms/step - accuracy: 0.9865 - loss: 0.0547 - val_accuracy: 0.6381 - val_loss: 1.5666\n",
            "Epoch 32/50\n",
            "\u001b[1m75/75\u001b[0m \u001b[32m━━━━━━━━━━━━━━━━━━━━\u001b[0m\u001b[37m\u001b[0m \u001b[1m0s\u001b[0m 4ms/step - accuracy: 0.9507 - loss: 0.1058 - val_accuracy: 0.6381 - val_loss: 1.5938\n",
            "Epoch 33/50\n",
            "\u001b[1m75/75\u001b[0m \u001b[32m━━━━━━━━━━━━━━━━━━━━\u001b[0m\u001b[37m\u001b[0m \u001b[1m0s\u001b[0m 4ms/step - accuracy: 0.9772 - loss: 0.0584 - val_accuracy: 0.6615 - val_loss: 1.4864\n",
            "Epoch 34/50\n",
            "\u001b[1m75/75\u001b[0m \u001b[32m━━━━━━━━━━━━━━━━━━━━\u001b[0m\u001b[37m\u001b[0m \u001b[1m0s\u001b[0m 4ms/step - accuracy: 0.9750 - loss: 0.0679 - val_accuracy: 0.6381 - val_loss: 1.4826\n",
            "Epoch 35/50\n",
            "\u001b[1m75/75\u001b[0m \u001b[32m━━━━━━━━━━━━━━━━━━━━\u001b[0m\u001b[37m\u001b[0m \u001b[1m0s\u001b[0m 4ms/step - accuracy: 0.9847 - loss: 0.0540 - val_accuracy: 0.6420 - val_loss: 1.5096\n",
            "Epoch 36/50\n",
            "\u001b[1m75/75\u001b[0m \u001b[32m━━━━━━━━━━━━━━━━━━━━\u001b[0m\u001b[37m\u001b[0m \u001b[1m0s\u001b[0m 5ms/step - accuracy: 0.9648 - loss: 0.0667 - val_accuracy: 0.6848 - val_loss: 1.5792\n",
            "Epoch 37/50\n",
            "\u001b[1m75/75\u001b[0m \u001b[32m━━━━━━━━━━━━━━━━━━━━\u001b[0m\u001b[37m\u001b[0m \u001b[1m0s\u001b[0m 5ms/step - accuracy: 0.9882 - loss: 0.0397 - val_accuracy: 0.6693 - val_loss: 1.5758\n",
            "Epoch 38/50\n",
            "\u001b[1m75/75\u001b[0m \u001b[32m━━━━━━━━━━━━━━━━━━━━\u001b[0m\u001b[37m\u001b[0m \u001b[1m0s\u001b[0m 5ms/step - accuracy: 0.9826 - loss: 0.0514 - val_accuracy: 0.6576 - val_loss: 1.7472\n",
            "Epoch 39/50\n",
            "\u001b[1m75/75\u001b[0m \u001b[32m━━━━━━━━━━━━━━━━━━━━\u001b[0m\u001b[37m\u001b[0m \u001b[1m0s\u001b[0m 5ms/step - accuracy: 0.9668 - loss: 0.0695 - val_accuracy: 0.6615 - val_loss: 1.6216\n",
            "Epoch 40/50\n",
            "\u001b[1m75/75\u001b[0m \u001b[32m━━━━━━━━━━━━━━━━━━━━\u001b[0m\u001b[37m\u001b[0m \u001b[1m0s\u001b[0m 5ms/step - accuracy: 0.9820 - loss: 0.0483 - val_accuracy: 0.6654 - val_loss: 1.6948\n",
            "Epoch 41/50\n",
            "\u001b[1m75/75\u001b[0m \u001b[32m━━━━━━━━━━━━━━━━━━━━\u001b[0m\u001b[37m\u001b[0m \u001b[1m0s\u001b[0m 5ms/step - accuracy: 0.9909 - loss: 0.0346 - val_accuracy: 0.6070 - val_loss: 1.8160\n",
            "Epoch 42/50\n",
            "\u001b[1m75/75\u001b[0m \u001b[32m━━━━━━━━━━━━━━━━━━━━\u001b[0m\u001b[37m\u001b[0m \u001b[1m0s\u001b[0m 5ms/step - accuracy: 0.9837 - loss: 0.0490 - val_accuracy: 0.6654 - val_loss: 1.7342\n",
            "Epoch 43/50\n",
            "\u001b[1m75/75\u001b[0m \u001b[32m━━━━━━━━━━━━━━━━━━━━\u001b[0m\u001b[37m\u001b[0m \u001b[1m0s\u001b[0m 5ms/step - accuracy: 0.9784 - loss: 0.0573 - val_accuracy: 0.6381 - val_loss: 1.9209\n",
            "Epoch 44/50\n",
            "\u001b[1m75/75\u001b[0m \u001b[32m━━━━━━━━━━━━━━━━━━━━\u001b[0m\u001b[37m\u001b[0m \u001b[1m0s\u001b[0m 5ms/step - accuracy: 0.9719 - loss: 0.0733 - val_accuracy: 0.6226 - val_loss: 1.7031\n",
            "Epoch 45/50\n",
            "\u001b[1m75/75\u001b[0m \u001b[32m━━━━━━━━━━━━━━━━━━━━\u001b[0m\u001b[37m\u001b[0m \u001b[1m0s\u001b[0m 5ms/step - accuracy: 0.9827 - loss: 0.0567 - val_accuracy: 0.6576 - val_loss: 1.7439\n",
            "Epoch 46/50\n",
            "\u001b[1m75/75\u001b[0m \u001b[32m━━━━━━━━━━━━━━━━━━━━\u001b[0m\u001b[37m\u001b[0m \u001b[1m0s\u001b[0m 5ms/step - accuracy: 0.9871 - loss: 0.0676 - val_accuracy: 0.6537 - val_loss: 1.7661\n",
            "Epoch 47/50\n",
            "\u001b[1m75/75\u001b[0m \u001b[32m━━━━━━━━━━━━━━━━━━━━\u001b[0m\u001b[37m\u001b[0m \u001b[1m0s\u001b[0m 5ms/step - accuracy: 0.9768 - loss: 0.0830 - val_accuracy: 0.6537 - val_loss: 1.7445\n",
            "Epoch 48/50\n",
            "\u001b[1m75/75\u001b[0m \u001b[32m━━━━━━━━━━━━━━━━━━━━\u001b[0m\u001b[37m\u001b[0m \u001b[1m0s\u001b[0m 5ms/step - accuracy: 0.9722 - loss: 0.0609 - val_accuracy: 0.6459 - val_loss: 1.7260\n",
            "Epoch 49/50\n",
            "\u001b[1m75/75\u001b[0m \u001b[32m━━━━━━━━━━━━━━━━━━━━\u001b[0m\u001b[37m\u001b[0m \u001b[1m0s\u001b[0m 5ms/step - accuracy: 0.9854 - loss: 0.0436 - val_accuracy: 0.6654 - val_loss: 1.6619\n",
            "Epoch 50/50\n",
            "\u001b[1m75/75\u001b[0m \u001b[32m━━━━━━━━━━━━━━━━━━━━\u001b[0m\u001b[37m\u001b[0m \u001b[1m0s\u001b[0m 4ms/step - accuracy: 0.9733 - loss: 0.0395 - val_accuracy: 0.6381 - val_loss: 1.7108\n"
          ]
        },
        {
          "data": {
            "text/html": [
              "<pre style=\"white-space:pre;overflow-x:auto;line-height:normal;font-family:Menlo,'DejaVu Sans Mono',consolas,'Courier New',monospace\"><span style=\"font-weight: bold\">Model: \"sequential_12\"</span>\n",
              "</pre>\n"
            ],
            "text/plain": [
              "\u001b[1mModel: \"sequential_12\"\u001b[0m\n"
            ]
          },
          "metadata": {},
          "output_type": "display_data"
        },
        {
          "data": {
            "text/html": [
              "<pre style=\"white-space:pre;overflow-x:auto;line-height:normal;font-family:Menlo,'DejaVu Sans Mono',consolas,'Courier New',monospace\">┏━━━━━━━━━━━━━━━━━━━━━━━━━━━━━━━━━┳━━━━━━━━━━━━━━━━━━━━━━━━┳━━━━━━━━━━━━━━━┓\n",
              "┃<span style=\"font-weight: bold\"> Layer (type)                    </span>┃<span style=\"font-weight: bold\"> Output Shape           </span>┃<span style=\"font-weight: bold\">       Param # </span>┃\n",
              "┡━━━━━━━━━━━━━━━━━━━━━━━━━━━━━━━━━╇━━━━━━━━━━━━━━━━━━━━━━━━╇━━━━━━━━━━━━━━━┩\n",
              "│ dense_48 (<span style=\"color: #0087ff; text-decoration-color: #0087ff\">Dense</span>)                │ (<span style=\"color: #00d7ff; text-decoration-color: #00d7ff\">None</span>, <span style=\"color: #00af00; text-decoration-color: #00af00\">400</span>)            │       <span style=\"color: #00af00; text-decoration-color: #00af00\">163,200</span> │\n",
              "├─────────────────────────────────┼────────────────────────┼───────────────┤\n",
              "│ dropout_12 (<span style=\"color: #0087ff; text-decoration-color: #0087ff\">Dropout</span>)            │ (<span style=\"color: #00d7ff; text-decoration-color: #00d7ff\">None</span>, <span style=\"color: #00af00; text-decoration-color: #00af00\">400</span>)            │             <span style=\"color: #00af00; text-decoration-color: #00af00\">0</span> │\n",
              "├─────────────────────────────────┼────────────────────────┼───────────────┤\n",
              "│ dense_49 (<span style=\"color: #0087ff; text-decoration-color: #0087ff\">Dense</span>)                │ (<span style=\"color: #00d7ff; text-decoration-color: #00d7ff\">None</span>, <span style=\"color: #00af00; text-decoration-color: #00af00\">400</span>)            │       <span style=\"color: #00af00; text-decoration-color: #00af00\">160,400</span> │\n",
              "├─────────────────────────────────┼────────────────────────┼───────────────┤\n",
              "│ dense_50 (<span style=\"color: #0087ff; text-decoration-color: #0087ff\">Dense</span>)                │ (<span style=\"color: #00d7ff; text-decoration-color: #00d7ff\">None</span>, <span style=\"color: #00af00; text-decoration-color: #00af00\">400</span>)            │       <span style=\"color: #00af00; text-decoration-color: #00af00\">160,400</span> │\n",
              "├─────────────────────────────────┼────────────────────────┼───────────────┤\n",
              "│ dense_51 (<span style=\"color: #0087ff; text-decoration-color: #0087ff\">Dense</span>)                │ (<span style=\"color: #00d7ff; text-decoration-color: #00d7ff\">None</span>, <span style=\"color: #00af00; text-decoration-color: #00af00\">1</span>)              │           <span style=\"color: #00af00; text-decoration-color: #00af00\">401</span> │\n",
              "└─────────────────────────────────┴────────────────────────┴───────────────┘\n",
              "</pre>\n"
            ],
            "text/plain": [
              "┏━━━━━━━━━━━━━━━━━━━━━━━━━━━━━━━━━┳━━━━━━━━━━━━━━━━━━━━━━━━┳━━━━━━━━━━━━━━━┓\n",
              "┃\u001b[1m \u001b[0m\u001b[1mLayer (type)                   \u001b[0m\u001b[1m \u001b[0m┃\u001b[1m \u001b[0m\u001b[1mOutput Shape          \u001b[0m\u001b[1m \u001b[0m┃\u001b[1m \u001b[0m\u001b[1m      Param #\u001b[0m\u001b[1m \u001b[0m┃\n",
              "┡━━━━━━━━━━━━━━━━━━━━━━━━━━━━━━━━━╇━━━━━━━━━━━━━━━━━━━━━━━━╇━━━━━━━━━━━━━━━┩\n",
              "│ dense_48 (\u001b[38;5;33mDense\u001b[0m)                │ (\u001b[38;5;45mNone\u001b[0m, \u001b[38;5;34m400\u001b[0m)            │       \u001b[38;5;34m163,200\u001b[0m │\n",
              "├─────────────────────────────────┼────────────────────────┼───────────────┤\n",
              "│ dropout_12 (\u001b[38;5;33mDropout\u001b[0m)            │ (\u001b[38;5;45mNone\u001b[0m, \u001b[38;5;34m400\u001b[0m)            │             \u001b[38;5;34m0\u001b[0m │\n",
              "├─────────────────────────────────┼────────────────────────┼───────────────┤\n",
              "│ dense_49 (\u001b[38;5;33mDense\u001b[0m)                │ (\u001b[38;5;45mNone\u001b[0m, \u001b[38;5;34m400\u001b[0m)            │       \u001b[38;5;34m160,400\u001b[0m │\n",
              "├─────────────────────────────────┼────────────────────────┼───────────────┤\n",
              "│ dense_50 (\u001b[38;5;33mDense\u001b[0m)                │ (\u001b[38;5;45mNone\u001b[0m, \u001b[38;5;34m400\u001b[0m)            │       \u001b[38;5;34m160,400\u001b[0m │\n",
              "├─────────────────────────────────┼────────────────────────┼───────────────┤\n",
              "│ dense_51 (\u001b[38;5;33mDense\u001b[0m)                │ (\u001b[38;5;45mNone\u001b[0m, \u001b[38;5;34m1\u001b[0m)              │           \u001b[38;5;34m401\u001b[0m │\n",
              "└─────────────────────────────────┴────────────────────────┴───────────────┘\n"
            ]
          },
          "metadata": {},
          "output_type": "display_data"
        },
        {
          "data": {
            "text/html": [
              "<pre style=\"white-space:pre;overflow-x:auto;line-height:normal;font-family:Menlo,'DejaVu Sans Mono',consolas,'Courier New',monospace\"><span style=\"font-weight: bold\"> Total params: </span><span style=\"color: #00af00; text-decoration-color: #00af00\">1,453,205</span> (5.54 MB)\n",
              "</pre>\n"
            ],
            "text/plain": [
              "\u001b[1m Total params: \u001b[0m\u001b[38;5;34m1,453,205\u001b[0m (5.54 MB)\n"
            ]
          },
          "metadata": {},
          "output_type": "display_data"
        },
        {
          "data": {
            "text/html": [
              "<pre style=\"white-space:pre;overflow-x:auto;line-height:normal;font-family:Menlo,'DejaVu Sans Mono',consolas,'Courier New',monospace\"><span style=\"font-weight: bold\"> Trainable params: </span><span style=\"color: #00af00; text-decoration-color: #00af00\">484,401</span> (1.85 MB)\n",
              "</pre>\n"
            ],
            "text/plain": [
              "\u001b[1m Trainable params: \u001b[0m\u001b[38;5;34m484,401\u001b[0m (1.85 MB)\n"
            ]
          },
          "metadata": {},
          "output_type": "display_data"
        },
        {
          "data": {
            "text/html": [
              "<pre style=\"white-space:pre;overflow-x:auto;line-height:normal;font-family:Menlo,'DejaVu Sans Mono',consolas,'Courier New',monospace\"><span style=\"font-weight: bold\"> Non-trainable params: </span><span style=\"color: #00af00; text-decoration-color: #00af00\">0</span> (0.00 B)\n",
              "</pre>\n"
            ],
            "text/plain": [
              "\u001b[1m Non-trainable params: \u001b[0m\u001b[38;5;34m0\u001b[0m (0.00 B)\n"
            ]
          },
          "metadata": {},
          "output_type": "display_data"
        },
        {
          "data": {
            "text/html": [
              "<pre style=\"white-space:pre;overflow-x:auto;line-height:normal;font-family:Menlo,'DejaVu Sans Mono',consolas,'Courier New',monospace\"><span style=\"font-weight: bold\"> Optimizer params: </span><span style=\"color: #00af00; text-decoration-color: #00af00\">968,804</span> (3.70 MB)\n",
              "</pre>\n"
            ],
            "text/plain": [
              "\u001b[1m Optimizer params: \u001b[0m\u001b[38;5;34m968,804\u001b[0m (3.70 MB)\n"
            ]
          },
          "metadata": {},
          "output_type": "display_data"
        },
        {
          "name": "stdout",
          "output_type": "stream",
          "text": [
            "\u001b[1m19/19\u001b[0m \u001b[32m━━━━━━━━━━━━━━━━━━━━\u001b[0m\u001b[37m\u001b[0m \u001b[1m0s\u001b[0m 3ms/step \n",
            "Accuracy on train set: 100.00%\n",
            "\u001b[1m9/9\u001b[0m \u001b[32m━━━━━━━━━━━━━━━━━━━━\u001b[0m\u001b[37m\u001b[0m \u001b[1m0s\u001b[0m 4ms/step\n",
            "Accuracy on test set: 63.81%\n",
            "[[ 45  45]\n",
            " [ 48 119]]\n",
            "Epoch 1/3\n"
          ]
        },
        {
          "name": "stderr",
          "output_type": "stream",
          "text": [
            "c:\\Users\\stevensl\\AppData\\Local\\anaconda3\\Lib\\site-packages\\keras\\src\\layers\\core\\dense.py:87: UserWarning: Do not pass an `input_shape`/`input_dim` argument to a layer. When using Sequential models, prefer using an `Input(shape)` object as the first layer in the model instead.\n",
            "  super().__init__(activity_regularizer=activity_regularizer, **kwargs)\n"
          ]
        },
        {
          "name": "stdout",
          "output_type": "stream",
          "text": [
            "\u001b[1m75/75\u001b[0m \u001b[32m━━━━━━━━━━━━━━━━━━━━\u001b[0m\u001b[37m\u001b[0m \u001b[1m2s\u001b[0m 6ms/step - accuracy: 0.5971 - loss: 0.6741 - val_accuracy: 0.7121 - val_loss: 0.5696\n",
            "Epoch 2/3\n",
            "\u001b[1m75/75\u001b[0m \u001b[32m━━━━━━━━━━━━━━━━━━━━\u001b[0m\u001b[37m\u001b[0m \u001b[1m0s\u001b[0m 4ms/step - accuracy: 0.7132 - loss: 0.5441 - val_accuracy: 0.6887 - val_loss: 0.6074\n",
            "Epoch 3/3\n",
            "\u001b[1m75/75\u001b[0m \u001b[32m━━━━━━━━━━━━━━━━━━━━\u001b[0m\u001b[37m\u001b[0m \u001b[1m0s\u001b[0m 4ms/step - accuracy: 0.6885 - loss: 0.5923 - val_accuracy: 0.7082 - val_loss: 0.5742\n"
          ]
        },
        {
          "data": {
            "text/html": [
              "<pre style=\"white-space:pre;overflow-x:auto;line-height:normal;font-family:Menlo,'DejaVu Sans Mono',consolas,'Courier New',monospace\"><span style=\"font-weight: bold\">Model: \"sequential_13\"</span>\n",
              "</pre>\n"
            ],
            "text/plain": [
              "\u001b[1mModel: \"sequential_13\"\u001b[0m\n"
            ]
          },
          "metadata": {},
          "output_type": "display_data"
        },
        {
          "data": {
            "text/html": [
              "<pre style=\"white-space:pre;overflow-x:auto;line-height:normal;font-family:Menlo,'DejaVu Sans Mono',consolas,'Courier New',monospace\">┏━━━━━━━━━━━━━━━━━━━━━━━━━━━━━━━━━┳━━━━━━━━━━━━━━━━━━━━━━━━┳━━━━━━━━━━━━━━━┓\n",
              "┃<span style=\"font-weight: bold\"> Layer (type)                    </span>┃<span style=\"font-weight: bold\"> Output Shape           </span>┃<span style=\"font-weight: bold\">       Param # </span>┃\n",
              "┡━━━━━━━━━━━━━━━━━━━━━━━━━━━━━━━━━╇━━━━━━━━━━━━━━━━━━━━━━━━╇━━━━━━━━━━━━━━━┩\n",
              "│ dense_52 (<span style=\"color: #0087ff; text-decoration-color: #0087ff\">Dense</span>)                │ (<span style=\"color: #00d7ff; text-decoration-color: #00d7ff\">None</span>, <span style=\"color: #00af00; text-decoration-color: #00af00\">400</span>)            │       <span style=\"color: #00af00; text-decoration-color: #00af00\">163,200</span> │\n",
              "├─────────────────────────────────┼────────────────────────┼───────────────┤\n",
              "│ dropout_13 (<span style=\"color: #0087ff; text-decoration-color: #0087ff\">Dropout</span>)            │ (<span style=\"color: #00d7ff; text-decoration-color: #00d7ff\">None</span>, <span style=\"color: #00af00; text-decoration-color: #00af00\">400</span>)            │             <span style=\"color: #00af00; text-decoration-color: #00af00\">0</span> │\n",
              "├─────────────────────────────────┼────────────────────────┼───────────────┤\n",
              "│ dense_53 (<span style=\"color: #0087ff; text-decoration-color: #0087ff\">Dense</span>)                │ (<span style=\"color: #00d7ff; text-decoration-color: #00d7ff\">None</span>, <span style=\"color: #00af00; text-decoration-color: #00af00\">400</span>)            │       <span style=\"color: #00af00; text-decoration-color: #00af00\">160,400</span> │\n",
              "├─────────────────────────────────┼────────────────────────┼───────────────┤\n",
              "│ dense_54 (<span style=\"color: #0087ff; text-decoration-color: #0087ff\">Dense</span>)                │ (<span style=\"color: #00d7ff; text-decoration-color: #00d7ff\">None</span>, <span style=\"color: #00af00; text-decoration-color: #00af00\">400</span>)            │       <span style=\"color: #00af00; text-decoration-color: #00af00\">160,400</span> │\n",
              "├─────────────────────────────────┼────────────────────────┼───────────────┤\n",
              "│ dense_55 (<span style=\"color: #0087ff; text-decoration-color: #0087ff\">Dense</span>)                │ (<span style=\"color: #00d7ff; text-decoration-color: #00d7ff\">None</span>, <span style=\"color: #00af00; text-decoration-color: #00af00\">1</span>)              │           <span style=\"color: #00af00; text-decoration-color: #00af00\">401</span> │\n",
              "└─────────────────────────────────┴────────────────────────┴───────────────┘\n",
              "</pre>\n"
            ],
            "text/plain": [
              "┏━━━━━━━━━━━━━━━━━━━━━━━━━━━━━━━━━┳━━━━━━━━━━━━━━━━━━━━━━━━┳━━━━━━━━━━━━━━━┓\n",
              "┃\u001b[1m \u001b[0m\u001b[1mLayer (type)                   \u001b[0m\u001b[1m \u001b[0m┃\u001b[1m \u001b[0m\u001b[1mOutput Shape          \u001b[0m\u001b[1m \u001b[0m┃\u001b[1m \u001b[0m\u001b[1m      Param #\u001b[0m\u001b[1m \u001b[0m┃\n",
              "┡━━━━━━━━━━━━━━━━━━━━━━━━━━━━━━━━━╇━━━━━━━━━━━━━━━━━━━━━━━━╇━━━━━━━━━━━━━━━┩\n",
              "│ dense_52 (\u001b[38;5;33mDense\u001b[0m)                │ (\u001b[38;5;45mNone\u001b[0m, \u001b[38;5;34m400\u001b[0m)            │       \u001b[38;5;34m163,200\u001b[0m │\n",
              "├─────────────────────────────────┼────────────────────────┼───────────────┤\n",
              "│ dropout_13 (\u001b[38;5;33mDropout\u001b[0m)            │ (\u001b[38;5;45mNone\u001b[0m, \u001b[38;5;34m400\u001b[0m)            │             \u001b[38;5;34m0\u001b[0m │\n",
              "├─────────────────────────────────┼────────────────────────┼───────────────┤\n",
              "│ dense_53 (\u001b[38;5;33mDense\u001b[0m)                │ (\u001b[38;5;45mNone\u001b[0m, \u001b[38;5;34m400\u001b[0m)            │       \u001b[38;5;34m160,400\u001b[0m │\n",
              "├─────────────────────────────────┼────────────────────────┼───────────────┤\n",
              "│ dense_54 (\u001b[38;5;33mDense\u001b[0m)                │ (\u001b[38;5;45mNone\u001b[0m, \u001b[38;5;34m400\u001b[0m)            │       \u001b[38;5;34m160,400\u001b[0m │\n",
              "├─────────────────────────────────┼────────────────────────┼───────────────┤\n",
              "│ dense_55 (\u001b[38;5;33mDense\u001b[0m)                │ (\u001b[38;5;45mNone\u001b[0m, \u001b[38;5;34m1\u001b[0m)              │           \u001b[38;5;34m401\u001b[0m │\n",
              "└─────────────────────────────────┴────────────────────────┴───────────────┘\n"
            ]
          },
          "metadata": {},
          "output_type": "display_data"
        },
        {
          "data": {
            "text/html": [
              "<pre style=\"white-space:pre;overflow-x:auto;line-height:normal;font-family:Menlo,'DejaVu Sans Mono',consolas,'Courier New',monospace\"><span style=\"font-weight: bold\"> Total params: </span><span style=\"color: #00af00; text-decoration-color: #00af00\">1,453,205</span> (5.54 MB)\n",
              "</pre>\n"
            ],
            "text/plain": [
              "\u001b[1m Total params: \u001b[0m\u001b[38;5;34m1,453,205\u001b[0m (5.54 MB)\n"
            ]
          },
          "metadata": {},
          "output_type": "display_data"
        },
        {
          "data": {
            "text/html": [
              "<pre style=\"white-space:pre;overflow-x:auto;line-height:normal;font-family:Menlo,'DejaVu Sans Mono',consolas,'Courier New',monospace\"><span style=\"font-weight: bold\"> Trainable params: </span><span style=\"color: #00af00; text-decoration-color: #00af00\">484,401</span> (1.85 MB)\n",
              "</pre>\n"
            ],
            "text/plain": [
              "\u001b[1m Trainable params: \u001b[0m\u001b[38;5;34m484,401\u001b[0m (1.85 MB)\n"
            ]
          },
          "metadata": {},
          "output_type": "display_data"
        },
        {
          "data": {
            "text/html": [
              "<pre style=\"white-space:pre;overflow-x:auto;line-height:normal;font-family:Menlo,'DejaVu Sans Mono',consolas,'Courier New',monospace\"><span style=\"font-weight: bold\"> Non-trainable params: </span><span style=\"color: #00af00; text-decoration-color: #00af00\">0</span> (0.00 B)\n",
              "</pre>\n"
            ],
            "text/plain": [
              "\u001b[1m Non-trainable params: \u001b[0m\u001b[38;5;34m0\u001b[0m (0.00 B)\n"
            ]
          },
          "metadata": {},
          "output_type": "display_data"
        },
        {
          "data": {
            "text/html": [
              "<pre style=\"white-space:pre;overflow-x:auto;line-height:normal;font-family:Menlo,'DejaVu Sans Mono',consolas,'Courier New',monospace\"><span style=\"font-weight: bold\"> Optimizer params: </span><span style=\"color: #00af00; text-decoration-color: #00af00\">968,804</span> (3.70 MB)\n",
              "</pre>\n"
            ],
            "text/plain": [
              "\u001b[1m Optimizer params: \u001b[0m\u001b[38;5;34m968,804\u001b[0m (3.70 MB)\n"
            ]
          },
          "metadata": {},
          "output_type": "display_data"
        },
        {
          "name": "stdout",
          "output_type": "stream",
          "text": [
            "\u001b[1m19/19\u001b[0m \u001b[32m━━━━━━━━━━━━━━━━━━━━\u001b[0m\u001b[37m\u001b[0m \u001b[1m0s\u001b[0m 3ms/step\n",
            "Accuracy on train set: 83.78%\n",
            "\u001b[1m9/9\u001b[0m \u001b[32m━━━━━━━━━━━━━━━━━━━━\u001b[0m\u001b[37m\u001b[0m \u001b[1m0s\u001b[0m 3ms/step \n",
            "Accuracy on test set: 70.82%\n",
            "[[ 54  36]\n",
            " [ 39 128]]\n"
          ]
        }
      ],
      "source": [
        "history, test = run_binary_mlp(X_train, y_train, X_test, y_test,400,50)\n",
        "history2, model_dnn = run_binary_mlp(X_train, y_train, X_test, y_test,400,3)"
      ]
    },
    {
      "cell_type": "code",
      "execution_count": 420,
      "metadata": {},
      "outputs": [
        {
          "data": {
            "image/png": "[encoded data removed]",
            "text/plain": [
              "<Figure size 800x600 with 1 Axes>"
            ]
          },
          "metadata": {},
          "output_type": "display_data"
        }
      ],
      "source": [
        "def plot_training_history(history):\n",
        "    plt.figure(figsize=(8,6))\n",
        "    \n",
        "    plt.plot(history.history['accuracy'], label='Training Accuracy')\n",
        "    plt.plot(history.history['val_accuracy'], label='Validation Accuracy')\n",
        "    \n",
        "    plt.title('Training vs Validation Accuracy')\n",
        "    plt.xlabel('Epoch')\n",
        "    plt.ylabel('Accuracy')\n",
        "    plt.legend()\n",
        "    plt.grid(True)\n",
        "    plt.show()\n",
        "\n",
        "plot_training_history(history)"
      ]
    },
    {
      "cell_type": "code",
      "execution_count": 421,
      "metadata": {},
      "outputs": [
        {
          "name": "stdout",
          "output_type": "stream",
          "text": [
            "\u001b[1m9/9\u001b[0m \u001b[32m━━━━━━━━━━━━━━━━━━━━\u001b[0m\u001b[37m\u001b[0m \u001b[1m0s\u001b[0m 4ms/step \n",
            "DNN\n",
            "Accuracy: 0.708171206225681\n"
          ]
        }
      ],
      "source": [
        "predicted_probabilities = model_dnn.predict(X_test)\n",
        "predicted_probabilities = np.rint(predicted_probabilities)\n",
        "new_row = {'Model': ['DNN'], 'Accuracy': accuracy_score(y_test, predicted_probabilities)}\n",
        "model_results_df.loc[len(model_results_df)] = new_row\n",
        "print(\"DNN\")\n",
        "print(\"Accuracy:\", accuracy_score(y_test, predicted_probabilities))"
      ]
    },
    {
      "cell_type": "markdown",
      "metadata": {},
      "source": [
        "## Random Forest"
      ]
    },
    {
      "cell_type": "code",
      "execution_count": 422,
      "metadata": {},
      "outputs": [
        {
          "name": "stdout",
          "output_type": "stream",
          "text": [
            "Random Forest\n",
            "Accuracy: 0.7159533073929961\n"
          ]
        }
      ],
      "source": [
        "clf = RandomForestClassifier(max_depth=1000, random_state=42)\n",
        "clf.fit(X_train, y_train)\n",
        "\n",
        "preds_rf = clf.predict(X_test)\n",
        "new_row = {'Model': ['Random Forest'], 'Accuracy': accuracy_score(y_test, preds_rf)}\n",
        "model_results_df.loc[len(model_results_df)] = new_row\n",
        "print(\"Random Forest\")\n",
        "print(\"Accuracy:\", accuracy_score(y_test, preds_rf))"
      ]
    },
    {
      "cell_type": "markdown",
      "metadata": {},
      "source": [
        "## KNN"
      ]
    },
    {
      "cell_type": "code",
      "execution_count": 423,
      "metadata": {},
      "outputs": [
        {
          "name": "stdout",
          "output_type": "stream",
          "text": [
            "KNN\n",
            "Accuracy: 0.6731517509727627\n"
          ]
        }
      ],
      "source": [
        "neigh = KNeighborsClassifier(n_neighbors=5)\n",
        "neigh.fit(X_train, y_train)\n",
        "\n",
        "preds_knn = neigh.predict(X_test)\n",
        "new_row = {'Model': ['KNN'], 'Accuracy': accuracy_score(y_test, preds_knn)}\n",
        "model_results_df.loc[len(model_results_df)] = new_row\n",
        "print(\"KNN\")\n",
        "print(\"Accuracy:\", accuracy_score(y_test, preds_knn))"
      ]
    },
    {
      "cell_type": "markdown",
      "metadata": {},
      "source": [
        "## Decision Tree Classifier"
      ]
    },
    {
      "cell_type": "code",
      "execution_count": 424,
      "metadata": {},
      "outputs": [
        {
          "name": "stdout",
          "output_type": "stream",
          "text": [
            "Decision Tree\n",
            "Accuracy: 0.6459143968871596\n"
          ]
        }
      ],
      "source": [
        "dtc = DecisionTreeClassifier(random_state=0)\n",
        "dtc.fit(X_train, y_train)\n",
        "\n",
        "preds_dtc = dtc.predict(X_test)\n",
        "new_row = {'Model': ['Decision Tree Classifier'], 'Accuracy': accuracy_score(y_test, preds_dtc)}\n",
        "model_results_df.loc[len(model_results_df)] = new_row\n",
        "print(\"Decision Tree\")\n",
        "print(\"Accuracy:\", accuracy_score(y_test, preds_dtc))"
      ]
    },
    {
      "cell_type": "markdown",
      "metadata": {},
      "source": [
        "## SVM"
      ]
    },
    {
      "cell_type": "code",
      "execution_count": 425,
      "metadata": {},
      "outputs": [
        {
          "name": "stdout",
          "output_type": "stream",
          "text": [
            "svm\n",
            "Accuracy: 0.708171206225681\n"
          ]
        }
      ],
      "source": [
        "svm_model = svm.SVC()\n",
        "svm_model.fit(X_train, y_train)\n",
        "\n",
        "preds_svm = svm_model.predict(X_test)\n",
        "new_row = {'Model': ['SVM'], 'Accuracy': accuracy_score(y_test, preds_svm)}\n",
        "model_results_df.loc[len(model_results_df)] = new_row\n",
        "print(\"svm\")\n",
        "print(\"Accuracy:\", accuracy_score(y_test, preds_svm))"
      ]
    },
    {
      "cell_type": "markdown",
      "metadata": {},
      "source": [
        "## Gaussian NB"
      ]
    },
    {
      "cell_type": "code",
      "execution_count": 426,
      "metadata": {},
      "outputs": [
        {
          "name": "stdout",
          "output_type": "stream",
          "text": [
            "gaussianNB\n",
            "Accuracy: 0.6536964980544747\n"
          ]
        }
      ],
      "source": [
        "gnb = GaussianNB()\n",
        "\n",
        "gnb_preds = gnb.fit(X_train, y_train).predict(X_test)\n",
        "new_row = {'Model': ['Gaussian NB'], 'Accuracy': accuracy_score(y_test, gnb_preds)}\n",
        "model_results_df.loc[len(model_results_df)] = new_row\n",
        "print(\"gaussianNB\")\n",
        "print(\"Accuracy:\", accuracy_score(y_test, gnb_preds))"
      ]
    },
    {
      "cell_type": "markdown",
      "metadata": {},
      "source": [
        "## Confusion Matrices"
      ]
    },
    {
      "cell_type": "code",
      "execution_count": 427,
      "metadata": {},
      "outputs": [
        {
          "data": {
            "image/png": "[encoded data removed]",
            "text/plain": [
              "<Figure size 640x480 with 2 Axes>"
            ]
          },
          "metadata": {},
          "output_type": "display_data"
        }
      ],
      "source": [
        "predicted_labels = greedy_lr.predict(X_test[selected_features])\n",
        "\n",
        "cm = confusion_matrix(y_test, predicted_labels)\n",
        "\n",
        "\n",
        "disp = ConfusionMatrixDisplay(confusion_matrix=cm)\n",
        "disp.plot()\n",
        "plt.title(\"Confusion Matrix of greedy logistical regression\")\n",
        "plt.show()"
      ]
    },
    {
      "cell_type": "code",
      "execution_count": 428,
      "metadata": {},
      "outputs": [
        {
          "name": "stdout",
          "output_type": "stream",
          "text": [
            "\u001b[1m9/9\u001b[0m \u001b[32m━━━━━━━━━━━━━━━━━━━━\u001b[0m\u001b[37m\u001b[0m \u001b[1m0s\u001b[0m 3ms/step \n"
          ]
        },
        {
          "data": {
            "image/png": "[encoded data removed]",
            "text/plain": [
              "<Figure size 640x480 with 2 Axes>"
            ]
          },
          "metadata": {},
          "output_type": "display_data"
        }
      ],
      "source": [
        "predicted_probabilities = model_dnn.predict(X_test)\n",
        "predicted_labels = np.rint(predicted_probabilities) \n",
        "\n",
        "\n",
        "cm = confusion_matrix(y_test, predicted_labels)\n",
        "\n",
        "\n",
        "disp = ConfusionMatrixDisplay(confusion_matrix=cm)\n",
        "disp.plot()\n",
        "plt.title(\"Confusion Matrix for the DNN\")\n",
        "plt.show()"
      ]
    },
    {
      "cell_type": "code",
      "execution_count": 429,
      "metadata": {},
      "outputs": [
        {
          "data": {
            "image/png": "[encoded data removed]",
            "text/plain": [
              "<Figure size 640x480 with 2 Axes>"
            ]
          },
          "metadata": {},
          "output_type": "display_data"
        }
      ],
      "source": [
        "predicted_labels = clf.predict(X_test)\n",
        "\n",
        "cm = confusion_matrix(y_test, predicted_labels)\n",
        "\n",
        "\n",
        "disp = ConfusionMatrixDisplay(confusion_matrix=cm)\n",
        "disp.plot()\n",
        "plt.title(\"Confusion Matrix of Random forest\")\n",
        "plt.show()"
      ]
    },
    {
      "cell_type": "code",
      "execution_count": 430,
      "metadata": {},
      "outputs": [
        {
          "data": {
            "image/png": "[encoded data removed]",
            "text/plain": [
              "<Figure size 640x480 with 2 Axes>"
            ]
          },
          "metadata": {},
          "output_type": "display_data"
        }
      ],
      "source": [
        "predicted_labels = neigh.predict(X_test)\n",
        "\n",
        "cm = confusion_matrix(y_test, predicted_labels)\n",
        "\n",
        "\n",
        "disp = ConfusionMatrixDisplay(confusion_matrix=cm)\n",
        "disp.plot()\n",
        "plt.title(\"Confusion Matrix of KNN\")\n",
        "plt.show()"
      ]
    },
    {
      "cell_type": "code",
      "execution_count": 431,
      "metadata": {},
      "outputs": [
        {
          "data": {
            "image/png": "[encoded data removed]",
            "text/plain": [
              "<Figure size 640x480 with 2 Axes>"
            ]
          },
          "metadata": {},
          "output_type": "display_data"
        }
      ],
      "source": [
        "predicted_labels = dtc.predict(X_test)\n",
        "\n",
        "cm = confusion_matrix(y_test, predicted_labels)\n",
        "\n",
        "\n",
        "disp = ConfusionMatrixDisplay(confusion_matrix=cm)\n",
        "disp.plot()\n",
        "plt.title(\"Confusion Matrix of Decision Tree\")\n",
        "plt.show()"
      ]
    },
    {
      "cell_type": "code",
      "execution_count": 432,
      "metadata": {},
      "outputs": [
        {
          "data": {
            "image/png": "[encoded data removed]",
            "text/plain": [
              "<Figure size 640x480 with 2 Axes>"
            ]
          },
          "metadata": {},
          "output_type": "display_data"
        }
      ],
      "source": [
        "predicted_labels = svm_model.predict(X_test)\n",
        "\n",
        "cm = confusion_matrix(y_test, predicted_labels)\n",
        "\n",
        "\n",
        "disp = ConfusionMatrixDisplay(confusion_matrix=cm)\n",
        "disp.plot()\n",
        "plt.title(\"Confusion Matrix of svm model\")\n",
        "plt.show()"
      ]
    },
    {
      "cell_type": "code",
      "execution_count": 433,
      "metadata": {},
      "outputs": [
        {
          "data": {
            "image/png": "[encoded data removed]",
            "text/plain": [
              "<Figure size 640x480 with 2 Axes>"
            ]
          },
          "metadata": {},
          "output_type": "display_data"
        }
      ],
      "source": [
        "predicted_labels = gnb.predict(X_test)\n",
        "\n",
        "cm = confusion_matrix(y_test, predicted_labels)\n",
        "\n",
        "\n",
        "disp = ConfusionMatrixDisplay(confusion_matrix=cm)\n",
        "disp.plot()\n",
        "plt.title(\"Confusion Matrix of GaussianNB model\")\n",
        "plt.show()"
      ]
    },
    {
      "cell_type": "markdown",
      "metadata": {},
      "source": [
        "## Dimensionality Reduction"
      ]
    },
    {
      "cell_type": "code",
      "execution_count": 434,
      "metadata": {},
      "outputs": [
        {
          "data": {
            "text/plain": [
              "(924, 10)"
            ]
          },
          "execution_count": 434,
          "metadata": {},
          "output_type": "execute_result"
        }
      ],
      "source": [
        "df_reduced = df_all_scaled.copy()\n",
        "\n",
        "df_reduced = df_reduced.drop(columns=['TEAM NO'])\n",
        "\n",
        "svd = TruncatedSVD(n_components=10, random_state=42) \n",
        "X_svd = svd.fit_transform(df_reduced)\n",
        "X_svd.shape"
      ]
    },
    {
      "cell_type": "markdown",
      "metadata": {},
      "source": [
        "**Take each CSV and smash them each into one feature using dimensionality reduction**"
      ]
    },
    {
      "cell_type": "code",
      "execution_count": 435,
      "metadata": {},
      "outputs": [
        {
          "name": "stdout",
          "output_type": "stream",
          "text": [
            "0.30284171423385364\n",
            "0.5016274635539982\n",
            "0.5720713111437692\n",
            "0.4907871162610653\n",
            "0.3683332706064819\n",
            "0.29911836864584695\n",
            "0.33058436792016355\n",
            "0.2492221027459417\n"
          ]
        }
      ],
      "source": [
        "csv_reduced_features = []\n",
        "\n",
        "for df in list_csvs:\n",
        "    df_ints = df.select_dtypes(exclude=['object'])\n",
        "    df_cleans = df_ints.dropna()\n",
        "\n",
        "    scaler = StandardScaler()\n",
        "    X_scaled = scaler.fit_transform(df_cleans)\n",
        "    \n",
        "    svd_csv = TruncatedSVD(n_components = 2, random_state = 42)\n",
        "    X_reduced = svd_csv.fit_transform(X_scaled)\n",
        "\n",
        "    print(svd_csv.explained_variance_ratio_.sum())\n",
        "\n",
        "    csv_reduced_features.append(X_reduced.flatten())\n",
        "    \n"
      ]
    },
    {
      "cell_type": "code",
      "execution_count": 436,
      "metadata": {},
      "outputs": [],
      "source": [
        "df_10d = pd.DataFrame(X_svd)\n",
        "df_10d[\"TEAM NO\"] = df_all_scaled['TEAM NO']"
      ]
    },
    {
      "cell_type": "code",
      "execution_count": 437,
      "metadata": {},
      "outputs": [
        {
          "name": "stdout",
          "output_type": "stream",
          "text": [
            "✅ Finished creating reduced difference vectors. Skipped 1 matchups.\n"
          ]
        }
      ],
      "source": [
        "pred_winners2 = []\n",
        "true_winners2 = []\n",
        "difference_vectors2 = []\n",
        "\n",
        "skipped = 0  # Track skipped matchups\n",
        "\n",
        "for matchup in matchups:\n",
        "    team_1_NO = str(matchup[0])\n",
        "    team_0_NO = str(matchup[1])\n",
        "\n",
        "    # Look up rows in df_10d\n",
        "    team_1_row = df_10d[df_10d[\"TEAM NO\"] == team_1_NO]\n",
        "    team_0_row = df_10d[df_10d[\"TEAM NO\"] == team_0_NO]\n",
        "\n",
        "    if not team_1_row.empty and not team_0_row.empty:\n",
        "        true_winners2.append(matchup[2])\n",
        "\n",
        "        # Drop TEAM NO and convert to numpy arrays\n",
        "        team_1_vector = team_1_row.drop(columns=[\"TEAM NO\"]).iloc[0].values\n",
        "        team_0_vector = team_0_row.drop(columns=[\"TEAM NO\"]).iloc[0].values\n",
        "\n",
        "        # Compute difference vector\n",
        "        difference_vector = team_1_vector - team_0_vector\n",
        "        difference_vectors2.append(difference_vector)\n",
        "    else:\n",
        "        skipped += 1\n",
        "\n",
        "print(f\"✅ Finished creating reduced difference vectors. Skipped {skipped} matchups.\")\n",
        "\n",
        "# Convert to DataFrame\n",
        "X = pd.DataFrame(difference_vectors2, columns=[f\"SVD_{i+1}\" for i in range(10)])\n",
        "y = np.array(true_winners2)\n",
        "\n",
        "# Train/test split\n",
        "X_train, X_test, y_train, y_test = train_test_split(X, y, test_size=0.3, random_state=42)"
      ]
    },
    {
      "cell_type": "markdown",
      "metadata": {},
      "source": [
        "### Logistic Regression"
      ]
    },
    {
      "cell_type": "code",
      "execution_count": 438,
      "metadata": {},
      "outputs": [
        {
          "name": "stdout",
          "output_type": "stream",
          "text": [
            "Accuracy: 0.5789473684210527\n"
          ]
        }
      ],
      "source": [
        "LR_model_dr = LogisticRegression()\n",
        "LR_model_dr.fit(X_train, y_train)\n",
        "\n",
        "predicted_winners = LR_model_dr.predict(X_test)\n",
        "new_row = {'Model': ['Feature Reduced Linear Regression'], 'Accuracy': accuracy_score(y_test, predicted_winners)}\n",
        "model_results_df.loc[len(model_results_df)] = new_row\n",
        "print(\"Accuracy:\", accuracy_score(y_test, predicted_winners))"
      ]
    },
    {
      "cell_type": "markdown",
      "metadata": {},
      "source": [
        "### Greedy Logistic Regression"
      ]
    },
    {
      "cell_type": "code",
      "execution_count": 439,
      "metadata": {},
      "outputs": [
        {
          "name": "stdout",
          "output_type": "stream",
          "text": [
            "✅ Added: SVD_1 | New CV Accuracy: 0.7700\n",
            "❌ Skipped: SVD_3 | CV Accuracy would be: 0.7700\n",
            "❌ Skipped: SVD_4 | CV Accuracy would be: 0.7450\n",
            "❌ Skipped: SVD_6 | CV Accuracy would be: 0.7450\n",
            "❌ Skipped: SVD_7 | CV Accuracy would be: 0.7450\n",
            "❌ Skipped: SVD_9 | CV Accuracy would be: 0.7450\n",
            "❌ Skipped: SVD_10 | CV Accuracy would be: 0.7700\n",
            "❌ Skipped: SVD_5 | CV Accuracy would be: 0.7200\n",
            "❌ Skipped: SVD_2 | CV Accuracy would be: 0.7000\n",
            "✅ Added: SVD_8 | New CV Accuracy: 0.7950\n",
            "Accuracy: 0.631578947368421\n"
          ]
        }
      ],
      "source": [
        "# Greedy logistic regression\n",
        "greedy_lr_dr = LogisticRegression(max_iter=1000, random_state=42)\n",
        "feature_scores = {}\n",
        "\n",
        "# First, score each feature individually\n",
        "for feature in X_train.columns:\n",
        "    score = cross_val_score(greedy_lr_dr, X_train[[feature]], y_train, cv=10, scoring='accuracy').mean()\n",
        "    feature_scores[feature] = score\n",
        "\n",
        "# Sort features by their single-feature performance\n",
        "sorted_features = sorted(feature_scores.items(), key=lambda x: x[1], reverse=True)\n",
        "\n",
        "selected_features = []\n",
        "best_score = 0\n",
        "\n",
        "for feature, _ in sorted_features:\n",
        "    current_features = selected_features + [feature]\n",
        "    score = cross_val_score(greedy_lr_dr, X_train[current_features], y_train, cv=10, scoring='accuracy').mean()\n",
        "    \n",
        "    if score > best_score:\n",
        "        selected_features.append(feature)\n",
        "        best_score = score\n",
        "        print(f\"✅ Added: {feature} | New CV Accuracy: {score:.4f}\")\n",
        "    else:\n",
        "        print(f\"❌ Skipped: {feature} | CV Accuracy would be: {score:.4f}\")\n",
        "\n",
        "\n",
        "greedy_lr_dr.fit(X_train[selected_features], y_train)\n",
        "\n",
        "\n",
        "predicted_winners_glr_dr = greedy_lr_dr.predict(X_test[selected_features])\n",
        "new_row = {'Model': ['Feature Reduced Greedy Linear Regression'], 'Accuracy': accuracy_score(y_test, predicted_winners_glr_dr)}\n",
        "model_results_df.loc[len(model_results_df)] = new_row\n",
        "print(\"Accuracy:\", accuracy_score(y_test, predicted_winners_glr_dr))"
      ]
    },
    {
      "cell_type": "markdown",
      "metadata": {},
      "source": [
        "### DNN"
      ]
    },
    {
      "cell_type": "code",
      "execution_count": 440,
      "metadata": {},
      "outputs": [
        {
          "name": "stdout",
          "output_type": "stream",
          "text": [
            "Epoch 1/50\n"
          ]
        },
        {
          "name": "stderr",
          "output_type": "stream",
          "text": [
            "c:\\Users\\stevensl\\AppData\\Local\\anaconda3\\Lib\\site-packages\\keras\\src\\layers\\core\\dense.py:87: UserWarning: Do not pass an `input_shape`/`input_dim` argument to a layer. When using Sequential models, prefer using an `Input(shape)` object as the first layer in the model instead.\n",
            "  super().__init__(activity_regularizer=activity_regularizer, **kwargs)\n"
          ]
        },
        {
          "name": "stdout",
          "output_type": "stream",
          "text": [
            "\u001b[1m6/6\u001b[0m \u001b[32m━━━━━━━━━━━━━━━━━━━━\u001b[0m\u001b[37m\u001b[0m \u001b[1m1s\u001b[0m 42ms/step - accuracy: 0.5650 - loss: 0.6930 - val_accuracy: 0.7368 - val_loss: 0.5647\n",
            "Epoch 2/50\n",
            "\u001b[1m6/6\u001b[0m \u001b[32m━━━━━━━━━━━━━━━━━━━━\u001b[0m\u001b[37m\u001b[0m \u001b[1m0s\u001b[0m 14ms/step - accuracy: 0.7305 - loss: 0.5445 - val_accuracy: 0.6316 - val_loss: 0.6467\n",
            "Epoch 3/50\n",
            "\u001b[1m6/6\u001b[0m \u001b[32m━━━━━━━━━━━━━━━━━━━━\u001b[0m\u001b[37m\u001b[0m \u001b[1m0s\u001b[0m 14ms/step - accuracy: 0.6950 - loss: 0.5856 - val_accuracy: 0.5789 - val_loss: 0.6404\n",
            "Epoch 4/50\n",
            "\u001b[1m6/6\u001b[0m \u001b[32m━━━━━━━━━━━━━━━━━━━━\u001b[0m\u001b[37m\u001b[0m \u001b[1m0s\u001b[0m 15ms/step - accuracy: 0.8585 - loss: 0.4721 - val_accuracy: 0.5263 - val_loss: 0.6533\n",
            "Epoch 5/50\n",
            "\u001b[1m6/6\u001b[0m \u001b[32m━━━━━━━━━━━━━━━━━━━━\u001b[0m\u001b[37m\u001b[0m \u001b[1m0s\u001b[0m 14ms/step - accuracy: 0.6748 - loss: 0.5457 - val_accuracy: 0.5263 - val_loss: 0.6829\n",
            "Epoch 6/50\n",
            "\u001b[1m6/6\u001b[0m \u001b[32m━━━━━━━━━━━━━━━━━━━━\u001b[0m\u001b[37m\u001b[0m \u001b[1m0s\u001b[0m 14ms/step - accuracy: 0.8058 - loss: 0.3701 - val_accuracy: 0.4737 - val_loss: 0.7170\n",
            "Epoch 7/50\n",
            "\u001b[1m6/6\u001b[0m \u001b[32m━━━━━━━━━━━━━━━━━━━━\u001b[0m\u001b[37m\u001b[0m \u001b[1m0s\u001b[0m 15ms/step - accuracy: 0.8628 - loss: 0.4108 - val_accuracy: 0.5263 - val_loss: 0.7982\n",
            "Epoch 8/50\n",
            "\u001b[1m6/6\u001b[0m \u001b[32m━━━━━━━━━━━━━━━━━━━━\u001b[0m\u001b[37m\u001b[0m \u001b[1m0s\u001b[0m 14ms/step - accuracy: 0.8188 - loss: 0.3841 - val_accuracy: 0.5263 - val_loss: 0.8417\n",
            "Epoch 9/50\n",
            "\u001b[1m6/6\u001b[0m \u001b[32m━━━━━━━━━━━━━━━━━━━━\u001b[0m\u001b[37m\u001b[0m \u001b[1m0s\u001b[0m 14ms/step - accuracy: 0.7635 - loss: 0.4555 - val_accuracy: 0.4737 - val_loss: 0.8359\n",
            "Epoch 10/50\n",
            "\u001b[1m6/6\u001b[0m \u001b[32m━━━━━━━━━━━━━━━━━━━━\u001b[0m\u001b[37m\u001b[0m \u001b[1m0s\u001b[0m 14ms/step - accuracy: 0.8526 - loss: 0.2947 - val_accuracy: 0.4737 - val_loss: 0.8341\n",
            "Epoch 11/50\n",
            "\u001b[1m6/6\u001b[0m \u001b[32m━━━━━━━━━━━━━━━━━━━━\u001b[0m\u001b[37m\u001b[0m \u001b[1m0s\u001b[0m 14ms/step - accuracy: 0.8402 - loss: 0.3536 - val_accuracy: 0.4737 - val_loss: 0.8378\n",
            "Epoch 12/50\n",
            "\u001b[1m6/6\u001b[0m \u001b[32m━━━━━━━━━━━━━━━━━━━━\u001b[0m\u001b[37m\u001b[0m \u001b[1m0s\u001b[0m 14ms/step - accuracy: 0.8762 - loss: 0.3092 - val_accuracy: 0.4211 - val_loss: 0.8554\n",
            "Epoch 13/50\n",
            "\u001b[1m6/6\u001b[0m \u001b[32m━━━━━━━━━━━━━━━━━━━━\u001b[0m\u001b[37m\u001b[0m \u001b[1m0s\u001b[0m 14ms/step - accuracy: 0.9104 - loss: 0.2551 - val_accuracy: 0.4737 - val_loss: 0.8754\n",
            "Epoch 14/50\n",
            "\u001b[1m6/6\u001b[0m \u001b[32m━━━━━━━━━━━━━━━━━━━━\u001b[0m\u001b[37m\u001b[0m \u001b[1m0s\u001b[0m 14ms/step - accuracy: 0.9307 - loss: 0.2795 - val_accuracy: 0.4737 - val_loss: 0.8946\n",
            "Epoch 15/50\n",
            "\u001b[1m6/6\u001b[0m \u001b[32m━━━━━━━━━━━━━━━━━━━━\u001b[0m\u001b[37m\u001b[0m \u001b[1m0s\u001b[0m 14ms/step - accuracy: 0.9649 - loss: 0.2528 - val_accuracy: 0.5263 - val_loss: 0.9335\n",
            "Epoch 16/50\n",
            "\u001b[1m6/6\u001b[0m \u001b[32m━━━━━━━━━━━━━━━━━━━━\u001b[0m\u001b[37m\u001b[0m \u001b[1m0s\u001b[0m 12ms/step - accuracy: 0.9123 - loss: 0.3026 - val_accuracy: 0.5263 - val_loss: 0.9969\n",
            "Epoch 17/50\n",
            "\u001b[1m6/6\u001b[0m \u001b[32m━━━━━━━━━━━━━━━━━━━━\u001b[0m\u001b[37m\u001b[0m \u001b[1m0s\u001b[0m 14ms/step - accuracy: 0.8881 - loss: 0.2608 - val_accuracy: 0.5263 - val_loss: 1.0070\n",
            "Epoch 18/50\n",
            "\u001b[1m6/6\u001b[0m \u001b[32m━━━━━━━━━━━━━━━━━━━━\u001b[0m\u001b[37m\u001b[0m \u001b[1m0s\u001b[0m 14ms/step - accuracy: 0.9204 - loss: 0.2490 - val_accuracy: 0.5263 - val_loss: 1.0732\n",
            "Epoch 19/50\n",
            "\u001b[1m6/6\u001b[0m \u001b[32m━━━━━━━━━━━━━━━━━━━━\u001b[0m\u001b[37m\u001b[0m \u001b[1m0s\u001b[0m 14ms/step - accuracy: 0.8340 - loss: 0.2952 - val_accuracy: 0.5263 - val_loss: 1.1262\n",
            "Epoch 20/50\n",
            "\u001b[1m6/6\u001b[0m \u001b[32m━━━━━━━━━━━━━━━━━━━━\u001b[0m\u001b[37m\u001b[0m \u001b[1m0s\u001b[0m 14ms/step - accuracy: 0.8715 - loss: 0.2872 - val_accuracy: 0.5263 - val_loss: 1.0764\n",
            "Epoch 21/50\n",
            "\u001b[1m6/6\u001b[0m \u001b[32m━━━━━━━━━━━━━━━━━━━━\u001b[0m\u001b[37m\u001b[0m \u001b[1m0s\u001b[0m 14ms/step - accuracy: 0.8701 - loss: 0.3300 - val_accuracy: 0.4211 - val_loss: 1.0443\n",
            "Epoch 22/50\n",
            "\u001b[1m6/6\u001b[0m \u001b[32m━━━━━━━━━━━━━━━━━━━━\u001b[0m\u001b[37m\u001b[0m \u001b[1m0s\u001b[0m 14ms/step - accuracy: 0.9379 - loss: 0.2594 - val_accuracy: 0.4211 - val_loss: 1.0761\n",
            "Epoch 23/50\n",
            "\u001b[1m6/6\u001b[0m \u001b[32m━━━━━━━━━━━━━━━━━━━━\u001b[0m\u001b[37m\u001b[0m \u001b[1m0s\u001b[0m 14ms/step - accuracy: 0.9526 - loss: 0.1741 - val_accuracy: 0.5263 - val_loss: 1.1852\n",
            "Epoch 24/50\n",
            "\u001b[1m6/6\u001b[0m \u001b[32m━━━━━━━━━━━━━━━━━━━━\u001b[0m\u001b[37m\u001b[0m \u001b[1m0s\u001b[0m 13ms/step - accuracy: 0.9457 - loss: 0.1967 - val_accuracy: 0.5263 - val_loss: 1.2824\n",
            "Epoch 25/50\n",
            "\u001b[1m6/6\u001b[0m \u001b[32m━━━━━━━━━━━━━━━━━━━━\u001b[0m\u001b[37m\u001b[0m \u001b[1m0s\u001b[0m 13ms/step - accuracy: 0.9102 - loss: 0.2017 - val_accuracy: 0.5263 - val_loss: 1.1941\n",
            "Epoch 26/50\n",
            "\u001b[1m6/6\u001b[0m \u001b[32m━━━━━━━━━━━━━━━━━━━━\u001b[0m\u001b[37m\u001b[0m \u001b[1m0s\u001b[0m 14ms/step - accuracy: 0.9087 - loss: 0.2528 - val_accuracy: 0.3684 - val_loss: 1.1634\n",
            "Epoch 27/50\n",
            "\u001b[1m6/6\u001b[0m \u001b[32m━━━━━━━━━━━━━━━━━━━━\u001b[0m\u001b[37m\u001b[0m \u001b[1m0s\u001b[0m 14ms/step - accuracy: 0.9647 - loss: 0.1913 - val_accuracy: 0.3684 - val_loss: 1.2131\n",
            "Epoch 28/50\n",
            "\u001b[1m6/6\u001b[0m \u001b[32m━━━━━━━━━━━━━━━━━━━━\u001b[0m\u001b[37m\u001b[0m \u001b[1m0s\u001b[0m 15ms/step - accuracy: 0.9262 - loss: 0.2444 - val_accuracy: 0.4737 - val_loss: 1.3087\n",
            "Epoch 29/50\n",
            "\u001b[1m6/6\u001b[0m \u001b[32m━━━━━━━━━━━━━━━━━━━━\u001b[0m\u001b[37m\u001b[0m \u001b[1m0s\u001b[0m 14ms/step - accuracy: 0.9396 - loss: 0.1775 - val_accuracy: 0.4737 - val_loss: 1.3365\n",
            "Epoch 30/50\n",
            "\u001b[1m6/6\u001b[0m \u001b[32m━━━━━━━━━━━━━━━━━━━━\u001b[0m\u001b[37m\u001b[0m \u001b[1m0s\u001b[0m 12ms/step - accuracy: 0.9787 - loss: 0.1270 - val_accuracy: 0.4737 - val_loss: 1.3893\n",
            "Epoch 31/50\n",
            "\u001b[1m6/6\u001b[0m \u001b[32m━━━━━━━━━━━━━━━━━━━━\u001b[0m\u001b[37m\u001b[0m \u001b[1m0s\u001b[0m 17ms/step - accuracy: 0.9898 - loss: 0.1389 - val_accuracy: 0.4211 - val_loss: 1.3969\n",
            "Epoch 32/50\n",
            "\u001b[1m6/6\u001b[0m \u001b[32m━━━━━━━━━━━━━━━━━━━━\u001b[0m\u001b[37m\u001b[0m \u001b[1m0s\u001b[0m 13ms/step - accuracy: 0.9853 - loss: 0.1206 - val_accuracy: 0.4211 - val_loss: 1.4162\n",
            "Epoch 33/50\n",
            "\u001b[1m6/6\u001b[0m \u001b[32m━━━━━━━━━━━━━━━━━━━━\u001b[0m\u001b[37m\u001b[0m \u001b[1m0s\u001b[0m 15ms/step - accuracy: 0.9526 - loss: 0.2063 - val_accuracy: 0.3684 - val_loss: 1.4375\n",
            "Epoch 34/50\n",
            "\u001b[1m6/6\u001b[0m \u001b[32m━━━━━━━━━━━━━━━━━━━━\u001b[0m\u001b[37m\u001b[0m \u001b[1m0s\u001b[0m 16ms/step - accuracy: 0.9319 - loss: 0.1845 - val_accuracy: 0.4211 - val_loss: 1.4870\n",
            "Epoch 35/50\n",
            "\u001b[1m6/6\u001b[0m \u001b[32m━━━━━━━━━━━━━━━━━━━━\u001b[0m\u001b[37m\u001b[0m \u001b[1m0s\u001b[0m 14ms/step - accuracy: 0.9500 - loss: 0.1586 - val_accuracy: 0.4211 - val_loss: 1.5012\n",
            "Epoch 36/50\n",
            "\u001b[1m6/6\u001b[0m \u001b[32m━━━━━━━━━━━━━━━━━━━━\u001b[0m\u001b[37m\u001b[0m \u001b[1m0s\u001b[0m 14ms/step - accuracy: 0.9526 - loss: 0.1536 - val_accuracy: 0.3684 - val_loss: 1.4679\n",
            "Epoch 37/50\n",
            "\u001b[1m6/6\u001b[0m \u001b[32m━━━━━━━━━━━━━━━━━━━━\u001b[0m\u001b[37m\u001b[0m \u001b[1m0s\u001b[0m 15ms/step - accuracy: 0.9831 - loss: 0.1523 - val_accuracy: 0.3684 - val_loss: 1.5293\n",
            "Epoch 38/50\n",
            "\u001b[1m6/6\u001b[0m \u001b[32m━━━━━━━━━━━━━━━━━━━━\u001b[0m\u001b[37m\u001b[0m \u001b[1m0s\u001b[0m 15ms/step - accuracy: 0.9409 - loss: 0.1337 - val_accuracy: 0.4737 - val_loss: 1.7020\n",
            "Epoch 39/50\n",
            "\u001b[1m6/6\u001b[0m \u001b[32m━━━━━━━━━━━━━━━━━━━━\u001b[0m\u001b[37m\u001b[0m \u001b[1m0s\u001b[0m 13ms/step - accuracy: 0.9692 - loss: 0.1251 - val_accuracy: 0.5263 - val_loss: 1.7996\n",
            "Epoch 40/50\n",
            "\u001b[1m6/6\u001b[0m \u001b[32m━━━━━━━━━━━━━━━━━━━━\u001b[0m\u001b[37m\u001b[0m \u001b[1m0s\u001b[0m 16ms/step - accuracy: 0.9424 - loss: 0.1517 - val_accuracy: 0.4737 - val_loss: 1.7351\n",
            "Epoch 41/50\n",
            "\u001b[1m6/6\u001b[0m \u001b[32m━━━━━━━━━━━━━━━━━━━━\u001b[0m\u001b[37m\u001b[0m \u001b[1m0s\u001b[0m 14ms/step - accuracy: 1.0000 - loss: 0.1272 - val_accuracy: 0.4737 - val_loss: 1.7546\n",
            "Epoch 42/50\n",
            "\u001b[1m6/6\u001b[0m \u001b[32m━━━━━━━━━━━━━━━━━━━━\u001b[0m\u001b[37m\u001b[0m \u001b[1m0s\u001b[0m 14ms/step - accuracy: 1.0000 - loss: 0.1033 - val_accuracy: 0.4737 - val_loss: 1.8150\n",
            "Epoch 43/50\n",
            "\u001b[1m6/6\u001b[0m \u001b[32m━━━━━━━━━━━━━━━━━━━━\u001b[0m\u001b[37m\u001b[0m \u001b[1m0s\u001b[0m 14ms/step - accuracy: 0.9831 - loss: 0.0736 - val_accuracy: 0.5263 - val_loss: 1.8616\n",
            "Epoch 44/50\n",
            "\u001b[1m6/6\u001b[0m \u001b[32m━━━━━━━━━━━━━━━━━━━━\u001b[0m\u001b[37m\u001b[0m \u001b[1m0s\u001b[0m 12ms/step - accuracy: 0.9692 - loss: 0.0730 - val_accuracy: 0.4211 - val_loss: 1.7960\n",
            "Epoch 45/50\n",
            "\u001b[1m6/6\u001b[0m \u001b[32m━━━━━━━━━━━━━━━━━━━━\u001b[0m\u001b[37m\u001b[0m \u001b[1m0s\u001b[0m 14ms/step - accuracy: 0.9794 - loss: 0.0864 - val_accuracy: 0.4211 - val_loss: 1.7987\n",
            "Epoch 46/50\n",
            "\u001b[1m6/6\u001b[0m \u001b[32m━━━━━━━━━━━━━━━━━━━━\u001b[0m\u001b[37m\u001b[0m \u001b[1m0s\u001b[0m 14ms/step - accuracy: 0.9692 - loss: 0.1257 - val_accuracy: 0.4211 - val_loss: 1.8577\n",
            "Epoch 47/50\n",
            "\u001b[1m6/6\u001b[0m \u001b[32m━━━━━━━━━━━━━━━━━━━━\u001b[0m\u001b[37m\u001b[0m \u001b[1m0s\u001b[0m 13ms/step - accuracy: 0.9853 - loss: 0.1038 - val_accuracy: 0.3684 - val_loss: 1.7972\n",
            "Epoch 48/50\n",
            "\u001b[1m6/6\u001b[0m \u001b[32m━━━━━━━━━━━━━━━━━━━━\u001b[0m\u001b[37m\u001b[0m \u001b[1m0s\u001b[0m 13ms/step - accuracy: 1.0000 - loss: 0.1095 - val_accuracy: 0.3684 - val_loss: 1.7904\n",
            "Epoch 49/50\n",
            "\u001b[1m6/6\u001b[0m \u001b[32m━━━━━━━━━━━━━━━━━━━━\u001b[0m\u001b[37m\u001b[0m \u001b[1m0s\u001b[0m 13ms/step - accuracy: 0.9277 - loss: 0.1988 - val_accuracy: 0.4211 - val_loss: 1.8690\n",
            "Epoch 50/50\n",
            "\u001b[1m6/6\u001b[0m \u001b[32m━━━━━━━━━━━━━━━━━━━━\u001b[0m\u001b[37m\u001b[0m \u001b[1m0s\u001b[0m 14ms/step - accuracy: 0.9526 - loss: 0.0837 - val_accuracy: 0.3684 - val_loss: 1.8401\n"
          ]
        },
        {
          "data": {
            "text/html": [
              "<pre style=\"white-space:pre;overflow-x:auto;line-height:normal;font-family:Menlo,'DejaVu Sans Mono',consolas,'Courier New',monospace\"><span style=\"font-weight: bold\">Model: \"sequential_14\"</span>\n",
              "</pre>\n"
            ],
            "text/plain": [
              "\u001b[1mModel: \"sequential_14\"\u001b[0m\n"
            ]
          },
          "metadata": {},
          "output_type": "display_data"
        },
        {
          "data": {
            "text/html": [
              "<pre style=\"white-space:pre;overflow-x:auto;line-height:normal;font-family:Menlo,'DejaVu Sans Mono',consolas,'Courier New',monospace\">┏━━━━━━━━━━━━━━━━━━━━━━━━━━━━━━━━━┳━━━━━━━━━━━━━━━━━━━━━━━━┳━━━━━━━━━━━━━━━┓\n",
              "┃<span style=\"font-weight: bold\"> Layer (type)                    </span>┃<span style=\"font-weight: bold\"> Output Shape           </span>┃<span style=\"font-weight: bold\">       Param # </span>┃\n",
              "┡━━━━━━━━━━━━━━━━━━━━━━━━━━━━━━━━━╇━━━━━━━━━━━━━━━━━━━━━━━━╇━━━━━━━━━━━━━━━┩\n",
              "│ dense_56 (<span style=\"color: #0087ff; text-decoration-color: #0087ff\">Dense</span>)                │ (<span style=\"color: #00d7ff; text-decoration-color: #00d7ff\">None</span>, <span style=\"color: #00af00; text-decoration-color: #00af00\">400</span>)            │         <span style=\"color: #00af00; text-decoration-color: #00af00\">4,400</span> │\n",
              "├─────────────────────────────────┼────────────────────────┼───────────────┤\n",
              "│ dropout_14 (<span style=\"color: #0087ff; text-decoration-color: #0087ff\">Dropout</span>)            │ (<span style=\"color: #00d7ff; text-decoration-color: #00d7ff\">None</span>, <span style=\"color: #00af00; text-decoration-color: #00af00\">400</span>)            │             <span style=\"color: #00af00; text-decoration-color: #00af00\">0</span> │\n",
              "├─────────────────────────────────┼────────────────────────┼───────────────┤\n",
              "│ dense_57 (<span style=\"color: #0087ff; text-decoration-color: #0087ff\">Dense</span>)                │ (<span style=\"color: #00d7ff; text-decoration-color: #00d7ff\">None</span>, <span style=\"color: #00af00; text-decoration-color: #00af00\">400</span>)            │       <span style=\"color: #00af00; text-decoration-color: #00af00\">160,400</span> │\n",
              "├─────────────────────────────────┼────────────────────────┼───────────────┤\n",
              "│ dense_58 (<span style=\"color: #0087ff; text-decoration-color: #0087ff\">Dense</span>)                │ (<span style=\"color: #00d7ff; text-decoration-color: #00d7ff\">None</span>, <span style=\"color: #00af00; text-decoration-color: #00af00\">400</span>)            │       <span style=\"color: #00af00; text-decoration-color: #00af00\">160,400</span> │\n",
              "├─────────────────────────────────┼────────────────────────┼───────────────┤\n",
              "│ dense_59 (<span style=\"color: #0087ff; text-decoration-color: #0087ff\">Dense</span>)                │ (<span style=\"color: #00d7ff; text-decoration-color: #00d7ff\">None</span>, <span style=\"color: #00af00; text-decoration-color: #00af00\">1</span>)              │           <span style=\"color: #00af00; text-decoration-color: #00af00\">401</span> │\n",
              "└─────────────────────────────────┴────────────────────────┴───────────────┘\n",
              "</pre>\n"
            ],
            "text/plain": [
              "┏━━━━━━━━━━━━━━━━━━━━━━━━━━━━━━━━━┳━━━━━━━━━━━━━━━━━━━━━━━━┳━━━━━━━━━━━━━━━┓\n",
              "┃\u001b[1m \u001b[0m\u001b[1mLayer (type)                   \u001b[0m\u001b[1m \u001b[0m┃\u001b[1m \u001b[0m\u001b[1mOutput Shape          \u001b[0m\u001b[1m \u001b[0m┃\u001b[1m \u001b[0m\u001b[1m      Param #\u001b[0m\u001b[1m \u001b[0m┃\n",
              "┡━━━━━━━━━━━━━━━━━━━━━━━━━━━━━━━━━╇━━━━━━━━━━━━━━━━━━━━━━━━╇━━━━━━━━━━━━━━━┩\n",
              "│ dense_56 (\u001b[38;5;33mDense\u001b[0m)                │ (\u001b[38;5;45mNone\u001b[0m, \u001b[38;5;34m400\u001b[0m)            │         \u001b[38;5;34m4,400\u001b[0m │\n",
              "├─────────────────────────────────┼────────────────────────┼───────────────┤\n",
              "│ dropout_14 (\u001b[38;5;33mDropout\u001b[0m)            │ (\u001b[38;5;45mNone\u001b[0m, \u001b[38;5;34m400\u001b[0m)            │             \u001b[38;5;34m0\u001b[0m │\n",
              "├─────────────────────────────────┼────────────────────────┼───────────────┤\n",
              "│ dense_57 (\u001b[38;5;33mDense\u001b[0m)                │ (\u001b[38;5;45mNone\u001b[0m, \u001b[38;5;34m400\u001b[0m)            │       \u001b[38;5;34m160,400\u001b[0m │\n",
              "├─────────────────────────────────┼────────────────────────┼───────────────┤\n",
              "│ dense_58 (\u001b[38;5;33mDense\u001b[0m)                │ (\u001b[38;5;45mNone\u001b[0m, \u001b[38;5;34m400\u001b[0m)            │       \u001b[38;5;34m160,400\u001b[0m │\n",
              "├─────────────────────────────────┼────────────────────────┼───────────────┤\n",
              "│ dense_59 (\u001b[38;5;33mDense\u001b[0m)                │ (\u001b[38;5;45mNone\u001b[0m, \u001b[38;5;34m1\u001b[0m)              │           \u001b[38;5;34m401\u001b[0m │\n",
              "└─────────────────────────────────┴────────────────────────┴───────────────┘\n"
            ]
          },
          "metadata": {},
          "output_type": "display_data"
        },
        {
          "data": {
            "text/html": [
              "<pre style=\"white-space:pre;overflow-x:auto;line-height:normal;font-family:Menlo,'DejaVu Sans Mono',consolas,'Courier New',monospace\"><span style=\"font-weight: bold\"> Total params: </span><span style=\"color: #00af00; text-decoration-color: #00af00\">976,805</span> (3.73 MB)\n",
              "</pre>\n"
            ],
            "text/plain": [
              "\u001b[1m Total params: \u001b[0m\u001b[38;5;34m976,805\u001b[0m (3.73 MB)\n"
            ]
          },
          "metadata": {},
          "output_type": "display_data"
        },
        {
          "data": {
            "text/html": [
              "<pre style=\"white-space:pre;overflow-x:auto;line-height:normal;font-family:Menlo,'DejaVu Sans Mono',consolas,'Courier New',monospace\"><span style=\"font-weight: bold\"> Trainable params: </span><span style=\"color: #00af00; text-decoration-color: #00af00\">325,601</span> (1.24 MB)\n",
              "</pre>\n"
            ],
            "text/plain": [
              "\u001b[1m Trainable params: \u001b[0m\u001b[38;5;34m325,601\u001b[0m (1.24 MB)\n"
            ]
          },
          "metadata": {},
          "output_type": "display_data"
        },
        {
          "data": {
            "text/html": [
              "<pre style=\"white-space:pre;overflow-x:auto;line-height:normal;font-family:Menlo,'DejaVu Sans Mono',consolas,'Courier New',monospace\"><span style=\"font-weight: bold\"> Non-trainable params: </span><span style=\"color: #00af00; text-decoration-color: #00af00\">0</span> (0.00 B)\n",
              "</pre>\n"
            ],
            "text/plain": [
              "\u001b[1m Non-trainable params: \u001b[0m\u001b[38;5;34m0\u001b[0m (0.00 B)\n"
            ]
          },
          "metadata": {},
          "output_type": "display_data"
        },
        {
          "data": {
            "text/html": [
              "<pre style=\"white-space:pre;overflow-x:auto;line-height:normal;font-family:Menlo,'DejaVu Sans Mono',consolas,'Courier New',monospace\"><span style=\"font-weight: bold\"> Optimizer params: </span><span style=\"color: #00af00; text-decoration-color: #00af00\">651,204</span> (2.48 MB)\n",
              "</pre>\n"
            ],
            "text/plain": [
              "\u001b[1m Optimizer params: \u001b[0m\u001b[38;5;34m651,204\u001b[0m (2.48 MB)\n"
            ]
          },
          "metadata": {},
          "output_type": "display_data"
        },
        {
          "name": "stdout",
          "output_type": "stream",
          "text": [
            "\u001b[1m2/2\u001b[0m \u001b[32m━━━━━━━━━━━━━━━━━━━━\u001b[0m\u001b[37m\u001b[0m \u001b[1m0s\u001b[0m 31ms/step\n",
            "Accuracy on train set: 100.00%\n",
            "\u001b[1m1/1\u001b[0m \u001b[32m━━━━━━━━━━━━━━━━━━━━\u001b[0m\u001b[37m\u001b[0m \u001b[1m0s\u001b[0m 35ms/step\n",
            "Accuracy on test set: 36.84%\n",
            "[[1 7]\n",
            " [5 6]]\n"
          ]
        },
        {
          "data": {
            "image/png": "[encoded data removed]",
            "text/plain": [
              "<Figure size 800x600 with 1 Axes>"
            ]
          },
          "metadata": {},
          "output_type": "display_data"
        }
      ],
      "source": [
        "history_dr, model_dnn_dr = run_binary_mlp(X_train, y_train, X_test, y_test,400,50)\n",
        "plot_training_history(history_dr)"
      ]
    },
    {
      "cell_type": "code",
      "execution_count": 441,
      "metadata": {},
      "outputs": [
        {
          "name": "stdout",
          "output_type": "stream",
          "text": [
            "\u001b[1m1/1\u001b[0m \u001b[32m━━━━━━━━━━━━━━━━━━━━\u001b[0m\u001b[37m\u001b[0m \u001b[1m0s\u001b[0m 16ms/step\n",
            "DNN\n",
            "Accuracy: 0.3684210526315789\n"
          ]
        }
      ],
      "source": [
        "predicted_probabilities = model_dnn_dr.predict(X_test)\n",
        "predicted_probabilities = np.rint(predicted_probabilities)\n",
        "print(\"DNN\")\n",
        "new_row = {'Model': ['Feature Reduced DNN'], 'Accuracy': accuracy_score(y_test, predicted_probabilities)}\n",
        "model_results_df.loc[len(model_results_df)] = new_row\n",
        "print(\"Accuracy:\", accuracy_score(y_test, predicted_probabilities))"
      ]
    },
    {
      "cell_type": "markdown",
      "metadata": {},
      "source": [
        "### Random Forest Classifer"
      ]
    },
    {
      "cell_type": "code",
      "execution_count": 442,
      "metadata": {},
      "outputs": [
        {
          "name": "stdout",
          "output_type": "stream",
          "text": [
            "Random Forest\n",
            "Accuracy: 0.5263157894736842\n"
          ]
        }
      ],
      "source": [
        "clf = RandomForestClassifier(max_depth=1000, random_state=42)\n",
        "clf.fit(X_train, y_train)\n",
        "\n",
        "preds_rf = clf.predict(X_test)\n",
        "new_row = {'Model': ['Feature Reduced Random Forest'], 'Accuracy': accuracy_score(y_test, preds_rf)}\n",
        "model_results_df.loc[len(model_results_df)] = new_row\n",
        "print(\"Random Forest\")\n",
        "print(\"Accuracy:\", accuracy_score(y_test, preds_rf))"
      ]
    },
    {
      "cell_type": "markdown",
      "metadata": {},
      "source": [
        "### KNN"
      ]
    },
    {
      "cell_type": "code",
      "execution_count": 444,
      "metadata": {},
      "outputs": [
        {
          "name": "stdout",
          "output_type": "stream",
          "text": [
            "KNN\n",
            "Accuracy: 0.631578947368421\n"
          ]
        }
      ],
      "source": [
        "neigh = KNeighborsClassifier(n_neighbors=21)\n",
        "neigh.fit(X_train, y_train)\n",
        "\n",
        "preds_knn = neigh.predict(X_test)\n",
        "new_row = {'Model': ['Feature Reduced KNN'], 'Accuracy': accuracy_score(y_test, preds_knn)}\n",
        "model_results_df.loc[len(model_results_df)] = new_row\n",
        "print(\"KNN\")\n",
        "print(\"Accuracy:\", accuracy_score(y_test, preds_knn))"
      ]
    },
    {
      "cell_type": "markdown",
      "metadata": {},
      "source": [
        "### Decision Tree Classifier"
      ]
    },
    {
      "cell_type": "code",
      "execution_count": 445,
      "metadata": {},
      "outputs": [
        {
          "name": "stdout",
          "output_type": "stream",
          "text": [
            "Decision Tree\n",
            "Accuracy: 0.5789473684210527\n"
          ]
        }
      ],
      "source": [
        "dtc = DecisionTreeClassifier(random_state=0)\n",
        "dtc.fit(X_train, y_train)\n",
        "\n",
        "preds_dtc = dtc.predict(X_test)\n",
        "new_row = {'Model': ['Feature Reduced Decision Tree Classifier'], 'Accuracy': accuracy_score(y_test, preds_dtc)}\n",
        "model_results_df.loc[len(model_results_df)] = new_row\n",
        "print(\"Decision Tree\")\n",
        "print(\"Accuracy:\", accuracy_score(y_test, preds_dtc))\n"
      ]
    },
    {
      "cell_type": "markdown",
      "metadata": {},
      "source": [
        "### SVM"
      ]
    },
    {
      "cell_type": "code",
      "execution_count": 446,
      "metadata": {},
      "outputs": [
        {
          "name": "stdout",
          "output_type": "stream",
          "text": [
            "svm\n",
            "Accuracy: 0.631578947368421\n"
          ]
        }
      ],
      "source": [
        "svm_model = svm.SVC()\n",
        "svm_model.fit(X_train, y_train)\n",
        "\n",
        "preds_svm = svm_model.predict(X_test)\n",
        "new_row = {'Model': ['Feature Reduced SVM'], 'Accuracy': accuracy_score(y_test, preds_svm)}\n",
        "model_results_df.loc[len(model_results_df)] = new_row\n",
        "print(\"svm\")\n",
        "print(\"Accuracy:\", accuracy_score(y_test, preds_svm))"
      ]
    },
    {
      "cell_type": "markdown",
      "metadata": {},
      "source": [
        "### Gaussian NB"
      ]
    },
    {
      "cell_type": "code",
      "execution_count": 447,
      "metadata": {},
      "outputs": [
        {
          "name": "stdout",
          "output_type": "stream",
          "text": [
            "gaussianNB\n",
            "Accuracy: 0.631578947368421\n"
          ]
        }
      ],
      "source": [
        "gnb = GaussianNB()\n",
        "\n",
        "gnb_preds = gnb.fit(X_train, y_train).predict(X_test)\n",
        "new_row = {'Model': ['Feature Reduced Gaussian NB'], 'Accuracy': accuracy_score(y_test, gnb_preds)}\n",
        "model_results_df.loc[len(model_results_df)] = new_row\n",
        "print(\"gaussianNB\")\n",
        "print(\"Accuracy:\", accuracy_score(y_test, gnb_preds))"
      ]
    },
    {
      "cell_type": "markdown",
      "metadata": {},
      "source": [
        "## Confusion Matricies"
      ]
    },
    {
      "cell_type": "code",
      "execution_count": 448,
      "metadata": {},
      "outputs": [
        {
          "name": "stdout",
          "output_type": "stream",
          "text": [
            "Accuracy: 0.5789473684210527\n"
          ]
        },
        {
          "data": {
            "image/png": "[encoded data removed]",
            "text/plain": [
              "<Figure size 640x480 with 2 Axes>"
            ]
          },
          "metadata": {},
          "output_type": "display_data"
        },
        {
          "data": {
            "image/png": "[encoded data removed]",
            "text/plain": [
              "<Figure size 640x480 with 2 Axes>"
            ]
          },
          "metadata": {},
          "output_type": "display_data"
        },
        {
          "name": "stdout",
          "output_type": "stream",
          "text": [
            "\u001b[1m1/1\u001b[0m \u001b[32m━━━━━━━━━━━━━━━━━━━━\u001b[0m\u001b[37m\u001b[0m \u001b[1m0s\u001b[0m 15ms/step\n"
          ]
        },
        {
          "data": {
            "image/png": "[encoded data removed]",
            "text/plain": [
              "<Figure size 640x480 with 2 Axes>"
            ]
          },
          "metadata": {},
          "output_type": "display_data"
        },
        {
          "data": {
            "image/png": "[encoded data removed]",
            "text/plain": [
              "<Figure size 640x480 with 2 Axes>"
            ]
          },
          "metadata": {},
          "output_type": "display_data"
        },
        {
          "data": {
            "image/png": "[encoded data removed]",
            "text/plain": [
              "<Figure size 640x480 with 2 Axes>"
            ]
          },
          "metadata": {},
          "output_type": "display_data"
        },
        {
          "data": {
            "image/png": "[encoded data removed]",
            "text/plain": [
              "<Figure size 640x480 with 2 Axes>"
            ]
          },
          "metadata": {},
          "output_type": "display_data"
        },
        {
          "data": {
            "image/png": "[encoded data removed]",
            "text/plain": [
              "<Figure size 640x480 with 2 Axes>"
            ]
          },
          "metadata": {},
          "output_type": "display_data"
        },
        {
          "data": {
            "image/png": "[encoded data removed]",
            "text/plain": [
              "<Figure size 640x480 with 2 Axes>"
            ]
          },
          "metadata": {},
          "output_type": "display_data"
        }
      ],
      "source": [
        "predicted_labels = LR_model_dr.predict(X_test)\n",
        "\n",
        "cm = confusion_matrix(y_test, predicted_labels)\n",
        "\n",
        "print(\"Accuracy:\", accuracy_score(y_test, predicted_labels))\n",
        "\n",
        "disp = ConfusionMatrixDisplay(confusion_matrix=cm)\n",
        "disp.plot()\n",
        "plt.title(\"Confusion Matrix of logistical regression with dimensionality reduction\")\n",
        "plt.show()\n",
        "\n",
        "\n",
        "predicted_labels = greedy_lr_dr.predict(X_test[selected_features])\n",
        "\n",
        "cm = confusion_matrix(y_test, predicted_labels)\n",
        "\n",
        "\n",
        "disp = ConfusionMatrixDisplay(confusion_matrix=cm)\n",
        "disp.plot()\n",
        "plt.title(\"Confusion Matrix of greedy logistical regression with dimensionality reduction\")\n",
        "plt.show()\n",
        "\n",
        "predicted_probabilities = model_dnn_dr.predict(X_test)\n",
        "predicted_labels = np.rint(predicted_probabilities) \n",
        "\n",
        "\n",
        "cm = confusion_matrix(y_test, predicted_labels)\n",
        "\n",
        "\n",
        "disp = ConfusionMatrixDisplay(confusion_matrix=cm)\n",
        "disp.plot()\n",
        "plt.title(\"Confusion Matrix for the DNN with dimensionality reduction\")\n",
        "plt.show()\n",
        "\n",
        "predicted_labels = clf.predict(X_test)\n",
        "\n",
        "cm = confusion_matrix(y_test, predicted_labels)\n",
        "\n",
        "\n",
        "disp = ConfusionMatrixDisplay(confusion_matrix=cm)\n",
        "disp.plot()\n",
        "plt.title(\"Confusion Matrix of Random forest with dimensionality reduction\")\n",
        "plt.show()\n",
        "\n",
        "predicted_labels = neigh.predict(X_test)\n",
        "\n",
        "cm = confusion_matrix(y_test, predicted_labels)\n",
        "\n",
        "\n",
        "disp = ConfusionMatrixDisplay(confusion_matrix=cm)\n",
        "disp.plot()\n",
        "plt.title(\"Confusion Matrix of KNN with dimensionality reduction\")\n",
        "plt.show()\n",
        "\n",
        "predicted_labels = dtc.predict(X_test)\n",
        "\n",
        "cm = confusion_matrix(y_test, predicted_labels)\n",
        "\n",
        "\n",
        "disp = ConfusionMatrixDisplay(confusion_matrix=cm)\n",
        "disp.plot()\n",
        "plt.title(\"Confusion Matrix of Decision Tree with dimensionality reduction\")\n",
        "plt.show()\n",
        "\n",
        "predicted_labels = svm_model.predict(X_test)\n",
        "\n",
        "cm = confusion_matrix(y_test, predicted_labels)\n",
        "\n",
        "\n",
        "disp = ConfusionMatrixDisplay(confusion_matrix=cm)\n",
        "disp.plot()\n",
        "plt.title(\"Confusion Matrix of svm model with dimensionality reduction\")\n",
        "plt.show()\n",
        "\n",
        "predicted_labels = gnb.predict(X_test)\n",
        "\n",
        "cm = confusion_matrix(y_test, predicted_labels)\n",
        "\n",
        "\n",
        "disp = ConfusionMatrixDisplay(confusion_matrix=cm)\n",
        "disp.plot()\n",
        "plt.title(\"Confusion Matrix of GaussianNB model with dimensionality reduction\")\n",
        "plt.show()"
      ]
    },
    {
      "cell_type": "markdown",
      "metadata": {},
      "source": [
        "## Models Using Correlation Based Feature Selection"
      ]
    },
    {
      "cell_type": "code",
      "execution_count": 449,
      "metadata": {},
      "outputs": [
        {
          "name": "stdout",
          "output_type": "stream",
          "text": [
            "Number of Matchups: 62\n",
            "✅ Finished creating vectors. Skipped 1 matchups due to missing teams.\n"
          ]
        }
      ],
      "source": [
        "difference_vectors3 = []\n",
        "true_winners3 = []\n",
        "\n",
        "skipped = 0  # Track how many matchups we skip\n",
        "\n",
        "for matchup in matchups:\n",
        "    team_1_NO = str(matchup[0])  # Make sure they're strings upfront\n",
        "    team_0_NO = str(matchup[1])\n",
        "\n",
        "    team_1_row = reduced_df_scaled[reduced_df_scaled[\"TEAM NO\"] == team_1_NO]\n",
        "    team_0_row = reduced_df_scaled[reduced_df_scaled[\"TEAM NO\"] == team_0_NO]\n",
        "\n",
        "    # Check if both teams exist in reduced_df_scaled\n",
        "    if not team_1_row.empty and not team_0_row.empty:\n",
        "        true_winners3.append(matchup[2])  # Now append only if valid\n",
        "\n",
        "        # Get stats and remove \"TEAM NO\" column\n",
        "        team_1_stats = team_1_row.drop(columns=[\"TEAM NO\"]).iloc[0].values\n",
        "        team_0_stats = team_0_row.drop(columns=[\"TEAM NO\"]).iloc[0].values\n",
        "\n",
        "        # Create difference vector\n",
        "        difference_vector = team_1_stats - team_0_stats\n",
        "        difference_vectors3.append(difference_vector)\n",
        "    else:\n",
        "        skipped += 1\n",
        "\n",
        "print(f'Number of Matchups: {len(difference_vectors3)}')\n",
        "print(f\"✅ Finished creating vectors. Skipped {skipped} matchups due to missing teams.\")\n",
        "\n",
        "X3 = pd.DataFrame(difference_vectors3, columns=reduced_df_scaled.drop(columns=[\"TEAM NO\"]).columns)\n",
        "y3 = np.array(true_winners3)\n",
        "\n",
        "X_train3, X_test3, y_train3, y_test3 = train_test_split(X3, y3, test_size=0.3, random_state=42)"
      ]
    },
    {
      "cell_type": "markdown",
      "metadata": {},
      "source": [
        "### Logistic Regression"
      ]
    },
    {
      "cell_type": "code",
      "execution_count": 450,
      "metadata": {},
      "outputs": [
        {
          "name": "stdout",
          "output_type": "stream",
          "text": [
            "Accuracy: 0.5263157894736842\n"
          ]
        }
      ],
      "source": [
        "LR_model_dr = LogisticRegression()\n",
        "LR_model_dr.fit(X_train3, y_train3)\n",
        "\n",
        "predicted_winners3 = LR_model_dr.predict(X_test3)\n",
        "new_row = {'Model': ['CFS Linear Regression'], 'Accuracy': accuracy_score(y_test3, predicted_winners3)}\n",
        "model_results_df.loc[len(model_results_df)] = new_row\n",
        "print(\"Accuracy:\", accuracy_score(y_test3, predicted_winners3))"
      ]
    },
    {
      "cell_type": "markdown",
      "metadata": {},
      "source": [
        "### Greedy Logistic Regression"
      ]
    },
    {
      "cell_type": "code",
      "execution_count": 451,
      "metadata": {},
      "outputs": [
        {
          "name": "stdout",
          "output_type": "stream",
          "text": [
            "✅ Added: Q2 W | New CV Accuracy: 0.8000\n",
            "❌ Skipped: TeamRankings_Home_LO | CV Accuracy would be: 0.7600\n",
            "❌ Skipped: TeamRankings_Away_V 26-50 WINS | CV Accuracy would be: 0.7650\n",
            "✅ Added: KenPom_Barttorvik_BADJ D RANK | New CV Accuracy: 0.8050\n",
            "❌ Skipped: TeamRankings_Home_HI | CV Accuracy would be: 0.7850\n",
            "❌ Skipped: TeamRankings_Home_V 51-100 WINS | CV Accuracy would be: 0.7550\n",
            "❌ Skipped: Q1 W | CV Accuracy would be: 0.8050\n",
            "❌ Skipped: Q1 PLUS Q2 W | CV Accuracy would be: 0.7550\n",
            "❌ Skipped: TeamRankings_Away_V 51-100 WINS | CV Accuracy would be: 0.8050\n",
            "❌ Skipped: TeamRankings_Away_LO | CV Accuracy would be: 0.7600\n",
            "❌ Skipped: KenPom_Barttorvik_ELITE SOS | CV Accuracy would be: 0.8050\n",
            "❌ Skipped: Barttorvik_Neutral_ELITE SOS RANK | CV Accuracy would be: 0.8050\n",
            "❌ Skipped: Barttorvik_Home_BADJ D RANK | CV Accuracy would be: 0.7550\n",
            "❌ Skipped: R SCORE | CV Accuracy would be: 0.7850\n",
            "❌ Skipped: TeamRankings_Home_V 1-25 WINS | CV Accuracy would be: 0.8050\n",
            "❌ Skipped: Barttorvik_Neutral_TALENT RANK | CV Accuracy would be: 0.8050\n",
            "❌ Skipped: Barttorvik_Away_BADJ D RANK | CV Accuracy would be: 0.7800\n",
            "❌ Skipped: KenPom_Barttorvik_TOV% | CV Accuracy would be: 0.8050\n",
            "❌ Skipped: Barttorvik_Home_W | CV Accuracy would be: 0.8050\n",
            "❌ Skipped: Barttorvik_Away_EFF HGT | CV Accuracy would be: 0.7800\n",
            "❌ Skipped: TeamRankings_Away_HI | CV Accuracy would be: 0.8050\n",
            "❌ Skipped: KenPom_Barttorvik_EFG% RANK | CV Accuracy would be: 0.7650\n",
            "❌ Skipped: TeamRankings_Neutral_TR RATING | CV Accuracy would be: 0.8050\n",
            "❌ Skipped: TeamRankings_Neutral_V 1-25 WINS | CV Accuracy would be: 0.8050\n",
            "❌ Skipped: TeamRankings_Neutral_V 26-50 WINS | CV Accuracy would be: 0.8050\n",
            "❌ Skipped: Barttorvik_Neutral_BADJ D | CV Accuracy would be: 0.7550\n",
            "❌ Skipped: ShootingSplits_THREES FG%D RANK | CV Accuracy would be: 0.7850\n",
            "❌ Skipped: KenPom_Barttorvik_WAB | CV Accuracy would be: 0.8050\n",
            "❌ Skipped: KenPom_Barttorvik_BADJ O RANK | CV Accuracy would be: 0.7850\n",
            "❌ Skipped: Barttorvik_Away_TOV% RANK | CV Accuracy would be: 0.8050\n",
            "❌ Skipped: KenPom_Barttorvik_AVG HGT | CV Accuracy would be: 0.8050\n",
            "❌ Skipped: KenPom_Barttorvik_2PT% | CV Accuracy would be: 0.7850\n",
            "❌ Skipped: Barttorvik_Home_EFG% RANK | CV Accuracy would be: 0.7600\n",
            "❌ Skipped: TeamRankings_Neutral_HI | CV Accuracy would be: 0.8050\n",
            "❌ Skipped: KenPom_Barttorvik_TOV% RANK | CV Accuracy would be: 0.8050\n",
            "❌ Skipped: KenPom_Barttorvik_L | CV Accuracy would be: 0.8050\n",
            "❌ Skipped: ShootingSplits_DUNKS SHARE RANK | CV Accuracy would be: 0.7600\n",
            "✅ Added: TeamRankings_Neutral_V 1-25 LOSS | New CV Accuracy: 0.8300\n",
            "❌ Skipped: KenPom_Barttorvik_PPPD RANK | CV Accuracy would be: 0.7800\n",
            "❌ Skipped: KenPom_Barttorvik_PPPD | CV Accuracy would be: 0.8050\n",
            "❌ Skipped: KenPom_Barttorvik_GAMES | CV Accuracy would be: 0.8100\n",
            "❌ Skipped: Barttorvik_Away_2PT%D RANK | CV Accuracy would be: 0.7800\n",
            "❌ Skipped: KenPom_Barttorvik_FTRD RANK | CV Accuracy would be: 0.8100\n",
            "❌ Skipped: Barttorvik_Away_EFGD% RANK | CV Accuracy would be: 0.7600\n",
            "❌ Skipped: Barttorvik_Away_BLK% | CV Accuracy would be: 0.8050\n",
            "❌ Skipped: KenPom_Barttorvik_FTR RANK | CV Accuracy would be: 0.7900\n",
            "❌ Skipped: Barttorvik_Home_FTRD RANK | CV Accuracy would be: 0.8050\n",
            "❌ Skipped: Barttorvik_Neutral_PPPO | CV Accuracy would be: 0.7600\n",
            "❌ Skipped: Barttorvik_Away_TOV% | CV Accuracy would be: 0.8050\n",
            "❌ Skipped: ShootingSplits_DUNKS D SHARE RANK | CV Accuracy would be: 0.8300\n",
            "❌ Skipped: KenPom_Barttorvik_FTRD | CV Accuracy would be: 0.8100\n",
            "❌ Skipped: Barttorvik_Home_FTR RANK | CV Accuracy would be: 0.8300\n",
            "❌ Skipped: ShootingSplits_FARTHER TWOS FG%D RANK | CV Accuracy would be: 0.7850\n",
            "❌ Skipped: Barttorvik_Home_WAB | CV Accuracy would be: 0.8300\n",
            "❌ Skipped: Barttorvik_Home_PPPO RANK | CV Accuracy would be: 0.8100\n",
            "❌ Skipped: KenPom_Barttorvik_EFGD% RANK | CV Accuracy would be: 0.8300\n",
            "❌ Skipped: Barttorvik_Neutral_GAMES | CV Accuracy would be: 0.7850\n",
            "❌ Skipped: TeamRankings_Away_V 1-25 WINS | CV Accuracy would be: 0.8100\n",
            "❌ Skipped: PLUS 500 | CV Accuracy would be: 0.8050\n",
            "❌ Skipped: KenPom_Barttorvik_W | CV Accuracy would be: 0.8050\n",
            "❌ Skipped: Barttorvik_Neutral_BADJ O RANK | CV Accuracy would be: 0.7850\n",
            "❌ Skipped: TeamRankings_Neutral_LO | CV Accuracy would be: 0.8100\n",
            "❌ Skipped: Barttorvik_Away_PPPO RANK | CV Accuracy would be: 0.8100\n",
            "❌ Skipped: Barttorvik_Away_WIN% | CV Accuracy would be: 0.8050\n",
            "❌ Skipped: KenPom_Barttorvik_2PT% RANK | CV Accuracy would be: 0.8100\n",
            "❌ Skipped: Barttorvik_Neutral_W | CV Accuracy would be: 0.7650\n",
            "❌ Skipped: ShootingSplits_CLOSE TWOS FG% | CV Accuracy would be: 0.8100\n",
            "❌ Skipped: Barttorvik_Away_L | CV Accuracy would be: 0.8050\n",
            "❌ Skipped: Barttorvik_Away_GAMES | CV Accuracy would be: 0.8300\n",
            "❌ Skipped: ShootingSplits_DUNKS SHARE | CV Accuracy would be: 0.8300\n",
            "❌ Skipped: KenPom_Barttorvik_EFG%D | CV Accuracy would be: 0.8300\n",
            "❌ Skipped: KenPom_Barttorvik_2PT%D RANK | CV Accuracy would be: 0.8100\n",
            "❌ Skipped: KenPom_Barttorvik_BLK% | CV Accuracy would be: 0.8050\n",
            "❌ Skipped: ShootingSplits_FARTHER TWOS D SHARE RANK | CV Accuracy would be: 0.7550\n",
            "❌ Skipped: Barttorvik_Home_GAMES | CV Accuracy would be: 0.8300\n",
            "❌ Skipped: TeamRankings_Home_V 26-50 WINS | CV Accuracy would be: 0.8100\n",
            "❌ Skipped: TeamRankings_Neutral_V 51-100 WINS | CV Accuracy would be: 0.7850\n",
            "❌ Skipped: Barttorvik_Home_EFGD% RANK | CV Accuracy would be: 0.7800\n",
            "❌ Skipped: Barttorvik_Home_WIN% | CV Accuracy would be: 0.8300\n",
            "❌ Skipped: Barttorvik_Home_OP DREB% RANK | CV Accuracy would be: 0.7850\n",
            "❌ Skipped: Barttorvik_Neutral_WAB | CV Accuracy would be: 0.7850\n",
            "❌ Skipped: KenPom_Barttorvik_2PT%D | CV Accuracy would be: 0.8100\n",
            "❌ Skipped: ShootingSplits_CLOSE TWOS D SHARE RANK | CV Accuracy would be: 0.7600\n",
            "❌ Skipped: KenPom_Barttorvik_PPPO RANK | CV Accuracy would be: 0.8100\n",
            "❌ Skipped: Barttorvik_Home_PPPD RANK | CV Accuracy would be: 0.7800\n",
            "❌ Skipped: Barttorvik_Neutral_BADJ EM RANK | CV Accuracy would be: 0.8300\n",
            "Accuracy: 0.5789473684210527\n"
          ]
        }
      ],
      "source": [
        "# Greedy logistic regression\n",
        "greedy_lr_dr = LogisticRegression(max_iter=1000, random_state=42)\n",
        "feature_scores = {}\n",
        "\n",
        "# First, score each feature individually\n",
        "for feature in X_train3.columns:\n",
        "    score = cross_val_score(greedy_lr_dr, X_train3[[feature]], y_train3, cv=10, scoring='accuracy').mean()\n",
        "    feature_scores[feature] = score\n",
        "\n",
        "# Sort features by their single-feature performance\n",
        "sorted_features = sorted(feature_scores.items(), key=lambda x: x[1], reverse=True)\n",
        "\n",
        "selected_features = []\n",
        "best_score = 0\n",
        "\n",
        "for feature, _ in sorted_features:\n",
        "    current_features = selected_features + [feature]\n",
        "    score = cross_val_score(greedy_lr_dr, X_train3[current_features], y_train3, cv=10, scoring='accuracy').mean()\n",
        "    \n",
        "    if score > best_score:\n",
        "        selected_features.append(feature)\n",
        "        best_score = score\n",
        "        print(f\"✅ Added: {feature} | New CV Accuracy: {score:.4f}\")\n",
        "    else:\n",
        "        print(f\"❌ Skipped: {feature} | CV Accuracy would be: {score:.4f}\")\n",
        "\n",
        "\n",
        "greedy_lr_dr.fit(X_train3[selected_features], y_train3)\n",
        "\n",
        "\n",
        "predicted_winners_glr_dr = greedy_lr_dr.predict(X_test3[selected_features])\n",
        "new_row = {'Model': ['CFS Greedy Linear Regression'], 'Accuracy': accuracy_score(y_test3, predicted_winners_glr_dr)}\n",
        "model_results_df.loc[len(model_results_df)] = new_row\n",
        "print(\"Accuracy:\", accuracy_score(y_test3, predicted_winners_glr_dr))"
      ]
    },
    {
      "cell_type": "markdown",
      "metadata": {},
      "source": [
        "### DNN"
      ]
    },
    {
      "cell_type": "code",
      "execution_count": 452,
      "metadata": {},
      "outputs": [
        {
          "name": "stdout",
          "output_type": "stream",
          "text": [
            "Epoch 1/50\n"
          ]
        },
        {
          "name": "stderr",
          "output_type": "stream",
          "text": [
            "c:\\Users\\stevensl\\AppData\\Local\\anaconda3\\Lib\\site-packages\\keras\\src\\layers\\core\\dense.py:87: UserWarning: Do not pass an `input_shape`/`input_dim` argument to a layer. When using Sequential models, prefer using an `Input(shape)` object as the first layer in the model instead.\n",
            "  super().__init__(activity_regularizer=activity_regularizer, **kwargs)\n"
          ]
        },
        {
          "name": "stdout",
          "output_type": "stream",
          "text": [
            "\u001b[1m6/6\u001b[0m \u001b[32m━━━━━━━━━━━━━━━━━━━━\u001b[0m\u001b[37m\u001b[0m \u001b[1m3s\u001b[0m 137ms/step - accuracy: 0.6357 - loss: 0.6593 - val_accuracy: 0.5263 - val_loss: 0.6554\n",
            "Epoch 2/50\n",
            "\u001b[1m6/6\u001b[0m \u001b[32m━━━━━━━━━━━━━━━━━━━━\u001b[0m\u001b[37m\u001b[0m \u001b[1m0s\u001b[0m 34ms/step - accuracy: 0.6186 - loss: 0.6042 - val_accuracy: 0.5789 - val_loss: 0.6592\n",
            "Epoch 3/50\n",
            "\u001b[1m6/6\u001b[0m \u001b[32m━━━━━━━━━━━━━━━━━━━━\u001b[0m\u001b[37m\u001b[0m \u001b[1m0s\u001b[0m 28ms/step - accuracy: 0.6690 - loss: 0.5100 - val_accuracy: 0.6842 - val_loss: 0.6467\n",
            "Epoch 4/50\n",
            "\u001b[1m6/6\u001b[0m \u001b[32m━━━━━━━━━━━━━━━━━━━━\u001b[0m\u001b[37m\u001b[0m \u001b[1m0s\u001b[0m 26ms/step - accuracy: 0.7607 - loss: 0.5161 - val_accuracy: 0.6316 - val_loss: 0.6409\n",
            "Epoch 5/50\n",
            "\u001b[1m6/6\u001b[0m \u001b[32m━━━━━━━━━━━━━━━━━━━━\u001b[0m\u001b[37m\u001b[0m \u001b[1m0s\u001b[0m 26ms/step - accuracy: 0.8132 - loss: 0.4677 - val_accuracy: 0.6316 - val_loss: 0.6647\n",
            "Epoch 6/50\n",
            "\u001b[1m6/6\u001b[0m \u001b[32m━━━━━━━━━━━━━━━━━━━━\u001b[0m\u001b[37m\u001b[0m \u001b[1m0s\u001b[0m 31ms/step - accuracy: 0.7948 - loss: 0.4374 - val_accuracy: 0.6316 - val_loss: 0.6980\n",
            "Epoch 7/50\n",
            "\u001b[1m6/6\u001b[0m \u001b[32m━━━━━━━━━━━━━━━━━━━━\u001b[0m\u001b[37m\u001b[0m \u001b[1m0s\u001b[0m 41ms/step - accuracy: 0.8751 - loss: 0.3763 - val_accuracy: 0.6316 - val_loss: 0.7232\n",
            "Epoch 8/50\n",
            "\u001b[1m6/6\u001b[0m \u001b[32m━━━━━━━━━━━━━━━━━━━━\u001b[0m\u001b[37m\u001b[0m \u001b[1m0s\u001b[0m 31ms/step - accuracy: 0.8970 - loss: 0.3426 - val_accuracy: 0.6316 - val_loss: 0.7465\n",
            "Epoch 9/50\n",
            "\u001b[1m6/6\u001b[0m \u001b[32m━━━━━━━━━━━━━━━━━━━━\u001b[0m\u001b[37m\u001b[0m \u001b[1m0s\u001b[0m 36ms/step - accuracy: 0.8122 - loss: 0.3960 - val_accuracy: 0.6316 - val_loss: 0.7599\n",
            "Epoch 10/50\n",
            "\u001b[1m6/6\u001b[0m \u001b[32m━━━━━━━━━━━━━━━━━━━━\u001b[0m\u001b[37m\u001b[0m \u001b[1m0s\u001b[0m 36ms/step - accuracy: 0.8673 - loss: 0.3400 - val_accuracy: 0.6316 - val_loss: 0.7462\n",
            "Epoch 11/50\n",
            "\u001b[1m6/6\u001b[0m \u001b[32m━━━━━━━━━━━━━━━━━━━━\u001b[0m\u001b[37m\u001b[0m \u001b[1m0s\u001b[0m 38ms/step - accuracy: 0.8822 - loss: 0.2977 - val_accuracy: 0.6316 - val_loss: 0.7658\n",
            "Epoch 12/50\n",
            "\u001b[1m6/6\u001b[0m \u001b[32m━━━━━━━━━━━━━━━━━━━━\u001b[0m\u001b[37m\u001b[0m \u001b[1m0s\u001b[0m 38ms/step - accuracy: 0.9604 - loss: 0.2356 - val_accuracy: 0.6316 - val_loss: 0.7888\n",
            "Epoch 13/50\n",
            "\u001b[1m6/6\u001b[0m \u001b[32m━━━━━━━━━━━━━━━━━━━━\u001b[0m\u001b[37m\u001b[0m \u001b[1m0s\u001b[0m 30ms/step - accuracy: 0.8915 - loss: 0.3054 - val_accuracy: 0.5789 - val_loss: 0.8412\n",
            "Epoch 14/50\n",
            "\u001b[1m6/6\u001b[0m \u001b[32m━━━━━━━━━━━━━━━━━━━━\u001b[0m\u001b[37m\u001b[0m \u001b[1m0s\u001b[0m 26ms/step - accuracy: 0.8654 - loss: 0.3251 - val_accuracy: 0.6316 - val_loss: 0.8299\n",
            "Epoch 15/50\n",
            "\u001b[1m6/6\u001b[0m \u001b[32m━━━━━━━━━━━━━━━━━━━━\u001b[0m\u001b[37m\u001b[0m \u001b[1m0s\u001b[0m 31ms/step - accuracy: 0.9344 - loss: 0.2394 - val_accuracy: 0.6316 - val_loss: 0.8326\n",
            "Epoch 16/50\n",
            "\u001b[1m6/6\u001b[0m \u001b[32m━━━━━━━━━━━━━━━━━━━━\u001b[0m\u001b[37m\u001b[0m \u001b[1m0s\u001b[0m 38ms/step - accuracy: 0.9794 - loss: 0.1941 - val_accuracy: 0.5789 - val_loss: 0.8138\n",
            "Epoch 17/50\n",
            "\u001b[1m6/6\u001b[0m \u001b[32m━━━━━━━━━━━━━━━━━━━━\u001b[0m\u001b[37m\u001b[0m \u001b[1m0s\u001b[0m 33ms/step - accuracy: 0.9704 - loss: 0.1953 - val_accuracy: 0.5789 - val_loss: 0.8594\n",
            "Epoch 18/50\n",
            "\u001b[1m6/6\u001b[0m \u001b[32m━━━━━━━━━━━━━━━━━━━━\u001b[0m\u001b[37m\u001b[0m \u001b[1m0s\u001b[0m 29ms/step - accuracy: 0.9602 - loss: 0.1861 - val_accuracy: 0.6316 - val_loss: 0.9442\n",
            "Epoch 19/50\n",
            "\u001b[1m6/6\u001b[0m \u001b[32m━━━━━━━━━━━━━━━━━━━━\u001b[0m\u001b[37m\u001b[0m \u001b[1m0s\u001b[0m 28ms/step - accuracy: 0.9704 - loss: 0.1484 - val_accuracy: 0.6316 - val_loss: 0.9625\n",
            "Epoch 20/50\n",
            "\u001b[1m6/6\u001b[0m \u001b[32m━━━━━━━━━━━━━━━━━━━━\u001b[0m\u001b[37m\u001b[0m \u001b[1m0s\u001b[0m 32ms/step - accuracy: 0.9704 - loss: 0.1704 - val_accuracy: 0.5789 - val_loss: 0.9934\n",
            "Epoch 21/50\n",
            "\u001b[1m6/6\u001b[0m \u001b[32m━━━━━━━━━━━━━━━━━━━━\u001b[0m\u001b[37m\u001b[0m \u001b[1m0s\u001b[0m 28ms/step - accuracy: 0.9602 - loss: 0.1630 - val_accuracy: 0.6316 - val_loss: 1.0072\n",
            "Epoch 22/50\n",
            "\u001b[1m6/6\u001b[0m \u001b[32m━━━━━━━━━━━━━━━━━━━━\u001b[0m\u001b[37m\u001b[0m \u001b[1m0s\u001b[0m 29ms/step - accuracy: 0.9459 - loss: 0.1535 - val_accuracy: 0.6316 - val_loss: 0.9792\n",
            "Epoch 23/50\n",
            "\u001b[1m6/6\u001b[0m \u001b[32m━━━━━━━━━━━━━━━━━━━━\u001b[0m\u001b[37m\u001b[0m \u001b[1m0s\u001b[0m 41ms/step - accuracy: 1.0000 - loss: 0.1279 - val_accuracy: 0.5789 - val_loss: 0.9711\n",
            "Epoch 24/50\n",
            "\u001b[1m6/6\u001b[0m \u001b[32m━━━━━━━━━━━━━━━━━━━━\u001b[0m\u001b[37m\u001b[0m \u001b[1m0s\u001b[0m 37ms/step - accuracy: 1.0000 - loss: 0.0977 - val_accuracy: 0.5789 - val_loss: 0.9818\n",
            "Epoch 25/50\n",
            "\u001b[1m6/6\u001b[0m \u001b[32m━━━━━━━━━━━━━━━━━━━━\u001b[0m\u001b[37m\u001b[0m \u001b[1m0s\u001b[0m 28ms/step - accuracy: 1.0000 - loss: 0.0642 - val_accuracy: 0.5789 - val_loss: 0.9828\n",
            "Epoch 26/50\n",
            "\u001b[1m6/6\u001b[0m \u001b[32m━━━━━━━━━━━━━━━━━━━━\u001b[0m\u001b[37m\u001b[0m \u001b[1m0s\u001b[0m 19ms/step - accuracy: 0.9704 - loss: 0.1083 - val_accuracy: 0.5789 - val_loss: 0.9679\n",
            "Epoch 27/50\n",
            "\u001b[1m6/6\u001b[0m \u001b[32m━━━━━━━━━━━━━━━━━━━━\u001b[0m\u001b[37m\u001b[0m \u001b[1m0s\u001b[0m 20ms/step - accuracy: 1.0000 - loss: 0.0837 - val_accuracy: 0.5789 - val_loss: 1.0270\n",
            "Epoch 28/50\n",
            "\u001b[1m6/6\u001b[0m \u001b[32m━━━━━━━━━━━━━━━━━━━━\u001b[0m\u001b[37m\u001b[0m \u001b[1m0s\u001b[0m 22ms/step - accuracy: 1.0000 - loss: 0.0714 - val_accuracy: 0.5789 - val_loss: 1.1185\n",
            "Epoch 29/50\n",
            "\u001b[1m6/6\u001b[0m \u001b[32m━━━━━━━━━━━━━━━━━━━━\u001b[0m\u001b[37m\u001b[0m \u001b[1m0s\u001b[0m 19ms/step - accuracy: 1.0000 - loss: 0.0457 - val_accuracy: 0.5263 - val_loss: 1.1909\n",
            "Epoch 30/50\n",
            "\u001b[1m6/6\u001b[0m \u001b[32m━━━━━━━━━━━━━━━━━━━━\u001b[0m\u001b[37m\u001b[0m \u001b[1m0s\u001b[0m 19ms/step - accuracy: 1.0000 - loss: 0.0486 - val_accuracy: 0.5263 - val_loss: 1.2401\n",
            "Epoch 31/50\n",
            "\u001b[1m6/6\u001b[0m \u001b[32m━━━━━━━━━━━━━━━━━━━━\u001b[0m\u001b[37m\u001b[0m \u001b[1m0s\u001b[0m 22ms/step - accuracy: 1.0000 - loss: 0.0475 - val_accuracy: 0.5263 - val_loss: 1.2582\n",
            "Epoch 32/50\n",
            "\u001b[1m6/6\u001b[0m \u001b[32m━━━━━━━━━━━━━━━━━━━━\u001b[0m\u001b[37m\u001b[0m \u001b[1m0s\u001b[0m 22ms/step - accuracy: 1.0000 - loss: 0.0542 - val_accuracy: 0.5789 - val_loss: 1.2433\n",
            "Epoch 33/50\n",
            "\u001b[1m6/6\u001b[0m \u001b[32m━━━━━━━━━━━━━━━━━━━━\u001b[0m\u001b[37m\u001b[0m \u001b[1m0s\u001b[0m 19ms/step - accuracy: 1.0000 - loss: 0.0325 - val_accuracy: 0.5789 - val_loss: 1.2865\n",
            "Epoch 34/50\n",
            "\u001b[1m6/6\u001b[0m \u001b[32m━━━━━━━━━━━━━━━━━━━━\u001b[0m\u001b[37m\u001b[0m \u001b[1m0s\u001b[0m 22ms/step - accuracy: 1.0000 - loss: 0.0398 - val_accuracy: 0.5789 - val_loss: 1.3182\n",
            "Epoch 35/50\n",
            "\u001b[1m6/6\u001b[0m \u001b[32m━━━━━━━━━━━━━━━━━━━━\u001b[0m\u001b[37m\u001b[0m \u001b[1m0s\u001b[0m 22ms/step - accuracy: 1.0000 - loss: 0.0547 - val_accuracy: 0.5789 - val_loss: 1.3588\n",
            "Epoch 36/50\n",
            "\u001b[1m6/6\u001b[0m \u001b[32m━━━━━━━━━━━━━━━━━━━━\u001b[0m\u001b[37m\u001b[0m \u001b[1m0s\u001b[0m 32ms/step - accuracy: 1.0000 - loss: 0.0267 - val_accuracy: 0.5789 - val_loss: 1.3959\n",
            "Epoch 37/50\n",
            "\u001b[1m6/6\u001b[0m \u001b[32m━━━━━━━━━━━━━━━━━━━━\u001b[0m\u001b[37m\u001b[0m \u001b[1m0s\u001b[0m 32ms/step - accuracy: 1.0000 - loss: 0.0283 - val_accuracy: 0.5789 - val_loss: 1.4358\n",
            "Epoch 38/50\n",
            "\u001b[1m6/6\u001b[0m \u001b[32m━━━━━━━━━━━━━━━━━━━━\u001b[0m\u001b[37m\u001b[0m \u001b[1m0s\u001b[0m 27ms/step - accuracy: 1.0000 - loss: 0.0325 - val_accuracy: 0.5789 - val_loss: 1.4915\n",
            "Epoch 39/50\n",
            "\u001b[1m6/6\u001b[0m \u001b[32m━━━━━━━━━━━━━━━━━━━━\u001b[0m\u001b[37m\u001b[0m \u001b[1m0s\u001b[0m 27ms/step - accuracy: 1.0000 - loss: 0.0217 - val_accuracy: 0.5789 - val_loss: 1.5255\n",
            "Epoch 40/50\n",
            "\u001b[1m6/6\u001b[0m \u001b[32m━━━━━━━━━━━━━━━━━━━━\u001b[0m\u001b[37m\u001b[0m \u001b[1m0s\u001b[0m 25ms/step - accuracy: 1.0000 - loss: 0.0214 - val_accuracy: 0.5789 - val_loss: 1.5648\n",
            "Epoch 41/50\n",
            "\u001b[1m6/6\u001b[0m \u001b[32m━━━━━━━━━━━━━━━━━━━━\u001b[0m\u001b[37m\u001b[0m \u001b[1m0s\u001b[0m 19ms/step - accuracy: 1.0000 - loss: 0.0277 - val_accuracy: 0.5789 - val_loss: 1.5898\n",
            "Epoch 42/50\n",
            "\u001b[1m6/6\u001b[0m \u001b[32m━━━━━━━━━━━━━━━━━━━━\u001b[0m\u001b[37m\u001b[0m \u001b[1m0s\u001b[0m 22ms/step - accuracy: 1.0000 - loss: 0.0123 - val_accuracy: 0.5789 - val_loss: 1.6119\n",
            "Epoch 43/50\n",
            "\u001b[1m6/6\u001b[0m \u001b[32m━━━━━━━━━━━━━━━━━━━━\u001b[0m\u001b[37m\u001b[0m \u001b[1m0s\u001b[0m 20ms/step - accuracy: 1.0000 - loss: 0.0265 - val_accuracy: 0.5789 - val_loss: 1.5965\n",
            "Epoch 44/50\n",
            "\u001b[1m6/6\u001b[0m \u001b[32m━━━━━━━━━━━━━━━━━━━━\u001b[0m\u001b[37m\u001b[0m \u001b[1m0s\u001b[0m 22ms/step - accuracy: 1.0000 - loss: 0.0196 - val_accuracy: 0.5789 - val_loss: 1.6057\n",
            "Epoch 45/50\n",
            "\u001b[1m6/6\u001b[0m \u001b[32m━━━━━━━━━━━━━━━━━━━━\u001b[0m\u001b[37m\u001b[0m \u001b[1m0s\u001b[0m 20ms/step - accuracy: 1.0000 - loss: 0.0178 - val_accuracy: 0.5789 - val_loss: 1.6189\n",
            "Epoch 46/50\n",
            "\u001b[1m6/6\u001b[0m \u001b[32m━━━━━━━━━━━━━━━━━━━━\u001b[0m\u001b[37m\u001b[0m \u001b[1m0s\u001b[0m 19ms/step - accuracy: 1.0000 - loss: 0.0101 - val_accuracy: 0.5789 - val_loss: 1.6332\n",
            "Epoch 47/50\n",
            "\u001b[1m6/6\u001b[0m \u001b[32m━━━━━━━━━━━━━━━━━━━━\u001b[0m\u001b[37m\u001b[0m \u001b[1m0s\u001b[0m 23ms/step - accuracy: 1.0000 - loss: 0.0068 - val_accuracy: 0.5789 - val_loss: 1.6348\n",
            "Epoch 48/50\n",
            "\u001b[1m6/6\u001b[0m \u001b[32m━━━━━━━━━━━━━━━━━━━━\u001b[0m\u001b[37m\u001b[0m \u001b[1m0s\u001b[0m 22ms/step - accuracy: 1.0000 - loss: 0.0226 - val_accuracy: 0.5789 - val_loss: 1.6618\n",
            "Epoch 49/50\n",
            "\u001b[1m6/6\u001b[0m \u001b[32m━━━━━━━━━━━━━━━━━━━━\u001b[0m\u001b[37m\u001b[0m \u001b[1m0s\u001b[0m 19ms/step - accuracy: 1.0000 - loss: 0.0199 - val_accuracy: 0.5789 - val_loss: 1.6722\n",
            "Epoch 50/50\n",
            "\u001b[1m6/6\u001b[0m \u001b[32m━━━━━━━━━━━━━━━━━━━━\u001b[0m\u001b[37m\u001b[0m \u001b[1m0s\u001b[0m 19ms/step - accuracy: 1.0000 - loss: 0.0363 - val_accuracy: 0.5789 - val_loss: 1.6590\n"
          ]
        },
        {
          "data": {
            "text/html": [
              "<pre style=\"white-space:pre;overflow-x:auto;line-height:normal;font-family:Menlo,'DejaVu Sans Mono',consolas,'Courier New',monospace\"><span style=\"font-weight: bold\">Model: \"sequential_15\"</span>\n",
              "</pre>\n"
            ],
            "text/plain": [
              "\u001b[1mModel: \"sequential_15\"\u001b[0m\n"
            ]
          },
          "metadata": {},
          "output_type": "display_data"
        },
        {
          "data": {
            "text/html": [
              "<pre style=\"white-space:pre;overflow-x:auto;line-height:normal;font-family:Menlo,'DejaVu Sans Mono',consolas,'Courier New',monospace\">┏━━━━━━━━━━━━━━━━━━━━━━━━━━━━━━━━━┳━━━━━━━━━━━━━━━━━━━━━━━━┳━━━━━━━━━━━━━━━┓\n",
              "┃<span style=\"font-weight: bold\"> Layer (type)                    </span>┃<span style=\"font-weight: bold\"> Output Shape           </span>┃<span style=\"font-weight: bold\">       Param # </span>┃\n",
              "┡━━━━━━━━━━━━━━━━━━━━━━━━━━━━━━━━━╇━━━━━━━━━━━━━━━━━━━━━━━━╇━━━━━━━━━━━━━━━┩\n",
              "│ dense_60 (<span style=\"color: #0087ff; text-decoration-color: #0087ff\">Dense</span>)                │ (<span style=\"color: #00d7ff; text-decoration-color: #00d7ff\">None</span>, <span style=\"color: #00af00; text-decoration-color: #00af00\">400</span>)            │        <span style=\"color: #00af00; text-decoration-color: #00af00\">34,800</span> │\n",
              "├─────────────────────────────────┼────────────────────────┼───────────────┤\n",
              "│ dropout_15 (<span style=\"color: #0087ff; text-decoration-color: #0087ff\">Dropout</span>)            │ (<span style=\"color: #00d7ff; text-decoration-color: #00d7ff\">None</span>, <span style=\"color: #00af00; text-decoration-color: #00af00\">400</span>)            │             <span style=\"color: #00af00; text-decoration-color: #00af00\">0</span> │\n",
              "├─────────────────────────────────┼────────────────────────┼───────────────┤\n",
              "│ dense_61 (<span style=\"color: #0087ff; text-decoration-color: #0087ff\">Dense</span>)                │ (<span style=\"color: #00d7ff; text-decoration-color: #00d7ff\">None</span>, <span style=\"color: #00af00; text-decoration-color: #00af00\">400</span>)            │       <span style=\"color: #00af00; text-decoration-color: #00af00\">160,400</span> │\n",
              "├─────────────────────────────────┼────────────────────────┼───────────────┤\n",
              "│ dense_62 (<span style=\"color: #0087ff; text-decoration-color: #0087ff\">Dense</span>)                │ (<span style=\"color: #00d7ff; text-decoration-color: #00d7ff\">None</span>, <span style=\"color: #00af00; text-decoration-color: #00af00\">400</span>)            │       <span style=\"color: #00af00; text-decoration-color: #00af00\">160,400</span> │\n",
              "├─────────────────────────────────┼────────────────────────┼───────────────┤\n",
              "│ dense_63 (<span style=\"color: #0087ff; text-decoration-color: #0087ff\">Dense</span>)                │ (<span style=\"color: #00d7ff; text-decoration-color: #00d7ff\">None</span>, <span style=\"color: #00af00; text-decoration-color: #00af00\">1</span>)              │           <span style=\"color: #00af00; text-decoration-color: #00af00\">401</span> │\n",
              "└─────────────────────────────────┴────────────────────────┴───────────────┘\n",
              "</pre>\n"
            ],
            "text/plain": [
              "┏━━━━━━━━━━━━━━━━━━━━━━━━━━━━━━━━━┳━━━━━━━━━━━━━━━━━━━━━━━━┳━━━━━━━━━━━━━━━┓\n",
              "┃\u001b[1m \u001b[0m\u001b[1mLayer (type)                   \u001b[0m\u001b[1m \u001b[0m┃\u001b[1m \u001b[0m\u001b[1mOutput Shape          \u001b[0m\u001b[1m \u001b[0m┃\u001b[1m \u001b[0m\u001b[1m      Param #\u001b[0m\u001b[1m \u001b[0m┃\n",
              "┡━━━━━━━━━━━━━━━━━━━━━━━━━━━━━━━━━╇━━━━━━━━━━━━━━━━━━━━━━━━╇━━━━━━━━━━━━━━━┩\n",
              "│ dense_60 (\u001b[38;5;33mDense\u001b[0m)                │ (\u001b[38;5;45mNone\u001b[0m, \u001b[38;5;34m400\u001b[0m)            │        \u001b[38;5;34m34,800\u001b[0m │\n",
              "├─────────────────────────────────┼────────────────────────┼───────────────┤\n",
              "│ dropout_15 (\u001b[38;5;33mDropout\u001b[0m)            │ (\u001b[38;5;45mNone\u001b[0m, \u001b[38;5;34m400\u001b[0m)            │             \u001b[38;5;34m0\u001b[0m │\n",
              "├─────────────────────────────────┼────────────────────────┼───────────────┤\n",
              "│ dense_61 (\u001b[38;5;33mDense\u001b[0m)                │ (\u001b[38;5;45mNone\u001b[0m, \u001b[38;5;34m400\u001b[0m)            │       \u001b[38;5;34m160,400\u001b[0m │\n",
              "├─────────────────────────────────┼────────────────────────┼───────────────┤\n",
              "│ dense_62 (\u001b[38;5;33mDense\u001b[0m)                │ (\u001b[38;5;45mNone\u001b[0m, \u001b[38;5;34m400\u001b[0m)            │       \u001b[38;5;34m160,400\u001b[0m │\n",
              "├─────────────────────────────────┼────────────────────────┼───────────────┤\n",
              "│ dense_63 (\u001b[38;5;33mDense\u001b[0m)                │ (\u001b[38;5;45mNone\u001b[0m, \u001b[38;5;34m1\u001b[0m)              │           \u001b[38;5;34m401\u001b[0m │\n",
              "└─────────────────────────────────┴────────────────────────┴───────────────┘\n"
            ]
          },
          "metadata": {},
          "output_type": "display_data"
        },
        {
          "data": {
            "text/html": [
              "<pre style=\"white-space:pre;overflow-x:auto;line-height:normal;font-family:Menlo,'DejaVu Sans Mono',consolas,'Courier New',monospace\"><span style=\"font-weight: bold\"> Total params: </span><span style=\"color: #00af00; text-decoration-color: #00af00\">1,068,005</span> (4.07 MB)\n",
              "</pre>\n"
            ],
            "text/plain": [
              "\u001b[1m Total params: \u001b[0m\u001b[38;5;34m1,068,005\u001b[0m (4.07 MB)\n"
            ]
          },
          "metadata": {},
          "output_type": "display_data"
        },
        {
          "data": {
            "text/html": [
              "<pre style=\"white-space:pre;overflow-x:auto;line-height:normal;font-family:Menlo,'DejaVu Sans Mono',consolas,'Courier New',monospace\"><span style=\"font-weight: bold\"> Trainable params: </span><span style=\"color: #00af00; text-decoration-color: #00af00\">356,001</span> (1.36 MB)\n",
              "</pre>\n"
            ],
            "text/plain": [
              "\u001b[1m Trainable params: \u001b[0m\u001b[38;5;34m356,001\u001b[0m (1.36 MB)\n"
            ]
          },
          "metadata": {},
          "output_type": "display_data"
        },
        {
          "data": {
            "text/html": [
              "<pre style=\"white-space:pre;overflow-x:auto;line-height:normal;font-family:Menlo,'DejaVu Sans Mono',consolas,'Courier New',monospace\"><span style=\"font-weight: bold\"> Non-trainable params: </span><span style=\"color: #00af00; text-decoration-color: #00af00\">0</span> (0.00 B)\n",
              "</pre>\n"
            ],
            "text/plain": [
              "\u001b[1m Non-trainable params: \u001b[0m\u001b[38;5;34m0\u001b[0m (0.00 B)\n"
            ]
          },
          "metadata": {},
          "output_type": "display_data"
        },
        {
          "data": {
            "text/html": [
              "<pre style=\"white-space:pre;overflow-x:auto;line-height:normal;font-family:Menlo,'DejaVu Sans Mono',consolas,'Courier New',monospace\"><span style=\"font-weight: bold\"> Optimizer params: </span><span style=\"color: #00af00; text-decoration-color: #00af00\">712,004</span> (2.72 MB)\n",
              "</pre>\n"
            ],
            "text/plain": [
              "\u001b[1m Optimizer params: \u001b[0m\u001b[38;5;34m712,004\u001b[0m (2.72 MB)\n"
            ]
          },
          "metadata": {},
          "output_type": "display_data"
        },
        {
          "name": "stdout",
          "output_type": "stream",
          "text": [
            "\u001b[1m1/2\u001b[0m \u001b[32m━━━━━━━━━━\u001b[0m\u001b[37m━━━━━━━━━━\u001b[0m \u001b[1m0s\u001b[0m 81ms/stepWARNING:tensorflow:5 out of the last 35 calls to <function TensorFlowTrainer.make_predict_function.<locals>.one_step_on_data_distributed at 0x00000241345AD8A0> triggered tf.function retracing. Tracing is expensive and the excessive number of tracings could be due to (1) creating @tf.function repeatedly in a loop, (2) passing tensors with different shapes, (3) passing Python objects instead of tensors. For (1), please define your @tf.function outside of the loop. For (2), @tf.function has reduce_retracing=True option that can avoid unnecessary retracing. For (3), please refer to https://www.tensorflow.org/guide/function#controlling_retracing and https://www.tensorflow.org/api_docs/python/tf/function for  more details.\n",
            "\u001b[1m2/2\u001b[0m \u001b[32m━━━━━━━━━━━━━━━━━━━━\u001b[0m\u001b[37m\u001b[0m \u001b[1m0s\u001b[0m 142ms/step\n",
            "Accuracy on train set: 100.00%\n",
            "\u001b[1m1/1\u001b[0m \u001b[32m━━━━━━━━━━━━━━━━━━━━\u001b[0m\u001b[37m\u001b[0m \u001b[1m0s\u001b[0m 47ms/step\n",
            "Accuracy on test set: 57.89%\n",
            "[[3 5]\n",
            " [3 8]]\n"
          ]
        },
        {
          "data": {
            "image/png": "[encoded data removed]",
            "text/plain": [
              "<Figure size 800x600 with 1 Axes>"
            ]
          },
          "metadata": {},
          "output_type": "display_data"
        },
        {
          "name": "stdout",
          "output_type": "stream",
          "text": [
            "\u001b[1m1/1\u001b[0m \u001b[32m━━━━━━━━━━━━━━━━━━━━\u001b[0m\u001b[37m\u001b[0m \u001b[1m0s\u001b[0m 76ms/step\n",
            "DNN\n",
            "Accuracy: 0.5789473684210527\n"
          ]
        }
      ],
      "source": [
        "history_dr, model_dnn_dr = run_binary_mlp(X_train3, y_train3, X_test3, y_test3,400,50)\n",
        "plot_training_history(history_dr)\n",
        "\n",
        "predicted_probabilities = model_dnn_dr.predict(X_test3)\n",
        "predicted_probabilities = np.rint(predicted_probabilities)\n",
        "print(\"DNN\")\n",
        "new_row = {'Model': ['CFS DNN'], 'Accuracy': accuracy_score(y_test3, predicted_probabilities)}\n",
        "model_results_df.loc[len(model_results_df)] = new_row\n",
        "print(\"Accuracy:\", accuracy_score(y_test3, predicted_probabilities))"
      ]
    },
    {
      "cell_type": "markdown",
      "metadata": {},
      "source": [
        "### Random Forrest "
      ]
    },
    {
      "cell_type": "code",
      "execution_count": 453,
      "metadata": {},
      "outputs": [
        {
          "name": "stdout",
          "output_type": "stream",
          "text": [
            "Random Forest\n",
            "Accuracy: 0.631578947368421\n"
          ]
        }
      ],
      "source": [
        "clf = RandomForestClassifier(max_depth=1000, random_state=42)\n",
        "clf.fit(X_train3, y_train3)\n",
        "\n",
        "preds_rf = clf.predict(X_test3)\n",
        "new_row = {'Model': ['CFS Random Forest'], 'Accuracy': accuracy_score(y_test3, preds_rf)}\n",
        "model_results_df.loc[len(model_results_df)] = new_row\n",
        "print(\"Random Forest\")\n",
        "print(\"Accuracy:\", accuracy_score(y_test3, preds_rf))"
      ]
    },
    {
      "cell_type": "markdown",
      "metadata": {},
      "source": [
        "### KNN"
      ]
    },
    {
      "cell_type": "code",
      "execution_count": 455,
      "metadata": {},
      "outputs": [
        {
          "name": "stdout",
          "output_type": "stream",
          "text": [
            "KNN\n",
            "Accuracy: 0.631578947368421\n"
          ]
        }
      ],
      "source": [
        "neigh = KNeighborsClassifier(n_neighbors=21)\n",
        "neigh.fit(X_train3, y_train3)\n",
        "\n",
        "preds_knn = neigh.predict(X_test3)\n",
        "new_row = {'Model': ['CFS KNN'], 'Accuracy': accuracy_score(y_test3, preds_knn)}\n",
        "model_results_df.loc[len(model_results_df)] = new_row\n",
        "print(\"KNN\")\n",
        "print(\"Accuracy:\", accuracy_score(y_test3, preds_knn))"
      ]
    },
    {
      "cell_type": "markdown",
      "metadata": {},
      "source": [
        "### Decision Tree Classifier"
      ]
    },
    {
      "cell_type": "code",
      "execution_count": 456,
      "metadata": {},
      "outputs": [
        {
          "name": "stdout",
          "output_type": "stream",
          "text": [
            "Decision Tree\n",
            "Accuracy: 0.7368421052631579\n"
          ]
        }
      ],
      "source": [
        "dtc = DecisionTreeClassifier(random_state=0)\n",
        "dtc.fit(X_train3, y_train3)\n",
        "\n",
        "preds_dtc = dtc.predict(X_test3)\n",
        "new_row = {'Model': ['CFS Decision Tree Classifier'], 'Accuracy': accuracy_score(y_test3, preds_dtc)}\n",
        "model_results_df.loc[len(model_results_df)] = new_row\n",
        "print(\"Decision Tree\")\n",
        "print(\"Accuracy:\", accuracy_score(y_test3, preds_dtc))"
      ]
    },
    {
      "cell_type": "markdown",
      "metadata": {},
      "source": [
        "### SVM"
      ]
    },
    {
      "cell_type": "code",
      "execution_count": 457,
      "metadata": {},
      "outputs": [
        {
          "name": "stdout",
          "output_type": "stream",
          "text": [
            "svm\n",
            "Accuracy: 0.5263157894736842\n"
          ]
        }
      ],
      "source": [
        "svm_model = svm.SVC()\n",
        "svm_model.fit(X_train3, y_train3)\n",
        "\n",
        "preds_svm = svm_model.predict(X_test3)\n",
        "new_row = {'Model': ['CFS SVM'], 'Accuracy': accuracy_score(y_test3, preds_svm)}\n",
        "model_results_df.loc[len(model_results_df)] = new_row\n",
        "print(\"svm\")\n",
        "print(\"Accuracy:\", accuracy_score(y_test3, preds_svm))"
      ]
    },
    {
      "cell_type": "markdown",
      "metadata": {},
      "source": [
        "### Gaussian NB"
      ]
    },
    {
      "cell_type": "code",
      "execution_count": 458,
      "metadata": {},
      "outputs": [
        {
          "name": "stdout",
          "output_type": "stream",
          "text": [
            "gaussianNB\n",
            "Accuracy: 0.5789473684210527\n"
          ]
        }
      ],
      "source": [
        "gnb = GaussianNB()\n",
        "\n",
        "gnb_preds = gnb.fit(X_train3, y_train3).predict(X_test3)\n",
        "new_row = {'Model': ['CFS Gaussian NB'], 'Accuracy': accuracy_score(y_test3, gnb_preds)}\n",
        "model_results_df.loc[len(model_results_df)] = new_row\n",
        "print(\"gaussianNB\")\n",
        "print(\"Accuracy:\", accuracy_score(y_test3, gnb_preds))"
      ]
    },
    {
      "cell_type": "code",
      "execution_count": 459,
      "metadata": {},
      "outputs": [
        {
          "data": {
            "text/html": [
              "<div>\n",
              "<style scoped>\n",
              "    .dataframe tbody tr th:only-of-type {\n",
              "        vertical-align: middle;\n",
              "    }\n",
              "\n",
              "    .dataframe tbody tr th {\n",
              "        vertical-align: top;\n",
              "    }\n",
              "\n",
              "    .dataframe thead th {\n",
              "        text-align: right;\n",
              "    }\n",
              "</style>\n",
              "<table border=\"1\" class=\"dataframe\">\n",
              "  <thead>\n",
              "    <tr style=\"text-align: right;\">\n",
              "      <th></th>\n",
              "      <th>Model</th>\n",
              "      <th>Accuracy</th>\n",
              "    </tr>\n",
              "  </thead>\n",
              "  <tbody>\n",
              "    <tr>\n",
              "      <th>0</th>\n",
              "      <td>Baseline</td>\n",
              "      <td>0.699205</td>\n",
              "    </tr>\n",
              "    <tr>\n",
              "      <th>1</th>\n",
              "      <td>[Linear Regression All]</td>\n",
              "      <td>0.665370</td>\n",
              "    </tr>\n",
              "    <tr>\n",
              "      <th>2</th>\n",
              "      <td>[Linear Regression Greedy]</td>\n",
              "      <td>0.719844</td>\n",
              "    </tr>\n",
              "    <tr>\n",
              "      <th>3</th>\n",
              "      <td>[DNN]</td>\n",
              "      <td>0.708171</td>\n",
              "    </tr>\n",
              "    <tr>\n",
              "      <th>4</th>\n",
              "      <td>[Random Forest]</td>\n",
              "      <td>0.715953</td>\n",
              "    </tr>\n",
              "    <tr>\n",
              "      <th>5</th>\n",
              "      <td>[KNN]</td>\n",
              "      <td>0.673152</td>\n",
              "    </tr>\n",
              "    <tr>\n",
              "      <th>6</th>\n",
              "      <td>[Decision Tree Classifier]</td>\n",
              "      <td>0.645914</td>\n",
              "    </tr>\n",
              "    <tr>\n",
              "      <th>7</th>\n",
              "      <td>[SVM]</td>\n",
              "      <td>0.708171</td>\n",
              "    </tr>\n",
              "    <tr>\n",
              "      <th>8</th>\n",
              "      <td>[Gaussian NB]</td>\n",
              "      <td>0.653696</td>\n",
              "    </tr>\n",
              "    <tr>\n",
              "      <th>9</th>\n",
              "      <td>[Feature Reduced Linear Regression]</td>\n",
              "      <td>0.578947</td>\n",
              "    </tr>\n",
              "    <tr>\n",
              "      <th>10</th>\n",
              "      <td>[Feature Reduced Greedy Linear Regression]</td>\n",
              "      <td>0.631579</td>\n",
              "    </tr>\n",
              "    <tr>\n",
              "      <th>11</th>\n",
              "      <td>[Feature Reduced DNN]</td>\n",
              "      <td>0.368421</td>\n",
              "    </tr>\n",
              "    <tr>\n",
              "      <th>12</th>\n",
              "      <td>[Feature Reduced Random Forest]</td>\n",
              "      <td>0.526316</td>\n",
              "    </tr>\n",
              "    <tr>\n",
              "      <th>13</th>\n",
              "      <td>[Feature Reduced KNN]</td>\n",
              "      <td>0.631579</td>\n",
              "    </tr>\n",
              "    <tr>\n",
              "      <th>14</th>\n",
              "      <td>[Feature Reduced Decision Tree Classifier]</td>\n",
              "      <td>0.578947</td>\n",
              "    </tr>\n",
              "    <tr>\n",
              "      <th>15</th>\n",
              "      <td>[Feature Reduced SVM]</td>\n",
              "      <td>0.631579</td>\n",
              "    </tr>\n",
              "    <tr>\n",
              "      <th>16</th>\n",
              "      <td>[Feature Reduced Gaussian NB]</td>\n",
              "      <td>0.631579</td>\n",
              "    </tr>\n",
              "    <tr>\n",
              "      <th>17</th>\n",
              "      <td>[CFS Linear Regression]</td>\n",
              "      <td>0.526316</td>\n",
              "    </tr>\n",
              "    <tr>\n",
              "      <th>18</th>\n",
              "      <td>[CFS Greedy Linear Regression]</td>\n",
              "      <td>0.578947</td>\n",
              "    </tr>\n",
              "    <tr>\n",
              "      <th>19</th>\n",
              "      <td>[CFS DNN]</td>\n",
              "      <td>0.578947</td>\n",
              "    </tr>\n",
              "    <tr>\n",
              "      <th>20</th>\n",
              "      <td>[CFS Random Forest]</td>\n",
              "      <td>0.631579</td>\n",
              "    </tr>\n",
              "    <tr>\n",
              "      <th>21</th>\n",
              "      <td>[CFS KNN]</td>\n",
              "      <td>0.631579</td>\n",
              "    </tr>\n",
              "    <tr>\n",
              "      <th>22</th>\n",
              "      <td>[CFS Decision Tree Classifier]</td>\n",
              "      <td>0.736842</td>\n",
              "    </tr>\n",
              "    <tr>\n",
              "      <th>23</th>\n",
              "      <td>[CFS SVM]</td>\n",
              "      <td>0.526316</td>\n",
              "    </tr>\n",
              "    <tr>\n",
              "      <th>24</th>\n",
              "      <td>[CFS Gaussian NB]</td>\n",
              "      <td>0.578947</td>\n",
              "    </tr>\n",
              "  </tbody>\n",
              "</table>\n",
              "</div>"
            ],
            "text/plain": [
              "                                         Model  Accuracy\n",
              "0                                     Baseline  0.699205\n",
              "1                      [Linear Regression All]  0.665370\n",
              "2                   [Linear Regression Greedy]  0.719844\n",
              "3                                        [DNN]  0.708171\n",
              "4                              [Random Forest]  0.715953\n",
              "5                                        [KNN]  0.673152\n",
              "6                   [Decision Tree Classifier]  0.645914\n",
              "7                                        [SVM]  0.708171\n",
              "8                                [Gaussian NB]  0.653696\n",
              "9          [Feature Reduced Linear Regression]  0.578947\n",
              "10  [Feature Reduced Greedy Linear Regression]  0.631579\n",
              "11                       [Feature Reduced DNN]  0.368421\n",
              "12             [Feature Reduced Random Forest]  0.526316\n",
              "13                       [Feature Reduced KNN]  0.631579\n",
              "14  [Feature Reduced Decision Tree Classifier]  0.578947\n",
              "15                       [Feature Reduced SVM]  0.631579\n",
              "16               [Feature Reduced Gaussian NB]  0.631579\n",
              "17                     [CFS Linear Regression]  0.526316\n",
              "18              [CFS Greedy Linear Regression]  0.578947\n",
              "19                                   [CFS DNN]  0.578947\n",
              "20                         [CFS Random Forest]  0.631579\n",
              "21                                   [CFS KNN]  0.631579\n",
              "22              [CFS Decision Tree Classifier]  0.736842\n",
              "23                                   [CFS SVM]  0.526316\n",
              "24                           [CFS Gaussian NB]  0.578947"
            ]
          },
          "execution_count": 459,
          "metadata": {},
          "output_type": "execute_result"
        }
      ],
      "source": [
        "model_results_df"
      ]
    },
    {
      "cell_type": "code",
      "execution_count": 460,
      "metadata": {},
      "outputs": [
        {
          "name": "stdout",
          "output_type": "stream",
          "text": [
            "                                          model_pair  p_bonf  significant\n",
            "                   Baseline vs Linear Regression All     1.0        False\n",
            "            Baseline vs CFS Decision Tree Classifier     1.0        False\n",
            "                                 Baseline vs CFS KNN     1.0        False\n",
            "                       Baseline vs CFS Random Forest     1.0        False\n",
            "                                 Baseline vs CFS DNN     1.0        False\n",
            "            Baseline vs CFS Greedy Linear Regression     1.0        False\n",
            "                   Baseline vs CFS Linear Regression     1.0        False\n",
            "             Baseline vs Feature Reduced Gaussian NB     1.0        False\n",
            "                     Baseline vs Feature Reduced SVM     1.0        False\n",
            "Baseline vs Feature Reduced Decision Tree Classifier     1.0        False\n",
            "                     Baseline vs Feature Reduced KNN     1.0        False\n",
            "           Baseline vs Feature Reduced Random Forest     1.0        False\n",
            "                     Baseline vs Feature Reduced DNN     1.0        False\n",
            "Baseline vs Feature Reduced Greedy Linear Regression     1.0        False\n",
            "       Baseline vs Feature Reduced Linear Regression     1.0        False\n",
            "                             Baseline vs Gaussian NB     1.0        False\n",
            "                                     Baseline vs SVM     1.0        False\n",
            "                Baseline vs Decision Tree Classifier     1.0        False\n",
            "                                     Baseline vs KNN     1.0        False\n",
            "                           Baseline vs Random Forest     1.0        False\n",
            "                                     Baseline vs DNN     1.0        False\n",
            "                Baseline vs Linear Regression Greedy     1.0        False\n",
            "                                 Baseline vs CFS SVM     1.0        False\n",
            "                         Baseline vs CFS Gaussian NB     1.0        False\n"
          ]
        }
      ],
      "source": [
        "N = len(X_test)\n",
        "\n",
        "# Ensure 'Model' column contains only strings\n",
        "model_results_df['Model'] = model_results_df['Model'].apply(lambda x: x[0] if isinstance(x, list) else x)\n",
        "\n",
        "# Build a dict: { model_name: count_correct }\n",
        "counts = (\n",
        "    model_results_df\n",
        "    .set_index('Model')['Accuracy']\n",
        "    .mul(N)\n",
        "    .round()\n",
        "    .astype(int)\n",
        "    .to_dict()\n",
        ")\n",
        "\n",
        "# Compare only Baseline vs each other model\n",
        "baseline_model = 'Baseline'\n",
        "other_models = [m for m in counts.keys() if m != baseline_model]\n",
        "\n",
        "results = []\n",
        "for other in other_models:\n",
        "    c1, c2 = counts[baseline_model], counts[other]\n",
        "    stat, p = proportions_ztest([c1, c2], [N, N])\n",
        "    results.append({\n",
        "        'model_1': baseline_model,\n",
        "        'model_2': other,\n",
        "        'z_stat': stat,\n",
        "        'p_raw': p\n",
        "    })\n",
        "\n",
        "res_df = pd.DataFrame(results)\n",
        "\n",
        "# Bonferroni-corrected alpha\n",
        "alpha = 0.05\n",
        "m = len(res_df)\n",
        "res_df['p_bonf'] = (res_df['p_raw'] * m).clip(upper=1.0)\n",
        "res_df['significant'] = res_df['p_bonf'] < alpha\n",
        "\n",
        "# Clean output\n",
        "res_df['model_pair'] = res_df['model_1'] + \" vs \" + res_df['model_2']\n",
        "summary_df = res_df[['model_pair', 'p_bonf', 'significant']].sort_values('p_bonf')\n",
        "\n",
        "print(summary_df.to_string(index=False))"
      ]
    }
  ],
  "metadata": {
    "kernelspec": {
      "display_name": "base",
      "language": "python",
      "name": "python3"
    },
    "language_info": {
      "codemirror_mode": {
        "name": "ipython",
        "version": 3
      },
      "file_extension": ".py",
      "mimetype": "text/x-python",
      "name": "python",
      "nbconvert_exporter": "python",
      "pygments_lexer": "ipython3",
      "version": "3.11.7"
    }
  },
  "nbformat": 4,
  "nbformat_minor": 2
}
