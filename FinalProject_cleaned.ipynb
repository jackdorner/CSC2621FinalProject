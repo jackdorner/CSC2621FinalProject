{
  "cells": [
    {
      "cell_type": "markdown",
      "metadata": {},
      "source": [
        "## Import Data"
      ]
    },
    {
      "cell_type": "code",
      "execution_count": 115,
      "metadata": {},
      "outputs": [
        {
          "name": "stdout",
          "output_type": "stream",
          "text": [
            "(924, 410)\n",
            "  TEAM NO  SEED  ROUND  NET RPI  RESUME  WAB RANK  ELO  B POWER  Q1 W  Q2 W  \\\n",
            "0    1000    12     64       54      83        63   24     58.7     1     3   \n",
            "1    1001     6      8       17      40        29   33     11.7     3     6   \n",
            "2    1002     4      1        8      19        13   15      5.3     6     6   \n",
            "3    1003    12     64       51     110        32   18     69.3     0     2   \n",
            "4    1004    15     64      101     165       103   74    106.3     0     1   \n",
            "\n",
            "   ...  Barttorvik_Neutral_BADJT RANK  Barttorvik_Neutral_AVG HGT RANK  \\\n",
            "0  ...                          284.0                            282.0   \n",
            "1  ...                           69.0                             61.0   \n",
            "2  ...                          277.0                             28.0   \n",
            "3  ...                           45.0                            197.0   \n",
            "4  ...                          140.0                            117.0   \n",
            "\n",
            "   Barttorvik_Neutral_EFF HGT RANK  Barttorvik_Neutral_EXP RANK  \\\n",
            "0                            162.0                         95.0   \n",
            "1                             26.0                        293.0   \n",
            "2                             61.0                        258.0   \n",
            "3                            201.0                        162.0   \n",
            "4                             52.0                        116.0   \n",
            "\n",
            "   Barttorvik_Neutral_TALENT RANK  Barttorvik_Neutral_FT% RANK  \\\n",
            "0                           173.0                         98.0   \n",
            "1                            17.0                         57.0   \n",
            "2                            23.0                        115.0   \n",
            "3                           339.0                         89.0   \n",
            "4                           339.0                        135.0   \n",
            "\n",
            "   Barttorvik_Neutral_OP FT% RANK  Barttorvik_Neutral_PPPO RANK  \\\n",
            "0                            60.0                          71.0   \n",
            "1                           120.0                          83.0   \n",
            "2                            84.0                          19.0   \n",
            "3                           136.0                         141.0   \n",
            "4                            43.0                           9.0   \n",
            "\n",
            "   Barttorvik_Neutral_PPPD RANK  Barttorvik_Neutral_ELITE SOS RANK  \n",
            "0                          29.0                              159.0  \n",
            "1                         247.0                               26.0  \n",
            "2                          68.0                                7.0  \n",
            "3                          11.0                              227.0  \n",
            "4                         202.0                              253.0  \n",
            "\n",
            "[5 rows x 410 columns]\n"
          ]
        }
      ],
      "source": [
        "import pandas as pd\n",
        "import matplotlib.pyplot as plt\n",
        "import seaborn as sns\n",
        "from sklearn.linear_model import LogisticRegression\n",
        "from sklearn.model_selection import cross_val_score, train_test_split\n",
        "from sklearn.metrics import accuracy_score, confusion_matrix, classification_report, ConfusionMatrixDisplay\n",
        "from scipy.stats import pearsonr\n",
        "import numpy as np\n",
        "from sklearn.preprocessing import StandardScaler\n",
        "import random\n",
        "from sklearn.datasets import make_blobs\n",
        "import tensorflow as tf\n",
        "from tensorflow.keras.models import Sequential\n",
        "from tensorflow.keras.layers import Dense, Dropout, Flatten\n",
        "from tensorflow.keras import backend as K\n",
        "from tensorflow.keras import layers\n",
        "from sklearn.ensemble import RandomForestClassifier\n",
        "from sklearn.neighbors import KNeighborsClassifier\n",
        "from sklearn.tree import DecisionTreeClassifier\n",
        "from sklearn import svm\n",
        "from sklearn.naive_bayes import GaussianNB\n",
        "from sklearn.decomposition import TruncatedSVD\n",
        "from statsmodels.stats.proportion import proportions_ztest\n",
        "import itertools\n",
        "\n",
        "matchup_df = pd.read_csv('Data_Needs_updated_after_selection_sunday/Tournament Matchups.csv')\n",
        "\n",
        "# Read both CSVs and set 'TEAM NO' as the index\n",
        "df_all = pd.read_csv(\"./Data_Needs_updated_after_selection_sunday/Resumes.csv\")\n",
        "df_temp = pd.read_csv(\"./Data_Needs_updated_after_selection_sunday/Shooting Splits.csv\")\n",
        "df_temp2 = pd.read_csv(\"./Data_Needs_updated_after_selection_sunday/TeamRankings Away.csv\")\n",
        "df_temp3 = pd.read_csv(\"./Data_Needs_updated_after_selection_sunday/TeamRankings Home.csv\")\n",
        "df_temp4 = pd.read_csv(\"./Data_Needs_updated_after_selection_sunday/TeamRankings Neutral.csv\")\n",
        "df_temp5 = pd.read_csv(\"./Data_Needs_updated_after_selection_sunday/KenPom Barttorvik.csv\")\n",
        "\n",
        "df_temp6 = pd.read_csv(\"./Data_Needs_updated_after_selection_sunday/Barttorvik Away.csv\")\n",
        "df_temp7 = pd.read_csv(\"./Data_Needs_updated_after_selection_sunday/Barttorvik Home.csv\")\n",
        "df_temp8 = pd.read_csv(\"./Data_Needs_updated_after_selection_sunday/Barttorvik Neutral.csv\")\n",
        "#df_temp9 = pd.read_csv(\"./Data_Needs_updated_after_selection_sunday/EvanMiya.csv\")\n",
        "\n",
        "# removing columns that are not needed\n",
        "df_all = df_all.drop(columns=['TEAM', 'BID TYPE'])\n",
        "df_temp = df_temp.drop(columns=['YEAR', 'TEAM ID', 'TEAM', \"CONF\"])\n",
        "df_temp2 = df_temp2.drop(columns=['YEAR', 'SEED', 'ROUND', \"TEAM\"])\n",
        "df_temp3 = df_temp3.drop(columns=['YEAR', 'SEED', 'ROUND', \"TEAM\"])\n",
        "df_temp4 = df_temp4.drop(columns=['YEAR', 'SEED', 'ROUND', \"TEAM\"])\n",
        "df_temp5 = df_temp5.drop(columns=[\"YEAR\", \"SEED\", \"ROUND\", \"TEAM\", \"TEAM ID\", \"CONF\",\"CONF ID\",\"QUAD NO\",\"QUAD ID\"])\n",
        "\n",
        "df_temp6 = df_temp6.drop(columns=['YEAR', 'SEED', 'ROUND', \"TEAM\", \"TEAM ID\"])\n",
        "df_temp7 = df_temp7.drop(columns=['YEAR', 'SEED', 'ROUND', \"TEAM\", \"TEAM ID\"])\n",
        "df_temp8 = df_temp8.drop(columns=['YEAR', 'SEED', 'ROUND', \"TEAM ID\"])\n",
        "#df_temp9 = df_temp9.drop(columns=['YEAR', 'SEED', 'TEAM', 'ROUND'])\n",
        "\n",
        "# Standardize 'TEAM NO'\n",
        "df_all['TEAM NO'] = df_all['TEAM NO'].astype(str).str.strip()\n",
        "df_temp['TEAM NO'] = df_temp['TEAM NO'].astype(str).str.strip()\n",
        "df_temp2['TEAM NO'] = df_temp2['TEAM NO'].astype(str).str.strip()\n",
        "df_temp3['TEAM NO'] = df_temp3['TEAM NO'].astype(str).str.strip()\n",
        "df_temp4['TEAM NO'] = df_temp4['TEAM NO'].astype(str).str.strip()\n",
        "df_temp5['TEAM NO'] = df_temp5['TEAM NO'].astype(str).str.strip()\n",
        "\n",
        "df_temp6['TEAM NO'] = df_temp6['TEAM NO'].astype(str).str.strip()\n",
        "df_temp7['TEAM NO'] = df_temp7['TEAM NO'].astype(str).str.strip()\n",
        "df_temp8['TEAM NO'] = df_temp8['TEAM NO'].astype(str).str.strip()\n",
        "#df_temp9['TEAM NO'] = df_temp9['TEAM NO'].astype(str).str.strip()\n",
        "\n",
        "# Remove duplicates\n",
        "df_all = df_all.drop_duplicates(subset='TEAM NO')\n",
        "df_temp = df_temp.drop_duplicates(subset='TEAM NO')\n",
        "df_temp2 = df_temp2.drop_duplicates(subset='TEAM NO')\n",
        "df_temp3 = df_temp3.drop_duplicates(subset='TEAM NO')\n",
        "df_temp4 = df_temp4.drop_duplicates(subset='TEAM NO')\n",
        "df_temp5 = df_temp5.drop_duplicates(subset='TEAM NO')\n",
        "df_temp6 = df_temp6.drop_duplicates(subset='TEAM NO')\n",
        "df_temp7 = df_temp7.drop_duplicates(subset='TEAM NO')\n",
        "df_temp8 = df_temp8.drop_duplicates(subset='TEAM NO')\n",
        "#df_temp9 = df_temp9.drop_duplicates(subset='TEAM NO')\n",
        "\n",
        "# Set 'TEAM NO' as the index\n",
        "df_all = df_all.set_index('TEAM NO')\n",
        "df_temp = df_temp.set_index('TEAM NO')\n",
        "df_temp2 = df_temp2.set_index('TEAM NO')\n",
        "df_temp3 = df_temp3.set_index('TEAM NO')\n",
        "df_temp4 = df_temp4.set_index('TEAM NO')\n",
        "df_temp5 = df_temp5.set_index(\"TEAM NO\")\n",
        "\n",
        "df_temp6 = df_temp6.set_index('TEAM NO')\n",
        "df_temp7 = df_temp7.set_index(\"TEAM NO\")\n",
        "df_temp8 = df_temp8.set_index('TEAM NO')\n",
        "#df_temp9 = df_temp9.set_index('TEAM NO')\n",
        "\n",
        "# Optional: Rename columns to avoid conflicts\n",
        "df_temp.columns = [f\"ShootingSplits_{col}\" for col in df_temp.columns]\n",
        "df_temp2.columns = [f\"TeamRankings_Away_{col}\" for col in df_temp2.columns]\n",
        "df_temp3.columns = [f\"TeamRankings_Home_{col}\" for col in df_temp3.columns]\n",
        "df_temp4.columns = [f\"TeamRankings_Neutral_{col}\" for col in df_temp4.columns]\n",
        "df_temp5.columns = [f\"KenPom_Barttorvik_{col}\" for col in df_temp5.columns]\n",
        "df_temp6.columns = [f\"Barttorvik_Away_{col}\" for col in df_temp6.columns]\n",
        "df_temp7.columns = [f\"Barttorvik_Home_{col}\" for col in df_temp7.columns]\n",
        "df_temp8.columns = [f\"Barttorvik_Neutral_{col}\" for col in df_temp8.columns]\n",
        "#df_temp9.columns = [f\"EvanMiya_{col}\" for col in df_temp9.columns]\n",
        "\n",
        "csv_DR_1 = list(df_temp.columns)\n",
        "csv_DR_2 = list(df_temp2.columns)\n",
        "csv_DR_3 = list(df_temp3.columns)\n",
        "csv_DR_4 = list(df_temp4.columns)\n",
        "csv_DR_5 = list(df_temp5.columns)\n",
        "csv_DR_6 = list(df_temp6.columns)\n",
        "csv_DR_7 = list(df_temp7.columns)\n",
        "csv_DR_8 = list(df_temp8.columns)\n",
        "\n",
        "# Now join on the index (TEAM NO)\n",
        "df_all = df_all.join(df_temp, how='outer')\n",
        "df_all = df_all.join(df_temp2, how='outer')\n",
        "df_all = df_all.join(df_temp3, how='outer')\n",
        "df_all = df_all.join(df_temp4, how='outer')\n",
        "df_all = df_all.join(df_temp5, how='outer')\n",
        "\n",
        "df_all = df_all.join(df_temp6, how='outer')\n",
        "df_all = df_all.join(df_temp7, how='outer')\n",
        "df_all = df_all.join(df_temp8, how='outer')\n",
        "#df_all = df_all.join(df_temp9, how='outer')\n",
        "# Reset index if needed\n",
        "df_all = df_all.dropna(axis=0)\n",
        "df_all = df_all.reset_index()\n",
        "\n",
        "df_all = df_all[df_all['YEAR'] != 2008]\n",
        "df_all = df_all[df_all['YEAR'] != 2009]\n",
        "df_all = df_all.dropna(axis=0)\n",
        "df_all = df_all.drop(columns=['YEAR'])\n",
        "\n",
        "df_all.rename(columns={'Barttorvik_Neutral_TEAM': 'TEAM'}, inplace=True)\n",
        "print(df_all.shape)\n",
        "print(df_all.head())\n"
      ]
    },
    {
      "cell_type": "code",
      "execution_count": 116,
      "metadata": {},
      "outputs": [],
      "source": [
        "# Write column names to a text file, one per line\n",
        "with open(\"columns.txt\", \"w\") as f:\n",
        "    for col in df_all.columns:\n",
        "        f.write(col + \"\\n\")"
      ]
    },
    {
      "cell_type": "code",
      "execution_count": 117,
      "metadata": {},
      "outputs": [
        {
          "name": "stdout",
          "output_type": "stream",
          "text": [
            "                                    mean median          mode\n",
            "ShootingSplits_DUNKS FG%       89.605952   90.1        [89.1]\n",
            "ShootingSplits_CLOSE TWOS FG%  62.498701   62.5        [62.8]\n",
            "ShootingSplits_THREES FG%      35.554762   35.5  [34.9, 36.5]\n",
            "Q1 W                            3.983766    4.0           [0]\n"
          ]
        }
      ],
      "source": [
        "features = ['ShootingSplits_DUNKS FG%', 'ShootingSplits_CLOSE TWOS FG%', 'ShootingSplits_THREES FG%', 'Q1 W']\n",
        "\n",
        "# Create a results dictionary\n",
        "results = {}\n",
        "\n",
        "for feature in features:\n",
        "    mean_val = df_all[feature].mean()\n",
        "    median_val = df_all[feature].median()\n",
        "    mode_val = df_all[feature].mode().tolist()  # In case of multiple modes\n",
        "    results[feature] = {\n",
        "        'mean': mean_val,\n",
        "        'median': median_val,\n",
        "        'mode': mode_val\n",
        "    }\n",
        "\n",
        "# Convert results to a DataFrame for better readability (optional)\n",
        "summary_df = pd.DataFrame(results).T  # Transpose so features are rows\n",
        "\n",
        "print(summary_df)"
      ]
    },
    {
      "cell_type": "markdown",
      "metadata": {},
      "source": [
        "## Hypothesis Testing"
      ]
    },
    {
      "cell_type": "code",
      "execution_count": 120,
      "metadata": {},
      "outputs": [],
      "source": [
        "def correlate_with_win_pct(df, team_col, win_pct_col, drop_columns=None):\n",
        "    \"\"\"\n",
        "    Computes Pearson correlation between numeric columns in `df` and historical win percentages from `team_stats_df`.\n",
        "    \n",
        "    Parameters:\n",
        "    - df: DataFrame with team features and a team name column.\n",
        "    - team_col: Column name for team names.\n",
        "    - win_pct_col: Column name for win percentage.\n",
        "    - drop_columns: List of column names to exclude from correlation testing.\n",
        "    \n",
        "    Returns:\n",
        "    - DataFrame with:\n",
        "        - variable_name\n",
        "        - test_statistic (Pearson r)\n",
        "        - p-value\n",
        "        - significant_relationship (Bonferroni corrected)\n",
        "    \"\"\"\n",
        "    if drop_columns is None:\n",
        "        drop_columns = []\n",
        "\n",
        "    df = df.copy()\n",
        "\n",
        "    # Convert percentage strings like \"40.0%\" to float if needed\n",
        "    if df[win_pct_col].dtype == 'object':\n",
        "        df[win_pct_col] = (\n",
        "            df[win_pct_col]\n",
        "            .str.replace('%', '', regex=False)\n",
        "            .astype(float) / 100\n",
        "        )\n",
        "\n",
        "    variable_names = []\n",
        "    list_corr_values = []\n",
        "    list_p_values = []\n",
        "\n",
        "    for col in df.columns:\n",
        "        if col in [team_col, win_pct_col] or col in drop_columns:\n",
        "            continue\n",
        "        if pd.api.types.is_numeric_dtype(df[col]):\n",
        "            valid = df[[col, win_pct_col]].dropna()\n",
        "            if len(valid) >= 2:\n",
        "                corr, pval = pearsonr(valid[col], valid[win_pct_col])\n",
        "                variable_names.append(col)\n",
        "                list_corr_values.append(corr)\n",
        "                list_p_values.append(pval)\n",
        "\n",
        "    # Create result DataFrame\n",
        "    result_df = pd.DataFrame({\n",
        "        'variable_name': variable_names,\n",
        "        'test_statistic (Pearson r)': list_corr_values,\n",
        "        'p-value': list_p_values\n",
        "    })\n",
        "\n",
        "    # Bonferroni correction\n",
        "    alpha = 0.05\n",
        "    num_tests = len(variable_names)\n",
        "    result_df['significant_relationship'] = result_df['p-value'] < (alpha / num_tests)\n",
        "\n",
        "    return result_df"
      ]
    },
    {
      "cell_type": "code",
      "execution_count": 121,
      "metadata": {},
      "outputs": [
        {
          "data": {
            "text/html": [
              "<div>\n",
              "<style scoped>\n",
              "    .dataframe tbody tr th:only-of-type {\n",
              "        vertical-align: middle;\n",
              "    }\n",
              "\n",
              "    .dataframe tbody tr th {\n",
              "        vertical-align: top;\n",
              "    }\n",
              "\n",
              "    .dataframe thead th {\n",
              "        text-align: right;\n",
              "    }\n",
              "</style>\n",
              "<table border=\"1\" class=\"dataframe\">\n",
              "  <thead>\n",
              "    <tr style=\"text-align: right;\">\n",
              "      <th></th>\n",
              "      <th>variable_name</th>\n",
              "      <th>test_statistic (Pearson r)</th>\n",
              "      <th>p-value</th>\n",
              "      <th>significant_relationship</th>\n",
              "    </tr>\n",
              "  </thead>\n",
              "  <tbody>\n",
              "    <tr>\n",
              "      <th>0</th>\n",
              "      <td>SEED</td>\n",
              "      <td>-0.517348</td>\n",
              "      <td>2.187552e-64</td>\n",
              "      <td>True</td>\n",
              "    </tr>\n",
              "    <tr>\n",
              "      <th>1</th>\n",
              "      <td>ROUND</td>\n",
              "      <td>-0.357850</td>\n",
              "      <td>2.677343e-29</td>\n",
              "      <td>True</td>\n",
              "    </tr>\n",
              "    <tr>\n",
              "      <th>2</th>\n",
              "      <td>NET RPI</td>\n",
              "      <td>-0.585135</td>\n",
              "      <td>5.457116e-86</td>\n",
              "      <td>True</td>\n",
              "    </tr>\n",
              "    <tr>\n",
              "      <th>3</th>\n",
              "      <td>RESUME</td>\n",
              "      <td>-0.396917</td>\n",
              "      <td>3.131446e-36</td>\n",
              "      <td>True</td>\n",
              "    </tr>\n",
              "    <tr>\n",
              "      <th>4</th>\n",
              "      <td>WAB RANK</td>\n",
              "      <td>-0.634550</td>\n",
              "      <td>2.861325e-105</td>\n",
              "      <td>True</td>\n",
              "    </tr>\n",
              "    <tr>\n",
              "      <th>...</th>\n",
              "      <td>...</td>\n",
              "      <td>...</td>\n",
              "      <td>...</td>\n",
              "      <td>...</td>\n",
              "    </tr>\n",
              "    <tr>\n",
              "      <th>402</th>\n",
              "      <td>Barttorvik_Neutral_FT% RANK</td>\n",
              "      <td>0.010132</td>\n",
              "      <td>7.583935e-01</td>\n",
              "      <td>False</td>\n",
              "    </tr>\n",
              "    <tr>\n",
              "      <th>403</th>\n",
              "      <td>Barttorvik_Neutral_OP FT% RANK</td>\n",
              "      <td>0.019000</td>\n",
              "      <td>5.640637e-01</td>\n",
              "      <td>False</td>\n",
              "    </tr>\n",
              "    <tr>\n",
              "      <th>404</th>\n",
              "      <td>Barttorvik_Neutral_PPPO RANK</td>\n",
              "      <td>-0.237212</td>\n",
              "      <td>2.765037e-13</td>\n",
              "      <td>True</td>\n",
              "    </tr>\n",
              "    <tr>\n",
              "      <th>405</th>\n",
              "      <td>Barttorvik_Neutral_PPPD RANK</td>\n",
              "      <td>-0.182263</td>\n",
              "      <td>2.410359e-08</td>\n",
              "      <td>True</td>\n",
              "    </tr>\n",
              "    <tr>\n",
              "      <th>406</th>\n",
              "      <td>Barttorvik_Neutral_ELITE SOS RANK</td>\n",
              "      <td>-0.169534</td>\n",
              "      <td>2.172059e-07</td>\n",
              "      <td>True</td>\n",
              "    </tr>\n",
              "  </tbody>\n",
              "</table>\n",
              "<p>407 rows × 4 columns</p>\n",
              "</div>"
            ],
            "text/plain": [
              "                         variable_name  test_statistic (Pearson r)  \\\n",
              "0                                 SEED                   -0.517348   \n",
              "1                                ROUND                   -0.357850   \n",
              "2                              NET RPI                   -0.585135   \n",
              "3                               RESUME                   -0.396917   \n",
              "4                             WAB RANK                   -0.634550   \n",
              "..                                 ...                         ...   \n",
              "402        Barttorvik_Neutral_FT% RANK                    0.010132   \n",
              "403     Barttorvik_Neutral_OP FT% RANK                    0.019000   \n",
              "404       Barttorvik_Neutral_PPPO RANK                   -0.237212   \n",
              "405       Barttorvik_Neutral_PPPD RANK                   -0.182263   \n",
              "406  Barttorvik_Neutral_ELITE SOS RANK                   -0.169534   \n",
              "\n",
              "           p-value  significant_relationship  \n",
              "0     2.187552e-64                      True  \n",
              "1     2.677343e-29                      True  \n",
              "2     5.457116e-86                      True  \n",
              "3     3.131446e-36                      True  \n",
              "4    2.861325e-105                      True  \n",
              "..             ...                       ...  \n",
              "402   7.583935e-01                     False  \n",
              "403   5.640637e-01                     False  \n",
              "404   2.765037e-13                      True  \n",
              "405   2.410359e-08                      True  \n",
              "406   2.172059e-07                      True  \n",
              "\n",
              "[407 rows x 4 columns]"
            ]
          },
          "execution_count": 121,
          "metadata": {},
          "output_type": "execute_result"
        }
      ],
      "source": [
        "pearsons_results = correlate_with_win_pct(df_all, team_col=\"TEAM NO\", win_pct_col='KenPom_Barttorvik_WIN%')\n",
        "pearsons_results.to_csv('person_results.csv', index=False)\n",
        "pearsons_results"
      ]
    },
    {
      "cell_type": "code",
      "execution_count": 122,
      "metadata": {},
      "outputs": [
        {
          "data": {
            "text/plain": [
              "259"
            ]
          },
          "execution_count": 122,
          "metadata": {},
          "output_type": "execute_result"
        }
      ],
      "source": [
        "pearsons_results = pearsons_results[pearsons_results['significant_relationship'] == True]\n",
        "len(pearsons_results)"
      ]
    },
    {
      "cell_type": "markdown",
      "metadata": {},
      "source": [
        "**Kruskal-Wallis Comparing Each Feature to Tournament Round Rached**"
      ]
    },
    {
      "cell_type": "code",
      "execution_count": 123,
      "metadata": {},
      "outputs": [],
      "source": [
        "team_rankings_df = pd.read_csv(\"./Data_Needs_updated_after_selection_sunday/TeamRankings.csv\")\n",
        "\n",
        "round_reached_all_time = team_rankings_df[['TEAM NO', 'ROUND']]\n",
        "\n",
        "round_reached_dict = dict(zip(round_reached_all_time['TEAM NO'], round_reached_all_time['ROUND']))\n",
        "\n",
        "def create_stat_vs_round_vector(df, feature_name):\n",
        "    stat_vector = []\n",
        "    round_vector = []\n",
        "    stat_dict = dict(zip(df['TEAM NO'], df[feature_name]))\n",
        "    \n",
        "    for team_no in round_reached_dict:\n",
        "        if team_no > 131 and team_no <= 1000:\n",
        "            team_no = str(team_no)\n",
        "            if team_no in stat_dict:\n",
        "                stat_vector.append(stat_dict[team_no])\n",
        "                \n",
        "                team_no = int(team_no)\n",
        "                round_vector.append(round_reached_dict[team_no])\n",
        "            \n",
        "    return stat_vector, round_vector"
      ]
    },
    {
      "cell_type": "code",
      "execution_count": 124,
      "metadata": {},
      "outputs": [],
      "source": [
        "import seaborn as sns\n",
        "from scipy.stats import kruskal\n",
        "import numpy as np\n",
        "\n",
        "list_KW_values = []\n",
        "list_p_values = []\n",
        "valid_columns = []\n",
        "\n",
        "def perform_kruskal_wallis(df):\n",
        "    features = df.columns\n",
        "\n",
        "    for feature_name in features:\n",
        "        \n",
        "        samples_by_group = []\n",
        "\n",
        "        stat_vector, round_vector = create_stat_vs_round_vector(df, feature_name)\n",
        "\n",
        "        stat_vector = np.array(stat_vector)\n",
        "        round_vector = np.array(round_vector)\n",
        "        \n",
        "        # Combines data for champion, finalist, and final four teams \n",
        "        replace_dict = {1 : 4, 2 : 4}\n",
        "        rounds = np.array([replace_dict.get(x, x) for x in round_vector])\n",
        "        \n",
        "        for value in np.unique(rounds):\n",
        "            mask = rounds == value\n",
        "            data = stat_vector[mask]\n",
        "            if len(np.unique(data)) > 1:\n",
        "                samples_by_group.append(data)\n",
        "        \n",
        "        \n",
        "        if len(samples_by_group) >= 2:\n",
        "            stat, p = kruskal(*samples_by_group)\n",
        "            list_KW_values.append(stat)\n",
        "            list_p_values.append(p)\n",
        "            valid_columns.append(feature_name)\n",
        "        \n",
        "\n",
        "        # sns.violinplot(x = rounds, y = stat_vector)\n",
        "\n",
        "        # plt.title(f'{feature_name} vs Round')\n",
        "        # plt.xlabel('Round Reached')\n",
        "        # plt.ylabel(feature_name)\n",
        "        # plt.show()\n",
        "\n",
        "    df2 = pd.DataFrame({\n",
        "        'variable_name': valid_columns,\n",
        "        'test_statistic (K.W.)': list_KW_values,\n",
        "        'p-value': list_p_values\n",
        "    })\n",
        "    alpha = 0.05\n",
        "    num_hypothesis_tests = len(valid_columns)\n",
        "\n",
        "    # Bonferroni Correction\n",
        "    df2['significant_relationship'] = df2['p-value'] < (alpha / num_hypothesis_tests)\n",
        "\n",
        "    return df2"
      ]
    },
    {
      "cell_type": "code",
      "execution_count": 125,
      "metadata": {},
      "outputs": [
        {
          "name": "stdout",
          "output_type": "stream",
          "text": [
            "Number of Significant Features: 190\n"
          ]
        },
        {
          "data": {
            "text/html": [
              "<div>\n",
              "<style scoped>\n",
              "    .dataframe tbody tr th:only-of-type {\n",
              "        vertical-align: middle;\n",
              "    }\n",
              "\n",
              "    .dataframe tbody tr th {\n",
              "        vertical-align: top;\n",
              "    }\n",
              "\n",
              "    .dataframe thead th {\n",
              "        text-align: right;\n",
              "    }\n",
              "</style>\n",
              "<table border=\"1\" class=\"dataframe\">\n",
              "  <thead>\n",
              "    <tr style=\"text-align: right;\">\n",
              "      <th></th>\n",
              "      <th>variable_name</th>\n",
              "      <th>test_statistic (K.W.)</th>\n",
              "      <th>p-value</th>\n",
              "      <th>significant_relationship</th>\n",
              "    </tr>\n",
              "  </thead>\n",
              "  <tbody>\n",
              "    <tr>\n",
              "      <th>133</th>\n",
              "      <td>KenPom_Barttorvik_WAB</td>\n",
              "      <td>310.904995</td>\n",
              "      <td>4.526707e-65</td>\n",
              "      <td>True</td>\n",
              "    </tr>\n",
              "    <tr>\n",
              "      <th>4</th>\n",
              "      <td>WAB RANK</td>\n",
              "      <td>310.806685</td>\n",
              "      <td>4.752536e-65</td>\n",
              "      <td>True</td>\n",
              "    </tr>\n",
              "    <tr>\n",
              "      <th>1</th>\n",
              "      <td>SEED</td>\n",
              "      <td>305.947454</td>\n",
              "      <td>5.271024e-64</td>\n",
              "      <td>True</td>\n",
              "    </tr>\n",
              "    <tr>\n",
              "      <th>12</th>\n",
              "      <td>R SCORE</td>\n",
              "      <td>301.758481</td>\n",
              "      <td>4.193695e-63</td>\n",
              "      <td>True</td>\n",
              "    </tr>\n",
              "    <tr>\n",
              "      <th>95</th>\n",
              "      <td>KenPom_Barttorvik_BARTHAG</td>\n",
              "      <td>300.492257</td>\n",
              "      <td>7.849334e-63</td>\n",
              "      <td>True</td>\n",
              "    </tr>\n",
              "    <tr>\n",
              "      <th>...</th>\n",
              "      <td>...</td>\n",
              "      <td>...</td>\n",
              "      <td>...</td>\n",
              "      <td>...</td>\n",
              "    </tr>\n",
              "    <tr>\n",
              "      <th>103</th>\n",
              "      <td>KenPom_Barttorvik_FTRD</td>\n",
              "      <td>26.405372</td>\n",
              "      <td>7.444841e-05</td>\n",
              "      <td>True</td>\n",
              "    </tr>\n",
              "    <tr>\n",
              "      <th>406</th>\n",
              "      <td>Barttorvik_Neutral_PPPO RANK</td>\n",
              "      <td>26.116395</td>\n",
              "      <td>8.471512e-05</td>\n",
              "      <td>True</td>\n",
              "    </tr>\n",
              "    <tr>\n",
              "      <th>27</th>\n",
              "      <td>ShootingSplits_THREES FG%D</td>\n",
              "      <td>26.091350</td>\n",
              "      <td>8.566831e-05</td>\n",
              "      <td>True</td>\n",
              "    </tr>\n",
              "    <tr>\n",
              "      <th>298</th>\n",
              "      <td>Barttorvik_Home_FTR RANK</td>\n",
              "      <td>25.863080</td>\n",
              "      <td>9.486069e-05</td>\n",
              "      <td>True</td>\n",
              "    </tr>\n",
              "    <tr>\n",
              "      <th>39</th>\n",
              "      <td>ShootingSplits_FARTHER TWOS FG%D RANK</td>\n",
              "      <td>25.768443</td>\n",
              "      <td>9.895227e-05</td>\n",
              "      <td>True</td>\n",
              "    </tr>\n",
              "  </tbody>\n",
              "</table>\n",
              "<p>190 rows × 4 columns</p>\n",
              "</div>"
            ],
            "text/plain": [
              "                             variable_name  test_statistic (K.W.)  \\\n",
              "133                  KenPom_Barttorvik_WAB             310.904995   \n",
              "4                                 WAB RANK             310.806685   \n",
              "1                                     SEED             305.947454   \n",
              "12                                 R SCORE             301.758481   \n",
              "95               KenPom_Barttorvik_BARTHAG             300.492257   \n",
              "..                                     ...                    ...   \n",
              "103                 KenPom_Barttorvik_FTRD              26.405372   \n",
              "406           Barttorvik_Neutral_PPPO RANK              26.116395   \n",
              "27              ShootingSplits_THREES FG%D              26.091350   \n",
              "298               Barttorvik_Home_FTR RANK              25.863080   \n",
              "39   ShootingSplits_FARTHER TWOS FG%D RANK              25.768443   \n",
              "\n",
              "          p-value  significant_relationship  \n",
              "133  4.526707e-65                      True  \n",
              "4    4.752536e-65                      True  \n",
              "1    5.271024e-64                      True  \n",
              "12   4.193695e-63                      True  \n",
              "95   7.849334e-63                      True  \n",
              "..            ...                       ...  \n",
              "103  7.444841e-05                      True  \n",
              "406  8.471512e-05                      True  \n",
              "27   8.566831e-05                      True  \n",
              "298  9.486069e-05                      True  \n",
              "39   9.895227e-05                      True  \n",
              "\n",
              "[190 rows x 4 columns]"
            ]
          },
          "execution_count": 125,
          "metadata": {},
          "output_type": "execute_result"
        }
      ],
      "source": [
        "KW_results = perform_kruskal_wallis(df_all)\n",
        "KW_significant_results = KW_results[KW_results['significant_relationship'] == True]\n",
        "KW_significant_results = KW_significant_results.sort_values(by = 'p-value')\n",
        "print(f'Number of Significant Features: {len(KW_significant_results)}')\n",
        "KW_significant_results.head(len(KW_significant_results))"
      ]
    },
    {
      "cell_type": "code",
      "execution_count": 126,
      "metadata": {},
      "outputs": [
        {
          "data": {
            "text/html": [
              "<div>\n",
              "<style scoped>\n",
              "    .dataframe tbody tr th:only-of-type {\n",
              "        vertical-align: middle;\n",
              "    }\n",
              "\n",
              "    .dataframe tbody tr th {\n",
              "        vertical-align: top;\n",
              "    }\n",
              "\n",
              "    .dataframe thead th {\n",
              "        text-align: right;\n",
              "    }\n",
              "</style>\n",
              "<table border=\"1\" class=\"dataframe\">\n",
              "  <thead>\n",
              "    <tr style=\"text-align: right;\">\n",
              "      <th></th>\n",
              "      <th>KenPom_Barttorvik_WAB</th>\n",
              "      <th>WAB RANK</th>\n",
              "      <th>SEED</th>\n",
              "      <th>R SCORE</th>\n",
              "      <th>KenPom_Barttorvik_BARTHAG</th>\n",
              "      <th>KenPom_Barttorvik_BADJ EM</th>\n",
              "      <th>KenPom_Barttorvik_KADJ EM</th>\n",
              "      <th>KenPom_Barttorvik_BARTHAG RANK</th>\n",
              "      <th>B POWER</th>\n",
              "      <th>KenPom_Barttorvik_BADJ EM RANK</th>\n",
              "      <th>...</th>\n",
              "      <th>Barttorvik_Home_EFG%</th>\n",
              "      <th>Barttorvik_Neutral_PPPO</th>\n",
              "      <th>Barttorvik_Away_TOV% RANK</th>\n",
              "      <th>Barttorvik_Away_TOV%</th>\n",
              "      <th>ShootingSplits_DUNKS D SHARE RANK</th>\n",
              "      <th>KenPom_Barttorvik_FTRD</th>\n",
              "      <th>Barttorvik_Neutral_PPPO RANK</th>\n",
              "      <th>ShootingSplits_THREES FG%D</th>\n",
              "      <th>Barttorvik_Home_FTR RANK</th>\n",
              "      <th>ShootingSplits_FARTHER TWOS FG%D RANK</th>\n",
              "    </tr>\n",
              "  </thead>\n",
              "  <tbody>\n",
              "    <tr>\n",
              "      <th>0</th>\n",
              "      <td>-0.7</td>\n",
              "      <td>63</td>\n",
              "      <td>12</td>\n",
              "      <td>3.9</td>\n",
              "      <td>0.791</td>\n",
              "      <td>11.8</td>\n",
              "      <td>12.50860</td>\n",
              "      <td>67</td>\n",
              "      <td>58.7</td>\n",
              "      <td>68</td>\n",
              "      <td>...</td>\n",
              "      <td>53.7</td>\n",
              "      <td>1.083</td>\n",
              "      <td>21</td>\n",
              "      <td>15.3</td>\n",
              "      <td>8.0</td>\n",
              "      <td>26.7</td>\n",
              "      <td>71.0</td>\n",
              "      <td>31.3</td>\n",
              "      <td>302</td>\n",
              "      <td>250.0</td>\n",
              "    </tr>\n",
              "    <tr>\n",
              "      <th>1</th>\n",
              "      <td>1.9</td>\n",
              "      <td>29</td>\n",
              "      <td>6</td>\n",
              "      <td>97.9</td>\n",
              "      <td>0.913</td>\n",
              "      <td>21.0</td>\n",
              "      <td>20.65450</td>\n",
              "      <td>14</td>\n",
              "      <td>11.7</td>\n",
              "      <td>15</td>\n",
              "      <td>...</td>\n",
              "      <td>57.4</td>\n",
              "      <td>1.072</td>\n",
              "      <td>136</td>\n",
              "      <td>18.0</td>\n",
              "      <td>67.0</td>\n",
              "      <td>19.8</td>\n",
              "      <td>83.0</td>\n",
              "      <td>33.6</td>\n",
              "      <td>320</td>\n",
              "      <td>88.0</td>\n",
              "    </tr>\n",
              "    <tr>\n",
              "      <th>2</th>\n",
              "      <td>4.9</td>\n",
              "      <td>13</td>\n",
              "      <td>4</td>\n",
              "      <td>99.6</td>\n",
              "      <td>0.947</td>\n",
              "      <td>26.4</td>\n",
              "      <td>25.36860</td>\n",
              "      <td>5</td>\n",
              "      <td>5.3</td>\n",
              "      <td>3</td>\n",
              "      <td>...</td>\n",
              "      <td>55.7</td>\n",
              "      <td>1.147</td>\n",
              "      <td>255</td>\n",
              "      <td>19.8</td>\n",
              "      <td>86.0</td>\n",
              "      <td>38.7</td>\n",
              "      <td>19.0</td>\n",
              "      <td>29.7</td>\n",
              "      <td>86</td>\n",
              "      <td>27.0</td>\n",
              "    </tr>\n",
              "    <tr>\n",
              "      <th>3</th>\n",
              "      <td>1.7</td>\n",
              "      <td>32</td>\n",
              "      <td>12</td>\n",
              "      <td>9.5</td>\n",
              "      <td>0.782</td>\n",
              "      <td>11.5</td>\n",
              "      <td>11.76070</td>\n",
              "      <td>74</td>\n",
              "      <td>69.3</td>\n",
              "      <td>70</td>\n",
              "      <td>...</td>\n",
              "      <td>52.6</td>\n",
              "      <td>1.037</td>\n",
              "      <td>105</td>\n",
              "      <td>17.5</td>\n",
              "      <td>16.0</td>\n",
              "      <td>24.7</td>\n",
              "      <td>141.0</td>\n",
              "      <td>30.1</td>\n",
              "      <td>158</td>\n",
              "      <td>179.0</td>\n",
              "    </tr>\n",
              "    <tr>\n",
              "      <th>4</th>\n",
              "      <td>-3.6</td>\n",
              "      <td>103</td>\n",
              "      <td>15</td>\n",
              "      <td>0.0</td>\n",
              "      <td>0.651</td>\n",
              "      <td>5.9</td>\n",
              "      <td>5.29267</td>\n",
              "      <td>113</td>\n",
              "      <td>106.3</td>\n",
              "      <td>108</td>\n",
              "      <td>...</td>\n",
              "      <td>59.1</td>\n",
              "      <td>1.171</td>\n",
              "      <td>82</td>\n",
              "      <td>17.1</td>\n",
              "      <td>38.0</td>\n",
              "      <td>20.3</td>\n",
              "      <td>9.0</td>\n",
              "      <td>35.6</td>\n",
              "      <td>210</td>\n",
              "      <td>321.0</td>\n",
              "    </tr>\n",
              "  </tbody>\n",
              "</table>\n",
              "<p>5 rows × 190 columns</p>\n",
              "</div>"
            ],
            "text/plain": [
              "   KenPom_Barttorvik_WAB  WAB RANK  SEED  R SCORE  KenPom_Barttorvik_BARTHAG  \\\n",
              "0                   -0.7        63    12      3.9                      0.791   \n",
              "1                    1.9        29     6     97.9                      0.913   \n",
              "2                    4.9        13     4     99.6                      0.947   \n",
              "3                    1.7        32    12      9.5                      0.782   \n",
              "4                   -3.6       103    15      0.0                      0.651   \n",
              "\n",
              "   KenPom_Barttorvik_BADJ EM  KenPom_Barttorvik_KADJ EM  \\\n",
              "0                       11.8                   12.50860   \n",
              "1                       21.0                   20.65450   \n",
              "2                       26.4                   25.36860   \n",
              "3                       11.5                   11.76070   \n",
              "4                        5.9                    5.29267   \n",
              "\n",
              "   KenPom_Barttorvik_BARTHAG RANK  B POWER  KenPom_Barttorvik_BADJ EM RANK  \\\n",
              "0                              67     58.7                              68   \n",
              "1                              14     11.7                              15   \n",
              "2                               5      5.3                               3   \n",
              "3                              74     69.3                              70   \n",
              "4                             113    106.3                             108   \n",
              "\n",
              "   ...  Barttorvik_Home_EFG%  Barttorvik_Neutral_PPPO  \\\n",
              "0  ...                  53.7                    1.083   \n",
              "1  ...                  57.4                    1.072   \n",
              "2  ...                  55.7                    1.147   \n",
              "3  ...                  52.6                    1.037   \n",
              "4  ...                  59.1                    1.171   \n",
              "\n",
              "   Barttorvik_Away_TOV% RANK  Barttorvik_Away_TOV%  \\\n",
              "0                         21                  15.3   \n",
              "1                        136                  18.0   \n",
              "2                        255                  19.8   \n",
              "3                        105                  17.5   \n",
              "4                         82                  17.1   \n",
              "\n",
              "   ShootingSplits_DUNKS D SHARE RANK  KenPom_Barttorvik_FTRD  \\\n",
              "0                                8.0                    26.7   \n",
              "1                               67.0                    19.8   \n",
              "2                               86.0                    38.7   \n",
              "3                               16.0                    24.7   \n",
              "4                               38.0                    20.3   \n",
              "\n",
              "   Barttorvik_Neutral_PPPO RANK  ShootingSplits_THREES FG%D  \\\n",
              "0                          71.0                        31.3   \n",
              "1                          83.0                        33.6   \n",
              "2                          19.0                        29.7   \n",
              "3                         141.0                        30.1   \n",
              "4                           9.0                        35.6   \n",
              "\n",
              "   Barttorvik_Home_FTR RANK  ShootingSplits_FARTHER TWOS FG%D RANK  \n",
              "0                       302                                  250.0  \n",
              "1                       320                                   88.0  \n",
              "2                        86                                   27.0  \n",
              "3                       158                                  179.0  \n",
              "4                       210                                  321.0  \n",
              "\n",
              "[5 rows x 190 columns]"
            ]
          },
          "execution_count": 126,
          "metadata": {},
          "output_type": "execute_result"
        }
      ],
      "source": [
        "significant_features = KW_significant_results['variable_name'].tolist()\n",
        "significant_features_df = df_all[significant_features]\n",
        "significant_features_df.head()"
      ]
    },
    {
      "cell_type": "code",
      "execution_count": 137,
      "metadata": {},
      "outputs": [
        {
          "name": "stdout",
          "output_type": "stream",
          "text": [
            "Number of Highly Correlated pairs: 348\n",
            "Number of features dropped: 104\n",
            "\n",
            "For KenPom_Barttorvik_WAB vs WAB RANK: Pearson r = -0.935, p‑value = 0\n",
            "Number of features remaining after dropping redundant features: 86\n"
          ]
        }
      ],
      "source": [
        "# 1) Compute the full correlation matrix in pandas\n",
        "corr_matrix = significant_features_df.corr(method='pearson')\n",
        "\n",
        "threshold = 0.9\n",
        "high_corr_pairs = []\n",
        "cols = corr_matrix.columns\n",
        "for i in range(len(cols)):\n",
        "    for j in range(i+1, len(cols)):\n",
        "        r = corr_matrix.iloc[i, j]\n",
        "        if abs(r) >= threshold:\n",
        "            high_corr_pairs.append((cols[i], cols[j], r))\n",
        "\n",
        "print('Number of Highly Correlated pairs:', len(high_corr_pairs))\n",
        "\n",
        "to_drop = set()\n",
        "\n",
        "# print(\"Highly correlated feature pairs (|r| ≥ 0.9):\")\n",
        "for f1, f2, r in high_corr_pairs:\n",
        "    to_drop.add(f2)\n",
        "    # print(f\"  {f1} ↔ {f2}: r = {r:.3f}\")\n",
        "\n",
        "# 3) If you want the exact p‑value for a given pair you can use scipy.stats.pearsonr\n",
        "#    (e.g. for the first high‑corr pair)\n",
        "\n",
        "reduced_df = significant_features_df.drop(columns = to_drop)\n",
        "\n",
        "print('Number of features dropped:', len(to_drop))\n",
        "\n",
        "if high_corr_pairs:\n",
        "    f1, f2, r = high_corr_pairs[0]\n",
        "    r_val, p_val = pearsonr(significant_features_df[f1], significant_features_df[f2])\n",
        "    print(f\"\\nFor {f1} vs {f2}: Pearson r = {r_val:.3f}, p‑value = {p_val:.3g}\")\n",
        "\n",
        "print('Number of features remaining after dropping redundant features:', len(reduced_df.columns))"
      ]
    },
    {
      "cell_type": "code",
      "execution_count": 6,
      "metadata": {},
      "outputs": [],
      "source": [
        "# Add visualization here"
      ]
    },
    {
      "cell_type": "markdown",
      "metadata": {},
      "source": [
        "## Standardize"
      ]
    },
    {
      "cell_type": "code",
      "execution_count": 8,
      "metadata": {},
      "outputs": [
        {
          "name": "stdout",
          "output_type": "stream",
          "text": [
            "(924, 408)\n",
            "       SEED   NET RPI    RESUME  WAB RANK       ELO   B POWER      Q1 W  \\\n",
            "0  0.725899  0.042834  0.270851  0.254861 -0.515215  0.037936 -0.898458   \n",
            "1 -0.568948 -0.650537 -0.364530 -0.412810 -0.307056 -0.760649 -0.296227   \n",
            "2 -1.000563 -0.819194 -0.674832 -0.727008 -0.723373 -0.869392  0.607119   \n",
            "3  0.725899 -0.013386  0.669810 -0.353898 -0.653987  0.218042 -1.199573   \n",
            "4  1.373322  0.923601  1.482506  1.040355  0.641221  0.846715 -1.199573   \n",
            "\n",
            "       Q2 W  Q1 PLUS Q2 W   Q3 Q4 L  ...  Barttorvik_Neutral_AVG HGT RANK  \\\n",
            "0 -0.413617     -0.806597  0.184136  ...                         1.842514   \n",
            "1  0.697377      0.176902 -0.487033  ...                        -0.655735   \n",
            "2  0.697377      0.767001 -0.487033  ...                        -1.028776   \n",
            "3 -0.783948     -1.199996 -0.151449  ...                         0.881649   \n",
            "4 -1.154280     -1.396696  1.526473  ...                        -0.022694   \n",
            "\n",
            "   Barttorvik_Neutral_EFF HGT RANK  Barttorvik_Neutral_EXP RANK  \\\n",
            "0                         0.459576                    -0.546987   \n",
            "1                        -1.066121                     1.667395   \n",
            "2                        -0.673478                     1.275964   \n",
            "3                         0.897092                     0.202324   \n",
            "4                        -0.774443                    -0.312128   \n",
            "\n",
            "   Barttorvik_Neutral_TALENT RANK  Barttorvik_Neutral_FT% RANK  \\\n",
            "0                        0.983066                    -0.580549   \n",
            "1                       -0.891561                    -1.084201   \n",
            "2                       -0.819460                    -0.371717   \n",
            "3                        2.977861                    -0.691106   \n",
            "4                        2.977861                    -0.126033   \n",
            "\n",
            "   Barttorvik_Neutral_OP FT% RANK  Barttorvik_Neutral_PPPO RANK  \\\n",
            "0                       -1.193952                     -0.418954   \n",
            "1                       -0.493582                     -0.253645   \n",
            "2                       -0.913804                     -1.135296   \n",
            "3                       -0.306816                      0.545352   \n",
            "4                       -1.392390                     -1.273054   \n",
            "\n",
            "   Barttorvik_Neutral_PPPD RANK  Barttorvik_Neutral_ELITE SOS RANK  TEAM NO  \n",
            "0                     -1.086934                           0.747871     1000  \n",
            "1                      1.644633                          -0.822658     1001  \n",
            "2                     -0.598259                          -1.047019     1002  \n",
            "3                     -1.312477                           1.550848     1003  \n",
            "4                      1.080778                           1.857868     1004  \n",
            "\n",
            "[5 rows x 408 columns]\n"
          ]
        }
      ],
      "source": [
        "df_all = df_all.drop(columns=['TEAM','YEAR', 'BID TYPE', 'ROUND'])\n",
        "\n",
        "scaler = StandardScaler()\n",
        "cols_to_scale = [col for col in df_all.columns if col != 'TEAM NO']\n",
        "df_all_scaled = pd.DataFrame(\n",
        "    scaler.fit_transform(df_all[cols_to_scale]),\n",
        "    columns=cols_to_scale\n",
        ")\n",
        "df_all_scaled['TEAM NO'] = df_all['TEAM NO']\n",
        "print(df_all_scaled.shape)\n",
        "print(df_all_scaled.head())"
      ]
    },
    {
      "cell_type": "code",
      "execution_count": null,
      "metadata": {},
      "outputs": [],
      "source": [
        "reduced_df = reduced_df.drop(columns=['TEAM','YEAR', 'BID TYPE', 'ROUND'])\n",
        "\n",
        "scaler = StandardScaler()\n",
        "cols_to_scale = [col for col in reduced_df.columns if col != 'TEAM NO']\n",
        "reduced_df_scaled = pd.DataFrame(\n",
        "    scaler.fit_transform(reduced_df[cols_to_scale]),\n",
        "    columns=cols_to_scale\n",
        ")\n",
        "reduced_df_scaled['TEAM NO'] = reduced_df['TEAM NO']\n",
        "print(reduced_df_scaled.shape)\n",
        "print(reduced_df_scaled.head())"
      ]
    },
    {
      "cell_type": "markdown",
      "metadata": {},
      "source": [
        "## Data Processing"
      ]
    },
    {
      "cell_type": "markdown",
      "metadata": {},
      "source": [
        "**Creating a List of Previous Matchups to Use as Training/Testing Data**"
      ]
    },
    {
      "cell_type": "code",
      "execution_count": 9,
      "metadata": {},
      "outputs": [],
      "source": [
        "matchups = []\n",
        "first_team_no = 0\n",
        "for index, row in matchup_df.iterrows():\n",
        "    if index % 2 == 0:\n",
        "        team_1_no = row[\"TEAM NO\"]\n",
        "        team_1_score = row[\"SCORE\"]\n",
        "        team_1_seed = row[\"SEED\"]\n",
        "    else:\n",
        "        team_0_no = row[\"TEAM NO\"]\n",
        "        team_0_score = row[\"SCORE\"]\n",
        "        team_0_seed = row[\"SEED\"]\n",
        "\n",
        "        winner = 1 if team_1_score > team_0_score else 0\n",
        "        \n",
        "        if team_1_seed == team_0_seed:\n",
        "            lower_seed_won = random.randint(0, 1)\n",
        "        else:\n",
        "            team_1_seed_is_lower = 1 if team_1_seed < team_0_seed else 0\n",
        "            lower_seed_won = 1 if winner == team_1_seed_is_lower else 0\n",
        "\n",
        "        matchup = (team_1_no, team_0_no, winner, lower_seed_won)\n",
        "        matchups.append(matchup)"
      ]
    },
    {
      "cell_type": "markdown",
      "metadata": {},
      "source": [
        "**Creating Difference Vectors for Each Matchup by subtracting Each Team's Stats from that Year**"
      ]
    },
    {
      "cell_type": "code",
      "execution_count": null,
      "metadata": {},
      "outputs": [
        {
          "name": "stdout",
          "output_type": "stream",
          "text": [
            "✅ Finished creating vectors. Skipped 152 matchups due to missing teams.\n"
          ]
        }
      ],
      "source": [
        "pred_winners = []\n",
        "true_winners = []\n",
        "difference_vectors = []\n",
        "\n",
        "skipped = 0  # Track how many matchups we skip\n",
        "\n",
        "for matchup in matchups:\n",
        "    team_1_NO = str(matchup[0])  # Make sure they're strings upfront\n",
        "    team_0_NO = str(matchup[1])\n",
        "\n",
        "    team_1_row = df_all_scaled[df_all_scaled[\"TEAM NO\"] == team_1_NO]\n",
        "    team_0_row = df_all_scaled[df_all_scaled[\"TEAM NO\"] == team_0_NO]\n",
        "\n",
        "    # Check if both teams exist in df_all_scaled\n",
        "    if not team_1_row.empty and not team_0_row.empty:\n",
        "        true_winners.append(matchup[2])  # Now append only if valid\n",
        "\n",
        "        # Get stats and remove \"TEAM NO\" column\n",
        "        team_1_stats = team_1_row.drop(columns=[\"TEAM NO\"]).iloc[0].values\n",
        "        team_0_stats = team_0_row.drop(columns=[\"TEAM NO\"]).iloc[0].values\n",
        "\n",
        "        # Create difference vector\n",
        "        difference_vector = team_1_stats - team_0_stats\n",
        "        difference_vectors.append(difference_vector)\n",
        "    else:\n",
        "        skipped += 1\n",
        "\n",
        "print(f'Number of Matchups: {len(difference_vector)}')\n",
        "print(f\"✅ Finished creating vectors. Skipped {skipped} matchups due to missing teams.\")"
      ]
    },
    {
      "cell_type": "markdown",
      "metadata": {},
      "source": [
        "## Baseline"
      ]
    },
    {
      "cell_type": "code",
      "execution_count": 10,
      "metadata": {},
      "outputs": [
        {
          "name": "stdout",
          "output_type": "stream",
          "text": [
            "Accuracy of Base Model: 0.7070506454816285\n"
          ]
        }
      ],
      "source": [
        "total_lower_seeds_won = 0\n",
        "for matchup in matchups:\n",
        "    total_lower_seeds_won += matchup[3]\n",
        "\n",
        "model_results_df = pd.DataFrame({\n",
        "    'Model': ['Baseline'],\n",
        "    'Accuracy': total_lower_seeds_won / len(matchups)\n",
        "})\n",
        "print(f'Accuracy of Base Model: {total_lower_seeds_won / len(matchups)}')"
      ]
    },
    {
      "cell_type": "markdown",
      "metadata": {},
      "source": [
        "## All Features Linear Regression"
      ]
    },
    {
      "cell_type": "code",
      "execution_count": 11,
      "metadata": {},
      "outputs": [
        {
          "name": "stdout",
          "output_type": "stream",
          "text": [
            "Accuracy: 0.6653696498054474\n"
          ]
        },
        {
          "name": "stderr",
          "output_type": "stream",
          "text": [
            "c:\\Users\\dornerj\\AppData\\Local\\anaconda3\\Lib\\site-packages\\sklearn\\linear_model\\_logistic.py:469: ConvergenceWarning: lbfgs failed to converge (status=1):\n",
            "STOP: TOTAL NO. OF ITERATIONS REACHED LIMIT.\n",
            "\n",
            "Increase the number of iterations (max_iter) or scale the data as shown in:\n",
            "    https://scikit-learn.org/stable/modules/preprocessing.html\n",
            "Please also refer to the documentation for alternative solver options:\n",
            "    https://scikit-learn.org/stable/modules/linear_model.html#logistic-regression\n",
            "  n_iter_i = _check_optimize_result(\n"
          ]
        }
      ],
      "source": [
        "# Do logistic regression with all features\n",
        "#X_train, X_test, y_train, y_test = train_test_split(difference_vectors, true_winners, test_size=0.2, random_state=42)\n",
        "X = pd.DataFrame(difference_vectors, columns=df_all_scaled.drop(columns=[\"TEAM NO\"]).columns)\n",
        "y = np.array(true_winners)\n",
        "\n",
        "# X_train, X_test, y_train, y_test = train_test_split(X, y, test_size=0.3, random_state=42)\n",
        "X_train, X_test, y_train, y_test = train_test_split(X, y, test_size=0.3, random_state=42)\n",
        "\n",
        "LR_model = LogisticRegression()\n",
        "LR_model.fit(X_train, y_train)\n",
        "\n",
        "predicted_winners = LR_model.predict(X_test)\n",
        "\n",
        "new_row = {'Model': ['Linear Regression All'], 'Accuracy': accuracy_score(y_test, predicted_winners)}\n",
        "model_results_df.loc[len(model_results_df)] = new_row\n",
        "\n",
        "print(\"Accuracy:\", accuracy_score(y_test, predicted_winners))\n",
        "\n",
        "\n",
        "\n",
        "# def predict_winner_logR(difference_vector, logistic_regression_model):\n",
        "#     winner = logistic_regression_model.predict(difference_vector)\n",
        "#     return \"Team 1 Wins\" if winner == 1 else \"Team 2 Wins\""
      ]
    },
    {
      "cell_type": "markdown",
      "metadata": {},
      "source": [
        "## Greedy Logistic Regression"
      ]
    },
    {
      "cell_type": "code",
      "execution_count": 12,
      "metadata": {},
      "outputs": [
        {
          "name": "stdout",
          "output_type": "stream",
          "text": [
            "✅ Added: KenPom_BarttorvikKADJ EM | New CV Accuracy: 0.6872\n",
            "❌ Skipped: KenPom_BarttorvikKADJ EM RANK | CV Accuracy would be: 0.6872\n",
            "❌ Skipped: KenPom_BarttorvikBADJ EM | CV Accuracy would be: 0.6806\n",
            "❌ Skipped: Barttorvik_Home_BADJ EM RANK | CV Accuracy would be: 0.6872\n",
            "✅ Added: Barttorvik_Home_BARTHAG RANK | New CV Accuracy: 0.6889\n",
            "❌ Skipped: KenPom_BarttorvikBARTHAG RANK | CV Accuracy would be: 0.6738\n",
            "✅ Added: Barttorvik_Home_BADJ EM | New CV Accuracy: 0.6905\n",
            "❌ Skipped: TeamRankings_Home_TR RANK | CV Accuracy would be: 0.6905\n",
            "❌ Skipped: KenPom_BarttorvikBADJ EM RANK | CV Accuracy would be: 0.6821\n",
            "❌ Skipped: SEED | CV Accuracy would be: 0.6872\n",
            "❌ Skipped: TeamRankings_Home_TR RATING | CV Accuracy would be: 0.6821\n",
            "✅ Added: TeamRankings_Home_LAST | New CV Accuracy: 0.6938\n",
            "❌ Skipped: WAB RANK | CV Accuracy would be: 0.6905\n",
            "❌ Skipped: Barttorvik_Home_BARTHAG | CV Accuracy would be: 0.6938\n",
            "❌ Skipped: KenPom_BarttorvikWAB | CV Accuracy would be: 0.6855\n",
            "❌ Skipped: Barttorvik_Away_BADJ EM | CV Accuracy would be: 0.6872\n",
            "❌ Skipped: B POWER | CV Accuracy would be: 0.6872\n",
            "❌ Skipped: Barttorvik_Away_BADJ EM RANK | CV Accuracy would be: 0.6905\n",
            "❌ Skipped: Barttorvik_Away_BARTHAG | CV Accuracy would be: 0.6922\n",
            "❌ Skipped: KenPom_BarttorvikBARTHAG | CV Accuracy would be: 0.6855\n",
            "✅ Added: KenPom_BarttorvikBADJ O | New CV Accuracy: 0.6956\n",
            "❌ Skipped: Barttorvik_Away_BARTHAG RANK | CV Accuracy would be: 0.6905\n",
            "❌ Skipped: R SCORE | CV Accuracy would be: 0.6922\n",
            "❌ Skipped: NET RPI | CV Accuracy would be: 0.6922\n",
            "❌ Skipped: KenPom_BarttorvikBADJ O RANK | CV Accuracy would be: 0.6955\n",
            "❌ Skipped: Barttorvik_Home_BADJ O | CV Accuracy would be: 0.6955\n",
            "❌ Skipped: TeamRankings_Away_TR RATING | CV Accuracy would be: 0.6955\n",
            "❌ Skipped: TeamRankings_Away_TR RANK | CV Accuracy would be: 0.6889\n",
            "❌ Skipped: TeamRankings_Away_LAST | CV Accuracy would be: 0.6889\n",
            "❌ Skipped: TeamRankings_Neutral_TR RATING | CV Accuracy would be: 0.6939\n",
            "❌ Skipped: RESUME | CV Accuracy would be: 0.6922\n",
            "❌ Skipped: KenPom_BarttorvikKADJ O | CV Accuracy would be: 0.6821\n",
            "❌ Skipped: Barttorvik_Home_BADJ O RANK | CV Accuracy would be: 0.6905\n",
            "❌ Skipped: Barttorvik_Neutral_BADJ EM | CV Accuracy would be: 0.6888\n",
            "❌ Skipped: KenPom_BarttorvikKADJ O RANK | CV Accuracy would be: 0.6905\n",
            "❌ Skipped: Barttorvik_Away_WAB | CV Accuracy would be: 0.6905\n",
            "❌ Skipped: Q1 W | CV Accuracy would be: 0.6905\n",
            "✅ Added: ELO | New CV Accuracy: 0.6989\n",
            "❌ Skipped: ShootingSplits_CLOSE TWOS FG% | CV Accuracy would be: 0.6939\n",
            "❌ Skipped: KenPom_BarttorvikTALENT | CV Accuracy would be: 0.6906\n",
            "❌ Skipped: Barttorvik_Away_TALENT | CV Accuracy would be: 0.6906\n",
            "❌ Skipped: Barttorvik_Home_TALENT | CV Accuracy would be: 0.6906\n",
            "❌ Skipped: Barttorvik_Neutral_TALENT | CV Accuracy would be: 0.6906\n",
            "❌ Skipped: TeamRankings_Neutral_V 1-25 WINS | CV Accuracy would be: 0.6905\n",
            "❌ Skipped: Barttorvik_Away_BADJ O | CV Accuracy would be: 0.6856\n",
            "❌ Skipped: KenPom_BarttorvikTALENT RANK | CV Accuracy would be: 0.6939\n",
            "❌ Skipped: Barttorvik_Away_TALENT RANK | CV Accuracy would be: 0.6939\n",
            "❌ Skipped: Barttorvik_Home_TALENT RANK | CV Accuracy would be: 0.6939\n",
            "❌ Skipped: Barttorvik_Neutral_WAB | CV Accuracy would be: 0.6872\n",
            "❌ Skipped: Q1 PLUS Q2 W | CV Accuracy would be: 0.6905\n",
            "❌ Skipped: Barttorvik_Neutral_TALENT RANK | CV Accuracy would be: 0.6939\n",
            "❌ Skipped: Barttorvik_Neutral_BADJ O | CV Accuracy would be: 0.6973\n",
            "❌ Skipped: ShootingSplits_CLOSE TWOS FG% RANK | CV Accuracy would be: 0.6906\n",
            "❌ Skipped: Barttorvik_Home_W | CV Accuracy would be: 0.6906\n",
            "❌ Skipped: Barttorvik_Away_BADJ O RANK | CV Accuracy would be: 0.6955\n",
            "❌ Skipped: Barttorvik_Home_WAB | CV Accuracy would be: 0.6771\n",
            "❌ Skipped: Barttorvik_Neutral_BARTHAG | CV Accuracy would be: 0.6988\n",
            "❌ Skipped: Barttorvik_Neutral_BADJ EM RANK | CV Accuracy would be: 0.6938\n",
            "✅ Added: Barttorvik_Neutral_ELITE SOS RANK | New CV Accuracy: 0.6990\n",
            "✅ Added: TeamRankings_Neutral_TR RANK | New CV Accuracy: 0.7006\n",
            "❌ Skipped: TeamRankings_Neutral_LAST | CV Accuracy would be: 0.6990\n",
            "✅ Added: Barttorvik_Home_BADJ D | New CV Accuracy: 0.7057\n",
            "❌ Skipped: TeamRankings_Neutral_HI | CV Accuracy would be: 0.7040\n",
            "❌ Skipped: Barttorvik_Neutral_BARTHAG RANK | CV Accuracy would be: 0.6940\n",
            "❌ Skipped: KenPom_BarttorvikPPPO RANK | CV Accuracy would be: 0.7006\n",
            "❌ Skipped: Barttorvik_Neutral_ELITE SOS | CV Accuracy would be: 0.6990\n",
            "❌ Skipped: KenPom_BarttorvikKO RANK | CV Accuracy would be: 0.7006\n",
            "❌ Skipped: Barttorvik_Away_ELITE SOS | CV Accuracy would be: 0.6990\n",
            "❌ Skipped: TeamRankings_Away_V 1-25 WINS | CV Accuracy would be: 0.6973\n",
            "❌ Skipped: ShootingSplits_DUNKS SHARE | CV Accuracy would be: 0.6957\n",
            "❌ Skipped: KenPom_BarttorvikELITE SOS RANK | CV Accuracy would be: 0.7023\n",
            "✅ Added: Barttorvik_Home_ELITE SOS | New CV Accuracy: 0.7174\n",
            "❌ Skipped: Barttorvik_Home_PPPO | CV Accuracy would be: 0.7157\n",
            "❌ Skipped: KenPom_BarttorvikBADJ D | CV Accuracy would be: 0.7057\n",
            "❌ Skipped: KenPom_BarttorvikELITE SOS | CV Accuracy would be: 0.7056\n",
            "❌ Skipped: Q3 Q4 L | CV Accuracy would be: 0.7140\n",
            "❌ Skipped: TeamRankings_Home_LO | CV Accuracy would be: 0.7174\n",
            "❌ Skipped: Barttorvik_Home_BADJ D RANK | CV Accuracy would be: 0.7074\n",
            "❌ Skipped: Barttorvik_Home_ELITE SOS RANK | CV Accuracy would be: 0.6989\n",
            "❌ Skipped: TeamRankings_Away_HI | CV Accuracy would be: 0.7090\n",
            "❌ Skipped: Barttorvik_Home_PPPO RANK | CV Accuracy would be: 0.7107\n",
            "❌ Skipped: KenPom_BarttorvikPPPO | CV Accuracy would be: 0.6973\n",
            "❌ Skipped: Barttorvik_Neutral_BADJ O RANK | CV Accuracy would be: 0.7107\n",
            "❌ Skipped: Barttorvik_Away_ELITE SOS RANK | CV Accuracy would be: 0.7074\n",
            "❌ Skipped: Barttorvik_Away_PPPO | CV Accuracy would be: 0.7074\n",
            "❌ Skipped: KenPom_BarttorvikBADJ D RANK | CV Accuracy would be: 0.7023\n",
            "❌ Skipped: KenPom_BarttorvikW | CV Accuracy would be: 0.7057\n",
            "❌ Skipped: TeamRankings_Away_V 51-100 WINS | CV Accuracy would be: 0.7091\n",
            "❌ Skipped: TeamRankings_Home_HI | CV Accuracy would be: 0.7157\n",
            "❌ Skipped: KenPom_BarttorvikK OFF | CV Accuracy would be: 0.6990\n",
            "❌ Skipped: KenPom_BarttorvikEFG% RANK | CV Accuracy would be: 0.7140\n",
            "❌ Skipped: Barttorvik_Home_PPPD | CV Accuracy would be: 0.7157\n",
            "❌ Skipped: TeamRankings_Neutral_LO | CV Accuracy would be: 0.6991\n",
            "❌ Skipped: KenPom_BarttorvikKADJ D RANK | CV Accuracy would be: 0.7107\n",
            "❌ Skipped: TeamRankings_Home_V 51-100 WINS | CV Accuracy would be: 0.6973\n",
            "❌ Skipped: Barttorvik_Neutral_W | CV Accuracy would be: 0.7040\n",
            "❌ Skipped: KenPom_BarttorvikKADJ D | CV Accuracy would be: 0.7174\n",
            "❌ Skipped: Barttorvik_Home_OREB% | CV Accuracy would be: 0.7074\n",
            "❌ Skipped: Barttorvik_Home_OP DREB% | CV Accuracy would be: 0.7074\n",
            "❌ Skipped: Barttorvik_Neutral_GAMES | CV Accuracy would be: 0.7174\n",
            "❌ Skipped: KenPom_BarttorvikEFG% | CV Accuracy would be: 0.7107\n",
            "❌ Skipped: Barttorvik_Neutral_EFF HGT RANK | CV Accuracy would be: 0.7141\n",
            "❌ Skipped: Barttorvik_Home_PPPD RANK | CV Accuracy would be: 0.7107\n",
            "❌ Skipped: Barttorvik_Home_FTR RANK | CV Accuracy would be: 0.7056\n",
            "❌ Skipped: Barttorvik_Away_L | CV Accuracy would be: 0.7074\n",
            "❌ Skipped: PLUS 500 | CV Accuracy would be: 0.7157\n",
            "❌ Skipped: KenPom_Barttorvik2PT% RANK | CV Accuracy would be: 0.7124\n",
            "❌ Skipped: Barttorvik_Home_EFG% RANK | CV Accuracy would be: 0.7174\n",
            "❌ Skipped: Barttorvik_Home_FTR | CV Accuracy would be: 0.7023\n",
            "❌ Skipped: ShootingSplits_THREES FG% | CV Accuracy would be: 0.7157\n",
            "❌ Skipped: Barttorvik_Away_PPPO RANK | CV Accuracy would be: 0.7091\n",
            "❌ Skipped: KenPom_BarttorvikEFF HGT RANK | CV Accuracy would be: 0.7141\n",
            "❌ Skipped: Barttorvik_Away_EFF HGT RANK | CV Accuracy would be: 0.7141\n",
            "❌ Skipped: Barttorvik_Home_EFF HGT RANK | CV Accuracy would be: 0.7141\n",
            "❌ Skipped: Barttorvik_Away_EFG% | CV Accuracy would be: 0.7007\n",
            "❌ Skipped: Barttorvik_Neutral_2PT% RANK | CV Accuracy would be: 0.7106\n",
            "❌ Skipped: Barttorvik_Neutral_PPPO RANK | CV Accuracy would be: 0.7040\n",
            "❌ Skipped: Barttorvik_Away_2PT% | CV Accuracy would be: 0.7157\n",
            "❌ Skipped: KenPom_BarttorvikEFGD% RANK | CV Accuracy would be: 0.7141\n",
            "❌ Skipped: ShootingSplits_THREES FG%D RANK | CV Accuracy would be: 0.7090\n",
            "❌ Skipped: KenPom_BarttorvikOREB% | CV Accuracy would be: 0.7123\n",
            "❌ Skipped: KenPom_BarttorvikOP DREB% | CV Accuracy would be: 0.7123\n",
            "❌ Skipped: KenPom_BarttorvikPPPD | CV Accuracy would be: 0.7157\n",
            "❌ Skipped: ShootingSplits_DUNKS SHARE RANK | CV Accuracy would be: 0.7124\n",
            "❌ Skipped: Barttorvik_Neutral_2PT% | CV Accuracy would be: 0.7057\n",
            "❌ Skipped: Barttorvik_Away_EFG% RANK | CV Accuracy would be: 0.7040\n",
            "❌ Skipped: TeamRankings_Away_V 26-50 WINS | CV Accuracy would be: 0.7074\n",
            "❌ Skipped: KenPom_BarttorvikPPPD RANK | CV Accuracy would be: 0.7057\n",
            "❌ Skipped: Barttorvik_Neutral_AVG HGT RANK | CV Accuracy would be: 0.7140\n",
            "❌ Skipped: ShootingSplits_FARTHER TWOS D SHARE | CV Accuracy would be: 0.7124\n",
            "❌ Skipped: Barttorvik_Away_WIN% | CV Accuracy would be: 0.7040\n",
            "❌ Skipped: KenPom_BarttorvikK DEF | CV Accuracy would be: 0.7140\n",
            "✅ Added: KenPom_BarttorvikFTRD RANK | New CV Accuracy: 0.7224\n",
            "❌ Skipped: Barttorvik_Home_3PT%D RANK | CV Accuracy would be: 0.7157\n",
            "❌ Skipped: KenPom_BarttorvikL | CV Accuracy would be: 0.7174\n",
            "❌ Skipped: KenPom_BarttorvikAVG HGT RANK | CV Accuracy would be: 0.7140\n",
            "❌ Skipped: Barttorvik_Away_AVG HGT RANK | CV Accuracy would be: 0.7140\n",
            "❌ Skipped: Barttorvik_Home_AVG HGT RANK | CV Accuracy would be: 0.7140\n",
            "❌ Skipped: ShootingSplits_THREES FG% RANK | CV Accuracy would be: 0.7107\n",
            "❌ Skipped: KenPom_Barttorvik3PT% | CV Accuracy would be: 0.7090\n",
            "❌ Skipped: KenPom_BarttorvikEXP | CV Accuracy would be: 0.7090\n",
            "❌ Skipped: Barttorvik_Away_EXP | CV Accuracy would be: 0.7090\n",
            "❌ Skipped: Barttorvik_Home_EXP | CV Accuracy would be: 0.7090\n",
            "❌ Skipped: Barttorvik_Neutral_EXP | CV Accuracy would be: 0.7090\n",
            "❌ Skipped: KenPom_BarttorvikWIN% | CV Accuracy would be: 0.7190\n",
            "❌ Skipped: Barttorvik_Neutral_EFG% | CV Accuracy would be: 0.7107\n",
            "❌ Skipped: KenPom_Barttorvik2PT% | CV Accuracy would be: 0.7090\n",
            "❌ Skipped: Barttorvik_Away_BADJ D | CV Accuracy would be: 0.7141\n",
            "❌ Skipped: Barttorvik_Home_3PT%D | CV Accuracy would be: 0.7190\n",
            "❌ Skipped: Q2 W | CV Accuracy would be: 0.7107\n",
            "❌ Skipped: KenPom_BarttorvikKD RANK | CV Accuracy would be: 0.7073\n",
            "❌ Skipped: KenPom_BarttorvikEFF HGT | CV Accuracy would be: 0.7190\n",
            "❌ Skipped: Barttorvik_Away_EFF HGT | CV Accuracy would be: 0.7190\n",
            "❌ Skipped: Barttorvik_Home_EFF HGT | CV Accuracy would be: 0.7190\n",
            "❌ Skipped: Barttorvik_Neutral_EFF HGT | CV Accuracy would be: 0.7190\n",
            "❌ Skipped: Barttorvik_Away_2PT% RANK | CV Accuracy would be: 0.7174\n",
            "❌ Skipped: Barttorvik_Away_2PT%D | CV Accuracy would be: 0.7123\n",
            "❌ Skipped: ShootingSplits_DUNKS D SHARE RANK | CV Accuracy would be: 0.7074\n",
            "❌ Skipped: KenPom_BarttorvikAVG HGT | CV Accuracy would be: 0.7089\n",
            "❌ Skipped: Barttorvik_Away_AVG HGT | CV Accuracy would be: 0.7089\n",
            "❌ Skipped: Barttorvik_Home_AVG HGT | CV Accuracy would be: 0.7089\n",
            "❌ Skipped: Barttorvik_Neutral_AVG HGT | CV Accuracy would be: 0.7089\n",
            "❌ Skipped: TeamRankings_Home_V 1-25 WINS | CV Accuracy would be: 0.7174\n",
            "❌ Skipped: TeamRankings_Away_V 26-50 LOSS | CV Accuracy would be: 0.7006\n",
            "❌ Skipped: Barttorvik_Neutral_EFG% RANK | CV Accuracy would be: 0.7056\n",
            "❌ Skipped: Barttorvik_Home_2PT%D RANK | CV Accuracy would be: 0.7040\n",
            "❌ Skipped: Barttorvik_Away_EFG%D | CV Accuracy would be: 0.7123\n",
            "❌ Skipped: Barttorvik_Away_RAW T | CV Accuracy would be: 0.6990\n",
            "❌ Skipped: Barttorvik_Away_BADJ T | CV Accuracy would be: 0.7024\n",
            "❌ Skipped: Barttorvik_Away_EFGD% RANK | CV Accuracy would be: 0.7107\n",
            "❌ Skipped: Barttorvik_Away_2PT%D RANK | CV Accuracy would be: 0.7157\n",
            "❌ Skipped: Barttorvik_Home_EFGD% RANK | CV Accuracy would be: 0.7107\n",
            "❌ Skipped: Barttorvik_Home_TOV%D RANK | CV Accuracy would be: 0.7024\n",
            "❌ Skipped: Barttorvik_Home_WIN% | CV Accuracy would be: 0.7023\n",
            "❌ Skipped: Barttorvik_Neutral_PPPO | CV Accuracy would be: 0.7057\n",
            "❌ Skipped: ShootingSplits_THREES FG%D | CV Accuracy would be: 0.7023\n",
            "❌ Skipped: Barttorvik_Home_EFG%D | CV Accuracy would be: 0.7157\n",
            "❌ Skipped: ShootingSplits_FARTHER TWOS FG%D | CV Accuracy would be: 0.7157\n",
            "❌ Skipped: KenPom_BarttorvikGAMES | CV Accuracy would be: 0.7056\n",
            "❌ Skipped: Barttorvik_Home_GAMES | CV Accuracy would be: 0.7006\n",
            "❌ Skipped: ShootingSplits_DUNKS FG% | CV Accuracy would be: 0.7057\n",
            "❌ Skipped: ShootingSplits_CLOSE TWOS FG%D | CV Accuracy would be: 0.7107\n",
            "❌ Skipped: ShootingSplits_FARTHER TWOS FG% | CV Accuracy would be: 0.7057\n",
            "❌ Skipped: ShootingSplits_THREES SHARE | CV Accuracy would be: 0.7157\n",
            "❌ Skipped: ShootingSplits_DUNKS FG% RANK | CV Accuracy would be: 0.7040\n",
            "❌ Skipped: ShootingSplits_DUNKS FG%D RANK | CV Accuracy would be: 0.7124\n",
            "❌ Skipped: ShootingSplits_CLOSE TWOS FG%D RANK | CV Accuracy would be: 0.7090\n",
            "❌ Skipped: ShootingSplits_FARTHER TWOS FG% RANK | CV Accuracy would be: 0.7040\n",
            "❌ Skipped: ShootingSplits_THREES SHARE RANK | CV Accuracy would be: 0.7140\n",
            "❌ Skipped: ShootingSplits_THREES D SHARE RANK | CV Accuracy would be: 0.7140\n",
            "❌ Skipped: TeamRankings_Home_V 1-25 LOSS | CV Accuracy would be: 0.6990\n",
            "❌ Skipped: TeamRankings_Home_V 26-50 LOSS | CV Accuracy would be: 0.6990\n",
            "❌ Skipped: TeamRankings_Home_V 51-100 LOSS | CV Accuracy would be: 0.6823\n",
            "❌ Skipped: TeamRankings_Neutral_V 26-50 LOSS | CV Accuracy would be: 0.7140\n",
            "❌ Skipped: KenPom_BarttorvikK TEMPO | CV Accuracy would be: 0.7125\n",
            "❌ Skipped: KenPom_BarttorvikK TEMPO RANK | CV Accuracy would be: 0.7092\n",
            "❌ Skipped: KenPom_BarttorvikKADJ T | CV Accuracy would be: 0.7125\n",
            "❌ Skipped: KenPom_BarttorvikKADJ T RANK | CV Accuracy would be: 0.7041\n",
            "❌ Skipped: KenPom_BarttorvikDREB% | CV Accuracy would be: 0.7007\n",
            "❌ Skipped: KenPom_BarttorvikOP OREB% | CV Accuracy would be: 0.7007\n",
            "❌ Skipped: KenPom_BarttorvikRAW T | CV Accuracy would be: 0.7091\n",
            "❌ Skipped: KenPom_BarttorvikAST% | CV Accuracy would be: 0.6956\n",
            "❌ Skipped: KenPom_Barttorvik2PTR | CV Accuracy would be: 0.7106\n",
            "❌ Skipped: KenPom_Barttorvik3PTR | CV Accuracy would be: 0.7106\n",
            "❌ Skipped: KenPom_BarttorvikBADJ T | CV Accuracy would be: 0.7074\n",
            "❌ Skipped: KenPom_BarttorvikOP FT% | CV Accuracy would be: 0.7005\n",
            "❌ Skipped: KenPom_BarttorvikTOV%D RANK | CV Accuracy would be: 0.7107\n",
            "❌ Skipped: KenPom_BarttorvikDREB% RANK | CV Accuracy would be: 0.7040\n",
            "❌ Skipped: KenPom_BarttorvikOP OREB% RANK | CV Accuracy would be: 0.7040\n",
            "❌ Skipped: KenPom_BarttorvikRAW T RANK | CV Accuracy would be: 0.7092\n",
            "❌ Skipped: KenPom_BarttorvikAST% RANK | CV Accuracy would be: 0.7023\n",
            "❌ Skipped: KenPom_BarttorvikOP AST% RANK | CV Accuracy would be: 0.6990\n",
            "❌ Skipped: KenPom_Barttorvik2PTR RANK | CV Accuracy would be: 0.7073\n",
            "❌ Skipped: KenPom_Barttorvik3PTR RANK | CV Accuracy would be: 0.7073\n",
            "❌ Skipped: KenPom_BarttorvikBADJT RANK | CV Accuracy would be: 0.6990\n",
            "❌ Skipped: KenPom_BarttorvikOP FT% RANK | CV Accuracy would be: 0.7039\n",
            "❌ Skipped: Barttorvik_Away_W | CV Accuracy would be: 0.7141\n",
            "❌ Skipped: Barttorvik_Away_FTR | CV Accuracy would be: 0.7107\n",
            "❌ Skipped: Barttorvik_Away_TOV%D | CV Accuracy would be: 0.7157\n",
            "❌ Skipped: Barttorvik_Away_DREB% | CV Accuracy would be: 0.7107\n",
            "❌ Skipped: Barttorvik_Away_OP OREB% | CV Accuracy would be: 0.7107\n",
            "❌ Skipped: Barttorvik_Away_3PT%D | CV Accuracy would be: 0.7191\n",
            "❌ Skipped: Barttorvik_Away_AST% | CV Accuracy would be: 0.7023\n",
            "❌ Skipped: Barttorvik_Away_2PTR | CV Accuracy would be: 0.7090\n",
            "❌ Skipped: Barttorvik_Away_3PTR | CV Accuracy would be: 0.7090\n",
            "❌ Skipped: Barttorvik_Away_2PTRD | CV Accuracy would be: 0.7090\n",
            "❌ Skipped: Barttorvik_Away_3PTRD | CV Accuracy would be: 0.7090\n",
            "❌ Skipped: Barttorvik_Away_PPPD | CV Accuracy would be: 0.7073\n",
            "❌ Skipped: Barttorvik_Away_FTR RANK | CV Accuracy would be: 0.7124\n",
            "❌ Skipped: Barttorvik_Away_FTRD RANK | CV Accuracy would be: 0.7007\n",
            "❌ Skipped: Barttorvik_Away_TOV%D RANK | CV Accuracy would be: 0.7174\n",
            "❌ Skipped: Barttorvik_Away_DREB% RANK | CV Accuracy would be: 0.7073\n",
            "❌ Skipped: Barttorvik_Away_OP OREB% RANK | CV Accuracy would be: 0.7073\n",
            "❌ Skipped: Barttorvik_Away_RAW T RANK | CV Accuracy would be: 0.6973\n",
            "❌ Skipped: Barttorvik_Away_3PT%D RANK | CV Accuracy would be: 0.7157\n",
            "❌ Skipped: Barttorvik_Away_BLK% RANK | CV Accuracy would be: 0.7090\n",
            "❌ Skipped: Barttorvik_Away_AST% RANK | CV Accuracy would be: 0.7006\n",
            "❌ Skipped: Barttorvik_Away_OP AST% RANK | CV Accuracy would be: 0.7090\n",
            "❌ Skipped: Barttorvik_Away_2PTR RANK | CV Accuracy would be: 0.7106\n",
            "❌ Skipped: Barttorvik_Away_3PTR RANK | CV Accuracy would be: 0.7073\n",
            "❌ Skipped: Barttorvik_Away_2PTRD RANK | CV Accuracy would be: 0.7140\n",
            "❌ Skipped: Barttorvik_Away_3PTRD RANK | CV Accuracy would be: 0.7140\n",
            "❌ Skipped: Barttorvik_Away_PPPD RANK | CV Accuracy would be: 0.7124\n",
            "❌ Skipped: Barttorvik_Home_RAW T | CV Accuracy would be: 0.7075\n",
            "❌ Skipped: Barttorvik_Home_AST% | CV Accuracy would be: 0.7023\n",
            "❌ Skipped: Barttorvik_Home_OP AST% | CV Accuracy would be: 0.7106\n",
            "❌ Skipped: Barttorvik_Home_2PTR | CV Accuracy would be: 0.7157\n",
            "❌ Skipped: Barttorvik_Home_3PTR | CV Accuracy would be: 0.7157\n",
            "❌ Skipped: Barttorvik_Home_BADJ T | CV Accuracy would be: 0.7074\n",
            "❌ Skipped: Barttorvik_Home_FT% | CV Accuracy would be: 0.7173\n",
            "❌ Skipped: Barttorvik_Home_RAW T RANK | CV Accuracy would be: 0.7074\n",
            "❌ Skipped: Barttorvik_Home_AST% RANK | CV Accuracy would be: 0.7006\n",
            "❌ Skipped: Barttorvik_Home_OP AST% RANK | CV Accuracy would be: 0.7023\n",
            "❌ Skipped: Barttorvik_Home_2PTR RANK | CV Accuracy would be: 0.7157\n",
            "❌ Skipped: Barttorvik_Home_3PTR RANK | CV Accuracy would be: 0.7157\n",
            "❌ Skipped: Barttorvik_Home_2PTRD RANK | CV Accuracy would be: 0.7040\n",
            "❌ Skipped: Barttorvik_Home_3PTRD RANK | CV Accuracy would be: 0.7040\n",
            "❌ Skipped: Barttorvik_Home_BADJT RANK | CV Accuracy would be: 0.7074\n",
            "❌ Skipped: Barttorvik_Home_FT% RANK | CV Accuracy would be: 0.7106\n",
            "❌ Skipped: Barttorvik_Neutral_L | CV Accuracy would be: 0.7023\n",
            "❌ Skipped: Barttorvik_Neutral_WIN% | CV Accuracy would be: 0.7023\n",
            "❌ Skipped: Barttorvik_Neutral_EFG%D | CV Accuracy would be: 0.7057\n",
            "❌ Skipped: Barttorvik_Neutral_FTR | CV Accuracy would be: 0.7023\n",
            "❌ Skipped: Barttorvik_Neutral_TOV% | CV Accuracy would be: 0.7023\n",
            "❌ Skipped: Barttorvik_Neutral_TOV%D | CV Accuracy would be: 0.7073\n",
            "❌ Skipped: Barttorvik_Neutral_OREB% | CV Accuracy would be: 0.7090\n",
            "❌ Skipped: Barttorvik_Neutral_DREB% | CV Accuracy would be: 0.7056\n",
            "❌ Skipped: Barttorvik_Neutral_OP OREB% | CV Accuracy would be: 0.7056\n",
            "❌ Skipped: Barttorvik_Neutral_OP DREB% | CV Accuracy would be: 0.7090\n",
            "❌ Skipped: Barttorvik_Neutral_RAW T | CV Accuracy would be: 0.7157\n",
            "❌ Skipped: Barttorvik_Neutral_2PT%D | CV Accuracy would be: 0.7024\n",
            "❌ Skipped: Barttorvik_Neutral_3PT% | CV Accuracy would be: 0.7124\n",
            "❌ Skipped: Barttorvik_Neutral_3PT%D | CV Accuracy would be: 0.7140\n",
            "❌ Skipped: Barttorvik_Neutral_BLKED% | CV Accuracy would be: 0.7207\n",
            "❌ Skipped: Barttorvik_Neutral_AST% | CV Accuracy would be: 0.7141\n",
            "❌ Skipped: Barttorvik_Neutral_2PTR | CV Accuracy would be: 0.7089\n",
            "❌ Skipped: Barttorvik_Neutral_3PTR | CV Accuracy would be: 0.7089\n",
            "❌ Skipped: Barttorvik_Neutral_BADJ T | CV Accuracy would be: 0.7174\n",
            "❌ Skipped: Barttorvik_Neutral_FT% | CV Accuracy would be: 0.7173\n",
            "❌ Skipped: Barttorvik_Neutral_PPPD | CV Accuracy would be: 0.7057\n",
            "❌ Skipped: Barttorvik_Neutral_EFGD% RANK | CV Accuracy would be: 0.7023\n",
            "❌ Skipped: Barttorvik_Neutral_FTR RANK | CV Accuracy would be: 0.7074\n",
            "❌ Skipped: Barttorvik_Neutral_FTRD RANK | CV Accuracy would be: 0.7023\n",
            "❌ Skipped: Barttorvik_Neutral_TOV%D RANK | CV Accuracy would be: 0.7090\n",
            "❌ Skipped: Barttorvik_Neutral_OREB% RANK | CV Accuracy would be: 0.7040\n",
            "❌ Skipped: Barttorvik_Neutral_DREB% RANK | CV Accuracy would be: 0.7056\n",
            "❌ Skipped: Barttorvik_Neutral_OP OREB% RANK | CV Accuracy would be: 0.7056\n",
            "❌ Skipped: Barttorvik_Neutral_OP DREB% RANK | CV Accuracy would be: 0.7040\n",
            "❌ Skipped: Barttorvik_Neutral_RAW T RANK | CV Accuracy would be: 0.7124\n",
            "❌ Skipped: Barttorvik_Neutral_2PT%D RANK | CV Accuracy would be: 0.7024\n",
            "❌ Skipped: Barttorvik_Neutral_3PT% RANK | CV Accuracy would be: 0.7190\n",
            "❌ Skipped: Barttorvik_Neutral_3PT%D RANK | CV Accuracy would be: 0.7140\n",
            "❌ Skipped: Barttorvik_Neutral_BLKED% RANK | CV Accuracy would be: 0.7207\n",
            "❌ Skipped: Barttorvik_Neutral_AST% RANK | CV Accuracy would be: 0.7124\n",
            "❌ Skipped: Barttorvik_Neutral_2PTR RANK | CV Accuracy would be: 0.7123\n",
            "❌ Skipped: Barttorvik_Neutral_3PTR RANK | CV Accuracy would be: 0.7123\n",
            "❌ Skipped: Barttorvik_Neutral_BADJT RANK | CV Accuracy would be: 0.7174\n",
            "❌ Skipped: Barttorvik_Neutral_FT% RANK | CV Accuracy would be: 0.7173\n",
            "❌ Skipped: Barttorvik_Neutral_PPPD RANK | CV Accuracy would be: 0.7024\n",
            "❌ Skipped: Barttorvik_Away_TOV% RANK | CV Accuracy would be: 0.7090\n",
            "❌ Skipped: Barttorvik_Away_BADJT RANK | CV Accuracy would be: 0.7024\n",
            "❌ Skipped: Barttorvik_Home_FTRD | CV Accuracy would be: 0.7156\n",
            "❌ Skipped: Barttorvik_Neutral_BADJ D RANK | CV Accuracy would be: 0.7090\n",
            "❌ Skipped: Barttorvik_Home_EFG% | CV Accuracy would be: 0.7141\n",
            "❌ Skipped: ShootingSplits_FARTHER TWOS FG%D RANK | CV Accuracy would be: 0.7124\n",
            "❌ Skipped: KenPom_Barttorvik3PT% RANK | CV Accuracy would be: 0.7107\n",
            "❌ Skipped: Barttorvik_Home_BLKED% | CV Accuracy would be: 0.7124\n",
            "❌ Skipped: Barttorvik_Home_2PT% RANK | CV Accuracy would be: 0.7007\n",
            "❌ Skipped: ShootingSplits_DUNKS D SHARE | CV Accuracy would be: 0.7023\n",
            "❌ Skipped: TeamRankings_Away_V 51-100 LOSS | CV Accuracy would be: 0.7056\n",
            "❌ Skipped: ShootingSplits_THREES D SHARE | CV Accuracy would be: 0.7123\n",
            "❌ Skipped: ShootingSplits_FARTHER TWOS D SHARE RANK | CV Accuracy would be: 0.7140\n",
            "❌ Skipped: KenPom_BarttorvikTOV%D | CV Accuracy would be: 0.7140\n",
            "❌ Skipped: KenPom_BarttorvikOP AST% | CV Accuracy would be: 0.7140\n",
            "❌ Skipped: KenPom_Barttorvik2PTRD | CV Accuracy would be: 0.7106\n",
            "❌ Skipped: KenPom_Barttorvik3PTRD | CV Accuracy would be: 0.7106\n",
            "❌ Skipped: KenPom_Barttorvik2PTRD RANK | CV Accuracy would be: 0.7090\n",
            "❌ Skipped: KenPom_Barttorvik3PTRD RANK | CV Accuracy would be: 0.7090\n",
            "❌ Skipped: Barttorvik_Away_FTRD | CV Accuracy would be: 0.7057\n",
            "❌ Skipped: Barttorvik_Away_BLK% | CV Accuracy would be: 0.7157\n",
            "❌ Skipped: Barttorvik_Away_OP AST% | CV Accuracy would be: 0.7157\n",
            "❌ Skipped: Barttorvik_Home_DREB% | CV Accuracy would be: 0.7057\n",
            "❌ Skipped: Barttorvik_Home_OP OREB% | CV Accuracy would be: 0.7057\n",
            "❌ Skipped: Barttorvik_Home_2PTRD | CV Accuracy would be: 0.7090\n",
            "❌ Skipped: Barttorvik_Home_3PTRD | CV Accuracy would be: 0.7090\n",
            "❌ Skipped: Barttorvik_Home_DREB% RANK | CV Accuracy would be: 0.7057\n",
            "❌ Skipped: Barttorvik_Home_OP OREB% RANK | CV Accuracy would be: 0.7057\n",
            "✅ Added: Barttorvik_Home_3PT% RANK | New CV Accuracy: 0.7241\n",
            "❌ Skipped: Barttorvik_Home_BLK% RANK | CV Accuracy would be: 0.7157\n",
            "❌ Skipped: Barttorvik_Neutral_FTRD | CV Accuracy would be: 0.7057\n",
            "❌ Skipped: Barttorvik_Neutral_OP FT% | CV Accuracy would be: 0.7090\n",
            "❌ Skipped: Barttorvik_Neutral_TOV% RANK | CV Accuracy would be: 0.7056\n",
            "❌ Skipped: ShootingSplits_DUNKS FG%D | CV Accuracy would be: 0.7190\n",
            "❌ Skipped: ShootingSplits_FARTHER TWOS SHARE | CV Accuracy would be: 0.7107\n",
            "❌ Skipped: TeamRankings_Neutral_V 51-100 LOSS | CV Accuracy would be: 0.7123\n",
            "❌ Skipped: Barttorvik_Home_OP FT% RANK | CV Accuracy would be: 0.7124\n",
            "❌ Skipped: ShootingSplits_CLOSE TWOS D SHARE RANK | CV Accuracy would be: 0.7107\n",
            "❌ Skipped: KenPom_BarttorvikEFG%D | CV Accuracy would be: 0.7190\n",
            "❌ Skipped: KenPom_BarttorvikFTRD | CV Accuracy would be: 0.7241\n",
            "❌ Skipped: Barttorvik_Away_OP FT% RANK | CV Accuracy would be: 0.6973\n",
            "❌ Skipped: Barttorvik_Home_FTRD RANK | CV Accuracy would be: 0.7157\n",
            "❌ Skipped: Barttorvik_Home_OREB% RANK | CV Accuracy would be: 0.7174\n",
            "❌ Skipped: Barttorvik_Home_OP DREB% RANK | CV Accuracy would be: 0.7174\n",
            "❌ Skipped: TeamRankings_Neutral_V 26-50 WINS | CV Accuracy would be: 0.7123\n",
            "❌ Skipped: Barttorvik_Home_BLKED% RANK | CV Accuracy would be: 0.7090\n",
            "❌ Skipped: KenPom_BarttorvikTOV% RANK | CV Accuracy would be: 0.7174\n",
            "❌ Skipped: Barttorvik_Neutral_OP AST% | CV Accuracy would be: 0.7106\n",
            "❌ Skipped: Barttorvik_Neutral_2PTRD | CV Accuracy would be: 0.7090\n",
            "❌ Skipped: Barttorvik_Neutral_3PTRD | CV Accuracy would be: 0.7090\n",
            "❌ Skipped: Barttorvik_Neutral_2PTRD RANK | CV Accuracy would be: 0.7073\n",
            "❌ Skipped: Barttorvik_Neutral_3PTRD RANK | CV Accuracy would be: 0.7073\n",
            "❌ Skipped: Barttorvik_Away_OP FT% | CV Accuracy would be: 0.6990\n",
            "❌ Skipped: Barttorvik_Neutral_BLK% RANK | CV Accuracy would be: 0.7023\n",
            "❌ Skipped: Barttorvik_Neutral_EXP RANK | CV Accuracy would be: 0.7140\n",
            "❌ Skipped: Barttorvik_Home_OP FT% | CV Accuracy would be: 0.7107\n",
            "❌ Skipped: Barttorvik_Neutral_OP FT% RANK | CV Accuracy would be: 0.7073\n",
            "❌ Skipped: Barttorvik_Away_GAMES | CV Accuracy would be: 0.7190\n",
            "❌ Skipped: Barttorvik_Home_TOV%D | CV Accuracy would be: 0.7124\n",
            "❌ Skipped: Barttorvik_Away_TOV% | CV Accuracy would be: 0.7073\n",
            "❌ Skipped: Barttorvik_Away_3PT% RANK | CV Accuracy would be: 0.7039\n",
            "❌ Skipped: Barttorvik_Neutral_OP AST% RANK | CV Accuracy would be: 0.7140\n",
            "❌ Skipped: ShootingSplits_FARTHER TWOS SHARE RANK | CV Accuracy would be: 0.7123\n",
            "❌ Skipped: KenPom_Barttorvik2PT%D | CV Accuracy would be: 0.7173\n",
            "❌ Skipped: KenPom_BarttorvikBLK% | CV Accuracy would be: 0.7207\n",
            "❌ Skipped: Barttorvik_Neutral_BLK% | CV Accuracy would be: 0.7073\n",
            "❌ Skipped: KenPom_BarttorvikEXP RANK | CV Accuracy would be: 0.7140\n",
            "❌ Skipped: Barttorvik_Away_EXP RANK | CV Accuracy would be: 0.7140\n",
            "❌ Skipped: Barttorvik_Home_L | CV Accuracy would be: 0.6940\n",
            "❌ Skipped: Barttorvik_Home_EXP RANK | CV Accuracy would be: 0.7140\n",
            "❌ Skipped: TeamRankings_Away_V 1-25 LOSS | CV Accuracy would be: 0.7140\n",
            "❌ Skipped: KenPom_BarttorvikFT% RANK | CV Accuracy would be: 0.7089\n",
            "❌ Skipped: ShootingSplits_CLOSE TWOS D SHARE | CV Accuracy would be: 0.7123\n",
            "❌ Skipped: ShootingSplits_CLOSE TWOS SHARE | CV Accuracy would be: 0.7124\n",
            "❌ Skipped: Barttorvik_Away_3PT% | CV Accuracy would be: 0.6938\n",
            "❌ Skipped: Barttorvik_Home_2PT% | CV Accuracy would be: 0.7023\n",
            "❌ Skipped: KenPom_BarttorvikTOV% | CV Accuracy would be: 0.7123\n",
            "❌ Skipped: Barttorvik_Home_TOV% | CV Accuracy would be: 0.7174\n",
            "❌ Skipped: Barttorvik_Home_BLK% | CV Accuracy would be: 0.7174\n",
            "❌ Skipped: ShootingSplits_CLOSE TWOS SHARE RANK | CV Accuracy would be: 0.7124\n",
            "❌ Skipped: KenPom_Barttorvik3PT%D RANK | CV Accuracy would be: 0.7174\n",
            "❌ Skipped: KenPom_BarttorvikBLK% RANK | CV Accuracy would be: 0.7140\n",
            "❌ Skipped: Barttorvik_Away_OREB% RANK | CV Accuracy would be: 0.7240\n",
            "❌ Skipped: Barttorvik_Away_OP DREB% RANK | CV Accuracy would be: 0.7240\n",
            "❌ Skipped: TeamRankings_Neutral_V 1-25 LOSS | CV Accuracy would be: 0.7123\n",
            "❌ Skipped: Barttorvik_Away_OREB% | CV Accuracy would be: 0.7224\n",
            "❌ Skipped: Barttorvik_Away_OP DREB% | CV Accuracy would be: 0.7224\n",
            "❌ Skipped: Barttorvik_Neutral_BADJ D | CV Accuracy would be: 0.7123\n",
            "❌ Skipped: Barttorvik_Away_BADJ D RANK | CV Accuracy would be: 0.7107\n",
            "❌ Skipped: Barttorvik_Home_3PT% | CV Accuracy would be: 0.7108\n",
            "❌ Skipped: TeamRankings_Neutral_V 51-100 WINS | CV Accuracy would be: 0.7157\n",
            "❌ Skipped: Barttorvik_Away_BLKED% RANK | CV Accuracy would be: 0.7090\n",
            "❌ Skipped: KenPom_BarttorvikFTR RANK | CV Accuracy would be: 0.7056\n",
            "❌ Skipped: Barttorvik_Home_TOV% RANK | CV Accuracy would be: 0.7207\n",
            "❌ Skipped: Barttorvik_Home_2PT%D | CV Accuracy would be: 0.7174\n",
            "❌ Skipped: KenPom_BarttorvikFT% | CV Accuracy would be: 0.7055\n",
            "❌ Skipped: TeamRankings_Home_V 26-50 WINS | CV Accuracy would be: 0.7157\n",
            "❌ Skipped: KenPom_BarttorvikFTR | CV Accuracy would be: 0.7140\n",
            "❌ Skipped: KenPom_BarttorvikOREB% RANK | CV Accuracy would be: 0.7190\n",
            "❌ Skipped: KenPom_BarttorvikOP DREB% RANK | CV Accuracy would be: 0.7190\n",
            "❌ Skipped: Barttorvik_Away_BLKED% | CV Accuracy would be: 0.7124\n",
            "❌ Skipped: KenPom_BarttorvikBLKED% RANK | CV Accuracy would be: 0.7090\n",
            "❌ Skipped: KenPom_Barttorvik3PT%D | CV Accuracy would be: 0.7240\n",
            "❌ Skipped: TeamRankings_Away_LO | CV Accuracy would be: 0.7106\n",
            "❌ Skipped: KenPom_BarttorvikBLKED% | CV Accuracy would be: 0.7107\n",
            "❌ Skipped: KenPom_Barttorvik2PT%D RANK | CV Accuracy would be: 0.7157\n",
            "❌ Skipped: Barttorvik_Away_FT% RANK | CV Accuracy would be: 0.7090\n",
            "❌ Skipped: Barttorvik_Away_FT% | CV Accuracy would be: 0.7073\n",
            "Accuracy: 0.7159533073929961\n"
          ]
        }
      ],
      "source": [
        "# Ensure X is a DataFrame\n",
        "X = pd.DataFrame(difference_vectors, columns=df_all_scaled.drop(columns=[\"TEAM NO\"]).columns)\n",
        "y = np.array(true_winners)\n",
        "\n",
        "# Train-test split\n",
        "#X_train, X_test, y_train, y_test = train_test_split(X, y, test_size=0.2, random_state=42)\n",
        "\n",
        "# Greedy logistic regression\n",
        "greedy_lr = LogisticRegression(max_iter=1000, random_state=42)\n",
        "feature_scores = {}\n",
        "\n",
        "# First, score each feature individually\n",
        "for feature in X_train.columns:\n",
        "    score = cross_val_score(greedy_lr, X_train[[feature]], y_train, cv=10, scoring='accuracy').mean()\n",
        "    feature_scores[feature] = score\n",
        "\n",
        "# Sort features by their single-feature performance\n",
        "sorted_features = sorted(feature_scores.items(), key=lambda x: x[1], reverse=True)\n",
        "\n",
        "selected_features = []\n",
        "best_score = 0\n",
        "\n",
        "for feature, _ in sorted_features:\n",
        "    current_features = selected_features + [feature]\n",
        "    score = cross_val_score(greedy_lr, X_train[current_features], y_train, cv=10, scoring='accuracy').mean()\n",
        "    \n",
        "    if score > best_score:\n",
        "        selected_features.append(feature)\n",
        "        best_score = score\n",
        "        print(f\"✅ Added: {feature} | New CV Accuracy: {score:.4f}\")\n",
        "    else:\n",
        "        print(f\"❌ Skipped: {feature} | CV Accuracy would be: {score:.4f}\")\n",
        "\n",
        "\n",
        "greedy_lr.fit(X_train[selected_features], y_train)\n",
        "\n",
        "\n",
        "predicted_winners_glr = greedy_lr.predict(X_test[selected_features])\n",
        "\n",
        "new_row = {'Model': ['Linear Regression Greedy'], 'Accuracy': accuracy_score(y_test, predicted_winners_glr)}\n",
        "model_results_df.loc[len(model_results_df)] = new_row\n",
        "\n",
        "print(\"Accuracy:\", accuracy_score(y_test, predicted_winners_glr))"
      ]
    },
    {
      "cell_type": "code",
      "execution_count": 13,
      "metadata": {},
      "outputs": [
        {
          "data": {
            "text/plain": [
              "['KenPom_BarttorvikKADJ EM',\n",
              " 'Barttorvik_Home_BARTHAG RANK',\n",
              " 'Barttorvik_Home_BADJ EM',\n",
              " 'TeamRankings_Home_LAST',\n",
              " 'KenPom_BarttorvikBADJ O',\n",
              " 'ELO',\n",
              " 'Barttorvik_Neutral_ELITE SOS RANK',\n",
              " 'TeamRankings_Neutral_TR RANK',\n",
              " 'Barttorvik_Home_BADJ D',\n",
              " 'Barttorvik_Home_ELITE SOS',\n",
              " 'KenPom_BarttorvikFTRD RANK',\n",
              " 'Barttorvik_Home_3PT% RANK']"
            ]
          },
          "execution_count": 13,
          "metadata": {},
          "output_type": "execute_result"
        }
      ],
      "source": [
        "selected_features"
      ]
    },
    {
      "cell_type": "markdown",
      "metadata": {},
      "source": [
        "## DNN"
      ]
    },
    {
      "cell_type": "code",
      "execution_count": 14,
      "metadata": {},
      "outputs": [],
      "source": [
        "def run_binary_mlp(X_train, y_train, X_test, y_test, hidden=64, epochs=10):\n",
        "    model = Sequential()\n",
        "    model.add(Dense(hidden, activation='relu', input_shape=(X_train.shape[1],)))\n",
        "    model.add(Dropout(0.5))\n",
        "    model.add(Dense(hidden, activation='relu'))\n",
        "    model.add(Dense(hidden, activation='relu'))\n",
        "    model.add(Dense(1, activation='sigmoid')) # output layer, add hidden layers before this\n",
        "    optimizer = tf.keras.optimizers.Adam(learning_rate=0.0002)\n",
        "    model.compile(loss=\"binary_crossentropy\",\n",
        "              optimizer=optimizer,\n",
        "              metrics=['accuracy'])\n",
        "    history = model.fit(x=X_train,y=y_train,\n",
        "                        validation_data = (X_test, y_test),\n",
        "                        batch_size=8,epochs=epochs,\n",
        "                        verbose=1)\n",
        "    \n",
        "    model.summary()\n",
        "    predicted_probabilities = model.predict(X_train)\n",
        "    predicted_probabilities = np.rint(predicted_probabilities)\n",
        "    acc = 100. * accuracy_score(y_train, predicted_probabilities)\n",
        "    print(\"Accuracy on train set: {:.2f}%\".format(acc))\n",
        "    predicted_probabilities = model.predict(X_test)\n",
        "    predicted_probabilities = np.rint(predicted_probabilities)\n",
        "    acc = 100. * accuracy_score(y_test, predicted_probabilities)\n",
        "    print(\"Accuracy on test set: {:.2f}%\".format(acc))\n",
        "    print(confusion_matrix(y_test, predicted_probabilities))\n",
        "    return history, model"
      ]
    },
    {
      "cell_type": "code",
      "execution_count": 15,
      "metadata": {},
      "outputs": [
        {
          "name": "stderr",
          "output_type": "stream",
          "text": [
            "c:\\Users\\dornerj\\AppData\\Local\\anaconda3\\Lib\\site-packages\\keras\\src\\layers\\core\\dense.py:87: UserWarning: Do not pass an `input_shape`/`input_dim` argument to a layer. When using Sequential models, prefer using an `Input(shape)` object as the first layer in the model instead.\n",
            "  super().__init__(activity_regularizer=activity_regularizer, **kwargs)\n"
          ]
        },
        {
          "name": "stdout",
          "output_type": "stream",
          "text": [
            "Epoch 1/50\n",
            "\u001b[1m75/75\u001b[0m \u001b[32m━━━━━━━━━━━━━━━━━━━━\u001b[0m\u001b[37m\u001b[0m \u001b[1m3s\u001b[0m 11ms/step - accuracy: 0.5840 - loss: 0.7072 - val_accuracy: 0.7082 - val_loss: 0.5977\n",
            "Epoch 2/50\n",
            "\u001b[1m75/75\u001b[0m \u001b[32m━━━━━━━━━━━━━━━━━━━━\u001b[0m\u001b[37m\u001b[0m \u001b[1m1s\u001b[0m 9ms/step - accuracy: 0.7194 - loss: 0.5508 - val_accuracy: 0.7043 - val_loss: 0.5938\n",
            "Epoch 3/50\n",
            "\u001b[1m75/75\u001b[0m \u001b[32m━━━━━━━━━━━━━━━━━━━━\u001b[0m\u001b[37m\u001b[0m \u001b[1m1s\u001b[0m 8ms/step - accuracy: 0.7136 - loss: 0.5705 - val_accuracy: 0.6770 - val_loss: 0.5970\n",
            "Epoch 4/50\n",
            "\u001b[1m75/75\u001b[0m \u001b[32m━━━━━━━━━━━━━━━━━━━━\u001b[0m\u001b[37m\u001b[0m \u001b[1m1s\u001b[0m 6ms/step - accuracy: 0.7849 - loss: 0.4721 - val_accuracy: 0.6732 - val_loss: 0.6315\n",
            "Epoch 5/50\n",
            "\u001b[1m75/75\u001b[0m \u001b[32m━━━━━━━━━━━━━━━━━━━━\u001b[0m\u001b[37m\u001b[0m \u001b[1m1s\u001b[0m 6ms/step - accuracy: 0.7980 - loss: 0.4427 - val_accuracy: 0.6770 - val_loss: 0.6500\n",
            "Epoch 6/50\n",
            "\u001b[1m75/75\u001b[0m \u001b[32m━━━━━━━━━━━━━━━━━━━━\u001b[0m\u001b[37m\u001b[0m \u001b[1m1s\u001b[0m 7ms/step - accuracy: 0.7953 - loss: 0.4129 - val_accuracy: 0.6654 - val_loss: 0.6854\n",
            "Epoch 7/50\n",
            "\u001b[1m75/75\u001b[0m \u001b[32m━━━━━━━━━━━━━━━━━━━━\u001b[0m\u001b[37m\u001b[0m \u001b[1m1s\u001b[0m 7ms/step - accuracy: 0.8230 - loss: 0.3765 - val_accuracy: 0.6654 - val_loss: 0.7300\n",
            "Epoch 8/50\n",
            "\u001b[1m75/75\u001b[0m \u001b[32m━━━━━━━━━━━━━━━━━━━━\u001b[0m\u001b[37m\u001b[0m \u001b[1m1s\u001b[0m 8ms/step - accuracy: 0.8553 - loss: 0.3263 - val_accuracy: 0.6654 - val_loss: 0.7470\n",
            "Epoch 9/50\n",
            "\u001b[1m75/75\u001b[0m \u001b[32m━━━━━━━━━━━━━━━━━━━━\u001b[0m\u001b[37m\u001b[0m \u001b[1m1s\u001b[0m 6ms/step - accuracy: 0.8719 - loss: 0.3257 - val_accuracy: 0.6537 - val_loss: 0.8075\n",
            "Epoch 10/50\n",
            "\u001b[1m75/75\u001b[0m \u001b[32m━━━━━━━━━━━━━━━━━━━━\u001b[0m\u001b[37m\u001b[0m \u001b[1m0s\u001b[0m 6ms/step - accuracy: 0.8954 - loss: 0.2790 - val_accuracy: 0.6732 - val_loss: 0.7985\n",
            "Epoch 11/50\n",
            "\u001b[1m75/75\u001b[0m \u001b[32m━━━━━━━━━━━━━━━━━━━━\u001b[0m\u001b[37m\u001b[0m \u001b[1m1s\u001b[0m 7ms/step - accuracy: 0.8817 - loss: 0.2924 - val_accuracy: 0.6848 - val_loss: 0.7901\n",
            "Epoch 12/50\n",
            "\u001b[1m75/75\u001b[0m \u001b[32m━━━━━━━━━━━━━━━━━━━━\u001b[0m\u001b[37m\u001b[0m \u001b[1m1s\u001b[0m 7ms/step - accuracy: 0.8965 - loss: 0.2584 - val_accuracy: 0.6654 - val_loss: 0.8326\n",
            "Epoch 13/50\n",
            "\u001b[1m75/75\u001b[0m \u001b[32m━━━━━━━━━━━━━━━━━━━━\u001b[0m\u001b[37m\u001b[0m \u001b[1m1s\u001b[0m 7ms/step - accuracy: 0.8858 - loss: 0.2247 - val_accuracy: 0.6576 - val_loss: 0.8865\n",
            "Epoch 14/50\n",
            "\u001b[1m75/75\u001b[0m \u001b[32m━━━━━━━━━━━━━━━━━━━━\u001b[0m\u001b[37m\u001b[0m \u001b[1m1s\u001b[0m 6ms/step - accuracy: 0.9114 - loss: 0.2518 - val_accuracy: 0.6732 - val_loss: 0.9041\n",
            "Epoch 15/50\n",
            "\u001b[1m75/75\u001b[0m \u001b[32m━━━━━━━━━━━━━━━━━━━━\u001b[0m\u001b[37m\u001b[0m \u001b[1m1s\u001b[0m 7ms/step - accuracy: 0.9362 - loss: 0.1897 - val_accuracy: 0.6693 - val_loss: 0.9518\n",
            "Epoch 16/50\n",
            "\u001b[1m75/75\u001b[0m \u001b[32m━━━━━━━━━━━━━━━━━━━━\u001b[0m\u001b[37m\u001b[0m \u001b[1m1s\u001b[0m 7ms/step - accuracy: 0.9198 - loss: 0.1852 - val_accuracy: 0.6770 - val_loss: 1.0426\n",
            "Epoch 17/50\n",
            "\u001b[1m75/75\u001b[0m \u001b[32m━━━━━━━━━━━━━━━━━━━━\u001b[0m\u001b[37m\u001b[0m \u001b[1m1s\u001b[0m 7ms/step - accuracy: 0.9396 - loss: 0.1960 - val_accuracy: 0.6887 - val_loss: 1.0067\n",
            "Epoch 18/50\n",
            "\u001b[1m75/75\u001b[0m \u001b[32m━━━━━━━━━━━━━━━━━━━━\u001b[0m\u001b[37m\u001b[0m \u001b[1m1s\u001b[0m 6ms/step - accuracy: 0.9423 - loss: 0.1419 - val_accuracy: 0.6732 - val_loss: 1.1235\n",
            "Epoch 19/50\n",
            "\u001b[1m75/75\u001b[0m \u001b[32m━━━━━━━━━━━━━━━━━━━━\u001b[0m\u001b[37m\u001b[0m \u001b[1m1s\u001b[0m 9ms/step - accuracy: 0.9248 - loss: 0.1443 - val_accuracy: 0.6809 - val_loss: 1.0438\n",
            "Epoch 20/50\n",
            "\u001b[1m75/75\u001b[0m \u001b[32m━━━━━━━━━━━━━━━━━━━━\u001b[0m\u001b[37m\u001b[0m \u001b[1m1s\u001b[0m 10ms/step - accuracy: 0.9423 - loss: 0.1313 - val_accuracy: 0.6887 - val_loss: 1.0961\n",
            "Epoch 21/50\n",
            "\u001b[1m75/75\u001b[0m \u001b[32m━━━━━━━━━━━━━━━━━━━━\u001b[0m\u001b[37m\u001b[0m \u001b[1m1s\u001b[0m 9ms/step - accuracy: 0.9384 - loss: 0.1459 - val_accuracy: 0.6381 - val_loss: 1.1395\n",
            "Epoch 22/50\n",
            "\u001b[1m75/75\u001b[0m \u001b[32m━━━━━━━━━━━━━━━━━━━━\u001b[0m\u001b[37m\u001b[0m \u001b[1m1s\u001b[0m 10ms/step - accuracy: 0.9501 - loss: 0.1290 - val_accuracy: 0.6693 - val_loss: 1.1073\n",
            "Epoch 23/50\n",
            "\u001b[1m75/75\u001b[0m \u001b[32m━━━━━━━━━━━━━━━━━━━━\u001b[0m\u001b[37m\u001b[0m \u001b[1m1s\u001b[0m 9ms/step - accuracy: 0.9646 - loss: 0.1211 - val_accuracy: 0.6693 - val_loss: 1.2103\n",
            "Epoch 24/50\n",
            "\u001b[1m75/75\u001b[0m \u001b[32m━━━━━━━━━━━━━━━━━━━━\u001b[0m\u001b[37m\u001b[0m \u001b[1m1s\u001b[0m 8ms/step - accuracy: 0.9752 - loss: 0.0730 - val_accuracy: 0.6537 - val_loss: 1.2115\n",
            "Epoch 25/50\n",
            "\u001b[1m75/75\u001b[0m \u001b[32m━━━━━━━━━━━━━━━━━━━━\u001b[0m\u001b[37m\u001b[0m \u001b[1m1s\u001b[0m 8ms/step - accuracy: 0.9514 - loss: 0.1061 - val_accuracy: 0.6770 - val_loss: 1.2805\n",
            "Epoch 26/50\n",
            "\u001b[1m75/75\u001b[0m \u001b[32m━━━━━━━━━━━━━━━━━━━━\u001b[0m\u001b[37m\u001b[0m \u001b[1m1s\u001b[0m 7ms/step - accuracy: 0.9640 - loss: 0.1097 - val_accuracy: 0.6576 - val_loss: 1.2441\n",
            "Epoch 27/50\n",
            "\u001b[1m75/75\u001b[0m \u001b[32m━━━━━━━━━━━━━━━━━━━━\u001b[0m\u001b[37m\u001b[0m \u001b[1m0s\u001b[0m 6ms/step - accuracy: 0.9805 - loss: 0.0620 - val_accuracy: 0.6965 - val_loss: 1.4012\n",
            "Epoch 28/50\n",
            "\u001b[1m75/75\u001b[0m \u001b[32m━━━━━━━━━━━━━━━━━━━━\u001b[0m\u001b[37m\u001b[0m \u001b[1m1s\u001b[0m 6ms/step - accuracy: 0.9737 - loss: 0.0770 - val_accuracy: 0.6887 - val_loss: 1.2750\n",
            "Epoch 29/50\n",
            "\u001b[1m75/75\u001b[0m \u001b[32m━━━━━━━━━━━━━━━━━━━━\u001b[0m\u001b[37m\u001b[0m \u001b[1m1s\u001b[0m 7ms/step - accuracy: 0.9713 - loss: 0.0648 - val_accuracy: 0.6887 - val_loss: 1.4110\n",
            "Epoch 30/50\n",
            "\u001b[1m75/75\u001b[0m \u001b[32m━━━━━━━━━━━━━━━━━━━━\u001b[0m\u001b[37m\u001b[0m \u001b[1m1s\u001b[0m 8ms/step - accuracy: 0.9763 - loss: 0.0735 - val_accuracy: 0.6809 - val_loss: 1.3607\n",
            "Epoch 31/50\n",
            "\u001b[1m75/75\u001b[0m \u001b[32m━━━━━━━━━━━━━━━━━━━━\u001b[0m\u001b[37m\u001b[0m \u001b[1m0s\u001b[0m 6ms/step - accuracy: 0.9765 - loss: 0.0718 - val_accuracy: 0.6732 - val_loss: 1.3133\n",
            "Epoch 32/50\n",
            "\u001b[1m75/75\u001b[0m \u001b[32m━━━━━━━━━━━━━━━━━━━━\u001b[0m\u001b[37m\u001b[0m \u001b[1m1s\u001b[0m 7ms/step - accuracy: 0.9790 - loss: 0.0561 - val_accuracy: 0.6848 - val_loss: 1.3652\n",
            "Epoch 33/50\n",
            "\u001b[1m75/75\u001b[0m \u001b[32m━━━━━━━━━━━━━━━━━━━━\u001b[0m\u001b[37m\u001b[0m \u001b[1m1s\u001b[0m 7ms/step - accuracy: 0.9779 - loss: 0.0613 - val_accuracy: 0.6732 - val_loss: 1.3892\n",
            "Epoch 34/50\n",
            "\u001b[1m75/75\u001b[0m \u001b[32m━━━━━━━━━━━━━━━━━━━━\u001b[0m\u001b[37m\u001b[0m \u001b[1m1s\u001b[0m 8ms/step - accuracy: 0.9796 - loss: 0.0596 - val_accuracy: 0.6848 - val_loss: 1.5078\n",
            "Epoch 35/50\n",
            "\u001b[1m75/75\u001b[0m \u001b[32m━━━━━━━━━━━━━━━━━━━━\u001b[0m\u001b[37m\u001b[0m \u001b[1m1s\u001b[0m 6ms/step - accuracy: 0.9646 - loss: 0.0910 - val_accuracy: 0.6770 - val_loss: 1.4383\n",
            "Epoch 36/50\n",
            "\u001b[1m75/75\u001b[0m \u001b[32m━━━━━━━━━━━━━━━━━━━━\u001b[0m\u001b[37m\u001b[0m \u001b[1m1s\u001b[0m 7ms/step - accuracy: 0.9808 - loss: 0.0688 - val_accuracy: 0.6732 - val_loss: 1.4182\n",
            "Epoch 37/50\n",
            "\u001b[1m75/75\u001b[0m \u001b[32m━━━━━━━━━━━━━━━━━━━━\u001b[0m\u001b[37m\u001b[0m \u001b[1m1s\u001b[0m 7ms/step - accuracy: 0.9818 - loss: 0.0486 - val_accuracy: 0.6770 - val_loss: 1.5120\n",
            "Epoch 38/50\n",
            "\u001b[1m75/75\u001b[0m \u001b[32m━━━━━━━━━━━━━━━━━━━━\u001b[0m\u001b[37m\u001b[0m \u001b[1m1s\u001b[0m 6ms/step - accuracy: 0.9610 - loss: 0.0821 - val_accuracy: 0.6732 - val_loss: 1.4693\n",
            "Epoch 39/50\n",
            "\u001b[1m75/75\u001b[0m \u001b[32m━━━━━━━━━━━━━━━━━━━━\u001b[0m\u001b[37m\u001b[0m \u001b[1m1s\u001b[0m 6ms/step - accuracy: 0.9825 - loss: 0.0567 - val_accuracy: 0.6732 - val_loss: 1.4080\n",
            "Epoch 40/50\n",
            "\u001b[1m75/75\u001b[0m \u001b[32m━━━━━━━━━━━━━━━━━━━━\u001b[0m\u001b[37m\u001b[0m \u001b[1m1s\u001b[0m 6ms/step - accuracy: 0.9823 - loss: 0.0480 - val_accuracy: 0.6732 - val_loss: 1.5353\n",
            "Epoch 41/50\n",
            "\u001b[1m75/75\u001b[0m \u001b[32m━━━━━━━━━━━━━━━━━━━━\u001b[0m\u001b[37m\u001b[0m \u001b[1m0s\u001b[0m 6ms/step - accuracy: 0.9752 - loss: 0.0589 - val_accuracy: 0.6732 - val_loss: 1.4925\n",
            "Epoch 42/50\n",
            "\u001b[1m75/75\u001b[0m \u001b[32m━━━━━━━━━━━━━━━━━━━━\u001b[0m\u001b[37m\u001b[0m \u001b[1m1s\u001b[0m 7ms/step - accuracy: 0.9763 - loss: 0.0571 - val_accuracy: 0.6848 - val_loss: 1.5219\n",
            "Epoch 43/50\n",
            "\u001b[1m75/75\u001b[0m \u001b[32m━━━━━━━━━━━━━━━━━━━━\u001b[0m\u001b[37m\u001b[0m \u001b[1m1s\u001b[0m 6ms/step - accuracy: 0.9963 - loss: 0.0238 - val_accuracy: 0.6848 - val_loss: 1.4633\n",
            "Epoch 44/50\n",
            "\u001b[1m75/75\u001b[0m \u001b[32m━━━━━━━━━━━━━━━━━━━━\u001b[0m\u001b[37m\u001b[0m \u001b[1m1s\u001b[0m 6ms/step - accuracy: 0.9792 - loss: 0.0437 - val_accuracy: 0.6770 - val_loss: 1.4803\n",
            "Epoch 45/50\n",
            "\u001b[1m75/75\u001b[0m \u001b[32m━━━━━━━━━━━━━━━━━━━━\u001b[0m\u001b[37m\u001b[0m \u001b[1m0s\u001b[0m 5ms/step - accuracy: 0.9908 - loss: 0.0417 - val_accuracy: 0.6693 - val_loss: 1.6137\n",
            "Epoch 46/50\n",
            "\u001b[1m75/75\u001b[0m \u001b[32m━━━━━━━━━━━━━━━━━━━━\u001b[0m\u001b[37m\u001b[0m \u001b[1m1s\u001b[0m 9ms/step - accuracy: 0.9939 - loss: 0.0406 - val_accuracy: 0.6965 - val_loss: 1.6975\n",
            "Epoch 47/50\n",
            "\u001b[1m75/75\u001b[0m \u001b[32m━━━━━━━━━━━━━━━━━━━━\u001b[0m\u001b[37m\u001b[0m \u001b[1m1s\u001b[0m 11ms/step - accuracy: 0.9906 - loss: 0.0298 - val_accuracy: 0.6732 - val_loss: 1.6516\n",
            "Epoch 48/50\n",
            "\u001b[1m75/75\u001b[0m \u001b[32m━━━━━━━━━━━━━━━━━━━━\u001b[0m\u001b[37m\u001b[0m \u001b[1m1s\u001b[0m 9ms/step - accuracy: 0.9812 - loss: 0.0423 - val_accuracy: 0.6693 - val_loss: 1.7439\n",
            "Epoch 49/50\n",
            "\u001b[1m75/75\u001b[0m \u001b[32m━━━━━━━━━━━━━━━━━━━━\u001b[0m\u001b[37m\u001b[0m \u001b[1m1s\u001b[0m 6ms/step - accuracy: 0.9946 - loss: 0.0223 - val_accuracy: 0.6809 - val_loss: 1.8044\n",
            "Epoch 50/50\n",
            "\u001b[1m75/75\u001b[0m \u001b[32m━━━━━━━━━━━━━━━━━━━━\u001b[0m\u001b[37m\u001b[0m \u001b[1m0s\u001b[0m 6ms/step - accuracy: 0.9904 - loss: 0.0370 - val_accuracy: 0.6887 - val_loss: 1.7529\n"
          ]
        },
        {
          "data": {
            "text/html": [
              "<pre style=\"white-space:pre;overflow-x:auto;line-height:normal;font-family:Menlo,'DejaVu Sans Mono',consolas,'Courier New',monospace\"><span style=\"font-weight: bold\">Model: \"sequential\"</span>\n",
              "</pre>\n"
            ],
            "text/plain": [
              "\u001b[1mModel: \"sequential\"\u001b[0m\n"
            ]
          },
          "metadata": {},
          "output_type": "display_data"
        },
        {
          "data": {
            "text/html": [
              "<pre style=\"white-space:pre;overflow-x:auto;line-height:normal;font-family:Menlo,'DejaVu Sans Mono',consolas,'Courier New',monospace\">┏━━━━━━━━━━━━━━━━━━━━━━━━━━━━━━━━━┳━━━━━━━━━━━━━━━━━━━━━━━━┳━━━━━━━━━━━━━━━┓\n",
              "┃<span style=\"font-weight: bold\"> Layer (type)                    </span>┃<span style=\"font-weight: bold\"> Output Shape           </span>┃<span style=\"font-weight: bold\">       Param # </span>┃\n",
              "┡━━━━━━━━━━━━━━━━━━━━━━━━━━━━━━━━━╇━━━━━━━━━━━━━━━━━━━━━━━━╇━━━━━━━━━━━━━━━┩\n",
              "│ dense (<span style=\"color: #0087ff; text-decoration-color: #0087ff\">Dense</span>)                   │ (<span style=\"color: #00d7ff; text-decoration-color: #00d7ff\">None</span>, <span style=\"color: #00af00; text-decoration-color: #00af00\">400</span>)            │       <span style=\"color: #00af00; text-decoration-color: #00af00\">163,200</span> │\n",
              "├─────────────────────────────────┼────────────────────────┼───────────────┤\n",
              "│ dropout (<span style=\"color: #0087ff; text-decoration-color: #0087ff\">Dropout</span>)               │ (<span style=\"color: #00d7ff; text-decoration-color: #00d7ff\">None</span>, <span style=\"color: #00af00; text-decoration-color: #00af00\">400</span>)            │             <span style=\"color: #00af00; text-decoration-color: #00af00\">0</span> │\n",
              "├─────────────────────────────────┼────────────────────────┼───────────────┤\n",
              "│ dense_1 (<span style=\"color: #0087ff; text-decoration-color: #0087ff\">Dense</span>)                 │ (<span style=\"color: #00d7ff; text-decoration-color: #00d7ff\">None</span>, <span style=\"color: #00af00; text-decoration-color: #00af00\">400</span>)            │       <span style=\"color: #00af00; text-decoration-color: #00af00\">160,400</span> │\n",
              "├─────────────────────────────────┼────────────────────────┼───────────────┤\n",
              "│ dense_2 (<span style=\"color: #0087ff; text-decoration-color: #0087ff\">Dense</span>)                 │ (<span style=\"color: #00d7ff; text-decoration-color: #00d7ff\">None</span>, <span style=\"color: #00af00; text-decoration-color: #00af00\">400</span>)            │       <span style=\"color: #00af00; text-decoration-color: #00af00\">160,400</span> │\n",
              "├─────────────────────────────────┼────────────────────────┼───────────────┤\n",
              "│ dense_3 (<span style=\"color: #0087ff; text-decoration-color: #0087ff\">Dense</span>)                 │ (<span style=\"color: #00d7ff; text-decoration-color: #00d7ff\">None</span>, <span style=\"color: #00af00; text-decoration-color: #00af00\">1</span>)              │           <span style=\"color: #00af00; text-decoration-color: #00af00\">401</span> │\n",
              "└─────────────────────────────────┴────────────────────────┴───────────────┘\n",
              "</pre>\n"
            ],
            "text/plain": [
              "┏━━━━━━━━━━━━━━━━━━━━━━━━━━━━━━━━━┳━━━━━━━━━━━━━━━━━━━━━━━━┳━━━━━━━━━━━━━━━┓\n",
              "┃\u001b[1m \u001b[0m\u001b[1mLayer (type)                   \u001b[0m\u001b[1m \u001b[0m┃\u001b[1m \u001b[0m\u001b[1mOutput Shape          \u001b[0m\u001b[1m \u001b[0m┃\u001b[1m \u001b[0m\u001b[1m      Param #\u001b[0m\u001b[1m \u001b[0m┃\n",
              "┡━━━━━━━━━━━━━━━━━━━━━━━━━━━━━━━━━╇━━━━━━━━━━━━━━━━━━━━━━━━╇━━━━━━━━━━━━━━━┩\n",
              "│ dense (\u001b[38;5;33mDense\u001b[0m)                   │ (\u001b[38;5;45mNone\u001b[0m, \u001b[38;5;34m400\u001b[0m)            │       \u001b[38;5;34m163,200\u001b[0m │\n",
              "├─────────────────────────────────┼────────────────────────┼───────────────┤\n",
              "│ dropout (\u001b[38;5;33mDropout\u001b[0m)               │ (\u001b[38;5;45mNone\u001b[0m, \u001b[38;5;34m400\u001b[0m)            │             \u001b[38;5;34m0\u001b[0m │\n",
              "├─────────────────────────────────┼────────────────────────┼───────────────┤\n",
              "│ dense_1 (\u001b[38;5;33mDense\u001b[0m)                 │ (\u001b[38;5;45mNone\u001b[0m, \u001b[38;5;34m400\u001b[0m)            │       \u001b[38;5;34m160,400\u001b[0m │\n",
              "├─────────────────────────────────┼────────────────────────┼───────────────┤\n",
              "│ dense_2 (\u001b[38;5;33mDense\u001b[0m)                 │ (\u001b[38;5;45mNone\u001b[0m, \u001b[38;5;34m400\u001b[0m)            │       \u001b[38;5;34m160,400\u001b[0m │\n",
              "├─────────────────────────────────┼────────────────────────┼───────────────┤\n",
              "│ dense_3 (\u001b[38;5;33mDense\u001b[0m)                 │ (\u001b[38;5;45mNone\u001b[0m, \u001b[38;5;34m1\u001b[0m)              │           \u001b[38;5;34m401\u001b[0m │\n",
              "└─────────────────────────────────┴────────────────────────┴───────────────┘\n"
            ]
          },
          "metadata": {},
          "output_type": "display_data"
        },
        {
          "data": {
            "text/html": [
              "<pre style=\"white-space:pre;overflow-x:auto;line-height:normal;font-family:Menlo,'DejaVu Sans Mono',consolas,'Courier New',monospace\"><span style=\"font-weight: bold\"> Total params: </span><span style=\"color: #00af00; text-decoration-color: #00af00\">1,453,205</span> (5.54 MB)\n",
              "</pre>\n"
            ],
            "text/plain": [
              "\u001b[1m Total params: \u001b[0m\u001b[38;5;34m1,453,205\u001b[0m (5.54 MB)\n"
            ]
          },
          "metadata": {},
          "output_type": "display_data"
        },
        {
          "data": {
            "text/html": [
              "<pre style=\"white-space:pre;overflow-x:auto;line-height:normal;font-family:Menlo,'DejaVu Sans Mono',consolas,'Courier New',monospace\"><span style=\"font-weight: bold\"> Trainable params: </span><span style=\"color: #00af00; text-decoration-color: #00af00\">484,401</span> (1.85 MB)\n",
              "</pre>\n"
            ],
            "text/plain": [
              "\u001b[1m Trainable params: \u001b[0m\u001b[38;5;34m484,401\u001b[0m (1.85 MB)\n"
            ]
          },
          "metadata": {},
          "output_type": "display_data"
        },
        {
          "data": {
            "text/html": [
              "<pre style=\"white-space:pre;overflow-x:auto;line-height:normal;font-family:Menlo,'DejaVu Sans Mono',consolas,'Courier New',monospace\"><span style=\"font-weight: bold\"> Non-trainable params: </span><span style=\"color: #00af00; text-decoration-color: #00af00\">0</span> (0.00 B)\n",
              "</pre>\n"
            ],
            "text/plain": [
              "\u001b[1m Non-trainable params: \u001b[0m\u001b[38;5;34m0\u001b[0m (0.00 B)\n"
            ]
          },
          "metadata": {},
          "output_type": "display_data"
        },
        {
          "data": {
            "text/html": [
              "<pre style=\"white-space:pre;overflow-x:auto;line-height:normal;font-family:Menlo,'DejaVu Sans Mono',consolas,'Courier New',monospace\"><span style=\"font-weight: bold\"> Optimizer params: </span><span style=\"color: #00af00; text-decoration-color: #00af00\">968,804</span> (3.70 MB)\n",
              "</pre>\n"
            ],
            "text/plain": [
              "\u001b[1m Optimizer params: \u001b[0m\u001b[38;5;34m968,804\u001b[0m (3.70 MB)\n"
            ]
          },
          "metadata": {},
          "output_type": "display_data"
        },
        {
          "name": "stdout",
          "output_type": "stream",
          "text": [
            "\u001b[1m19/19\u001b[0m \u001b[32m━━━━━━━━━━━━━━━━━━━━\u001b[0m\u001b[37m\u001b[0m \u001b[1m0s\u001b[0m 7ms/step\n",
            "Accuracy on train set: 100.00%\n",
            "\u001b[1m9/9\u001b[0m \u001b[32m━━━━━━━━━━━━━━━━━━━━\u001b[0m\u001b[37m\u001b[0m \u001b[1m0s\u001b[0m 4ms/step \n",
            "Accuracy on test set: 68.87%\n",
            "[[ 47  43]\n",
            " [ 37 130]]\n",
            "Epoch 1/3\n"
          ]
        },
        {
          "name": "stderr",
          "output_type": "stream",
          "text": [
            "c:\\Users\\dornerj\\AppData\\Local\\anaconda3\\Lib\\site-packages\\keras\\src\\layers\\core\\dense.py:87: UserWarning: Do not pass an `input_shape`/`input_dim` argument to a layer. When using Sequential models, prefer using an `Input(shape)` object as the first layer in the model instead.\n",
            "  super().__init__(activity_regularizer=activity_regularizer, **kwargs)\n"
          ]
        },
        {
          "name": "stdout",
          "output_type": "stream",
          "text": [
            "\u001b[1m75/75\u001b[0m \u001b[32m━━━━━━━━━━━━━━━━━━━━\u001b[0m\u001b[37m\u001b[0m \u001b[1m4s\u001b[0m 11ms/step - accuracy: 0.6104 - loss: 0.6631 - val_accuracy: 0.7160 - val_loss: 0.5718\n",
            "Epoch 2/3\n",
            "\u001b[1m75/75\u001b[0m \u001b[32m━━━━━━━━━━━━━━━━━━━━\u001b[0m\u001b[37m\u001b[0m \u001b[1m1s\u001b[0m 6ms/step - accuracy: 0.7036 - loss: 0.5586 - val_accuracy: 0.6965 - val_loss: 0.5964\n",
            "Epoch 3/3\n",
            "\u001b[1m75/75\u001b[0m \u001b[32m━━━━━━━━━━━━━━━━━━━━\u001b[0m\u001b[37m\u001b[0m \u001b[1m1s\u001b[0m 7ms/step - accuracy: 0.7186 - loss: 0.5211 - val_accuracy: 0.6926 - val_loss: 0.6025\n"
          ]
        },
        {
          "data": {
            "text/html": [
              "<pre style=\"white-space:pre;overflow-x:auto;line-height:normal;font-family:Menlo,'DejaVu Sans Mono',consolas,'Courier New',monospace\"><span style=\"font-weight: bold\">Model: \"sequential_1\"</span>\n",
              "</pre>\n"
            ],
            "text/plain": [
              "\u001b[1mModel: \"sequential_1\"\u001b[0m\n"
            ]
          },
          "metadata": {},
          "output_type": "display_data"
        },
        {
          "data": {
            "text/html": [
              "<pre style=\"white-space:pre;overflow-x:auto;line-height:normal;font-family:Menlo,'DejaVu Sans Mono',consolas,'Courier New',monospace\">┏━━━━━━━━━━━━━━━━━━━━━━━━━━━━━━━━━┳━━━━━━━━━━━━━━━━━━━━━━━━┳━━━━━━━━━━━━━━━┓\n",
              "┃<span style=\"font-weight: bold\"> Layer (type)                    </span>┃<span style=\"font-weight: bold\"> Output Shape           </span>┃<span style=\"font-weight: bold\">       Param # </span>┃\n",
              "┡━━━━━━━━━━━━━━━━━━━━━━━━━━━━━━━━━╇━━━━━━━━━━━━━━━━━━━━━━━━╇━━━━━━━━━━━━━━━┩\n",
              "│ dense_4 (<span style=\"color: #0087ff; text-decoration-color: #0087ff\">Dense</span>)                 │ (<span style=\"color: #00d7ff; text-decoration-color: #00d7ff\">None</span>, <span style=\"color: #00af00; text-decoration-color: #00af00\">400</span>)            │       <span style=\"color: #00af00; text-decoration-color: #00af00\">163,200</span> │\n",
              "├─────────────────────────────────┼────────────────────────┼───────────────┤\n",
              "│ dropout_1 (<span style=\"color: #0087ff; text-decoration-color: #0087ff\">Dropout</span>)             │ (<span style=\"color: #00d7ff; text-decoration-color: #00d7ff\">None</span>, <span style=\"color: #00af00; text-decoration-color: #00af00\">400</span>)            │             <span style=\"color: #00af00; text-decoration-color: #00af00\">0</span> │\n",
              "├─────────────────────────────────┼────────────────────────┼───────────────┤\n",
              "│ dense_5 (<span style=\"color: #0087ff; text-decoration-color: #0087ff\">Dense</span>)                 │ (<span style=\"color: #00d7ff; text-decoration-color: #00d7ff\">None</span>, <span style=\"color: #00af00; text-decoration-color: #00af00\">400</span>)            │       <span style=\"color: #00af00; text-decoration-color: #00af00\">160,400</span> │\n",
              "├─────────────────────────────────┼────────────────────────┼───────────────┤\n",
              "│ dense_6 (<span style=\"color: #0087ff; text-decoration-color: #0087ff\">Dense</span>)                 │ (<span style=\"color: #00d7ff; text-decoration-color: #00d7ff\">None</span>, <span style=\"color: #00af00; text-decoration-color: #00af00\">400</span>)            │       <span style=\"color: #00af00; text-decoration-color: #00af00\">160,400</span> │\n",
              "├─────────────────────────────────┼────────────────────────┼───────────────┤\n",
              "│ dense_7 (<span style=\"color: #0087ff; text-decoration-color: #0087ff\">Dense</span>)                 │ (<span style=\"color: #00d7ff; text-decoration-color: #00d7ff\">None</span>, <span style=\"color: #00af00; text-decoration-color: #00af00\">1</span>)              │           <span style=\"color: #00af00; text-decoration-color: #00af00\">401</span> │\n",
              "└─────────────────────────────────┴────────────────────────┴───────────────┘\n",
              "</pre>\n"
            ],
            "text/plain": [
              "┏━━━━━━━━━━━━━━━━━━━━━━━━━━━━━━━━━┳━━━━━━━━━━━━━━━━━━━━━━━━┳━━━━━━━━━━━━━━━┓\n",
              "┃\u001b[1m \u001b[0m\u001b[1mLayer (type)                   \u001b[0m\u001b[1m \u001b[0m┃\u001b[1m \u001b[0m\u001b[1mOutput Shape          \u001b[0m\u001b[1m \u001b[0m┃\u001b[1m \u001b[0m\u001b[1m      Param #\u001b[0m\u001b[1m \u001b[0m┃\n",
              "┡━━━━━━━━━━━━━━━━━━━━━━━━━━━━━━━━━╇━━━━━━━━━━━━━━━━━━━━━━━━╇━━━━━━━━━━━━━━━┩\n",
              "│ dense_4 (\u001b[38;5;33mDense\u001b[0m)                 │ (\u001b[38;5;45mNone\u001b[0m, \u001b[38;5;34m400\u001b[0m)            │       \u001b[38;5;34m163,200\u001b[0m │\n",
              "├─────────────────────────────────┼────────────────────────┼───────────────┤\n",
              "│ dropout_1 (\u001b[38;5;33mDropout\u001b[0m)             │ (\u001b[38;5;45mNone\u001b[0m, \u001b[38;5;34m400\u001b[0m)            │             \u001b[38;5;34m0\u001b[0m │\n",
              "├─────────────────────────────────┼────────────────────────┼───────────────┤\n",
              "│ dense_5 (\u001b[38;5;33mDense\u001b[0m)                 │ (\u001b[38;5;45mNone\u001b[0m, \u001b[38;5;34m400\u001b[0m)            │       \u001b[38;5;34m160,400\u001b[0m │\n",
              "├─────────────────────────────────┼────────────────────────┼───────────────┤\n",
              "│ dense_6 (\u001b[38;5;33mDense\u001b[0m)                 │ (\u001b[38;5;45mNone\u001b[0m, \u001b[38;5;34m400\u001b[0m)            │       \u001b[38;5;34m160,400\u001b[0m │\n",
              "├─────────────────────────────────┼────────────────────────┼───────────────┤\n",
              "│ dense_7 (\u001b[38;5;33mDense\u001b[0m)                 │ (\u001b[38;5;45mNone\u001b[0m, \u001b[38;5;34m1\u001b[0m)              │           \u001b[38;5;34m401\u001b[0m │\n",
              "└─────────────────────────────────┴────────────────────────┴───────────────┘\n"
            ]
          },
          "metadata": {},
          "output_type": "display_data"
        },
        {
          "data": {
            "text/html": [
              "<pre style=\"white-space:pre;overflow-x:auto;line-height:normal;font-family:Menlo,'DejaVu Sans Mono',consolas,'Courier New',monospace\"><span style=\"font-weight: bold\"> Total params: </span><span style=\"color: #00af00; text-decoration-color: #00af00\">1,453,205</span> (5.54 MB)\n",
              "</pre>\n"
            ],
            "text/plain": [
              "\u001b[1m Total params: \u001b[0m\u001b[38;5;34m1,453,205\u001b[0m (5.54 MB)\n"
            ]
          },
          "metadata": {},
          "output_type": "display_data"
        },
        {
          "data": {
            "text/html": [
              "<pre style=\"white-space:pre;overflow-x:auto;line-height:normal;font-family:Menlo,'DejaVu Sans Mono',consolas,'Courier New',monospace\"><span style=\"font-weight: bold\"> Trainable params: </span><span style=\"color: #00af00; text-decoration-color: #00af00\">484,401</span> (1.85 MB)\n",
              "</pre>\n"
            ],
            "text/plain": [
              "\u001b[1m Trainable params: \u001b[0m\u001b[38;5;34m484,401\u001b[0m (1.85 MB)\n"
            ]
          },
          "metadata": {},
          "output_type": "display_data"
        },
        {
          "data": {
            "text/html": [
              "<pre style=\"white-space:pre;overflow-x:auto;line-height:normal;font-family:Menlo,'DejaVu Sans Mono',consolas,'Courier New',monospace\"><span style=\"font-weight: bold\"> Non-trainable params: </span><span style=\"color: #00af00; text-decoration-color: #00af00\">0</span> (0.00 B)\n",
              "</pre>\n"
            ],
            "text/plain": [
              "\u001b[1m Non-trainable params: \u001b[0m\u001b[38;5;34m0\u001b[0m (0.00 B)\n"
            ]
          },
          "metadata": {},
          "output_type": "display_data"
        },
        {
          "data": {
            "text/html": [
              "<pre style=\"white-space:pre;overflow-x:auto;line-height:normal;font-family:Menlo,'DejaVu Sans Mono',consolas,'Courier New',monospace\"><span style=\"font-weight: bold\"> Optimizer params: </span><span style=\"color: #00af00; text-decoration-color: #00af00\">968,804</span> (3.70 MB)\n",
              "</pre>\n"
            ],
            "text/plain": [
              "\u001b[1m Optimizer params: \u001b[0m\u001b[38;5;34m968,804\u001b[0m (3.70 MB)\n"
            ]
          },
          "metadata": {},
          "output_type": "display_data"
        },
        {
          "name": "stdout",
          "output_type": "stream",
          "text": [
            "\u001b[1m19/19\u001b[0m \u001b[32m━━━━━━━━━━━━━━━━━━━━\u001b[0m\u001b[37m\u001b[0m \u001b[1m0s\u001b[0m 5ms/step\n",
            "Accuracy on train set: 80.27%\n",
            "\u001b[1m9/9\u001b[0m \u001b[32m━━━━━━━━━━━━━━━━━━━━\u001b[0m\u001b[37m\u001b[0m \u001b[1m0s\u001b[0m 2ms/step \n",
            "Accuracy on test set: 69.26%\n",
            "[[ 38  52]\n",
            " [ 27 140]]\n"
          ]
        }
      ],
      "source": [
        "history, test = run_binary_mlp(X_train, y_train, X_test, y_test,400,50)\n",
        "history2, model_dnn = run_binary_mlp(X_train, y_train, X_test, y_test,400,3)"
      ]
    },
    {
      "cell_type": "code",
      "execution_count": 16,
      "metadata": {},
      "outputs": [
        {
          "data": {
            "image/png": "[encoded data removed]",
            "text/plain": [
              "<Figure size 800x600 with 1 Axes>"
            ]
          },
          "metadata": {},
          "output_type": "display_data"
        }
      ],
      "source": [
        "def plot_training_history(history):\n",
        "    plt.figure(figsize=(8,6))\n",
        "    \n",
        "    plt.plot(history.history['accuracy'], label='Training Accuracy')\n",
        "    plt.plot(history.history['val_accuracy'], label='Validation Accuracy')\n",
        "    \n",
        "    plt.title('Training vs Validation Accuracy')\n",
        "    plt.xlabel('Epoch')\n",
        "    plt.ylabel('Accuracy')\n",
        "    plt.legend()\n",
        "    plt.grid(True)\n",
        "    plt.show()\n",
        "\n",
        "plot_training_history(history)"
      ]
    },
    {
      "cell_type": "code",
      "execution_count": 17,
      "metadata": {},
      "outputs": [
        {
          "name": "stdout",
          "output_type": "stream",
          "text": [
            "\u001b[1m9/9\u001b[0m \u001b[32m━━━━━━━━━━━━━━━━━━━━\u001b[0m\u001b[37m\u001b[0m \u001b[1m0s\u001b[0m 2ms/step \n",
            "DNN\n",
            "Accuracy: 0.6926070038910506\n"
          ]
        }
      ],
      "source": [
        "predicted_probabilities = model_dnn.predict(X_test)\n",
        "predicted_probabilities = np.rint(predicted_probabilities)\n",
        "new_row = {'Model': ['DNN'], 'Accuracy': accuracy_score(y_test, predicted_probabilities)}\n",
        "model_results_df.loc[len(model_results_df)] = new_row\n",
        "print(\"DNN\")\n",
        "print(\"Accuracy:\", accuracy_score(y_test, predicted_probabilities))"
      ]
    },
    {
      "cell_type": "markdown",
      "metadata": {},
      "source": [
        "## Random Forest"
      ]
    },
    {
      "cell_type": "code",
      "execution_count": 18,
      "metadata": {},
      "outputs": [
        {
          "name": "stdout",
          "output_type": "stream",
          "text": [
            "Random Forest\n",
            "Accuracy: 0.7159533073929961\n"
          ]
        }
      ],
      "source": [
        "clf = RandomForestClassifier(max_depth=1000, random_state=42)\n",
        "clf.fit(X_train, y_train)\n",
        "\n",
        "preds_rf = clf.predict(X_test)\n",
        "new_row = {'Model': ['Random Forest'], 'Accuracy': accuracy_score(y_test, preds_rf)}\n",
        "model_results_df.loc[len(model_results_df)] = new_row\n",
        "print(\"Random Forest\")\n",
        "print(\"Accuracy:\", accuracy_score(y_test, preds_rf))"
      ]
    },
    {
      "cell_type": "markdown",
      "metadata": {},
      "source": [
        "## KNN"
      ]
    },
    {
      "cell_type": "code",
      "execution_count": 19,
      "metadata": {},
      "outputs": [
        {
          "name": "stdout",
          "output_type": "stream",
          "text": [
            "KNN\n",
            "Accuracy: 0.6731517509727627\n"
          ]
        }
      ],
      "source": [
        "neigh = KNeighborsClassifier(n_neighbors=5)\n",
        "neigh.fit(X_train, y_train)\n",
        "\n",
        "preds_knn = neigh.predict(X_test)\n",
        "new_row = {'Model': ['KNN'], 'Accuracy': accuracy_score(y_test, preds_knn)}\n",
        "model_results_df.loc[len(model_results_df)] = new_row\n",
        "print(\"KNN\")\n",
        "print(\"Accuracy:\", accuracy_score(y_test, preds_knn))"
      ]
    },
    {
      "cell_type": "markdown",
      "metadata": {},
      "source": [
        "## Decision Tree Classifier"
      ]
    },
    {
      "cell_type": "code",
      "execution_count": 20,
      "metadata": {},
      "outputs": [
        {
          "name": "stdout",
          "output_type": "stream",
          "text": [
            "Decision Tree\n",
            "Accuracy: 0.6459143968871596\n"
          ]
        }
      ],
      "source": [
        "dtc = DecisionTreeClassifier(random_state=0)\n",
        "dtc.fit(X_train, y_train)\n",
        "\n",
        "preds_dtc = dtc.predict(X_test)\n",
        "new_row = {'Model': ['Decision Tree Classifier'], 'Accuracy': accuracy_score(y_test, preds_dtc)}\n",
        "model_results_df.loc[len(model_results_df)] = new_row\n",
        "print(\"Decision Tree\")\n",
        "print(\"Accuracy:\", accuracy_score(y_test, preds_dtc))"
      ]
    },
    {
      "cell_type": "markdown",
      "metadata": {},
      "source": [
        "## SVM"
      ]
    },
    {
      "cell_type": "code",
      "execution_count": 21,
      "metadata": {},
      "outputs": [
        {
          "name": "stdout",
          "output_type": "stream",
          "text": [
            "svm\n",
            "Accuracy: 0.708171206225681\n"
          ]
        }
      ],
      "source": [
        "svm_model = svm.SVC()\n",
        "svm_model.fit(X_train, y_train)\n",
        "\n",
        "preds_svm = svm_model.predict(X_test)\n",
        "new_row = {'Model': ['SVM'], 'Accuracy': accuracy_score(y_test, preds_svm)}\n",
        "model_results_df.loc[len(model_results_df)] = new_row\n",
        "print(\"svm\")\n",
        "print(\"Accuracy:\", accuracy_score(y_test, preds_svm))"
      ]
    },
    {
      "cell_type": "markdown",
      "metadata": {},
      "source": [
        "## Gaussian NB"
      ]
    },
    {
      "cell_type": "code",
      "execution_count": 22,
      "metadata": {},
      "outputs": [
        {
          "name": "stdout",
          "output_type": "stream",
          "text": [
            "gaussianNB\n",
            "Accuracy: 0.6536964980544747\n"
          ]
        }
      ],
      "source": [
        "gnb = GaussianNB()\n",
        "\n",
        "gnb_preds = gnb.fit(X_train, y_train).predict(X_test)\n",
        "new_row = {'Model': ['Gaussian NB'], 'Accuracy': accuracy_score(y_test, gnb_preds)}\n",
        "model_results_df.loc[len(model_results_df)] = new_row\n",
        "print(\"gaussianNB\")\n",
        "print(\"Accuracy:\", accuracy_score(y_test, gnb_preds))"
      ]
    },
    {
      "cell_type": "markdown",
      "metadata": {},
      "source": [
        "## Confusion Matrices"
      ]
    },
    {
      "cell_type": "code",
      "execution_count": 23,
      "metadata": {},
      "outputs": [
        {
          "data": {
            "image/png": "[encoded data removed]",
            "text/plain": [
              "<Figure size 640x480 with 2 Axes>"
            ]
          },
          "metadata": {},
          "output_type": "display_data"
        }
      ],
      "source": [
        "predicted_labels = greedy_lr.predict(X_test[selected_features])\n",
        "\n",
        "cm = confusion_matrix(y_test, predicted_labels)\n",
        "\n",
        "\n",
        "disp = ConfusionMatrixDisplay(confusion_matrix=cm)\n",
        "disp.plot()\n",
        "plt.title(\"Confusion Matrix of greedy logistical regression\")\n",
        "plt.show()"
      ]
    },
    {
      "cell_type": "code",
      "execution_count": 24,
      "metadata": {},
      "outputs": [
        {
          "name": "stdout",
          "output_type": "stream",
          "text": [
            "\u001b[1m9/9\u001b[0m \u001b[32m━━━━━━━━━━━━━━━━━━━━\u001b[0m\u001b[37m\u001b[0m \u001b[1m0s\u001b[0m 3ms/step \n"
          ]
        },
        {
          "data": {
            "image/png": "[encoded data removed]",
            "text/plain": [
              "<Figure size 640x480 with 2 Axes>"
            ]
          },
          "metadata": {},
          "output_type": "display_data"
        }
      ],
      "source": [
        "predicted_probabilities = model_dnn.predict(X_test)\n",
        "predicted_labels = np.rint(predicted_probabilities) \n",
        "\n",
        "\n",
        "cm = confusion_matrix(y_test, predicted_labels)\n",
        "\n",
        "\n",
        "disp = ConfusionMatrixDisplay(confusion_matrix=cm)\n",
        "disp.plot()\n",
        "plt.title(\"Confusion Matrix for the DNN\")\n",
        "plt.show()"
      ]
    },
    {
      "cell_type": "code",
      "execution_count": 25,
      "metadata": {},
      "outputs": [
        {
          "data": {
            "image/png": "[encoded data removed]",
            "text/plain": [
              "<Figure size 640x480 with 2 Axes>"
            ]
          },
          "metadata": {},
          "output_type": "display_data"
        }
      ],
      "source": [
        "predicted_labels = clf.predict(X_test)\n",
        "\n",
        "cm = confusion_matrix(y_test, predicted_labels)\n",
        "\n",
        "\n",
        "disp = ConfusionMatrixDisplay(confusion_matrix=cm)\n",
        "disp.plot()\n",
        "plt.title(\"Confusion Matrix of Random forest\")\n",
        "plt.show()"
      ]
    },
    {
      "cell_type": "code",
      "execution_count": 26,
      "metadata": {},
      "outputs": [
        {
          "data": {
            "image/png": "[encoded data removed]",
            "text/plain": [
              "<Figure size 640x480 with 2 Axes>"
            ]
          },
          "metadata": {},
          "output_type": "display_data"
        }
      ],
      "source": [
        "predicted_labels = neigh.predict(X_test)\n",
        "\n",
        "cm = confusion_matrix(y_test, predicted_labels)\n",
        "\n",
        "\n",
        "disp = ConfusionMatrixDisplay(confusion_matrix=cm)\n",
        "disp.plot()\n",
        "plt.title(\"Confusion Matrix of KNN\")\n",
        "plt.show()"
      ]
    },
    {
      "cell_type": "code",
      "execution_count": 27,
      "metadata": {},
      "outputs": [
        {
          "data": {
            "image/png": "[encoded data removed]",
            "text/plain": [
              "<Figure size 640x480 with 2 Axes>"
            ]
          },
          "metadata": {},
          "output_type": "display_data"
        }
      ],
      "source": [
        "predicted_labels = dtc.predict(X_test)\n",
        "\n",
        "cm = confusion_matrix(y_test, predicted_labels)\n",
        "\n",
        "\n",
        "disp = ConfusionMatrixDisplay(confusion_matrix=cm)\n",
        "disp.plot()\n",
        "plt.title(\"Confusion Matrix of Decision Tree\")\n",
        "plt.show()"
      ]
    },
    {
      "cell_type": "code",
      "execution_count": 28,
      "metadata": {},
      "outputs": [
        {
          "data": {
            "image/png": "[encoded data removed]",
            "text/plain": [
              "<Figure size 640x480 with 2 Axes>"
            ]
          },
          "metadata": {},
          "output_type": "display_data"
        }
      ],
      "source": [
        "predicted_labels = svm_model.predict(X_test)\n",
        "\n",
        "cm = confusion_matrix(y_test, predicted_labels)\n",
        "\n",
        "\n",
        "disp = ConfusionMatrixDisplay(confusion_matrix=cm)\n",
        "disp.plot()\n",
        "plt.title(\"Confusion Matrix of svm model\")\n",
        "plt.show()"
      ]
    },
    {
      "cell_type": "code",
      "execution_count": 29,
      "metadata": {},
      "outputs": [
        {
          "data": {
            "image/png": "[encoded data removed]",
            "text/plain": [
              "<Figure size 640x480 with 2 Axes>"
            ]
          },
          "metadata": {},
          "output_type": "display_data"
        }
      ],
      "source": [
        "predicted_labels = gnb.predict(X_test)\n",
        "\n",
        "cm = confusion_matrix(y_test, predicted_labels)\n",
        "\n",
        "\n",
        "disp = ConfusionMatrixDisplay(confusion_matrix=cm)\n",
        "disp.plot()\n",
        "plt.title(\"Confusion Matrix of GaussianNB model\")\n",
        "plt.show()"
      ]
    },
    {
      "cell_type": "markdown",
      "metadata": {},
      "source": [
        "## Dimensionality Reduction"
      ]
    },
    {
      "cell_type": "code",
      "execution_count": 30,
      "metadata": {},
      "outputs": [
        {
          "data": {
            "text/plain": [
              "(924, 10)"
            ]
          },
          "execution_count": 30,
          "metadata": {},
          "output_type": "execute_result"
        }
      ],
      "source": [
        "df_reduced = df_all_scaled.copy()\n",
        "\n",
        "df_reduced = df_reduced.drop(columns=['TEAM NO'])\n",
        "\n",
        "svd = TruncatedSVD(n_components=10, random_state=42) \n",
        "X_svd = svd.fit_transform(df_reduced)\n",
        "X_svd.shape"
      ]
    },
    {
      "cell_type": "code",
      "execution_count": 31,
      "metadata": {},
      "outputs": [],
      "source": [
        "df_10d = pd.DataFrame(X_svd)\n",
        "df_10d[\"TEAM NO\"] = df_all_scaled['TEAM NO']"
      ]
    },
    {
      "cell_type": "code",
      "execution_count": 32,
      "metadata": {},
      "outputs": [
        {
          "name": "stdout",
          "output_type": "stream",
          "text": [
            "✅ Finished creating reduced difference vectors. Skipped 152 matchups.\n"
          ]
        }
      ],
      "source": [
        "pred_winners2 = []\n",
        "true_winners2 = []\n",
        "difference_vectors2 = []\n",
        "\n",
        "skipped = 0  # Track skipped matchups\n",
        "\n",
        "for matchup in matchups:\n",
        "    team_1_NO = str(matchup[0])\n",
        "    team_0_NO = str(matchup[1])\n",
        "\n",
        "    # Look up rows in df_10d\n",
        "    team_1_row = df_10d[df_10d[\"TEAM NO\"] == team_1_NO]\n",
        "    team_0_row = df_10d[df_10d[\"TEAM NO\"] == team_0_NO]\n",
        "\n",
        "    if not team_1_row.empty and not team_0_row.empty:\n",
        "        true_winners2.append(matchup[2])\n",
        "\n",
        "        # Drop TEAM NO and convert to numpy arrays\n",
        "        team_1_vector = team_1_row.drop(columns=[\"TEAM NO\"]).iloc[0].values\n",
        "        team_0_vector = team_0_row.drop(columns=[\"TEAM NO\"]).iloc[0].values\n",
        "\n",
        "        # Compute difference vector\n",
        "        difference_vector = team_1_vector - team_0_vector\n",
        "        difference_vectors2.append(difference_vector)\n",
        "    else:\n",
        "        skipped += 1\n",
        "\n",
        "print(f\"✅ Finished creating reduced difference vectors. Skipped {skipped} matchups.\")\n",
        "\n",
        "# Convert to DataFrame\n",
        "X = pd.DataFrame(difference_vectors2, columns=[f\"SVD_{i+1}\" for i in range(10)])\n",
        "y = np.array(true_winners2)\n",
        "\n",
        "# Train/test split\n",
        "X_train, X_test, y_train, y_test = train_test_split(X, y, test_size=0.3, random_state=42)"
      ]
    },
    {
      "cell_type": "markdown",
      "metadata": {},
      "source": [
        "### Logistic Regression"
      ]
    },
    {
      "cell_type": "code",
      "execution_count": 33,
      "metadata": {},
      "outputs": [
        {
          "name": "stdout",
          "output_type": "stream",
          "text": [
            "Accuracy: 0.7237354085603113\n"
          ]
        }
      ],
      "source": [
        "LR_model_dr = LogisticRegression()\n",
        "LR_model_dr.fit(X_train, y_train)\n",
        "\n",
        "predicted_winners = LR_model_dr.predict(X_test)\n",
        "new_row = {'Model': ['Feature Reduced Linear Regression'], 'Accuracy': accuracy_score(y_test, predicted_winners)}\n",
        "model_results_df.loc[len(model_results_df)] = new_row\n",
        "print(\"Accuracy:\", accuracy_score(y_test, predicted_winners))"
      ]
    },
    {
      "cell_type": "markdown",
      "metadata": {},
      "source": [
        "### Greedy Logistic Regression"
      ]
    },
    {
      "cell_type": "code",
      "execution_count": 34,
      "metadata": {},
      "outputs": [
        {
          "name": "stdout",
          "output_type": "stream",
          "text": [
            "✅ Added: SVD_1 | New CV Accuracy: 0.6773\n",
            "✅ Added: SVD_2 | New CV Accuracy: 0.6940\n",
            "❌ Skipped: SVD_3 | CV Accuracy would be: 0.6890\n",
            "❌ Skipped: SVD_5 | CV Accuracy would be: 0.6873\n",
            "✅ Added: SVD_6 | New CV Accuracy: 0.7058\n",
            "❌ Skipped: SVD_7 | CV Accuracy would be: 0.6991\n",
            "❌ Skipped: SVD_4 | CV Accuracy would be: 0.7008\n",
            "❌ Skipped: SVD_9 | CV Accuracy would be: 0.7007\n",
            "❌ Skipped: SVD_8 | CV Accuracy would be: 0.7057\n",
            "❌ Skipped: SVD_10 | CV Accuracy would be: 0.6856\n",
            "Accuracy: 0.7120622568093385\n"
          ]
        }
      ],
      "source": [
        "# Greedy logistic regression\n",
        "greedy_lr_dr = LogisticRegression(max_iter=1000, random_state=42)\n",
        "feature_scores = {}\n",
        "\n",
        "# First, score each feature individually\n",
        "for feature in X_train.columns:\n",
        "    score = cross_val_score(greedy_lr_dr, X_train[[feature]], y_train, cv=10, scoring='accuracy').mean()\n",
        "    feature_scores[feature] = score\n",
        "\n",
        "# Sort features by their single-feature performance\n",
        "sorted_features = sorted(feature_scores.items(), key=lambda x: x[1], reverse=True)\n",
        "\n",
        "selected_features = []\n",
        "best_score = 0\n",
        "\n",
        "for feature, _ in sorted_features:\n",
        "    current_features = selected_features + [feature]\n",
        "    score = cross_val_score(greedy_lr_dr, X_train[current_features], y_train, cv=10, scoring='accuracy').mean()\n",
        "    \n",
        "    if score > best_score:\n",
        "        selected_features.append(feature)\n",
        "        best_score = score\n",
        "        print(f\"✅ Added: {feature} | New CV Accuracy: {score:.4f}\")\n",
        "    else:\n",
        "        print(f\"❌ Skipped: {feature} | CV Accuracy would be: {score:.4f}\")\n",
        "\n",
        "\n",
        "greedy_lr_dr.fit(X_train[selected_features], y_train)\n",
        "\n",
        "\n",
        "predicted_winners_glr_dr = greedy_lr_dr.predict(X_test[selected_features])\n",
        "new_row = {'Model': ['Feature Reduced Greedy Linear Regression'], 'Accuracy': accuracy_score(y_test, predicted_winners_glr_dr)}\n",
        "model_results_df.loc[len(model_results_df)] = new_row\n",
        "print(\"Accuracy:\", accuracy_score(y_test, predicted_winners_glr_dr))"
      ]
    },
    {
      "cell_type": "markdown",
      "metadata": {},
      "source": [
        "### DNN"
      ]
    },
    {
      "cell_type": "code",
      "execution_count": 35,
      "metadata": {},
      "outputs": [
        {
          "name": "stdout",
          "output_type": "stream",
          "text": [
            "Epoch 1/50\n"
          ]
        },
        {
          "name": "stderr",
          "output_type": "stream",
          "text": [
            "c:\\Users\\dornerj\\AppData\\Local\\anaconda3\\Lib\\site-packages\\keras\\src\\layers\\core\\dense.py:87: UserWarning: Do not pass an `input_shape`/`input_dim` argument to a layer. When using Sequential models, prefer using an `Input(shape)` object as the first layer in the model instead.\n",
            "  super().__init__(activity_regularizer=activity_regularizer, **kwargs)\n"
          ]
        },
        {
          "name": "stdout",
          "output_type": "stream",
          "text": [
            "\u001b[1m75/75\u001b[0m \u001b[32m━━━━━━━━━━━━━━━━━━━━\u001b[0m\u001b[37m\u001b[0m \u001b[1m3s\u001b[0m 9ms/step - accuracy: 0.6075 - loss: 0.7008 - val_accuracy: 0.6770 - val_loss: 0.6066\n",
            "Epoch 2/50\n",
            "\u001b[1m75/75\u001b[0m \u001b[32m━━━━━━━━━━━━━━━━━━━━\u001b[0m\u001b[37m\u001b[0m \u001b[1m1s\u001b[0m 7ms/step - accuracy: 0.6575 - loss: 0.6113 - val_accuracy: 0.6887 - val_loss: 0.5944\n",
            "Epoch 3/50\n",
            "\u001b[1m75/75\u001b[0m \u001b[32m━━━━━━━━━━━━━━━━━━━━\u001b[0m\u001b[37m\u001b[0m \u001b[1m0s\u001b[0m 5ms/step - accuracy: 0.6516 - loss: 0.5889 - val_accuracy: 0.6965 - val_loss: 0.6005\n",
            "Epoch 4/50\n",
            "\u001b[1m75/75\u001b[0m \u001b[32m━━━━━━━━━━━━━━━━━━━━\u001b[0m\u001b[37m\u001b[0m \u001b[1m1s\u001b[0m 7ms/step - accuracy: 0.6730 - loss: 0.5849 - val_accuracy: 0.7043 - val_loss: 0.5860\n",
            "Epoch 5/50\n",
            "\u001b[1m75/75\u001b[0m \u001b[32m━━━━━━━━━━━━━━━━━━━━\u001b[0m\u001b[37m\u001b[0m \u001b[1m0s\u001b[0m 5ms/step - accuracy: 0.7364 - loss: 0.5290 - val_accuracy: 0.7004 - val_loss: 0.5927\n",
            "Epoch 6/50\n",
            "\u001b[1m75/75\u001b[0m \u001b[32m━━━━━━━━━━━━━━━━━━━━\u001b[0m\u001b[37m\u001b[0m \u001b[1m0s\u001b[0m 5ms/step - accuracy: 0.7326 - loss: 0.5327 - val_accuracy: 0.6848 - val_loss: 0.6057\n",
            "Epoch 7/50\n",
            "\u001b[1m75/75\u001b[0m \u001b[32m━━━━━━━━━━━━━━━━━━━━\u001b[0m\u001b[37m\u001b[0m \u001b[1m0s\u001b[0m 5ms/step - accuracy: 0.7148 - loss: 0.5638 - val_accuracy: 0.6848 - val_loss: 0.6217\n",
            "Epoch 8/50\n",
            "\u001b[1m75/75\u001b[0m \u001b[32m━━━━━━━━━━━━━━━━━━━━\u001b[0m\u001b[37m\u001b[0m \u001b[1m0s\u001b[0m 5ms/step - accuracy: 0.7480 - loss: 0.5212 - val_accuracy: 0.6926 - val_loss: 0.6096\n",
            "Epoch 9/50\n",
            "\u001b[1m75/75\u001b[0m \u001b[32m━━━━━━━━━━━━━━━━━━━━\u001b[0m\u001b[37m\u001b[0m \u001b[1m0s\u001b[0m 5ms/step - accuracy: 0.7398 - loss: 0.5229 - val_accuracy: 0.6615 - val_loss: 0.6298\n",
            "Epoch 10/50\n",
            "\u001b[1m75/75\u001b[0m \u001b[32m━━━━━━━━━━━━━━━━━━━━\u001b[0m\u001b[37m\u001b[0m \u001b[1m0s\u001b[0m 5ms/step - accuracy: 0.7330 - loss: 0.5391 - val_accuracy: 0.6732 - val_loss: 0.6232\n",
            "Epoch 11/50\n",
            "\u001b[1m75/75\u001b[0m \u001b[32m━━━━━━━━━━━━━━━━━━━━\u001b[0m\u001b[37m\u001b[0m \u001b[1m0s\u001b[0m 5ms/step - accuracy: 0.7390 - loss: 0.4905 - val_accuracy: 0.6732 - val_loss: 0.6140\n",
            "Epoch 12/50\n",
            "\u001b[1m75/75\u001b[0m \u001b[32m━━━━━━━━━━━━━━━━━━━━\u001b[0m\u001b[37m\u001b[0m \u001b[1m0s\u001b[0m 5ms/step - accuracy: 0.7428 - loss: 0.5251 - val_accuracy: 0.6732 - val_loss: 0.6251\n",
            "Epoch 13/50\n",
            "\u001b[1m75/75\u001b[0m \u001b[32m━━━━━━━━━━━━━━━━━━━━\u001b[0m\u001b[37m\u001b[0m \u001b[1m0s\u001b[0m 5ms/step - accuracy: 0.7804 - loss: 0.5082 - val_accuracy: 0.6537 - val_loss: 0.6439\n",
            "Epoch 14/50\n",
            "\u001b[1m75/75\u001b[0m \u001b[32m━━━━━━━━━━━━━━━━━━━━\u001b[0m\u001b[37m\u001b[0m \u001b[1m0s\u001b[0m 6ms/step - accuracy: 0.7315 - loss: 0.5233 - val_accuracy: 0.6809 - val_loss: 0.6297\n",
            "Epoch 15/50\n",
            "\u001b[1m75/75\u001b[0m \u001b[32m━━━━━━━━━━━━━━━━━━━━\u001b[0m\u001b[37m\u001b[0m \u001b[1m0s\u001b[0m 5ms/step - accuracy: 0.7173 - loss: 0.5247 - val_accuracy: 0.6576 - val_loss: 0.6440\n",
            "Epoch 16/50\n",
            "\u001b[1m75/75\u001b[0m \u001b[32m━━━━━━━━━━━━━━━━━━━━\u001b[0m\u001b[37m\u001b[0m \u001b[1m1s\u001b[0m 6ms/step - accuracy: 0.7678 - loss: 0.4964 - val_accuracy: 0.6148 - val_loss: 0.6721\n",
            "Epoch 17/50\n",
            "\u001b[1m75/75\u001b[0m \u001b[32m━━━━━━━━━━━━━━━━━━━━\u001b[0m\u001b[37m\u001b[0m \u001b[1m0s\u001b[0m 6ms/step - accuracy: 0.7653 - loss: 0.4818 - val_accuracy: 0.6304 - val_loss: 0.6753\n",
            "Epoch 18/50\n",
            "\u001b[1m75/75\u001b[0m \u001b[32m━━━━━━━━━━━━━━━━━━━━\u001b[0m\u001b[37m\u001b[0m \u001b[1m0s\u001b[0m 6ms/step - accuracy: 0.7743 - loss: 0.4771 - val_accuracy: 0.6693 - val_loss: 0.6437\n",
            "Epoch 19/50\n",
            "\u001b[1m75/75\u001b[0m \u001b[32m━━━━━━━━━━━━━━━━━━━━\u001b[0m\u001b[37m\u001b[0m \u001b[1m0s\u001b[0m 5ms/step - accuracy: 0.7862 - loss: 0.4686 - val_accuracy: 0.6304 - val_loss: 0.6901\n",
            "Epoch 20/50\n",
            "\u001b[1m75/75\u001b[0m \u001b[32m━━━━━━━━━━━━━━━━━━━━\u001b[0m\u001b[37m\u001b[0m \u001b[1m0s\u001b[0m 5ms/step - accuracy: 0.7463 - loss: 0.4903 - val_accuracy: 0.6304 - val_loss: 0.6982\n",
            "Epoch 21/50\n",
            "\u001b[1m75/75\u001b[0m \u001b[32m━━━━━━━━━━━━━━━━━━━━\u001b[0m\u001b[37m\u001b[0m \u001b[1m0s\u001b[0m 5ms/step - accuracy: 0.7631 - loss: 0.4955 - val_accuracy: 0.6576 - val_loss: 0.6502\n",
            "Epoch 22/50\n",
            "\u001b[1m75/75\u001b[0m \u001b[32m━━━━━━━━━━━━━━━━━━━━\u001b[0m\u001b[37m\u001b[0m \u001b[1m1s\u001b[0m 7ms/step - accuracy: 0.7595 - loss: 0.4686 - val_accuracy: 0.6381 - val_loss: 0.6556\n",
            "Epoch 23/50\n",
            "\u001b[1m75/75\u001b[0m \u001b[32m━━━━━━━━━━━━━━━━━━━━\u001b[0m\u001b[37m\u001b[0m \u001b[1m1s\u001b[0m 7ms/step - accuracy: 0.7876 - loss: 0.4510 - val_accuracy: 0.6265 - val_loss: 0.6820\n",
            "Epoch 24/50\n",
            "\u001b[1m75/75\u001b[0m \u001b[32m━━━━━━━━━━━━━━━━━━━━\u001b[0m\u001b[37m\u001b[0m \u001b[1m1s\u001b[0m 7ms/step - accuracy: 0.7991 - loss: 0.4494 - val_accuracy: 0.6381 - val_loss: 0.6853\n",
            "Epoch 25/50\n",
            "\u001b[1m75/75\u001b[0m \u001b[32m━━━━━━━━━━━━━━━━━━━━\u001b[0m\u001b[37m\u001b[0m \u001b[1m1s\u001b[0m 7ms/step - accuracy: 0.7694 - loss: 0.4358 - val_accuracy: 0.6070 - val_loss: 0.7066\n",
            "Epoch 26/50\n",
            "\u001b[1m75/75\u001b[0m \u001b[32m━━━━━━━━━━━━━━━━━━━━\u001b[0m\u001b[37m\u001b[0m \u001b[1m1s\u001b[0m 6ms/step - accuracy: 0.8223 - loss: 0.4307 - val_accuracy: 0.6537 - val_loss: 0.6740\n",
            "Epoch 27/50\n",
            "\u001b[1m75/75\u001b[0m \u001b[32m━━━━━━━━━━━━━━━━━━━━\u001b[0m\u001b[37m\u001b[0m \u001b[1m1s\u001b[0m 6ms/step - accuracy: 0.7723 - loss: 0.4700 - val_accuracy: 0.6187 - val_loss: 0.7079\n",
            "Epoch 28/50\n",
            "\u001b[1m75/75\u001b[0m \u001b[32m━━━━━━━━━━━━━━━━━━━━\u001b[0m\u001b[37m\u001b[0m \u001b[1m1s\u001b[0m 8ms/step - accuracy: 0.8311 - loss: 0.4152 - val_accuracy: 0.5992 - val_loss: 0.7250\n",
            "Epoch 29/50\n",
            "\u001b[1m75/75\u001b[0m \u001b[32m━━━━━━━━━━━━━━━━━━━━\u001b[0m\u001b[37m\u001b[0m \u001b[1m1s\u001b[0m 6ms/step - accuracy: 0.7797 - loss: 0.4574 - val_accuracy: 0.6576 - val_loss: 0.6924\n",
            "Epoch 30/50\n",
            "\u001b[1m75/75\u001b[0m \u001b[32m━━━━━━━━━━━━━━━━━━━━\u001b[0m\u001b[37m\u001b[0m \u001b[1m1s\u001b[0m 6ms/step - accuracy: 0.8135 - loss: 0.4147 - val_accuracy: 0.6304 - val_loss: 0.7213\n",
            "Epoch 31/50\n",
            "\u001b[1m75/75\u001b[0m \u001b[32m━━━━━━━━━━━━━━━━━━━━\u001b[0m\u001b[37m\u001b[0m \u001b[1m1s\u001b[0m 6ms/step - accuracy: 0.8037 - loss: 0.4350 - val_accuracy: 0.6498 - val_loss: 0.7075\n",
            "Epoch 32/50\n",
            "\u001b[1m75/75\u001b[0m \u001b[32m━━━━━━━━━━━━━━━━━━━━\u001b[0m\u001b[37m\u001b[0m \u001b[1m1s\u001b[0m 6ms/step - accuracy: 0.8064 - loss: 0.4215 - val_accuracy: 0.6226 - val_loss: 0.7372\n",
            "Epoch 33/50\n",
            "\u001b[1m75/75\u001b[0m \u001b[32m━━━━━━━━━━━━━━━━━━━━\u001b[0m\u001b[37m\u001b[0m \u001b[1m1s\u001b[0m 6ms/step - accuracy: 0.7751 - loss: 0.4423 - val_accuracy: 0.6226 - val_loss: 0.7616\n",
            "Epoch 34/50\n",
            "\u001b[1m75/75\u001b[0m \u001b[32m━━━━━━━━━━━━━━━━━━━━\u001b[0m\u001b[37m\u001b[0m \u001b[1m1s\u001b[0m 7ms/step - accuracy: 0.8349 - loss: 0.3915 - val_accuracy: 0.5798 - val_loss: 0.8171\n",
            "Epoch 35/50\n",
            "\u001b[1m75/75\u001b[0m \u001b[32m━━━━━━━━━━━━━━━━━━━━\u001b[0m\u001b[37m\u001b[0m \u001b[1m1s\u001b[0m 6ms/step - accuracy: 0.8277 - loss: 0.4215 - val_accuracy: 0.6498 - val_loss: 0.7400\n",
            "Epoch 36/50\n",
            "\u001b[1m75/75\u001b[0m \u001b[32m━━━━━━━━━━━━━━━━━━━━\u001b[0m\u001b[37m\u001b[0m \u001b[1m1s\u001b[0m 6ms/step - accuracy: 0.8147 - loss: 0.4414 - val_accuracy: 0.6031 - val_loss: 0.7773\n",
            "Epoch 37/50\n",
            "\u001b[1m75/75\u001b[0m \u001b[32m━━━━━━━━━━━━━━━━━━━━\u001b[0m\u001b[37m\u001b[0m \u001b[1m1s\u001b[0m 6ms/step - accuracy: 0.8451 - loss: 0.3745 - val_accuracy: 0.6148 - val_loss: 0.7489\n",
            "Epoch 38/50\n",
            "\u001b[1m75/75\u001b[0m \u001b[32m━━━━━━━━━━━━━━━━━━━━\u001b[0m\u001b[37m\u001b[0m \u001b[1m0s\u001b[0m 6ms/step - accuracy: 0.8192 - loss: 0.3723 - val_accuracy: 0.6265 - val_loss: 0.7567\n",
            "Epoch 39/50\n",
            "\u001b[1m75/75\u001b[0m \u001b[32m━━━━━━━━━━━━━━━━━━━━\u001b[0m\u001b[37m\u001b[0m \u001b[1m0s\u001b[0m 6ms/step - accuracy: 0.8086 - loss: 0.4166 - val_accuracy: 0.5837 - val_loss: 0.8163\n",
            "Epoch 40/50\n",
            "\u001b[1m75/75\u001b[0m \u001b[32m━━━━━━━━━━━━━━━━━━━━\u001b[0m\u001b[37m\u001b[0m \u001b[1m0s\u001b[0m 6ms/step - accuracy: 0.8458 - loss: 0.3576 - val_accuracy: 0.5953 - val_loss: 0.7858\n",
            "Epoch 41/50\n",
            "\u001b[1m75/75\u001b[0m \u001b[32m━━━━━━━━━━━━━━━━━━━━\u001b[0m\u001b[37m\u001b[0m \u001b[1m0s\u001b[0m 5ms/step - accuracy: 0.8167 - loss: 0.3719 - val_accuracy: 0.5720 - val_loss: 0.8283\n",
            "Epoch 42/50\n",
            "\u001b[1m75/75\u001b[0m \u001b[32m━━━━━━━━━━━━━━━━━━━━\u001b[0m\u001b[37m\u001b[0m \u001b[1m0s\u001b[0m 5ms/step - accuracy: 0.8032 - loss: 0.4220 - val_accuracy: 0.6381 - val_loss: 0.7759\n",
            "Epoch 43/50\n",
            "\u001b[1m75/75\u001b[0m \u001b[32m━━━━━━━━━━━━━━━━━━━━\u001b[0m\u001b[37m\u001b[0m \u001b[1m0s\u001b[0m 5ms/step - accuracy: 0.8471 - loss: 0.3626 - val_accuracy: 0.6070 - val_loss: 0.7814\n",
            "Epoch 44/50\n",
            "\u001b[1m75/75\u001b[0m \u001b[32m━━━━━━━━━━━━━━━━━━━━\u001b[0m\u001b[37m\u001b[0m \u001b[1m0s\u001b[0m 5ms/step - accuracy: 0.8619 - loss: 0.3374 - val_accuracy: 0.6031 - val_loss: 0.7953\n",
            "Epoch 45/50\n",
            "\u001b[1m75/75\u001b[0m \u001b[32m━━━━━━━━━━━━━━━━━━━━\u001b[0m\u001b[37m\u001b[0m \u001b[1m0s\u001b[0m 5ms/step - accuracy: 0.8157 - loss: 0.3958 - val_accuracy: 0.5953 - val_loss: 0.8153\n",
            "Epoch 46/50\n",
            "\u001b[1m75/75\u001b[0m \u001b[32m━━━━━━━━━━━━━━━━━━━━\u001b[0m\u001b[37m\u001b[0m \u001b[1m0s\u001b[0m 5ms/step - accuracy: 0.8300 - loss: 0.3920 - val_accuracy: 0.6187 - val_loss: 0.8166\n",
            "Epoch 47/50\n",
            "\u001b[1m75/75\u001b[0m \u001b[32m━━━━━━━━━━━━━━━━━━━━\u001b[0m\u001b[37m\u001b[0m \u001b[1m0s\u001b[0m 5ms/step - accuracy: 0.8458 - loss: 0.3448 - val_accuracy: 0.6109 - val_loss: 0.8256\n",
            "Epoch 48/50\n",
            "\u001b[1m75/75\u001b[0m \u001b[32m━━━━━━━━━━━━━━━━━━━━\u001b[0m\u001b[37m\u001b[0m \u001b[1m1s\u001b[0m 6ms/step - accuracy: 0.8860 - loss: 0.3036 - val_accuracy: 0.6226 - val_loss: 0.8220\n",
            "Epoch 49/50\n",
            "\u001b[1m75/75\u001b[0m \u001b[32m━━━━━━━━━━━━━━━━━━━━\u001b[0m\u001b[37m\u001b[0m \u001b[1m1s\u001b[0m 6ms/step - accuracy: 0.8659 - loss: 0.3239 - val_accuracy: 0.6031 - val_loss: 0.8502\n",
            "Epoch 50/50\n",
            "\u001b[1m75/75\u001b[0m \u001b[32m━━━━━━━━━━━━━━━━━━━━\u001b[0m\u001b[37m\u001b[0m \u001b[1m1s\u001b[0m 6ms/step - accuracy: 0.9063 - loss: 0.2879 - val_accuracy: 0.5837 - val_loss: 0.9379\n"
          ]
        },
        {
          "data": {
            "text/html": [
              "<pre style=\"white-space:pre;overflow-x:auto;line-height:normal;font-family:Menlo,'DejaVu Sans Mono',consolas,'Courier New',monospace\"><span style=\"font-weight: bold\">Model: \"sequential_2\"</span>\n",
              "</pre>\n"
            ],
            "text/plain": [
              "\u001b[1mModel: \"sequential_2\"\u001b[0m\n"
            ]
          },
          "metadata": {},
          "output_type": "display_data"
        },
        {
          "data": {
            "text/html": [
              "<pre style=\"white-space:pre;overflow-x:auto;line-height:normal;font-family:Menlo,'DejaVu Sans Mono',consolas,'Courier New',monospace\">┏━━━━━━━━━━━━━━━━━━━━━━━━━━━━━━━━━┳━━━━━━━━━━━━━━━━━━━━━━━━┳━━━━━━━━━━━━━━━┓\n",
              "┃<span style=\"font-weight: bold\"> Layer (type)                    </span>┃<span style=\"font-weight: bold\"> Output Shape           </span>┃<span style=\"font-weight: bold\">       Param # </span>┃\n",
              "┡━━━━━━━━━━━━━━━━━━━━━━━━━━━━━━━━━╇━━━━━━━━━━━━━━━━━━━━━━━━╇━━━━━━━━━━━━━━━┩\n",
              "│ dense_8 (<span style=\"color: #0087ff; text-decoration-color: #0087ff\">Dense</span>)                 │ (<span style=\"color: #00d7ff; text-decoration-color: #00d7ff\">None</span>, <span style=\"color: #00af00; text-decoration-color: #00af00\">400</span>)            │         <span style=\"color: #00af00; text-decoration-color: #00af00\">4,400</span> │\n",
              "├─────────────────────────────────┼────────────────────────┼───────────────┤\n",
              "│ dropout_2 (<span style=\"color: #0087ff; text-decoration-color: #0087ff\">Dropout</span>)             │ (<span style=\"color: #00d7ff; text-decoration-color: #00d7ff\">None</span>, <span style=\"color: #00af00; text-decoration-color: #00af00\">400</span>)            │             <span style=\"color: #00af00; text-decoration-color: #00af00\">0</span> │\n",
              "├─────────────────────────────────┼────────────────────────┼───────────────┤\n",
              "│ dense_9 (<span style=\"color: #0087ff; text-decoration-color: #0087ff\">Dense</span>)                 │ (<span style=\"color: #00d7ff; text-decoration-color: #00d7ff\">None</span>, <span style=\"color: #00af00; text-decoration-color: #00af00\">400</span>)            │       <span style=\"color: #00af00; text-decoration-color: #00af00\">160,400</span> │\n",
              "├─────────────────────────────────┼────────────────────────┼───────────────┤\n",
              "│ dense_10 (<span style=\"color: #0087ff; text-decoration-color: #0087ff\">Dense</span>)                │ (<span style=\"color: #00d7ff; text-decoration-color: #00d7ff\">None</span>, <span style=\"color: #00af00; text-decoration-color: #00af00\">400</span>)            │       <span style=\"color: #00af00; text-decoration-color: #00af00\">160,400</span> │\n",
              "├─────────────────────────────────┼────────────────────────┼───────────────┤\n",
              "│ dense_11 (<span style=\"color: #0087ff; text-decoration-color: #0087ff\">Dense</span>)                │ (<span style=\"color: #00d7ff; text-decoration-color: #00d7ff\">None</span>, <span style=\"color: #00af00; text-decoration-color: #00af00\">1</span>)              │           <span style=\"color: #00af00; text-decoration-color: #00af00\">401</span> │\n",
              "└─────────────────────────────────┴────────────────────────┴───────────────┘\n",
              "</pre>\n"
            ],
            "text/plain": [
              "┏━━━━━━━━━━━━━━━━━━━━━━━━━━━━━━━━━┳━━━━━━━━━━━━━━━━━━━━━━━━┳━━━━━━━━━━━━━━━┓\n",
              "┃\u001b[1m \u001b[0m\u001b[1mLayer (type)                   \u001b[0m\u001b[1m \u001b[0m┃\u001b[1m \u001b[0m\u001b[1mOutput Shape          \u001b[0m\u001b[1m \u001b[0m┃\u001b[1m \u001b[0m\u001b[1m      Param #\u001b[0m\u001b[1m \u001b[0m┃\n",
              "┡━━━━━━━━━━━━━━━━━━━━━━━━━━━━━━━━━╇━━━━━━━━━━━━━━━━━━━━━━━━╇━━━━━━━━━━━━━━━┩\n",
              "│ dense_8 (\u001b[38;5;33mDense\u001b[0m)                 │ (\u001b[38;5;45mNone\u001b[0m, \u001b[38;5;34m400\u001b[0m)            │         \u001b[38;5;34m4,400\u001b[0m │\n",
              "├─────────────────────────────────┼────────────────────────┼───────────────┤\n",
              "│ dropout_2 (\u001b[38;5;33mDropout\u001b[0m)             │ (\u001b[38;5;45mNone\u001b[0m, \u001b[38;5;34m400\u001b[0m)            │             \u001b[38;5;34m0\u001b[0m │\n",
              "├─────────────────────────────────┼────────────────────────┼───────────────┤\n",
              "│ dense_9 (\u001b[38;5;33mDense\u001b[0m)                 │ (\u001b[38;5;45mNone\u001b[0m, \u001b[38;5;34m400\u001b[0m)            │       \u001b[38;5;34m160,400\u001b[0m │\n",
              "├─────────────────────────────────┼────────────────────────┼───────────────┤\n",
              "│ dense_10 (\u001b[38;5;33mDense\u001b[0m)                │ (\u001b[38;5;45mNone\u001b[0m, \u001b[38;5;34m400\u001b[0m)            │       \u001b[38;5;34m160,400\u001b[0m │\n",
              "├─────────────────────────────────┼────────────────────────┼───────────────┤\n",
              "│ dense_11 (\u001b[38;5;33mDense\u001b[0m)                │ (\u001b[38;5;45mNone\u001b[0m, \u001b[38;5;34m1\u001b[0m)              │           \u001b[38;5;34m401\u001b[0m │\n",
              "└─────────────────────────────────┴────────────────────────┴───────────────┘\n"
            ]
          },
          "metadata": {},
          "output_type": "display_data"
        },
        {
          "data": {
            "text/html": [
              "<pre style=\"white-space:pre;overflow-x:auto;line-height:normal;font-family:Menlo,'DejaVu Sans Mono',consolas,'Courier New',monospace\"><span style=\"font-weight: bold\"> Total params: </span><span style=\"color: #00af00; text-decoration-color: #00af00\">976,805</span> (3.73 MB)\n",
              "</pre>\n"
            ],
            "text/plain": [
              "\u001b[1m Total params: \u001b[0m\u001b[38;5;34m976,805\u001b[0m (3.73 MB)\n"
            ]
          },
          "metadata": {},
          "output_type": "display_data"
        },
        {
          "data": {
            "text/html": [
              "<pre style=\"white-space:pre;overflow-x:auto;line-height:normal;font-family:Menlo,'DejaVu Sans Mono',consolas,'Courier New',monospace\"><span style=\"font-weight: bold\"> Trainable params: </span><span style=\"color: #00af00; text-decoration-color: #00af00\">325,601</span> (1.24 MB)\n",
              "</pre>\n"
            ],
            "text/plain": [
              "\u001b[1m Trainable params: \u001b[0m\u001b[38;5;34m325,601\u001b[0m (1.24 MB)\n"
            ]
          },
          "metadata": {},
          "output_type": "display_data"
        },
        {
          "data": {
            "text/html": [
              "<pre style=\"white-space:pre;overflow-x:auto;line-height:normal;font-family:Menlo,'DejaVu Sans Mono',consolas,'Courier New',monospace\"><span style=\"font-weight: bold\"> Non-trainable params: </span><span style=\"color: #00af00; text-decoration-color: #00af00\">0</span> (0.00 B)\n",
              "</pre>\n"
            ],
            "text/plain": [
              "\u001b[1m Non-trainable params: \u001b[0m\u001b[38;5;34m0\u001b[0m (0.00 B)\n"
            ]
          },
          "metadata": {},
          "output_type": "display_data"
        },
        {
          "data": {
            "text/html": [
              "<pre style=\"white-space:pre;overflow-x:auto;line-height:normal;font-family:Menlo,'DejaVu Sans Mono',consolas,'Courier New',monospace\"><span style=\"font-weight: bold\"> Optimizer params: </span><span style=\"color: #00af00; text-decoration-color: #00af00\">651,204</span> (2.48 MB)\n",
              "</pre>\n"
            ],
            "text/plain": [
              "\u001b[1m Optimizer params: \u001b[0m\u001b[38;5;34m651,204\u001b[0m (2.48 MB)\n"
            ]
          },
          "metadata": {},
          "output_type": "display_data"
        },
        {
          "name": "stdout",
          "output_type": "stream",
          "text": [
            "\u001b[1m19/19\u001b[0m \u001b[32m━━━━━━━━━━━━━━━━━━━━\u001b[0m\u001b[37m\u001b[0m \u001b[1m0s\u001b[0m 7ms/step\n",
            "Accuracy on train set: 92.31%\n",
            "\u001b[1m9/9\u001b[0m \u001b[32m━━━━━━━━━━━━━━━━━━━━\u001b[0m\u001b[37m\u001b[0m \u001b[1m0s\u001b[0m 3ms/step \n",
            "Accuracy on test set: 58.37%\n",
            "[[54 36]\n",
            " [71 96]]\n"
          ]
        },
        {
          "data": {
            "image/png": "[encoded data removed]",
            "text/plain": [
              "<Figure size 800x600 with 1 Axes>"
            ]
          },
          "metadata": {},
          "output_type": "display_data"
        }
      ],
      "source": [
        "history_dr, model_dnn_dr = run_binary_mlp(X_train, y_train, X_test, y_test,400,50)\n",
        "plot_training_history(history_dr)"
      ]
    },
    {
      "cell_type": "code",
      "execution_count": 36,
      "metadata": {},
      "outputs": [
        {
          "name": "stdout",
          "output_type": "stream",
          "text": [
            "\u001b[1m9/9\u001b[0m \u001b[32m━━━━━━━━━━━━━━━━━━━━\u001b[0m\u001b[37m\u001b[0m \u001b[1m0s\u001b[0m 2ms/step \n",
            "DNN\n",
            "Accuracy: 0.5836575875486382\n"
          ]
        }
      ],
      "source": [
        "predicted_probabilities = model_dnn_dr.predict(X_test)\n",
        "predicted_probabilities = np.rint(predicted_probabilities)\n",
        "print(\"DNN\")\n",
        "new_row = {'Model': ['Feature Reduced DNN'], 'Accuracy': accuracy_score(y_test, predicted_probabilities)}\n",
        "model_results_df.loc[len(model_results_df)] = new_row\n",
        "print(\"Accuracy:\", accuracy_score(y_test, predicted_probabilities))"
      ]
    },
    {
      "cell_type": "markdown",
      "metadata": {},
      "source": [
        "### Random Forest Classifer"
      ]
    },
    {
      "cell_type": "code",
      "execution_count": 37,
      "metadata": {},
      "outputs": [
        {
          "name": "stdout",
          "output_type": "stream",
          "text": [
            "Random Forest\n",
            "Accuracy: 0.6536964980544747\n"
          ]
        }
      ],
      "source": [
        "clf = RandomForestClassifier(max_depth=1000, random_state=42)\n",
        "clf.fit(X_train, y_train)\n",
        "\n",
        "preds_rf = clf.predict(X_test)\n",
        "new_row = {'Model': ['Feature Reduced Random Forest'], 'Accuracy': accuracy_score(y_test, preds_rf)}\n",
        "model_results_df.loc[len(model_results_df)] = new_row\n",
        "print(\"Random Forest\")\n",
        "print(\"Accuracy:\", accuracy_score(y_test, preds_rf))"
      ]
    },
    {
      "cell_type": "markdown",
      "metadata": {},
      "source": [
        "### KNN"
      ]
    },
    {
      "cell_type": "code",
      "execution_count": 38,
      "metadata": {},
      "outputs": [
        {
          "name": "stdout",
          "output_type": "stream",
          "text": [
            "KNN\n",
            "Accuracy: 0.6186770428015564\n"
          ]
        }
      ],
      "source": [
        "neigh = KNeighborsClassifier(n_neighbors=5)\n",
        "neigh.fit(X_train, y_train)\n",
        "\n",
        "preds_knn = neigh.predict(X_test)\n",
        "new_row = {'Model': ['Feature Reduced KNN'], 'Accuracy': accuracy_score(y_test, preds_knn)}\n",
        "model_results_df.loc[len(model_results_df)] = new_row\n",
        "print(\"KNN\")\n",
        "print(\"Accuracy:\", accuracy_score(y_test, preds_knn))"
      ]
    },
    {
      "cell_type": "markdown",
      "metadata": {},
      "source": [
        "### Decision Tree Classifier"
      ]
    },
    {
      "cell_type": "code",
      "execution_count": 39,
      "metadata": {},
      "outputs": [
        {
          "name": "stdout",
          "output_type": "stream",
          "text": [
            "Decision Tree\n",
            "Accuracy: 0.6108949416342413\n"
          ]
        }
      ],
      "source": [
        "dtc = DecisionTreeClassifier(random_state=0)\n",
        "dtc.fit(X_train, y_train)\n",
        "\n",
        "preds_dtc = dtc.predict(X_test)\n",
        "new_row = {'Model': ['Feature Reduced Decision Tree Classifier'], 'Accuracy': accuracy_score(y_test, preds_dtc)}\n",
        "model_results_df.loc[len(model_results_df)] = new_row\n",
        "print(\"Decision Tree\")\n",
        "print(\"Accuracy:\", accuracy_score(y_test, preds_dtc))\n"
      ]
    },
    {
      "cell_type": "markdown",
      "metadata": {},
      "source": [
        "### SVM"
      ]
    },
    {
      "cell_type": "code",
      "execution_count": 40,
      "metadata": {},
      "outputs": [
        {
          "name": "stdout",
          "output_type": "stream",
          "text": [
            "svm\n",
            "Accuracy: 0.6770428015564203\n"
          ]
        }
      ],
      "source": [
        "svm_model = svm.SVC()\n",
        "svm_model.fit(X_train, y_train)\n",
        "\n",
        "preds_svm = svm_model.predict(X_test)\n",
        "new_row = {'Model': ['Feature Reduced SVM'], 'Accuracy': accuracy_score(y_test, preds_svm)}\n",
        "model_results_df.loc[len(model_results_df)] = new_row\n",
        "print(\"svm\")\n",
        "print(\"Accuracy:\", accuracy_score(y_test, preds_svm))"
      ]
    },
    {
      "cell_type": "markdown",
      "metadata": {},
      "source": [
        "### Gaussian NB"
      ]
    },
    {
      "cell_type": "code",
      "execution_count": 41,
      "metadata": {},
      "outputs": [
        {
          "name": "stdout",
          "output_type": "stream",
          "text": [
            "gaussianNB\n",
            "Accuracy: 0.6809338521400778\n"
          ]
        }
      ],
      "source": [
        "gnb = GaussianNB()\n",
        "\n",
        "gnb_preds = gnb.fit(X_train, y_train).predict(X_test)\n",
        "new_row = {'Model': ['Feature Reduced Gaussian NB'], 'Accuracy': accuracy_score(y_test, gnb_preds)}\n",
        "model_results_df.loc[len(model_results_df)] = new_row\n",
        "print(\"gaussianNB\")\n",
        "print(\"Accuracy:\", accuracy_score(y_test, gnb_preds))"
      ]
    },
    {
      "cell_type": "markdown",
      "metadata": {},
      "source": [
        "## Random Forrest Pearson's Reduced"
      ]
    },
    {
      "cell_type": "code",
      "execution_count": null,
      "metadata": {},
      "outputs": [],
      "source": [
        "difference_vectors2 = []\n",
        "\n",
        "skipped = 0  # Track how many matchups we skip\n",
        "\n",
        "for matchup in matchups:\n",
        "    team_1_NO = str(matchup[0])  # Make sure they're strings upfront\n",
        "    team_0_NO = str(matchup[1])\n",
        "\n",
        "    team_1_row = reduced_df_scaled[reduced_df_scaled[\"TEAM NO\"] == team_1_NO]\n",
        "    team_0_row = reduced_df_scaled[reduced_df_scaled[\"TEAM NO\"] == team_0_NO]\n",
        "\n",
        "    # Check if both teams exist in reduced_df_scaled\n",
        "    if not team_1_row.empty and not team_0_row.empty:\n",
        "        true_winners.append(matchup[2])  # Now append only if valid\n",
        "\n",
        "        # Get stats and remove \"TEAM NO\" column\n",
        "        team_1_stats = team_1_row.drop(columns=[\"TEAM NO\"]).iloc[0].values\n",
        "        team_0_stats = team_0_row.drop(columns=[\"TEAM NO\"]).iloc[0].values\n",
        "\n",
        "        # Create difference vector\n",
        "        difference_vector = team_1_stats - team_0_stats\n",
        "        difference_vectors2.append(difference_vector)\n",
        "    else:\n",
        "        skipped += 1\n",
        "\n",
        "print(f'Number of Matchups: {len(difference_vectors2)}')\n",
        "print(f\"✅ Finished creating vectors. Skipped {skipped} matchups due to missing teams.\")\n",
        "\n",
        "X2 = pd.DataFrame(difference_vectors2, columns=reduced_df_scaled.drop(columns=[\"TEAM NO\"]).columns)\n",
        "y2 = np.array(true_winners)\n",
        "\n",
        "X_train2, X_test2, y_train2, y_test2 = train_test_split(X, y, test_size=0.3, random_state=42)\n",
        "\n",
        "clf = RandomForestClassifier(max_depth=1000, random_state=42)\n",
        "clf.fit(X_train2, y_train2)\n",
        "\n",
        "preds_rf = clf.predict(X_test2)\n",
        "new_row = {'Model': ['Feature Reduced Random Forest'], 'Accuracy': accuracy_score(y_test2, preds_rf)}\n",
        "model_results_df.loc[len(model_results_df)] = new_row\n",
        "print(\"Random Forest\")\n",
        "print(\"Accuracy:\", accuracy_score(y_test2, preds_rf))"
      ]
    },
    {
      "cell_type": "markdown",
      "metadata": {},
      "source": [
        "### Confusion Matrices"
      ]
    },
    {
      "cell_type": "code",
      "execution_count": 42,
      "metadata": {},
      "outputs": [
        {
          "name": "stdout",
          "output_type": "stream",
          "text": [
            "Accuracy: 0.7237354085603113\n"
          ]
        },
        {
          "data": {
            "image/png": "[encoded data removed]",
            "text/plain": [
              "<Figure size 640x480 with 2 Axes>"
            ]
          },
          "metadata": {},
          "output_type": "display_data"
        },
        {
          "data": {
            "image/png": "[encoded data removed]",
            "text/plain": [
              "<Figure size 640x480 with 2 Axes>"
            ]
          },
          "metadata": {},
          "output_type": "display_data"
        },
        {
          "name": "stdout",
          "output_type": "stream",
          "text": [
            "\u001b[1m9/9\u001b[0m \u001b[32m━━━━━━━━━━━━━━━━━━━━\u001b[0m\u001b[37m\u001b[0m \u001b[1m0s\u001b[0m 3ms/step \n"
          ]
        },
        {
          "data": {
            "image/png": "[encoded data removed]",
            "text/plain": [
              "<Figure size 640x480 with 2 Axes>"
            ]
          },
          "metadata": {},
          "output_type": "display_data"
        },
        {
          "data": {
            "image/png": "[encoded data removed]",
            "text/plain": [
              "<Figure size 640x480 with 2 Axes>"
            ]
          },
          "metadata": {},
          "output_type": "display_data"
        },
        {
          "data": {
            "image/png": "[encoded data removed]",
            "text/plain": [
              "<Figure size 640x480 with 2 Axes>"
            ]
          },
          "metadata": {},
          "output_type": "display_data"
        },
        {
          "data": {
            "image/png": "[encoded data removed]",
            "text/plain": [
              "<Figure size 640x480 with 2 Axes>"
            ]
          },
          "metadata": {},
          "output_type": "display_data"
        },
        {
          "data": {
            "image/png": "[encoded data removed]",
            "text/plain": [
              "<Figure size 640x480 with 2 Axes>"
            ]
          },
          "metadata": {},
          "output_type": "display_data"
        },
        {
          "data": {
            "image/png": "[encoded data removed]",
            "text/plain": [
              "<Figure size 640x480 with 2 Axes>"
            ]
          },
          "metadata": {},
          "output_type": "display_data"
        }
      ],
      "source": [
        "predicted_labels = LR_model_dr.predict(X_test)\n",
        "\n",
        "cm = confusion_matrix(y_test, predicted_labels)\n",
        "\n",
        "print(\"Accuracy:\", accuracy_score(y_test, predicted_labels))\n",
        "\n",
        "disp = ConfusionMatrixDisplay(confusion_matrix=cm)\n",
        "disp.plot()\n",
        "plt.title(\"Confusion Matrix of logistical regression with dimensionality reduction\")\n",
        "plt.show()\n",
        "\n",
        "\n",
        "predicted_labels = greedy_lr_dr.predict(X_test[selected_features])\n",
        "\n",
        "cm = confusion_matrix(y_test, predicted_labels)\n",
        "\n",
        "\n",
        "disp = ConfusionMatrixDisplay(confusion_matrix=cm)\n",
        "disp.plot()\n",
        "plt.title(\"Confusion Matrix of greedy logistical regression with dimensionality reduction\")\n",
        "plt.show()\n",
        "\n",
        "predicted_probabilities = model_dnn_dr.predict(X_test)\n",
        "predicted_labels = np.rint(predicted_probabilities) \n",
        "\n",
        "\n",
        "cm = confusion_matrix(y_test, predicted_labels)\n",
        "\n",
        "\n",
        "disp = ConfusionMatrixDisplay(confusion_matrix=cm)\n",
        "disp.plot()\n",
        "plt.title(\"Confusion Matrix for the DNN with dimensionality reduction\")\n",
        "plt.show()\n",
        "\n",
        "predicted_labels = clf.predict(X_test)\n",
        "\n",
        "cm = confusion_matrix(y_test, predicted_labels)\n",
        "\n",
        "\n",
        "disp = ConfusionMatrixDisplay(confusion_matrix=cm)\n",
        "disp.plot()\n",
        "plt.title(\"Confusion Matrix of Random forest with dimensionality reduction\")\n",
        "plt.show()\n",
        "\n",
        "predicted_labels = neigh.predict(X_test)\n",
        "\n",
        "cm = confusion_matrix(y_test, predicted_labels)\n",
        "\n",
        "\n",
        "disp = ConfusionMatrixDisplay(confusion_matrix=cm)\n",
        "disp.plot()\n",
        "plt.title(\"Confusion Matrix of KNN with dimensionality reduction\")\n",
        "plt.show()\n",
        "\n",
        "predicted_labels = dtc.predict(X_test)\n",
        "\n",
        "cm = confusion_matrix(y_test, predicted_labels)\n",
        "\n",
        "\n",
        "disp = ConfusionMatrixDisplay(confusion_matrix=cm)\n",
        "disp.plot()\n",
        "plt.title(\"Confusion Matrix of Decision Tree with dimensionality reduction\")\n",
        "plt.show()\n",
        "\n",
        "predicted_labels = svm_model.predict(X_test)\n",
        "\n",
        "cm = confusion_matrix(y_test, predicted_labels)\n",
        "\n",
        "\n",
        "disp = ConfusionMatrixDisplay(confusion_matrix=cm)\n",
        "disp.plot()\n",
        "plt.title(\"Confusion Matrix of svm model with dimensionality reduction\")\n",
        "plt.show()\n",
        "\n",
        "predicted_labels = gnb.predict(X_test)\n",
        "\n",
        "cm = confusion_matrix(y_test, predicted_labels)\n",
        "\n",
        "\n",
        "disp = ConfusionMatrixDisplay(confusion_matrix=cm)\n",
        "disp.plot()\n",
        "plt.title(\"Confusion Matrix of GaussianNB model with dimensionality reduction\")\n",
        "plt.show()"
      ]
    },
    {
      "cell_type": "code",
      "execution_count": 43,
      "metadata": {},
      "outputs": [
        {
          "data": {
            "text/html": [
              "<div>\n",
              "<style scoped>\n",
              "    .dataframe tbody tr th:only-of-type {\n",
              "        vertical-align: middle;\n",
              "    }\n",
              "\n",
              "    .dataframe tbody tr th {\n",
              "        vertical-align: top;\n",
              "    }\n",
              "\n",
              "    .dataframe thead th {\n",
              "        text-align: right;\n",
              "    }\n",
              "</style>\n",
              "<table border=\"1\" class=\"dataframe\">\n",
              "  <thead>\n",
              "    <tr style=\"text-align: right;\">\n",
              "      <th></th>\n",
              "      <th>Model</th>\n",
              "      <th>Accuracy</th>\n",
              "    </tr>\n",
              "  </thead>\n",
              "  <tbody>\n",
              "    <tr>\n",
              "      <th>0</th>\n",
              "      <td>Baseline</td>\n",
              "      <td>0.707051</td>\n",
              "    </tr>\n",
              "    <tr>\n",
              "      <th>1</th>\n",
              "      <td>[Linear Regression All]</td>\n",
              "      <td>0.665370</td>\n",
              "    </tr>\n",
              "    <tr>\n",
              "      <th>2</th>\n",
              "      <td>[Linear Regression Greedy]</td>\n",
              "      <td>0.715953</td>\n",
              "    </tr>\n",
              "    <tr>\n",
              "      <th>3</th>\n",
              "      <td>[DNN]</td>\n",
              "      <td>0.692607</td>\n",
              "    </tr>\n",
              "    <tr>\n",
              "      <th>4</th>\n",
              "      <td>[Random Forest]</td>\n",
              "      <td>0.715953</td>\n",
              "    </tr>\n",
              "    <tr>\n",
              "      <th>5</th>\n",
              "      <td>[KNN]</td>\n",
              "      <td>0.673152</td>\n",
              "    </tr>\n",
              "    <tr>\n",
              "      <th>6</th>\n",
              "      <td>[Decision Tree Classifier]</td>\n",
              "      <td>0.645914</td>\n",
              "    </tr>\n",
              "    <tr>\n",
              "      <th>7</th>\n",
              "      <td>[SVM]</td>\n",
              "      <td>0.708171</td>\n",
              "    </tr>\n",
              "    <tr>\n",
              "      <th>8</th>\n",
              "      <td>[Gaussian NB]</td>\n",
              "      <td>0.653696</td>\n",
              "    </tr>\n",
              "    <tr>\n",
              "      <th>9</th>\n",
              "      <td>[Feature Reduced Linear Regression]</td>\n",
              "      <td>0.723735</td>\n",
              "    </tr>\n",
              "    <tr>\n",
              "      <th>10</th>\n",
              "      <td>[Feature Reduced Greedy Linear Regression]</td>\n",
              "      <td>0.712062</td>\n",
              "    </tr>\n",
              "    <tr>\n",
              "      <th>11</th>\n",
              "      <td>[Feature Reduced DNN]</td>\n",
              "      <td>0.583658</td>\n",
              "    </tr>\n",
              "    <tr>\n",
              "      <th>12</th>\n",
              "      <td>[Feature Reduced Random Forest]</td>\n",
              "      <td>0.653696</td>\n",
              "    </tr>\n",
              "    <tr>\n",
              "      <th>13</th>\n",
              "      <td>[Feature Reduced KNN]</td>\n",
              "      <td>0.618677</td>\n",
              "    </tr>\n",
              "    <tr>\n",
              "      <th>14</th>\n",
              "      <td>[Feature Reduced Decision Tree Classifier]</td>\n",
              "      <td>0.610895</td>\n",
              "    </tr>\n",
              "    <tr>\n",
              "      <th>15</th>\n",
              "      <td>[Feature Reduced SVM]</td>\n",
              "      <td>0.677043</td>\n",
              "    </tr>\n",
              "    <tr>\n",
              "      <th>16</th>\n",
              "      <td>[Feature Reduced Gaussian NB]</td>\n",
              "      <td>0.680934</td>\n",
              "    </tr>\n",
              "  </tbody>\n",
              "</table>\n",
              "</div>"
            ],
            "text/plain": [
              "                                         Model  Accuracy\n",
              "0                                     Baseline  0.707051\n",
              "1                      [Linear Regression All]  0.665370\n",
              "2                   [Linear Regression Greedy]  0.715953\n",
              "3                                        [DNN]  0.692607\n",
              "4                              [Random Forest]  0.715953\n",
              "5                                        [KNN]  0.673152\n",
              "6                   [Decision Tree Classifier]  0.645914\n",
              "7                                        [SVM]  0.708171\n",
              "8                                [Gaussian NB]  0.653696\n",
              "9          [Feature Reduced Linear Regression]  0.723735\n",
              "10  [Feature Reduced Greedy Linear Regression]  0.712062\n",
              "11                       [Feature Reduced DNN]  0.583658\n",
              "12             [Feature Reduced Random Forest]  0.653696\n",
              "13                       [Feature Reduced KNN]  0.618677\n",
              "14  [Feature Reduced Decision Tree Classifier]  0.610895\n",
              "15                       [Feature Reduced SVM]  0.677043\n",
              "16               [Feature Reduced Gaussian NB]  0.680934"
            ]
          },
          "execution_count": 43,
          "metadata": {},
          "output_type": "execute_result"
        }
      ],
      "source": [
        "model_results_df"
      ]
    },
    {
      "cell_type": "code",
      "execution_count": 44,
      "metadata": {},
      "outputs": [
        {
          "name": "stdout",
          "output_type": "stream",
          "text": [
            "                                          model_pair   p_bonf  significant\n",
            "                     Baseline vs Feature Reduced DNN 0.050615        False\n",
            "Baseline vs Feature Reduced Decision Tree Classifier 0.319415        False\n",
            "                     Baseline vs Feature Reduced KNN 0.508837        False\n",
            "                   Baseline vs Linear Regression All 1.000000        False\n",
            "                Baseline vs Linear Regression Greedy 1.000000        False\n",
            "                                     Baseline vs DNN 1.000000        False\n",
            "                           Baseline vs Random Forest 1.000000        False\n",
            "                                     Baseline vs KNN 1.000000        False\n",
            "                Baseline vs Decision Tree Classifier 1.000000        False\n",
            "                                     Baseline vs SVM 1.000000        False\n",
            "                             Baseline vs Gaussian NB 1.000000        False\n",
            "       Baseline vs Feature Reduced Linear Regression 1.000000        False\n",
            "Baseline vs Feature Reduced Greedy Linear Regression 1.000000        False\n",
            "           Baseline vs Feature Reduced Random Forest 1.000000        False\n",
            "                     Baseline vs Feature Reduced SVM 1.000000        False\n",
            "             Baseline vs Feature Reduced Gaussian NB 1.000000        False\n"
          ]
        }
      ],
      "source": [
        "N = len(X_test)\n",
        "\n",
        "# Ensure 'Model' column contains only strings\n",
        "model_results_df['Model'] = model_results_df['Model'].apply(lambda x: x[0] if isinstance(x, list) else x)\n",
        "\n",
        "# Build a dict: { model_name: count_correct }\n",
        "counts = (\n",
        "    model_results_df\n",
        "    .set_index('Model')['Accuracy']\n",
        "    .mul(N)\n",
        "    .round()\n",
        "    .astype(int)\n",
        "    .to_dict()\n",
        ")\n",
        "\n",
        "# Compare only Baseline vs each other model\n",
        "baseline_model = 'Baseline'\n",
        "other_models = [m for m in counts.keys() if m != baseline_model]\n",
        "\n",
        "results = []\n",
        "for other in other_models:\n",
        "    c1, c2 = counts[baseline_model], counts[other]\n",
        "    stat, p = proportions_ztest([c1, c2], [N, N])\n",
        "    results.append({\n",
        "        'model_1': baseline_model,\n",
        "        'model_2': other,\n",
        "        'z_stat': stat,\n",
        "        'p_raw': p\n",
        "    })\n",
        "\n",
        "res_df = pd.DataFrame(results)\n",
        "\n",
        "# Bonferroni-corrected alpha\n",
        "alpha = 0.05\n",
        "m = len(res_df)\n",
        "res_df['p_bonf'] = (res_df['p_raw'] * m).clip(upper=1.0)\n",
        "res_df['significant'] = res_df['p_bonf'] < alpha\n",
        "\n",
        "# Clean output\n",
        "res_df['model_pair'] = res_df['model_1'] + \" vs \" + res_df['model_2']\n",
        "summary_df = res_df[['model_pair', 'p_bonf', 'significant']].sort_values('p_bonf')\n",
        "\n",
        "print(summary_df.to_string(index=False))"
      ]
    }
  ],
  "metadata": {
    "kernelspec": {
      "display_name": "base",
      "language": "python",
      "name": "python3"
    },
    "language_info": {
      "codemirror_mode": {
        "name": "ipython",
        "version": 3
      },
      "file_extension": ".py",
      "mimetype": "text/x-python",
      "name": "python",
      "nbconvert_exporter": "python",
      "pygments_lexer": "ipython3",
      "version": "3.11.7"
    }
  },
  "nbformat": 4,
  "nbformat_minor": 2
}
